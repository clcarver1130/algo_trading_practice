{
 "cells": [
  {
   "cell_type": "code",
   "execution_count": 1,
   "metadata": {
    "execution": {
     "iopub.execute_input": "2020-11-01T17:46:37.332974Z",
     "iopub.status.busy": "2020-11-01T17:46:37.332753Z",
     "iopub.status.idle": "2020-11-01T17:46:52.785374Z",
     "shell.execute_reply": "2020-11-01T17:46:52.784780Z",
     "shell.execute_reply.started": "2020-11-01T17:46:37.332942Z"
    }
   },
   "outputs": [],
   "source": [
    "# General libraries:\n",
    "import numpy as np\n",
    "import pandas as pd\n",
    "import datetime\n",
    "import matplotlib.pyplot as plt\n",
    "import seaborn as sns\n",
    "import warnings\n",
    "warnings.filterwarnings('ignore')\n",
    "\n",
    "# Personal libraries:\n",
    "from robin_helperfunctions import round_to_hour\n",
    "from robinhoodstrategy import cryptoStrategy, BackcastStrategy, Trade\n",
    "\n",
    "# Deep learning libraries:\n",
    "from sklearn.preprocessing import MinMaxScaler\n",
    "from sklearn.metrics import classification_report, confusion_matrix\n",
    "from tensorflow.keras.models import Sequential\n",
    "from tensorflow.keras.layers import Conv1D, Flatten, MaxPooling1D, Dense, Dropout\n",
    "from tensorflow.keras.optimizers import RMSprop"
   ]
  },
  {
   "cell_type": "code",
   "execution_count": 2,
   "metadata": {
    "execution": {
     "iopub.execute_input": "2020-11-01T17:46:52.786663Z",
     "iopub.status.busy": "2020-11-01T17:46:52.786499Z",
     "iopub.status.idle": "2020-11-01T17:46:54.271398Z",
     "shell.execute_reply": "2020-11-01T17:46:54.270568Z",
     "shell.execute_reply.started": "2020-11-01T17:46:52.786643Z"
    }
   },
   "outputs": [
    {
     "data": {
      "text/html": [
       "<div>\n",
       "<style scoped>\n",
       "    .dataframe tbody tr th:only-of-type {\n",
       "        vertical-align: middle;\n",
       "    }\n",
       "\n",
       "    .dataframe tbody tr th {\n",
       "        vertical-align: top;\n",
       "    }\n",
       "\n",
       "    .dataframe thead th {\n",
       "        text-align: right;\n",
       "    }\n",
       "</style>\n",
       "<table border=\"1\" class=\"dataframe\">\n",
       "  <thead>\n",
       "    <tr style=\"text-align: right;\">\n",
       "      <th></th>\n",
       "      <th>price_close</th>\n",
       "      <th>price_open</th>\n",
       "      <th>price_high</th>\n",
       "      <th>price_low</th>\n",
       "      <th>volume_traded</th>\n",
       "      <th>trades_count</th>\n",
       "    </tr>\n",
       "  </thead>\n",
       "  <tbody>\n",
       "    <tr>\n",
       "      <th>0</th>\n",
       "      <td>11.8895</td>\n",
       "      <td>11.87000</td>\n",
       "      <td>11.90000</td>\n",
       "      <td>11.85972</td>\n",
       "      <td>1076.171006</td>\n",
       "      <td>48</td>\n",
       "    </tr>\n",
       "    <tr>\n",
       "      <th>1</th>\n",
       "      <td>12.0000</td>\n",
       "      <td>11.89000</td>\n",
       "      <td>12.00000</td>\n",
       "      <td>11.89000</td>\n",
       "      <td>6184.443260</td>\n",
       "      <td>182</td>\n",
       "    </tr>\n",
       "    <tr>\n",
       "      <th>2</th>\n",
       "      <td>12.0300</td>\n",
       "      <td>12.00000</td>\n",
       "      <td>12.03000</td>\n",
       "      <td>11.93356</td>\n",
       "      <td>3391.487460</td>\n",
       "      <td>120</td>\n",
       "    </tr>\n",
       "    <tr>\n",
       "      <th>3</th>\n",
       "      <td>12.2000</td>\n",
       "      <td>12.02591</td>\n",
       "      <td>12.20000</td>\n",
       "      <td>12.00000</td>\n",
       "      <td>1590.240506</td>\n",
       "      <td>53</td>\n",
       "    </tr>\n",
       "    <tr>\n",
       "      <th>4</th>\n",
       "      <td>12.4310</td>\n",
       "      <td>12.20000</td>\n",
       "      <td>12.54799</td>\n",
       "      <td>12.20000</td>\n",
       "      <td>4801.330298</td>\n",
       "      <td>164</td>\n",
       "    </tr>\n",
       "  </tbody>\n",
       "</table>\n",
       "</div>"
      ],
      "text/plain": [
       "   price_close  price_open  price_high  price_low  volume_traded  trades_count\n",
       "0      11.8895    11.87000    11.90000   11.85972    1076.171006            48\n",
       "1      12.0000    11.89000    12.00000   11.89000    6184.443260           182\n",
       "2      12.0300    12.00000    12.03000   11.93356    3391.487460           120\n",
       "3      12.2000    12.02591    12.20000   12.00000    1590.240506            53\n",
       "4      12.4310    12.20000    12.54799   12.20000    4801.330298           164"
      ]
     },
     "execution_count": 2,
     "metadata": {},
     "output_type": "execute_result"
    }
   ],
   "source": [
    "# Load historical data from file:\n",
    "df = pd.read_csv('eth_historical_4hrs.csv')\n",
    "\n",
    "# Convert timezones and reformat:\n",
    "df['time_period_start'] = pd.to_datetime(df['time_period_start']).dt.tz_convert('US/Central').dt.strftime('%m-%d-%Y %H:%M')\n",
    "\n",
    "# Pull just the value fields:\n",
    "df = df[['price_close', 'price_open', 'price_high', 'price_low', 'volume_traded', 'trades_count']]\n",
    "\n",
    "# Load just ~2018 onwards:\n",
    "# df = df[2500:]\n",
    "\n",
    "df.head()"
   ]
  },
  {
   "cell_type": "code",
   "execution_count": 22,
   "metadata": {
    "execution": {
     "iopub.execute_input": "2020-11-01T17:51:00.636585Z",
     "iopub.status.busy": "2020-11-01T17:51:00.636355Z",
     "iopub.status.idle": "2020-11-01T17:51:00.695501Z",
     "shell.execute_reply": "2020-11-01T17:51:00.694946Z",
     "shell.execute_reply.started": "2020-11-01T17:51:00.636554Z"
    }
   },
   "outputs": [
    {
     "data": {
      "text/html": [
       "<div>\n",
       "<style scoped>\n",
       "    .dataframe tbody tr th:only-of-type {\n",
       "        vertical-align: middle;\n",
       "    }\n",
       "\n",
       "    .dataframe tbody tr th {\n",
       "        vertical-align: top;\n",
       "    }\n",
       "\n",
       "    .dataframe thead th {\n",
       "        text-align: right;\n",
       "    }\n",
       "</style>\n",
       "<table border=\"1\" class=\"dataframe\">\n",
       "  <thead>\n",
       "    <tr style=\"text-align: right;\">\n",
       "      <th></th>\n",
       "      <th>price_close</th>\n",
       "      <th>price_open</th>\n",
       "      <th>price_high</th>\n",
       "      <th>price_low</th>\n",
       "      <th>volume_traded</th>\n",
       "      <th>trades_count</th>\n",
       "      <th>pctchange</th>\n",
       "      <th>entry_flag</th>\n",
       "    </tr>\n",
       "  </thead>\n",
       "  <tbody>\n",
       "    <tr>\n",
       "      <th>0</th>\n",
       "      <td>11.88950</td>\n",
       "      <td>11.87000</td>\n",
       "      <td>11.90000</td>\n",
       "      <td>11.85972</td>\n",
       "      <td>1076.171006</td>\n",
       "      <td>48</td>\n",
       "      <td>NaN</td>\n",
       "      <td>1.0</td>\n",
       "    </tr>\n",
       "    <tr>\n",
       "      <th>1</th>\n",
       "      <td>12.00000</td>\n",
       "      <td>11.89000</td>\n",
       "      <td>12.00000</td>\n",
       "      <td>11.89000</td>\n",
       "      <td>6184.443260</td>\n",
       "      <td>182</td>\n",
       "      <td>NaN</td>\n",
       "      <td>1.0</td>\n",
       "    </tr>\n",
       "    <tr>\n",
       "      <th>2</th>\n",
       "      <td>12.03000</td>\n",
       "      <td>12.00000</td>\n",
       "      <td>12.03000</td>\n",
       "      <td>11.93356</td>\n",
       "      <td>3391.487460</td>\n",
       "      <td>120</td>\n",
       "      <td>NaN</td>\n",
       "      <td>0.0</td>\n",
       "    </tr>\n",
       "    <tr>\n",
       "      <th>3</th>\n",
       "      <td>12.20000</td>\n",
       "      <td>12.02591</td>\n",
       "      <td>12.20000</td>\n",
       "      <td>12.00000</td>\n",
       "      <td>1590.240506</td>\n",
       "      <td>53</td>\n",
       "      <td>NaN</td>\n",
       "      <td>0.0</td>\n",
       "    </tr>\n",
       "    <tr>\n",
       "      <th>4</th>\n",
       "      <td>12.43100</td>\n",
       "      <td>12.20000</td>\n",
       "      <td>12.54799</td>\n",
       "      <td>12.20000</td>\n",
       "      <td>4801.330298</td>\n",
       "      <td>164</td>\n",
       "      <td>NaN</td>\n",
       "      <td>0.0</td>\n",
       "    </tr>\n",
       "    <tr>\n",
       "      <th>5</th>\n",
       "      <td>12.53369</td>\n",
       "      <td>12.39040</td>\n",
       "      <td>12.59809</td>\n",
       "      <td>12.31003</td>\n",
       "      <td>3566.448442</td>\n",
       "      <td>92</td>\n",
       "      <td>0.054181</td>\n",
       "      <td>0.0</td>\n",
       "    </tr>\n",
       "    <tr>\n",
       "      <th>6</th>\n",
       "      <td>12.73950</td>\n",
       "      <td>12.53369</td>\n",
       "      <td>12.89950</td>\n",
       "      <td>12.48000</td>\n",
       "      <td>7815.423254</td>\n",
       "      <td>199</td>\n",
       "      <td>0.061625</td>\n",
       "      <td>0.0</td>\n",
       "    </tr>\n",
       "    <tr>\n",
       "      <th>7</th>\n",
       "      <td>12.59420</td>\n",
       "      <td>12.65747</td>\n",
       "      <td>12.79000</td>\n",
       "      <td>12.51000</td>\n",
       "      <td>2760.369206</td>\n",
       "      <td>65</td>\n",
       "      <td>0.046899</td>\n",
       "      <td>0.0</td>\n",
       "    </tr>\n",
       "    <tr>\n",
       "      <th>8</th>\n",
       "      <td>12.48257</td>\n",
       "      <td>12.59239</td>\n",
       "      <td>12.59840</td>\n",
       "      <td>12.44000</td>\n",
       "      <td>2267.837906</td>\n",
       "      <td>57</td>\n",
       "      <td>0.023161</td>\n",
       "      <td>0.0</td>\n",
       "    </tr>\n",
       "    <tr>\n",
       "      <th>9</th>\n",
       "      <td>12.46280</td>\n",
       "      <td>12.61000</td>\n",
       "      <td>12.61438</td>\n",
       "      <td>12.44005</td>\n",
       "      <td>3034.616506</td>\n",
       "      <td>87</td>\n",
       "      <td>0.002558</td>\n",
       "      <td>0.0</td>\n",
       "    </tr>\n",
       "    <tr>\n",
       "      <th>10</th>\n",
       "      <td>12.52260</td>\n",
       "      <td>12.46501</td>\n",
       "      <td>12.61349</td>\n",
       "      <td>12.44005</td>\n",
       "      <td>481.657355</td>\n",
       "      <td>57</td>\n",
       "      <td>-0.000885</td>\n",
       "      <td>0.0</td>\n",
       "    </tr>\n",
       "    <tr>\n",
       "      <th>11</th>\n",
       "      <td>12.55000</td>\n",
       "      <td>12.61349</td>\n",
       "      <td>12.66407</td>\n",
       "      <td>12.50017</td>\n",
       "      <td>702.784319</td>\n",
       "      <td>113</td>\n",
       "      <td>-0.014875</td>\n",
       "      <td>0.0</td>\n",
       "    </tr>\n",
       "    <tr>\n",
       "      <th>12</th>\n",
       "      <td>12.04000</td>\n",
       "      <td>12.50720</td>\n",
       "      <td>12.50720</td>\n",
       "      <td>11.95000</td>\n",
       "      <td>10626.586878</td>\n",
       "      <td>334</td>\n",
       "      <td>-0.044004</td>\n",
       "      <td>0.0</td>\n",
       "    </tr>\n",
       "    <tr>\n",
       "      <th>13</th>\n",
       "      <td>12.01890</td>\n",
       "      <td>11.97070</td>\n",
       "      <td>12.03776</td>\n",
       "      <td>11.89001</td>\n",
       "      <td>2996.126954</td>\n",
       "      <td>84</td>\n",
       "      <td>-0.037145</td>\n",
       "      <td>0.0</td>\n",
       "    </tr>\n",
       "    <tr>\n",
       "      <th>14</th>\n",
       "      <td>12.03679</td>\n",
       "      <td>11.91114</td>\n",
       "      <td>12.05000</td>\n",
       "      <td>11.91114</td>\n",
       "      <td>1818.681760</td>\n",
       "      <td>43</td>\n",
       "      <td>-0.034183</td>\n",
       "      <td>0.0</td>\n",
       "    </tr>\n",
       "    <tr>\n",
       "      <th>15</th>\n",
       "      <td>12.23350</td>\n",
       "      <td>12.05000</td>\n",
       "      <td>12.23350</td>\n",
       "      <td>12.05000</td>\n",
       "      <td>567.937001</td>\n",
       "      <td>25</td>\n",
       "      <td>-0.023086</td>\n",
       "      <td>0.0</td>\n",
       "    </tr>\n",
       "    <tr>\n",
       "      <th>16</th>\n",
       "      <td>12.07000</td>\n",
       "      <td>12.06000</td>\n",
       "      <td>12.07880</td>\n",
       "      <td>12.01349</td>\n",
       "      <td>546.057300</td>\n",
       "      <td>15</td>\n",
       "      <td>-0.038247</td>\n",
       "      <td>0.0</td>\n",
       "    </tr>\n",
       "    <tr>\n",
       "      <th>17</th>\n",
       "      <td>12.22130</td>\n",
       "      <td>12.07000</td>\n",
       "      <td>12.29709</td>\n",
       "      <td>12.01007</td>\n",
       "      <td>2170.260146</td>\n",
       "      <td>63</td>\n",
       "      <td>0.015058</td>\n",
       "      <td>0.0</td>\n",
       "    </tr>\n",
       "    <tr>\n",
       "      <th>18</th>\n",
       "      <td>12.07000</td>\n",
       "      <td>12.22479</td>\n",
       "      <td>12.22479</td>\n",
       "      <td>12.07000</td>\n",
       "      <td>1024.368647</td>\n",
       "      <td>39</td>\n",
       "      <td>0.004252</td>\n",
       "      <td>0.0</td>\n",
       "    </tr>\n",
       "    <tr>\n",
       "      <th>19</th>\n",
       "      <td>12.07950</td>\n",
       "      <td>12.07000</td>\n",
       "      <td>12.23993</td>\n",
       "      <td>12.04009</td>\n",
       "      <td>2579.129454</td>\n",
       "      <td>73</td>\n",
       "      <td>0.003548</td>\n",
       "      <td>0.0</td>\n",
       "    </tr>\n",
       "    <tr>\n",
       "      <th>20</th>\n",
       "      <td>12.04775</td>\n",
       "      <td>12.07950</td>\n",
       "      <td>12.15045</td>\n",
       "      <td>12.02000</td>\n",
       "      <td>1883.042848</td>\n",
       "      <td>53</td>\n",
       "      <td>-0.015184</td>\n",
       "      <td>0.0</td>\n",
       "    </tr>\n",
       "    <tr>\n",
       "      <th>21</th>\n",
       "      <td>12.15620</td>\n",
       "      <td>12.14835</td>\n",
       "      <td>12.15620</td>\n",
       "      <td>12.14835</td>\n",
       "      <td>1125.085400</td>\n",
       "      <td>35</td>\n",
       "      <td>0.007142</td>\n",
       "      <td>0.0</td>\n",
       "    </tr>\n",
       "    <tr>\n",
       "      <th>22</th>\n",
       "      <td>12.07000</td>\n",
       "      <td>12.11322</td>\n",
       "      <td>12.13720</td>\n",
       "      <td>12.07000</td>\n",
       "      <td>352.656597</td>\n",
       "      <td>12</td>\n",
       "      <td>-0.012380</td>\n",
       "      <td>0.0</td>\n",
       "    </tr>\n",
       "    <tr>\n",
       "      <th>23</th>\n",
       "      <td>12.10000</td>\n",
       "      <td>12.07000</td>\n",
       "      <td>12.13519</td>\n",
       "      <td>12.05787</td>\n",
       "      <td>305.215230</td>\n",
       "      <td>17</td>\n",
       "      <td>0.002486</td>\n",
       "      <td>0.0</td>\n",
       "    </tr>\n",
       "  </tbody>\n",
       "</table>\n",
       "</div>"
      ],
      "text/plain": [
       "    price_close  price_open  price_high  price_low  volume_traded  \\\n",
       "0      11.88950    11.87000    11.90000   11.85972    1076.171006   \n",
       "1      12.00000    11.89000    12.00000   11.89000    6184.443260   \n",
       "2      12.03000    12.00000    12.03000   11.93356    3391.487460   \n",
       "3      12.20000    12.02591    12.20000   12.00000    1590.240506   \n",
       "4      12.43100    12.20000    12.54799   12.20000    4801.330298   \n",
       "5      12.53369    12.39040    12.59809   12.31003    3566.448442   \n",
       "6      12.73950    12.53369    12.89950   12.48000    7815.423254   \n",
       "7      12.59420    12.65747    12.79000   12.51000    2760.369206   \n",
       "8      12.48257    12.59239    12.59840   12.44000    2267.837906   \n",
       "9      12.46280    12.61000    12.61438   12.44005    3034.616506   \n",
       "10     12.52260    12.46501    12.61349   12.44005     481.657355   \n",
       "11     12.55000    12.61349    12.66407   12.50017     702.784319   \n",
       "12     12.04000    12.50720    12.50720   11.95000   10626.586878   \n",
       "13     12.01890    11.97070    12.03776   11.89001    2996.126954   \n",
       "14     12.03679    11.91114    12.05000   11.91114    1818.681760   \n",
       "15     12.23350    12.05000    12.23350   12.05000     567.937001   \n",
       "16     12.07000    12.06000    12.07880   12.01349     546.057300   \n",
       "17     12.22130    12.07000    12.29709   12.01007    2170.260146   \n",
       "18     12.07000    12.22479    12.22479   12.07000    1024.368647   \n",
       "19     12.07950    12.07000    12.23993   12.04009    2579.129454   \n",
       "20     12.04775    12.07950    12.15045   12.02000    1883.042848   \n",
       "21     12.15620    12.14835    12.15620   12.14835    1125.085400   \n",
       "22     12.07000    12.11322    12.13720   12.07000     352.656597   \n",
       "23     12.10000    12.07000    12.13519   12.05787     305.215230   \n",
       "\n",
       "    trades_count  pctchange  entry_flag  \n",
       "0             48        NaN         1.0  \n",
       "1            182        NaN         1.0  \n",
       "2            120        NaN         0.0  \n",
       "3             53        NaN         0.0  \n",
       "4            164        NaN         0.0  \n",
       "5             92   0.054181         0.0  \n",
       "6            199   0.061625         0.0  \n",
       "7             65   0.046899         0.0  \n",
       "8             57   0.023161         0.0  \n",
       "9             87   0.002558         0.0  \n",
       "10            57  -0.000885         0.0  \n",
       "11           113  -0.014875         0.0  \n",
       "12           334  -0.044004         0.0  \n",
       "13            84  -0.037145         0.0  \n",
       "14            43  -0.034183         0.0  \n",
       "15            25  -0.023086         0.0  \n",
       "16            15  -0.038247         0.0  \n",
       "17            63   0.015058         0.0  \n",
       "18            39   0.004252         0.0  \n",
       "19            73   0.003548         0.0  \n",
       "20            53  -0.015184         0.0  \n",
       "21            35   0.007142         0.0  \n",
       "22            12  -0.012380         0.0  \n",
       "23            17   0.002486         0.0  "
      ]
     },
     "execution_count": 22,
     "metadata": {},
     "output_type": "execute_result"
    }
   ],
   "source": [
    "df.head(24)"
   ]
  },
  {
   "cell_type": "code",
   "execution_count": 3,
   "metadata": {
    "execution": {
     "iopub.execute_input": "2020-11-01T17:47:25.378359Z",
     "iopub.status.busy": "2020-11-01T17:47:25.377974Z",
     "iopub.status.idle": "2020-11-01T17:47:25.426031Z",
     "shell.execute_reply": "2020-11-01T17:47:25.425432Z",
     "shell.execute_reply.started": "2020-11-01T17:47:25.378325Z"
    }
   },
   "outputs": [],
   "source": [
    "def entry_flag(df, lookforward_num=5, pct_gain=0.05):\n",
    "    \n",
    "    '''If there will be over a 5% gain in the next 6 periods, flag as a 1. Else 0.'''\n",
    "    \n",
    "    df['pctchange'] = df[['price_close']].pct_change(lookforward_num)\n",
    "    \n",
    "    entry_flags = []\n",
    "    for i in range(len(df) - lookforward_num):\n",
    "        if df.iloc[i+lookforward_num]['pctchange'] >= pct_gain:\n",
    "            entry_flags.append(1)\n",
    "        else:\n",
    "            entry_flags.append(0)\n",
    "    # Add in buffer None's\n",
    "    for i in range(lookforward_num):\n",
    "        entry_flags.append(None)\n",
    "    return entry_flags"
   ]
  },
  {
   "cell_type": "code",
   "execution_count": 4,
   "metadata": {
    "execution": {
     "iopub.execute_input": "2020-11-01T17:47:25.728613Z",
     "iopub.status.busy": "2020-11-01T17:47:25.728410Z",
     "iopub.status.idle": "2020-11-01T17:47:26.845143Z",
     "shell.execute_reply": "2020-11-01T17:47:26.844684Z",
     "shell.execute_reply.started": "2020-11-01T17:47:25.728591Z"
    }
   },
   "outputs": [
    {
     "data": {
      "text/plain": [
       "0.0    7372\n",
       "1.0    1036\n",
       "Name: entry_flag, dtype: int64"
      ]
     },
     "execution_count": 4,
     "metadata": {},
     "output_type": "execute_result"
    }
   ],
   "source": [
    "df['entry_flag'] = entry_flag(df)\n",
    "df['entry_flag'].value_counts()"
   ]
  },
  {
   "cell_type": "code",
   "execution_count": 5,
   "metadata": {
    "execution": {
     "iopub.execute_input": "2020-11-01T17:47:39.779046Z",
     "iopub.status.busy": "2020-11-01T17:47:39.778861Z",
     "iopub.status.idle": "2020-11-01T17:47:39.825907Z",
     "shell.execute_reply": "2020-11-01T17:47:39.825273Z",
     "shell.execute_reply.started": "2020-11-01T17:47:39.779025Z"
    }
   },
   "outputs": [],
   "source": [
    "def create_sequence(df, n_input): \n",
    "    \n",
    "    data = np.array(df)\n",
    "    \n",
    "    X = list()\n",
    "    start = n_input\n",
    "    for _ in range(len(data)):\n",
    "        # define the end of the input sequence\n",
    "        end = start + n_input\n",
    "        # ensure we have enough data for this instance \n",
    "        if end <= len(data) - n_input:\n",
    "            X.append(data[start:end, :])\n",
    "        # move along one time step\n",
    "        start += 1\n",
    "    return np.array(X)\n",
    "\n",
    "def create_targets(df, n_input):\n",
    "    return np.array(df['entry_flag'][(n_input-1):-n_input*2].values).reshape(-1,1)"
   ]
  },
  {
   "cell_type": "code",
   "execution_count": 6,
   "metadata": {
    "execution": {
     "iopub.execute_input": "2020-11-01T17:47:49.287957Z",
     "iopub.status.busy": "2020-11-01T17:47:49.287747Z",
     "iopub.status.idle": "2020-11-01T17:47:49.352997Z",
     "shell.execute_reply": "2020-11-01T17:47:49.352419Z",
     "shell.execute_reply.started": "2020-11-01T17:47:49.287935Z"
    }
   },
   "outputs": [],
   "source": [
    "seq_len = 24\n",
    "df_features = df.drop(columns=['pctchange', 'entry_flag'])\n",
    "X = create_sequence(df_features, seq_len)\n",
    "y = create_targets(df, seq_len)"
   ]
  },
  {
   "cell_type": "code",
   "execution_count": 7,
   "metadata": {
    "execution": {
     "iopub.execute_input": "2020-11-01T17:47:49.645704Z",
     "iopub.status.busy": "2020-11-01T17:47:49.645520Z",
     "iopub.status.idle": "2020-11-01T17:47:49.691348Z",
     "shell.execute_reply": "2020-11-01T17:47:49.690707Z",
     "shell.execute_reply.started": "2020-11-01T17:47:49.645684Z"
    }
   },
   "outputs": [],
   "source": [
    "def normalized_df(X):\n",
    "    return np.array([x/x[0]-1 for x in X])\n",
    "\n",
    "def trainTest_split(X, training_size=0.8):\n",
    "    return X[:int(training_size*len(X))], X[int(training_size*len(X)):]"
   ]
  },
  {
   "cell_type": "code",
   "execution_count": 8,
   "metadata": {
    "execution": {
     "iopub.execute_input": "2020-11-01T17:47:50.849849Z",
     "iopub.status.busy": "2020-11-01T17:47:50.849648Z",
     "iopub.status.idle": "2020-11-01T17:47:50.939243Z",
     "shell.execute_reply": "2020-11-01T17:47:50.938625Z",
     "shell.execute_reply.started": "2020-11-01T17:47:50.849828Z"
    }
   },
   "outputs": [
    {
     "name": "stdout",
     "output_type": "stream",
     "text": [
      "(6673, 24, 6) (6673, 1)\n",
      "(1669, 24, 6) (1669, 1)\n"
     ]
    }
   ],
   "source": [
    "X_norm = normalized_df(X)\n",
    "X_train, X_test = trainTest_split(X_norm)\n",
    "y_train, y_test = trainTest_split(y)\n",
    "print(X_train.shape, y_train.shape)\n",
    "print(X_test.shape, y_test.shape)"
   ]
  },
  {
   "cell_type": "code",
   "execution_count": 9,
   "metadata": {
    "execution": {
     "iopub.execute_input": "2020-11-01T17:47:51.659641Z",
     "iopub.status.busy": "2020-11-01T17:47:51.659457Z",
     "iopub.status.idle": "2020-11-01T17:47:51.705131Z",
     "shell.execute_reply": "2020-11-01T17:47:51.704486Z",
     "shell.execute_reply.started": "2020-11-01T17:47:51.659621Z"
    }
   },
   "outputs": [],
   "source": [
    "n_timesteps, n_features, n_outputs = X_train.shape[1], X_train.shape[2], y_train.shape[1]"
   ]
  },
  {
   "cell_type": "code",
   "execution_count": 10,
   "metadata": {
    "execution": {
     "iopub.execute_input": "2020-11-01T17:47:52.536899Z",
     "iopub.status.busy": "2020-11-01T17:47:52.536613Z",
     "iopub.status.idle": "2020-11-01T17:47:52.659676Z",
     "shell.execute_reply": "2020-11-01T17:47:52.659172Z",
     "shell.execute_reply.started": "2020-11-01T17:47:52.536872Z"
    }
   },
   "outputs": [],
   "source": [
    "# define the CNN model\n",
    "model = Sequential()\n",
    "model.add(Conv1D(32, 8, activation='relu', input_shape=(n_timesteps,n_features))) \n",
    "# model.add(Conv1D(32, 8, activation='relu'))\n",
    "model.add(MaxPooling1D())\n",
    "model.add(Flatten())\n",
    "model.add(Dense(100, activation='relu'))\n",
    "model.add(Dense(n_outputs, activation='sigmoid')) \n",
    "model.compile(loss='binary_crossentropy', optimizer='adam', metrics=['accuracy'])"
   ]
  },
  {
   "cell_type": "code",
   "execution_count": 11,
   "metadata": {
    "execution": {
     "iopub.execute_input": "2020-11-01T17:47:53.212959Z",
     "iopub.status.busy": "2020-11-01T17:47:53.212772Z",
     "iopub.status.idle": "2020-11-01T17:47:55.798050Z",
     "shell.execute_reply": "2020-11-01T17:47:55.797477Z",
     "shell.execute_reply.started": "2020-11-01T17:47:53.212939Z"
    }
   },
   "outputs": [
    {
     "name": "stdout",
     "output_type": "stream",
     "text": [
      "0.9736369252204895\n"
     ]
    },
    {
     "data": {
      "image/png": "[encoded data removed]",
      "text/plain": [
       "<Figure size 1440x288 with 1 Axes>"
      ]
     },
     "metadata": {
      "needs_background": "light"
     },
     "output_type": "display_data"
    }
   ],
   "source": [
    "verbose, epochs, batch_size = 0, 10, 32\n",
    "results = model.fit(X_train, y_train, epochs=epochs, batch_size=batch_size, verbose=verbose)\n",
    "# evaluate model\n",
    "_, accuracy = model.evaluate(X_test, y_test, batch_size=batch_size, verbose=0)\n",
    "plt.figure(figsize=(20,4))\n",
    "print(accuracy)\n",
    "plt.plot(results.history['loss'])\n",
    "plt.show()"
   ]
  },
  {
   "cell_type": "code",
   "execution_count": 17,
   "metadata": {
    "execution": {
     "iopub.execute_input": "2020-11-01T17:49:36.161211Z",
     "iopub.status.busy": "2020-11-01T17:49:36.161016Z",
     "iopub.status.idle": "2020-11-01T17:49:36.261588Z",
     "shell.execute_reply": "2020-11-01T17:49:36.261068Z",
     "shell.execute_reply.started": "2020-11-01T17:49:36.161190Z"
    }
   },
   "outputs": [
    {
     "data": {
      "text/plain": [
       "0    1541\n",
       "1     128\n",
       "dtype: int64"
      ]
     },
     "execution_count": 17,
     "metadata": {},
     "output_type": "execute_result"
    }
   ],
   "source": [
    "predictions = model.predict(X_test)\n",
    "predictions_round = [1 if x > 0.5 else 0 for x in predictions]\n",
    "pd.Series(predictions_round).value_counts()"
   ]
  },
  {
   "cell_type": "code",
   "execution_count": 21,
   "metadata": {
    "execution": {
     "iopub.execute_input": "2020-11-01T17:50:15.197611Z",
     "iopub.status.busy": "2020-11-01T17:50:15.197420Z",
     "iopub.status.idle": "2020-11-01T17:50:15.256090Z",
     "shell.execute_reply": "2020-11-01T17:50:15.255444Z",
     "shell.execute_reply.started": "2020-11-01T17:50:15.197591Z"
    }
   },
   "outputs": [
    {
     "data": {
      "text/html": [
       "<div>\n",
       "<style scoped>\n",
       "    .dataframe tbody tr th:only-of-type {\n",
       "        vertical-align: middle;\n",
       "    }\n",
       "\n",
       "    .dataframe tbody tr th {\n",
       "        vertical-align: top;\n",
       "    }\n",
       "\n",
       "    .dataframe thead th {\n",
       "        text-align: right;\n",
       "    }\n",
       "</style>\n",
       "<table border=\"1\" class=\"dataframe\">\n",
       "  <thead>\n",
       "    <tr style=\"text-align: right;\">\n",
       "      <th></th>\n",
       "      <th>price_close</th>\n",
       "      <th>price_open</th>\n",
       "      <th>price_high</th>\n",
       "      <th>price_low</th>\n",
       "      <th>volume_traded</th>\n",
       "      <th>trades_count</th>\n",
       "      <th>pctchange</th>\n",
       "      <th>entry_flag</th>\n",
       "      <th>predictions</th>\n",
       "    </tr>\n",
       "  </thead>\n",
       "  <tbody>\n",
       "    <tr>\n",
       "      <th>6744</th>\n",
       "      <td>149.33</td>\n",
       "      <td>145.81</td>\n",
       "      <td>153.12</td>\n",
       "      <td>145.70</td>\n",
       "      <td>15456.161574</td>\n",
       "      <td>1930</td>\n",
       "      <td>0.008714</td>\n",
       "      <td>0.0</td>\n",
       "      <td>0</td>\n",
       "    </tr>\n",
       "    <tr>\n",
       "      <th>6745</th>\n",
       "      <td>149.92</td>\n",
       "      <td>149.31</td>\n",
       "      <td>149.94</td>\n",
       "      <td>149.28</td>\n",
       "      <td>1115.448185</td>\n",
       "      <td>403</td>\n",
       "      <td>0.017303</td>\n",
       "      <td>0.0</td>\n",
       "      <td>0</td>\n",
       "    </tr>\n",
       "    <tr>\n",
       "      <th>6746</th>\n",
       "      <td>145.30</td>\n",
       "      <td>149.90</td>\n",
       "      <td>150.15</td>\n",
       "      <td>144.45</td>\n",
       "      <td>15308.970973</td>\n",
       "      <td>1808</td>\n",
       "      <td>0.003730</td>\n",
       "      <td>0.0</td>\n",
       "      <td>0</td>\n",
       "    </tr>\n",
       "    <tr>\n",
       "      <th>6747</th>\n",
       "      <td>144.92</td>\n",
       "      <td>145.29</td>\n",
       "      <td>145.94</td>\n",
       "      <td>143.91</td>\n",
       "      <td>3102.488222</td>\n",
       "      <td>579</td>\n",
       "      <td>0.005272</td>\n",
       "      <td>0.0</td>\n",
       "      <td>1</td>\n",
       "    </tr>\n",
       "    <tr>\n",
       "      <th>6748</th>\n",
       "      <td>145.69</td>\n",
       "      <td>144.91</td>\n",
       "      <td>146.43</td>\n",
       "      <td>143.94</td>\n",
       "      <td>6010.843128</td>\n",
       "      <td>803</td>\n",
       "      <td>-0.000549</td>\n",
       "      <td>0.0</td>\n",
       "      <td>1</td>\n",
       "    </tr>\n",
       "    <tr>\n",
       "      <th>...</th>\n",
       "      <td>...</td>\n",
       "      <td>...</td>\n",
       "      <td>...</td>\n",
       "      <td>...</td>\n",
       "      <td>...</td>\n",
       "      <td>...</td>\n",
       "      <td>...</td>\n",
       "      <td>...</td>\n",
       "      <td>...</td>\n",
       "    </tr>\n",
       "    <tr>\n",
       "      <th>8408</th>\n",
       "      <td>352.51</td>\n",
       "      <td>353.48</td>\n",
       "      <td>359.90</td>\n",
       "      <td>348.35</td>\n",
       "      <td>18060.435159</td>\n",
       "      <td>4312</td>\n",
       "      <td>0.073220</td>\n",
       "      <td>NaN</td>\n",
       "      <td>1</td>\n",
       "    </tr>\n",
       "    <tr>\n",
       "      <th>8409</th>\n",
       "      <td>348.30</td>\n",
       "      <td>352.50</td>\n",
       "      <td>358.50</td>\n",
       "      <td>344.10</td>\n",
       "      <td>11786.213649</td>\n",
       "      <td>2541</td>\n",
       "      <td>0.022487</td>\n",
       "      <td>NaN</td>\n",
       "      <td>1</td>\n",
       "    </tr>\n",
       "    <tr>\n",
       "      <th>8410</th>\n",
       "      <td>343.44</td>\n",
       "      <td>347.95</td>\n",
       "      <td>351.55</td>\n",
       "      <td>337.26</td>\n",
       "      <td>14951.134623</td>\n",
       "      <td>2988</td>\n",
       "      <td>-0.031008</td>\n",
       "      <td>NaN</td>\n",
       "      <td>0</td>\n",
       "    </tr>\n",
       "    <tr>\n",
       "      <th>8411</th>\n",
       "      <td>335.77</td>\n",
       "      <td>343.46</td>\n",
       "      <td>349.46</td>\n",
       "      <td>332.31</td>\n",
       "      <td>18696.797778</td>\n",
       "      <td>3650</td>\n",
       "      <td>-0.025794</td>\n",
       "      <td>NaN</td>\n",
       "      <td>0</td>\n",
       "    </tr>\n",
       "    <tr>\n",
       "      <th>8412</th>\n",
       "      <td>338.10</td>\n",
       "      <td>335.71</td>\n",
       "      <td>341.35</td>\n",
       "      <td>323.40</td>\n",
       "      <td>14309.162884</td>\n",
       "      <td>3311</td>\n",
       "      <td>-0.042616</td>\n",
       "      <td>NaN</td>\n",
       "      <td>0</td>\n",
       "    </tr>\n",
       "  </tbody>\n",
       "</table>\n",
       "<p>1669 rows × 9 columns</p>\n",
       "</div>"
      ],
      "text/plain": [
       "      price_close  price_open  price_high  price_low  volume_traded  \\\n",
       "6744       149.33      145.81      153.12     145.70   15456.161574   \n",
       "6745       149.92      149.31      149.94     149.28    1115.448185   \n",
       "6746       145.30      149.90      150.15     144.45   15308.970973   \n",
       "6747       144.92      145.29      145.94     143.91    3102.488222   \n",
       "6748       145.69      144.91      146.43     143.94    6010.843128   \n",
       "...           ...         ...         ...        ...            ...   \n",
       "8408       352.51      353.48      359.90     348.35   18060.435159   \n",
       "8409       348.30      352.50      358.50     344.10   11786.213649   \n",
       "8410       343.44      347.95      351.55     337.26   14951.134623   \n",
       "8411       335.77      343.46      349.46     332.31   18696.797778   \n",
       "8412       338.10      335.71      341.35     323.40   14309.162884   \n",
       "\n",
       "      trades_count  pctchange  entry_flag  predictions  \n",
       "6744          1930   0.008714         0.0            0  \n",
       "6745           403   0.017303         0.0            0  \n",
       "6746          1808   0.003730         0.0            0  \n",
       "6747           579   0.005272         0.0            1  \n",
       "6748           803  -0.000549         0.0            1  \n",
       "...            ...        ...         ...          ...  \n",
       "8408          4312   0.073220         NaN            1  \n",
       "8409          2541   0.022487         NaN            1  \n",
       "8410          2988  -0.031008         NaN            0  \n",
       "8411          3650  -0.025794         NaN            0  \n",
       "8412          3311  -0.042616         NaN            0  \n",
       "\n",
       "[1669 rows x 9 columns]"
      ]
     },
     "execution_count": 21,
     "metadata": {},
     "output_type": "execute_result"
    }
   ],
   "source": [
    "df_plot"
   ]
  },
  {
   "cell_type": "code",
   "execution_count": 20,
   "metadata": {
    "execution": {
     "iopub.execute_input": "2020-11-01T17:49:54.353645Z",
     "iopub.status.busy": "2020-11-01T17:49:54.353456Z",
     "iopub.status.idle": "2020-11-01T17:49:54.965847Z",
     "shell.execute_reply": "2020-11-01T17:49:54.965446Z",
     "shell.execute_reply.started": "2020-11-01T17:49:54.353624Z"
    }
   },
   "outputs": [
    {
     "data": {
      "image/png": "[encoded data removed]",
      "text/plain": [
       "<Figure size 2160x504 with 1 Axes>"
      ]
     },
     "metadata": {},
     "output_type": "display_data"
    }
   ],
   "source": [
    "df_plot = df[-len(X_test):]\n",
    "df_plot['predictions'] = predictions_round\n",
    "\n",
    "plt.style.use('seaborn-whitegrid')\n",
    "plt.figure(figsize=(30,7))\n",
    "\n",
    "df_plot['price_close'].plot()\n",
    "\n",
    "for i in range(len(df_plot)):\n",
    "    if df_plot.iloc[i, 8] == 1:\n",
    "        plt.annotate('>', (i, df_plot.iloc[i]['price_close']), xytext=(-10, 0), textcoords='offset points')\n",
    "plt.tight_layout()\n",
    "plt.savefig('result_plot.png')"
   ]
  },
  {
   "cell_type": "code",
   "execution_count": 54,
   "metadata": {
    "execution": {
     "iopub.execute_input": "2020-10-08T15:50:37.769720Z",
     "iopub.status.busy": "2020-10-08T15:50:37.769355Z",
     "iopub.status.idle": "2020-10-08T15:50:38.189493Z",
     "shell.execute_reply": "2020-10-08T15:50:38.185020Z",
     "shell.execute_reply.started": "2020-10-08T15:50:37.769676Z"
    }
   },
   "outputs": [
    {
     "data": {
      "text/plain": [
       "<matplotlib.axes._subplots.AxesSubplot at 0x7ffbc8cfab10>"
      ]
     },
     "execution_count": 54,
     "metadata": {},
     "output_type": "execute_result"
    },
    {
     "data": {
      "image/png": "[encoded data removed]",
      "text/plain": [
       "<Figure size 432x288 with 1 Axes>"
      ]
     },
     "metadata": {},
     "output_type": "display_data"
    }
   ],
   "source": [
    "df_plot.loc[8360:]['price_close'].plot()"
   ]
  },
  {
   "cell_type": "code",
   "execution_count": 48,
   "metadata": {
    "execution": {
     "iopub.execute_input": "2020-10-08T15:49:41.633864Z",
     "iopub.status.busy": "2020-10-08T15:49:41.633572Z",
     "iopub.status.idle": "2020-10-08T15:49:41.729332Z",
     "shell.execute_reply": "2020-10-08T15:49:41.727235Z",
     "shell.execute_reply.started": "2020-10-08T15:49:41.633831Z"
    }
   },
   "outputs": [
    {
     "data": {
      "text/html": [
       "<div>\n",
       "<style scoped>\n",
       "    .dataframe tbody tr th:only-of-type {\n",
       "        vertical-align: middle;\n",
       "    }\n",
       "\n",
       "    .dataframe tbody tr th {\n",
       "        vertical-align: top;\n",
       "    }\n",
       "\n",
       "    .dataframe thead th {\n",
       "        text-align: right;\n",
       "    }\n",
       "</style>\n",
       "<table border=\"1\" class=\"dataframe\">\n",
       "  <thead>\n",
       "    <tr style=\"text-align: right;\">\n",
       "      <th></th>\n",
       "      <th>price_close</th>\n",
       "      <th>price_open</th>\n",
       "      <th>price_high</th>\n",
       "      <th>price_low</th>\n",
       "      <th>volume_traded</th>\n",
       "      <th>trades_count</th>\n",
       "      <th>pctchange</th>\n",
       "      <th>entry_flag</th>\n",
       "      <th>predictions</th>\n",
       "    </tr>\n",
       "  </thead>\n",
       "  <tbody>\n",
       "    <tr>\n",
       "      <th>6824</th>\n",
       "      <td>121.75</td>\n",
       "      <td>122.64</td>\n",
       "      <td>123.10</td>\n",
       "      <td>119.62</td>\n",
       "      <td>24784.506558</td>\n",
       "      <td>2651</td>\n",
       "      <td>-0.076112</td>\n",
       "      <td>1.0</td>\n",
       "      <td>0</td>\n",
       "    </tr>\n",
       "    <tr>\n",
       "      <th>6825</th>\n",
       "      <td>123.73</td>\n",
       "      <td>121.75</td>\n",
       "      <td>125.44</td>\n",
       "      <td>121.32</td>\n",
       "      <td>13743.108024</td>\n",
       "      <td>1256</td>\n",
       "      <td>-0.054052</td>\n",
       "      <td>1.0</td>\n",
       "      <td>0</td>\n",
       "    </tr>\n",
       "    <tr>\n",
       "      <th>6826</th>\n",
       "      <td>121.69</td>\n",
       "      <td>123.72</td>\n",
       "      <td>124.38</td>\n",
       "      <td>120.74</td>\n",
       "      <td>24605.075843</td>\n",
       "      <td>7289</td>\n",
       "      <td>-0.077687</td>\n",
       "      <td>1.0</td>\n",
       "      <td>0</td>\n",
       "    </tr>\n",
       "    <tr>\n",
       "      <th>6890</th>\n",
       "      <td>127.83</td>\n",
       "      <td>128.70</td>\n",
       "      <td>128.99</td>\n",
       "      <td>127.76</td>\n",
       "      <td>2837.924210</td>\n",
       "      <td>373</td>\n",
       "      <td>0.007091</td>\n",
       "      <td>1.0</td>\n",
       "      <td>0</td>\n",
       "    </tr>\n",
       "    <tr>\n",
       "      <th>6891</th>\n",
       "      <td>127.84</td>\n",
       "      <td>127.82</td>\n",
       "      <td>127.93</td>\n",
       "      <td>127.37</td>\n",
       "      <td>1300.367116</td>\n",
       "      <td>274</td>\n",
       "      <td>0.006931</td>\n",
       "      <td>1.0</td>\n",
       "      <td>0</td>\n",
       "    </tr>\n",
       "    <tr>\n",
       "      <th>...</th>\n",
       "      <td>...</td>\n",
       "      <td>...</td>\n",
       "      <td>...</td>\n",
       "      <td>...</td>\n",
       "      <td>...</td>\n",
       "      <td>...</td>\n",
       "      <td>...</td>\n",
       "      <td>...</td>\n",
       "      <td>...</td>\n",
       "    </tr>\n",
       "    <tr>\n",
       "      <th>8372</th>\n",
       "      <td>433.98</td>\n",
       "      <td>436.81</td>\n",
       "      <td>438.51</td>\n",
       "      <td>428.66</td>\n",
       "      <td>13476.368398</td>\n",
       "      <td>3166</td>\n",
       "      <td>0.020553</td>\n",
       "      <td>1.0</td>\n",
       "      <td>1</td>\n",
       "    </tr>\n",
       "    <tr>\n",
       "      <th>8373</th>\n",
       "      <td>443.88</td>\n",
       "      <td>434.00</td>\n",
       "      <td>444.41</td>\n",
       "      <td>428.68</td>\n",
       "      <td>14025.545545</td>\n",
       "      <td>3049</td>\n",
       "      <td>0.054773</td>\n",
       "      <td>1.0</td>\n",
       "      <td>0</td>\n",
       "    </tr>\n",
       "    <tr>\n",
       "      <th>8401</th>\n",
       "      <td>323.29</td>\n",
       "      <td>357.08</td>\n",
       "      <td>359.43</td>\n",
       "      <td>311.04</td>\n",
       "      <td>99870.049276</td>\n",
       "      <td>14288</td>\n",
       "      <td>-0.162070</td>\n",
       "      <td>1.0</td>\n",
       "      <td>0</td>\n",
       "    </tr>\n",
       "    <tr>\n",
       "      <th>8402</th>\n",
       "      <td>335.38</td>\n",
       "      <td>323.43</td>\n",
       "      <td>337.55</td>\n",
       "      <td>314.83</td>\n",
       "      <td>36026.491585</td>\n",
       "      <td>5561</td>\n",
       "      <td>-0.135240</td>\n",
       "      <td>1.0</td>\n",
       "      <td>0</td>\n",
       "    </tr>\n",
       "    <tr>\n",
       "      <th>8403</th>\n",
       "      <td>328.46</td>\n",
       "      <td>334.88</td>\n",
       "      <td>343.68</td>\n",
       "      <td>322.59</td>\n",
       "      <td>19048.942878</td>\n",
       "      <td>3498</td>\n",
       "      <td>-0.138353</td>\n",
       "      <td>1.0</td>\n",
       "      <td>0</td>\n",
       "    </tr>\n",
       "  </tbody>\n",
       "</table>\n",
       "<p>150 rows × 9 columns</p>\n",
       "</div>"
      ],
      "text/plain": [
       "      price_close  price_open  price_high  price_low  volume_traded  \\\n",
       "6824       121.75      122.64      123.10     119.62   24784.506558   \n",
       "6825       123.73      121.75      125.44     121.32   13743.108024   \n",
       "6826       121.69      123.72      124.38     120.74   24605.075843   \n",
       "6890       127.83      128.70      128.99     127.76    2837.924210   \n",
       "6891       127.84      127.82      127.93     127.37    1300.367116   \n",
       "...           ...         ...         ...        ...            ...   \n",
       "8372       433.98      436.81      438.51     428.66   13476.368398   \n",
       "8373       443.88      434.00      444.41     428.68   14025.545545   \n",
       "8401       323.29      357.08      359.43     311.04   99870.049276   \n",
       "8402       335.38      323.43      337.55     314.83   36026.491585   \n",
       "8403       328.46      334.88      343.68     322.59   19048.942878   \n",
       "\n",
       "      trades_count  pctchange  entry_flag  predictions  \n",
       "6824          2651  -0.076112         1.0            0  \n",
       "6825          1256  -0.054052         1.0            0  \n",
       "6826          7289  -0.077687         1.0            0  \n",
       "6890           373   0.007091         1.0            0  \n",
       "6891           274   0.006931         1.0            0  \n",
       "...            ...        ...         ...          ...  \n",
       "8372          3166   0.020553         1.0            1  \n",
       "8373          3049   0.054773         1.0            0  \n",
       "8401         14288  -0.162070         1.0            0  \n",
       "8402          5561  -0.135240         1.0            0  \n",
       "8403          3498  -0.138353         1.0            0  \n",
       "\n",
       "[150 rows x 9 columns]"
      ]
     },
     "execution_count": 48,
     "metadata": {},
     "output_type": "execute_result"
    }
   ],
   "source": [
    "df_plot[df_plot['entry_flag']==1]"
   ]
  },
  {
   "cell_type": "code",
   "execution_count": 39,
   "metadata": {
    "execution": {
     "iopub.execute_input": "2020-10-08T15:47:25.981021Z",
     "iopub.status.busy": "2020-10-08T15:47:25.980762Z",
     "iopub.status.idle": "2020-10-08T15:47:26.091951Z",
     "shell.execute_reply": "2020-10-08T15:47:26.091225Z",
     "shell.execute_reply.started": "2020-10-08T15:47:25.980987Z"
    }
   },
   "outputs": [
    {
     "name": "stdout",
     "output_type": "stream",
     "text": [
      "              precision    recall  f1-score   support\n",
      "\n",
      "         0.0       0.91      0.88      0.89      1500\n",
      "         1.0       0.06      0.07      0.06       149\n",
      "\n",
      "    accuracy                           0.80      1649\n",
      "   macro avg       0.48      0.48      0.48      1649\n",
      "weighted avg       0.83      0.80      0.82      1649\n",
      "\n"
     ]
    }
   ],
   "source": [
    "print(classification_report(df_plot['entry_flag'][10:-10].values, df_plot['predictions'][10:-10].values))"
   ]
  },
  {
   "cell_type": "code",
   "execution_count": 40,
   "metadata": {
    "execution": {
     "iopub.execute_input": "2020-10-08T15:47:32.177377Z",
     "iopub.status.busy": "2020-10-08T15:47:32.176929Z",
     "iopub.status.idle": "2020-10-08T15:47:32.270994Z",
     "shell.execute_reply": "2020-10-08T15:47:32.270165Z",
     "shell.execute_reply.started": "2020-10-08T15:47:32.177327Z"
    }
   },
   "outputs": [
    {
     "data": {
      "text/plain": [
       "array([[1315,  185],\n",
       "       [ 138,   11]])"
      ]
     },
     "execution_count": 40,
     "metadata": {},
     "output_type": "execute_result"
    }
   ],
   "source": [
    "confusion_matrix(df_plot['entry_flag'][10:-10].values, df_plot['predictions'][10:-10].values)"
   ]
  },
  {
   "cell_type": "markdown",
   "metadata": {
    "execution": {
     "iopub.execute_input": "2020-09-26T01:20:59.043898Z",
     "iopub.status.busy": "2020-09-26T01:20:59.043668Z",
     "iopub.status.idle": "2020-09-26T01:20:59.118926Z",
     "shell.execute_reply": "2020-09-26T01:20:59.118353Z",
     "shell.execute_reply.started": "2020-09-26T01:20:59.043870Z"
    }
   },
   "source": [
    "model.save('4hr_6period_cnn.h5')"
   ]
  },
  {
   "cell_type": "markdown",
   "metadata": {},
   "source": [
    "___"
   ]
  },
  {
   "cell_type": "code",
   "execution_count": 19,
   "metadata": {
    "execution": {
     "iopub.execute_input": "2020-10-08T15:39:49.433708Z",
     "iopub.status.busy": "2020-10-08T15:39:49.433253Z",
     "iopub.status.idle": "2020-10-08T15:39:49.547960Z",
     "shell.execute_reply": "2020-10-08T15:39:49.544284Z",
     "shell.execute_reply.started": "2020-10-08T15:39:49.433653Z"
    }
   },
   "outputs": [],
   "source": [
    "current_data = np.array(df.tail(12)[['price_close', 'price_open', 'price_high', 'price_low', 'volume_traded', 'trades_count']])"
   ]
  },
  {
   "cell_type": "code",
   "execution_count": 21,
   "metadata": {
    "execution": {
     "iopub.execute_input": "2020-10-08T15:40:02.373726Z",
     "iopub.status.busy": "2020-10-08T15:40:02.373229Z",
     "iopub.status.idle": "2020-10-08T15:40:02.467888Z",
     "shell.execute_reply": "2020-10-08T15:40:02.466890Z",
     "shell.execute_reply.started": "2020-10-08T15:40:02.373662Z"
    }
   },
   "outputs": [
    {
     "data": {
      "text/plain": [
       "array([[  323.29      ,   357.08      ,   359.43      ,   311.04      ,\n",
       "        99870.04927612, 14288.        ],\n",
       "       [  335.38      ,   323.43      ,   337.55      ,   314.83      ,\n",
       "        36026.49158499,  5561.        ],\n",
       "       [  328.46      ,   334.88      ,   343.68      ,   322.59      ,\n",
       "        19048.94287827,  3498.        ],\n",
       "       [  340.64      ,   328.03      ,   342.49      ,   316.6       ,\n",
       "        29873.54119927,  4128.        ],\n",
       "       [  354.43      ,   340.22      ,   355.66      ,   337.38      ,\n",
       "        21597.71039302,  3942.        ],\n",
       "       [  344.66      ,   354.41      ,   358.28      ,   337.5       ,\n",
       "        17078.22764453,  3658.        ],\n",
       "       [  353.15      ,   344.41      ,   355.41      ,   340.8       ,\n",
       "        18222.60354605,  3422.        ],\n",
       "       [  352.51      ,   353.48      ,   359.9       ,   348.35      ,\n",
       "        18060.43515883,  4312.        ],\n",
       "       [  348.3       ,   352.5       ,   358.5       ,   344.1       ,\n",
       "        11786.21364931,  2541.        ],\n",
       "       [  343.44      ,   347.95      ,   351.55      ,   337.26      ,\n",
       "        14951.1346233 ,  2988.        ],\n",
       "       [  335.77      ,   343.46      ,   349.46      ,   332.31      ,\n",
       "        18696.79777761,  3650.        ],\n",
       "       [  338.1       ,   335.71      ,   341.35      ,   323.4       ,\n",
       "        14309.16288389,  3311.        ]])"
      ]
     },
     "execution_count": 21,
     "metadata": {},
     "output_type": "execute_result"
    }
   ],
   "source": [
    "current_data"
   ]
  },
  {
   "cell_type": "code",
   "execution_count": null,
   "metadata": {},
   "outputs": [],
   "source": []
  },
  {
   "cell_type": "code",
   "execution_count": null,
   "metadata": {},
   "outputs": [],
   "source": []
  }
 ],
 "metadata": {
  "kernelspec": {
   "display_name": "personal",
   "language": "python",
   "name": "personal"
  },
  "language_info": {
   "codemirror_mode": {
    "name": "ipython",
    "version": 3
   },
   "file_extension": ".py",
   "mimetype": "text/x-python",
   "name": "python",
   "nbconvert_exporter": "python",
   "pygments_lexer": "ipython3",
   "version": "3.7.7"
  }
 },
 "nbformat": 4,
 "nbformat_minor": 4
}
