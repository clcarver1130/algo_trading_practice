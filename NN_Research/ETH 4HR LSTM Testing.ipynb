{
 "cells": [
  {
   "cell_type": "code",
   "execution_count": 1,
   "metadata": {
    "execution": {
     "iopub.execute_input": "2021-10-02T19:14:50.438099Z",
     "iopub.status.busy": "2021-10-02T19:14:50.437846Z",
     "iopub.status.idle": "2021-10-02T19:15:04.775591Z",
     "shell.execute_reply": "2021-10-02T19:15:04.774730Z",
     "shell.execute_reply.started": "2021-10-02T19:14:50.438071Z"
    }
   },
   "outputs": [],
   "source": [
    "# General libraries\n",
    "import numpy as np\n",
    "import pandas as pd\n",
    "import matplotlib.pyplot as plt\n",
    "import warnings\n",
    "warnings.filterwarnings('ignore')\n",
    "\n",
    "# Deep learning libraries\n",
    "from sklearn.preprocessing import MinMaxScaler\n",
    "from tensorflow.keras.models import Sequential\n",
    "from tensorflow.keras.layers import Dense, LSTM, Dropout\n",
    "import tensorflow "
   ]
  },
  {
   "cell_type": "markdown",
   "metadata": {},
   "source": [
    "### 1. Load in the Data:"
   ]
  },
  {
   "cell_type": "code",
   "execution_count": 2,
   "metadata": {
    "execution": {
     "iopub.execute_input": "2021-10-02T19:15:04.776920Z",
     "iopub.status.busy": "2021-10-02T19:15:04.776620Z",
     "iopub.status.idle": "2021-10-02T19:15:05.960749Z",
     "shell.execute_reply": "2021-10-02T19:15:05.960275Z",
     "shell.execute_reply.started": "2021-10-02T19:15:04.776868Z"
    }
   },
   "outputs": [
    {
     "data": {
      "text/html": [
       "<div>\n",
       "<style scoped>\n",
       "    .dataframe tbody tr th:only-of-type {\n",
       "        vertical-align: middle;\n",
       "    }\n",
       "\n",
       "    .dataframe tbody tr th {\n",
       "        vertical-align: top;\n",
       "    }\n",
       "\n",
       "    .dataframe thead th {\n",
       "        text-align: right;\n",
       "    }\n",
       "</style>\n",
       "<table border=\"1\" class=\"dataframe\">\n",
       "  <thead>\n",
       "    <tr style=\"text-align: right;\">\n",
       "      <th></th>\n",
       "      <th>price_close</th>\n",
       "      <th>price_open</th>\n",
       "      <th>price_high</th>\n",
       "      <th>price_low</th>\n",
       "    </tr>\n",
       "    <tr>\n",
       "      <th>time_period_start</th>\n",
       "      <th></th>\n",
       "      <th></th>\n",
       "      <th></th>\n",
       "      <th></th>\n",
       "    </tr>\n",
       "  </thead>\n",
       "  <tbody>\n",
       "    <tr>\n",
       "      <th>12-24-2017 22:00</th>\n",
       "      <td>708.59</td>\n",
       "      <td>690.10</td>\n",
       "      <td>721.00</td>\n",
       "      <td>678.06</td>\n",
       "    </tr>\n",
       "    <tr>\n",
       "      <th>12-25-2017 02:00</th>\n",
       "      <td>730.99</td>\n",
       "      <td>708.50</td>\n",
       "      <td>731.80</td>\n",
       "      <td>702.88</td>\n",
       "    </tr>\n",
       "    <tr>\n",
       "      <th>12-25-2017 06:00</th>\n",
       "      <td>719.65</td>\n",
       "      <td>730.99</td>\n",
       "      <td>743.13</td>\n",
       "      <td>695.11</td>\n",
       "    </tr>\n",
       "    <tr>\n",
       "      <th>12-25-2017 10:00</th>\n",
       "      <td>731.01</td>\n",
       "      <td>718.22</td>\n",
       "      <td>732.75</td>\n",
       "      <td>705.00</td>\n",
       "    </tr>\n",
       "    <tr>\n",
       "      <th>12-25-2017 14:00</th>\n",
       "      <td>720.82</td>\n",
       "      <td>731.95</td>\n",
       "      <td>737.10</td>\n",
       "      <td>705.10</td>\n",
       "    </tr>\n",
       "  </tbody>\n",
       "</table>\n",
       "</div>"
      ],
      "text/plain": [
       "                   price_close  price_open  price_high  price_low\n",
       "time_period_start                                                \n",
       "12-24-2017 22:00        708.59      690.10      721.00     678.06\n",
       "12-25-2017 02:00        730.99      708.50      731.80     702.88\n",
       "12-25-2017 06:00        719.65      730.99      743.13     695.11\n",
       "12-25-2017 10:00        731.01      718.22      732.75     705.00\n",
       "12-25-2017 14:00        720.82      731.95      737.10     705.10"
      ]
     },
     "execution_count": 2,
     "metadata": {},
     "output_type": "execute_result"
    }
   ],
   "source": [
    "# Load historical data from file:\n",
    "df = pd.read_csv('eth_historical_4hrs.csv')\n",
    "\n",
    "# Convert timezones and reformat:\n",
    "df['time_period_start'] = pd.to_datetime(df['time_period_start']).dt.tz_convert('US/Central').dt.strftime('%m-%d-%Y %H:%M')\n",
    "# Reset Index\n",
    "df.set_index('time_period_start', inplace=True)\n",
    "\n",
    "# Pull just the value fields:\n",
    "df = df[['price_close', 'price_open', 'price_high', 'price_low']]\n",
    "\n",
    "# Load just ~2018 onwards:\n",
    "df = df[2500:]\n",
    "\n",
    "df.head()"
   ]
  },
  {
   "cell_type": "markdown",
   "metadata": {},
   "source": [
    "### 2. Engineering Targets:"
   ]
  },
  {
   "cell_type": "code",
   "execution_count": 8,
   "metadata": {
    "execution": {
     "iopub.execute_input": "2021-10-02T19:17:02.140615Z",
     "iopub.status.busy": "2021-10-02T19:17:02.140391Z",
     "iopub.status.idle": "2021-10-02T19:17:02.148825Z",
     "shell.execute_reply": "2021-10-02T19:17:02.148114Z",
     "shell.execute_reply.started": "2021-10-02T19:17:02.140590Z"
    }
   },
   "outputs": [],
   "source": [
    "# Constants:\n",
    "n_inputs = 6\n",
    "\n",
    "# Calculate the pct change `n_inputs` away:\n",
    "df['6prd_pctchange'] = df[['price_close']].pct_change(n_inputs)"
   ]
  },
  {
   "cell_type": "code",
   "execution_count": 14,
   "metadata": {
    "execution": {
     "iopub.execute_input": "2021-10-02T19:18:19.077028Z",
     "iopub.status.busy": "2021-10-02T19:18:19.076765Z",
     "iopub.status.idle": "2021-10-02T19:18:19.081876Z",
     "shell.execute_reply": "2021-10-02T19:18:19.081206Z",
     "shell.execute_reply.started": "2021-10-02T19:18:19.076990Z"
    }
   },
   "outputs": [],
   "source": [
    "def entry_flag(df, lookforward_num, pct_change=0.05):\n",
    "    \n",
    "    '''If there will be over a 5% gain in the next 6 periods, flag as a 1. Else 0.'''\n",
    "    \n",
    "    entry_flags = []\n",
    "    for i in range(len(df) - lookforward_num):\n",
    "        if df.iloc[i+lookforward_num]['6prd_pctchange'] >= pct_change:\n",
    "            entry_flags.append(1)\n",
    "        else:\n",
    "            entry_flags.append(0)\n",
    "    # Add in buffer None's\n",
    "    for i in range(lookforward_num):\n",
    "        entry_flags.append(None)\n",
    "    return entry_flags"
   ]
  },
  {
   "cell_type": "code",
   "execution_count": 15,
   "metadata": {
    "execution": {
     "iopub.execute_input": "2021-10-02T19:18:19.606917Z",
     "iopub.status.busy": "2021-10-02T19:18:19.606675Z",
     "iopub.status.idle": "2021-10-02T19:18:19.979117Z",
     "shell.execute_reply": "2021-10-02T19:18:19.977988Z",
     "shell.execute_reply.started": "2021-10-02T19:18:19.606889Z"
    }
   },
   "outputs": [
    {
     "data": {
      "text/plain": [
       "0.0    0.877434\n",
       "1.0    0.122566\n",
       "Name: entry_flag, dtype: float64"
      ]
     },
     "execution_count": 15,
     "metadata": {},
     "output_type": "execute_result"
    }
   ],
   "source": [
    "df['entry_flag'] = entry_flag(df, n_inputs)\n",
    "df['entry_flag'].value_counts(normalize=True)"
   ]
  },
  {
   "cell_type": "code",
   "execution_count": 17,
   "metadata": {
    "execution": {
     "iopub.execute_input": "2021-10-02T19:18:46.690009Z",
     "iopub.status.busy": "2021-10-02T19:18:46.689768Z",
     "iopub.status.idle": "2021-10-02T19:18:46.693187Z",
     "shell.execute_reply": "2021-10-02T19:18:46.692531Z",
     "shell.execute_reply.started": "2021-10-02T19:18:46.689982Z"
    }
   },
   "outputs": [],
   "source": [
    "# pd.options.display.max_rows = 999\n",
    "# df[1000:1100]"
   ]
  },
  {
   "cell_type": "markdown",
   "metadata": {},
   "source": [
    "### 3. Create Sequences"
   ]
  },
  {
   "cell_type": "code",
   "execution_count": 21,
   "metadata": {
    "execution": {
     "iopub.execute_input": "2021-10-02T19:19:31.862515Z",
     "iopub.status.busy": "2021-10-02T19:19:31.862277Z",
     "iopub.status.idle": "2021-10-02T19:19:31.868073Z",
     "shell.execute_reply": "2021-10-02T19:19:31.867375Z",
     "shell.execute_reply.started": "2021-10-02T19:19:31.862487Z"
    }
   },
   "outputs": [],
   "source": [
    "def create_sequence(df, n_input):\n",
    "    data = np.array(df)\n",
    "      \n",
    "    X = list()\n",
    "    start = 0\n",
    "    for _ in range(len(data)):\n",
    "        # define the end of the input sequence\n",
    "        end = start + n_input\n",
    "        # ensure we have enough data for this instance \n",
    "        if end <= len(data) - n_input:\n",
    "            X.append(data[start:end, :])\n",
    "        # move along one time step\n",
    "        start += 1\n",
    "    return np.array(X)\n",
    "\n",
    "def create_targets(df, n_input):\n",
    "    return np.array(df['entry_flag'][(n_input-1):-n_input].values).reshape(-1,1)\n",
    "    "
   ]
  },
  {
   "cell_type": "code",
   "execution_count": 22,
   "metadata": {
    "execution": {
     "iopub.execute_input": "2021-10-02T19:19:32.279915Z",
     "iopub.status.busy": "2021-10-02T19:19:32.279684Z",
     "iopub.status.idle": "2021-10-02T19:19:32.292971Z",
     "shell.execute_reply": "2021-10-02T19:19:32.292341Z",
     "shell.execute_reply.started": "2021-10-02T19:19:32.279888Z"
    }
   },
   "outputs": [],
   "source": [
    "seq_len = 18\n",
    "df_features = df[['price_close']]\n",
    "df_features = df_features[100:-100]\n",
    "X = create_sequence(df_features, seq_len)\n",
    "y = create_targets(df[100:-100], seq_len)"
   ]
  },
  {
   "cell_type": "code",
   "execution_count": 23,
   "metadata": {
    "execution": {
     "iopub.execute_input": "2021-10-02T19:19:32.717182Z",
     "iopub.status.busy": "2021-10-02T19:19:32.716944Z",
     "iopub.status.idle": "2021-10-02T19:19:32.721952Z",
     "shell.execute_reply": "2021-10-02T19:19:32.721190Z",
     "shell.execute_reply.started": "2021-10-02T19:19:32.717155Z"
    }
   },
   "outputs": [
    {
     "data": {
      "text/plain": [
       "True"
      ]
     },
     "execution_count": 23,
     "metadata": {},
     "output_type": "execute_result"
    }
   ],
   "source": [
    "len(X)==len(y)"
   ]
  },
  {
   "cell_type": "markdown",
   "metadata": {},
   "source": [
    "### 4. Normalize and Train-Test Split"
   ]
  },
  {
   "cell_type": "code",
   "execution_count": 29,
   "metadata": {
    "execution": {
     "iopub.execute_input": "2021-10-02T19:22:27.009668Z",
     "iopub.status.busy": "2021-10-02T19:22:27.009439Z",
     "iopub.status.idle": "2021-10-02T19:22:27.014320Z",
     "shell.execute_reply": "2021-10-02T19:22:27.013511Z",
     "shell.execute_reply.started": "2021-10-02T19:22:27.009642Z"
    }
   },
   "outputs": [],
   "source": [
    "def normalized_df(X):\n",
    "    scaler = MinMaxScaler()\n",
    "    # transform data\n",
    "    return np.array([scaler.fit_transform(x) for x in X])\n",
    "\n",
    "def trainTest_split(X, training_size=0.8):\n",
    "    return X[:int(training_size*len(X))], X[int(training_size*len(X)):]"
   ]
  },
  {
   "cell_type": "code",
   "execution_count": 30,
   "metadata": {
    "execution": {
     "iopub.execute_input": "2021-10-02T19:22:27.618895Z",
     "iopub.status.busy": "2021-10-02T19:22:27.618644Z",
     "iopub.status.idle": "2021-10-02T19:22:28.318648Z",
     "shell.execute_reply": "2021-10-02T19:22:28.318100Z",
     "shell.execute_reply.started": "2021-10-02T19:22:27.618867Z"
    }
   },
   "outputs": [
    {
     "name": "stdout",
     "output_type": "stream",
     "text": [
      "(4542, 18, 1) (4542, 1)\n",
      "(1136, 18, 1) (1136, 1)\n"
     ]
    }
   ],
   "source": [
    "X_norm = normalized_df(X)\n",
    "X_train, X_test = trainTest_split(X_norm)\n",
    "y_train, y_test = trainTest_split(y)\n",
    "print(X_train.shape, y_train.shape)\n",
    "print(X_test.shape, y_test.shape)"
   ]
  },
  {
   "cell_type": "markdown",
   "metadata": {},
   "source": [
    "### Build and Train Baseline Model:"
   ]
  },
  {
   "cell_type": "code",
   "execution_count": 36,
   "metadata": {
    "execution": {
     "iopub.execute_input": "2021-10-02T19:28:01.775669Z",
     "iopub.status.busy": "2021-10-02T19:28:01.775445Z",
     "iopub.status.idle": "2021-10-02T19:28:04.777344Z",
     "shell.execute_reply": "2021-10-02T19:28:04.776608Z",
     "shell.execute_reply.started": "2021-10-02T19:28:01.775643Z"
    }
   },
   "outputs": [
    {
     "name": "stdout",
     "output_type": "stream",
     "text": [
      "Epoch 1/3\n",
      "71/71 [==============================] - 2s 9ms/step - loss: 0.3882 - accuracy: 0.8835 - val_loss: 0.3759 - val_accuracy: 0.8785\n",
      "Epoch 2/3\n",
      "71/71 [==============================] - 0s 5ms/step - loss: 0.3672 - accuracy: 0.8835 - val_loss: 0.3751 - val_accuracy: 0.8785\n",
      "Epoch 3/3\n",
      "71/71 [==============================] - 0s 5ms/step - loss: 0.3662 - accuracy: 0.8835 - val_loss: 0.3745 - val_accuracy: 0.8785\n",
      "Model: \"sequential_4\"\n",
      "_________________________________________________________________\n",
      "Layer (type)                 Output Shape              Param #   \n",
      "=================================================================\n",
      "lstm_4 (LSTM)                (None, 18)                1440      \n",
      "_________________________________________________________________\n",
      "dense_12 (Dense)             (None, 50)                950       \n",
      "_________________________________________________________________\n",
      "dense_13 (Dense)             (None, 25)                1275      \n",
      "_________________________________________________________________\n",
      "dense_14 (Dense)             (None, 10)                260       \n",
      "_________________________________________________________________\n",
      "dense_15 (Dense)             (None, 1)                 11        \n",
      "=================================================================\n",
      "Total params: 3,936\n",
      "Trainable params: 3,936\n",
      "Non-trainable params: 0\n",
      "_________________________________________________________________\n"
     ]
    },
    {
     "data": {
      "image/png": "[encoded data removed]",
      "text/plain": [
       "<Figure size 1440x288 with 1 Axes>"
      ]
     },
     "metadata": {
      "needs_background": "light"
     },
     "output_type": "display_data"
    }
   ],
   "source": [
    "# Constants:\n",
    "loss = 'binary_crossentropy'\n",
    "optimizer = 'rmsprop'\n",
    "epochs = 3\n",
    "batch_size = 64\n",
    "\n",
    "# Complie model:\n",
    "model = Sequential()\n",
    "model.add(LSTM(100, input_shape=(18,1)))\n",
    "model.add(Dense(50, activation='relu'))\n",
    "model.add(Dense(25, activation='relu'))\n",
    "model.add(Dense(10, activation='relu'))\n",
    "model.add(Dense(1, activation='sigmoid'))\n",
    "model.compile(loss=loss, optimizer=optimizer, metrics=['accuracy'])\n",
    "results = model.fit(X_train, y_train,validation_data=(X_test, y_test), epochs=epochs, verbose=1, shuffle=False, batch_size=batch_size)\n",
    "model.summary() \n",
    "\n",
    "plt.figure(figsize=(20,4))\n",
    "plt.plot(results.history['loss'])\n",
    "# plt.plot(results.history['val_loss'])\n",
    "plt.show()"
   ]
  },
  {
   "cell_type": "code",
   "execution_count": 33,
   "metadata": {
    "execution": {
     "iopub.execute_input": "2021-10-02T19:23:43.803752Z",
     "iopub.status.busy": "2021-10-02T19:23:43.803513Z",
     "iopub.status.idle": "2021-10-02T19:23:44.183866Z",
     "shell.execute_reply": "2021-10-02T19:23:44.183412Z",
     "shell.execute_reply.started": "2021-10-02T19:23:43.803725Z"
    }
   },
   "outputs": [
    {
     "data": {
      "text/plain": [
       "0    1136\n",
       "dtype: int64"
      ]
     },
     "execution_count": 33,
     "metadata": {},
     "output_type": "execute_result"
    }
   ],
   "source": [
    "predictions = model.predict(X_test)\n",
    "predictions_round = [1 if x > 0.5 else 0 for x in predictions]\n",
    "pd.Series(predictions_round).value_counts()"
   ]
  },
  {
   "cell_type": "code",
   "execution_count": 34,
   "metadata": {
    "execution": {
     "iopub.execute_input": "2021-09-22T01:45:40.170282Z",
     "iopub.status.busy": "2021-09-22T01:45:40.170041Z",
     "iopub.status.idle": "2021-09-22T01:45:40.341362Z",
     "shell.execute_reply": "2021-09-22T01:45:40.340899Z",
     "shell.execute_reply.started": "2021-09-22T01:45:40.170254Z"
    }
   },
   "outputs": [
    {
     "data": {
      "image/png": "[encoded data removed]",
      "text/plain": [
       "<Figure size 2160x576 with 1 Axes>"
      ]
     },
     "metadata": {},
     "output_type": "display_data"
    }
   ],
   "source": [
    "df_plot = df[-len(X_test):]\n",
    "df_plot['predictions']= predictions_round\n",
    "\n",
    "plt.style.use('seaborn-whitegrid')\n",
    "plt.figure(figsize=(30,8))\n",
    "\n",
    "df_plot['price_close'].plot()\n",
    "# df_plot['ma_8'].plot()\n",
    "# df_plot['ma_13'].plot()\n",
    "# df_plot['ma_21'].plot()\n",
    "# df_plot['ma_55'].plot()\n",
    "\n",
    "for i in range(len(df_plot)):\n",
    "    if df_plot.iloc[i, 3] == 1:\n",
    "        plt.annotate('>', (i, df_plot.iloc[i]['price_close']), xytext=(-10, 0), textcoords='offset points', fontsize=14, fontweight='bold')"
   ]
  },
  {
   "cell_type": "markdown",
   "metadata": {},
   "source": [
    "___"
   ]
  },
  {
   "cell_type": "code",
   "execution_count": 86,
   "metadata": {
    "execution": {
     "iopub.execute_input": "2021-09-22T02:10:20.217845Z",
     "iopub.status.busy": "2021-09-22T02:10:20.217608Z",
     "iopub.status.idle": "2021-09-22T02:10:20.222720Z",
     "shell.execute_reply": "2021-09-22T02:10:20.222035Z",
     "shell.execute_reply.started": "2021-09-22T02:10:20.217818Z"
    }
   },
   "outputs": [
    {
     "name": "stdout",
     "output_type": "stream",
     "text": [
      "(4555, 10, 1)\n",
      "(4555, 10)\n"
     ]
    }
   ],
   "source": [
    "old = X_train.shape\n",
    "print(old)\n",
    "new = X_train.transpose(2,0,1).reshape(-1,X_train.shape[1])\n",
    "print(new.shape)"
   ]
  },
  {
   "cell_type": "code",
   "execution_count": 87,
   "metadata": {
    "execution": {
     "iopub.execute_input": "2021-09-22T02:10:34.718305Z",
     "iopub.status.busy": "2021-09-22T02:10:34.718069Z",
     "iopub.status.idle": "2021-09-22T02:10:35.542603Z",
     "shell.execute_reply": "2021-09-22T02:10:35.542009Z",
     "shell.execute_reply.started": "2021-09-22T02:10:34.718277Z"
    }
   },
   "outputs": [
    {
     "data": {
      "text/plain": [
       "RandomForestClassifier(random_state=0)"
      ]
     },
     "execution_count": 87,
     "metadata": {},
     "output_type": "execute_result"
    }
   ],
   "source": [
    "from sklearn.ensemble import RandomForestClassifier\n",
    "clf = RandomForestClassifier(random_state=0)\n",
    "clf.fit(X_train.transpose(2,0,1).reshape(-1,X_train.shape[1]), y_train)"
   ]
  },
  {
   "cell_type": "code",
   "execution_count": 90,
   "metadata": {
    "execution": {
     "iopub.execute_input": "2021-09-22T02:11:21.923324Z",
     "iopub.status.busy": "2021-09-22T02:11:21.923093Z",
     "iopub.status.idle": "2021-09-22T02:11:21.956604Z",
     "shell.execute_reply": "2021-09-22T02:11:21.955947Z",
     "shell.execute_reply.started": "2021-09-22T02:11:21.923297Z"
    }
   },
   "outputs": [],
   "source": [
    "y_pred = clf.predict(X_test.transpose(2,0,1).reshape(-1,X_test.shape[1]))"
   ]
  },
  {
   "cell_type": "code",
   "execution_count": 91,
   "metadata": {
    "execution": {
     "iopub.execute_input": "2021-09-22T02:11:23.269331Z",
     "iopub.status.busy": "2021-09-22T02:11:23.269064Z",
     "iopub.status.idle": "2021-09-22T02:11:23.280349Z",
     "shell.execute_reply": "2021-09-22T02:11:23.279702Z",
     "shell.execute_reply.started": "2021-09-22T02:11:23.269299Z"
    }
   },
   "outputs": [
    {
     "name": "stdout",
     "output_type": "stream",
     "text": [
      "              precision    recall  f1-score   support\n",
      "\n",
      "         0.0       0.72      0.99      0.83       818\n",
      "         1.0       0.27      0.01      0.02       321\n",
      "\n",
      "    accuracy                           0.71      1139\n",
      "   macro avg       0.50      0.50      0.43      1139\n",
      "weighted avg       0.59      0.71      0.60      1139\n",
      "\n"
     ]
    }
   ],
   "source": [
    "from sklearn.metrics import classification_report\n",
    "print(classification_report(y_test, y_pred))"
   ]
  },
  {
   "cell_type": "code",
   "execution_count": 114,
   "metadata": {
    "execution": {
     "iopub.execute_input": "2021-09-22T02:19:22.996117Z",
     "iopub.status.busy": "2021-09-22T02:19:22.995893Z",
     "iopub.status.idle": "2021-09-22T02:19:23.016093Z",
     "shell.execute_reply": "2021-09-22T02:19:23.015079Z",
     "shell.execute_reply.started": "2021-09-22T02:19:22.996091Z"
    }
   },
   "outputs": [
    {
     "ename": "ValueError",
     "evalue": "Length of values (1071) does not match length of index (1139)",
     "output_type": "error",
     "traceback": [
      "\u001b[0;31m---------------------------------------------------------------------------\u001b[0m",
      "\u001b[0;31mValueError\u001b[0m                                Traceback (most recent call last)",
      "\u001b[0;32m<ipython-input-114-b109919d9072>\u001b[0m in \u001b[0;36m<module>\u001b[0;34m\u001b[0m\n\u001b[1;32m      1\u001b[0m \u001b[0mdf_plot\u001b[0m \u001b[0;34m=\u001b[0m \u001b[0mdf\u001b[0m\u001b[0;34m[\u001b[0m\u001b[0;34m-\u001b[0m\u001b[0mlen\u001b[0m\u001b[0;34m(\u001b[0m\u001b[0mX_test\u001b[0m\u001b[0;34m)\u001b[0m\u001b[0;34m:\u001b[0m\u001b[0;34m]\u001b[0m\u001b[0;34m\u001b[0m\u001b[0;34m\u001b[0m\u001b[0m\n\u001b[0;32m----> 2\u001b[0;31m \u001b[0mdf_plot\u001b[0m\u001b[0;34m[\u001b[0m\u001b[0;34m'predictions'\u001b[0m\u001b[0;34m]\u001b[0m \u001b[0;34m=\u001b[0m \u001b[0mpredictions_round\u001b[0m\u001b[0;34m\u001b[0m\u001b[0;34m\u001b[0m\u001b[0m\n\u001b[0m\u001b[1;32m      3\u001b[0m \u001b[0;34m\u001b[0m\u001b[0m\n\u001b[1;32m      4\u001b[0m \u001b[0mplt\u001b[0m\u001b[0;34m.\u001b[0m\u001b[0mstyle\u001b[0m\u001b[0;34m.\u001b[0m\u001b[0muse\u001b[0m\u001b[0;34m(\u001b[0m\u001b[0;34m'seaborn-whitegrid'\u001b[0m\u001b[0;34m)\u001b[0m\u001b[0;34m\u001b[0m\u001b[0;34m\u001b[0m\u001b[0m\n\u001b[1;32m      5\u001b[0m \u001b[0mplt\u001b[0m\u001b[0;34m.\u001b[0m\u001b[0mfigure\u001b[0m\u001b[0;34m(\u001b[0m\u001b[0mfigsize\u001b[0m\u001b[0;34m=\u001b[0m\u001b[0;34m(\u001b[0m\u001b[0;36m30\u001b[0m\u001b[0;34m,\u001b[0m\u001b[0;36m8\u001b[0m\u001b[0;34m)\u001b[0m\u001b[0;34m)\u001b[0m\u001b[0;34m\u001b[0m\u001b[0;34m\u001b[0m\u001b[0m\n",
      "\u001b[0;32m~/miniconda3/envs/personal/lib/python3.7/site-packages/pandas/core/frame.py\u001b[0m in \u001b[0;36m__setitem__\u001b[0;34m(self, key, value)\u001b[0m\n\u001b[1;32m   3605\u001b[0m         \u001b[0;32melse\u001b[0m\u001b[0;34m:\u001b[0m\u001b[0;34m\u001b[0m\u001b[0;34m\u001b[0m\u001b[0m\n\u001b[1;32m   3606\u001b[0m             \u001b[0;31m# set column\u001b[0m\u001b[0;34m\u001b[0m\u001b[0;34m\u001b[0m\u001b[0;34m\u001b[0m\u001b[0m\n\u001b[0;32m-> 3607\u001b[0;31m             \u001b[0mself\u001b[0m\u001b[0;34m.\u001b[0m\u001b[0m_set_item\u001b[0m\u001b[0;34m(\u001b[0m\u001b[0mkey\u001b[0m\u001b[0;34m,\u001b[0m \u001b[0mvalue\u001b[0m\u001b[0;34m)\u001b[0m\u001b[0;34m\u001b[0m\u001b[0;34m\u001b[0m\u001b[0m\n\u001b[0m\u001b[1;32m   3608\u001b[0m \u001b[0;34m\u001b[0m\u001b[0m\n\u001b[1;32m   3609\u001b[0m     \u001b[0;32mdef\u001b[0m \u001b[0m_setitem_slice\u001b[0m\u001b[0;34m(\u001b[0m\u001b[0mself\u001b[0m\u001b[0;34m,\u001b[0m \u001b[0mkey\u001b[0m\u001b[0;34m:\u001b[0m \u001b[0mslice\u001b[0m\u001b[0;34m,\u001b[0m \u001b[0mvalue\u001b[0m\u001b[0;34m)\u001b[0m\u001b[0;34m:\u001b[0m\u001b[0;34m\u001b[0m\u001b[0;34m\u001b[0m\u001b[0m\n",
      "\u001b[0;32m~/miniconda3/envs/personal/lib/python3.7/site-packages/pandas/core/frame.py\u001b[0m in \u001b[0;36m_set_item\u001b[0;34m(self, key, value)\u001b[0m\n\u001b[1;32m   3777\u001b[0m         \u001b[0mensure\u001b[0m \u001b[0mhomogeneity\u001b[0m\u001b[0;34m.\u001b[0m\u001b[0;34m\u001b[0m\u001b[0;34m\u001b[0m\u001b[0m\n\u001b[1;32m   3778\u001b[0m         \"\"\"\n\u001b[0;32m-> 3779\u001b[0;31m         \u001b[0mvalue\u001b[0m \u001b[0;34m=\u001b[0m \u001b[0mself\u001b[0m\u001b[0;34m.\u001b[0m\u001b[0m_sanitize_column\u001b[0m\u001b[0;34m(\u001b[0m\u001b[0mvalue\u001b[0m\u001b[0;34m)\u001b[0m\u001b[0;34m\u001b[0m\u001b[0;34m\u001b[0m\u001b[0m\n\u001b[0m\u001b[1;32m   3780\u001b[0m \u001b[0;34m\u001b[0m\u001b[0m\n\u001b[1;32m   3781\u001b[0m         if (\n",
      "\u001b[0;32m~/miniconda3/envs/personal/lib/python3.7/site-packages/pandas/core/frame.py\u001b[0m in \u001b[0;36m_sanitize_column\u001b[0;34m(self, value)\u001b[0m\n\u001b[1;32m   4502\u001b[0m \u001b[0;34m\u001b[0m\u001b[0m\n\u001b[1;32m   4503\u001b[0m         \u001b[0;32mif\u001b[0m \u001b[0mis_list_like\u001b[0m\u001b[0;34m(\u001b[0m\u001b[0mvalue\u001b[0m\u001b[0;34m)\u001b[0m\u001b[0;34m:\u001b[0m\u001b[0;34m\u001b[0m\u001b[0;34m\u001b[0m\u001b[0m\n\u001b[0;32m-> 4504\u001b[0;31m             \u001b[0mcom\u001b[0m\u001b[0;34m.\u001b[0m\u001b[0mrequire_length_match\u001b[0m\u001b[0;34m(\u001b[0m\u001b[0mvalue\u001b[0m\u001b[0;34m,\u001b[0m \u001b[0mself\u001b[0m\u001b[0;34m.\u001b[0m\u001b[0mindex\u001b[0m\u001b[0;34m)\u001b[0m\u001b[0;34m\u001b[0m\u001b[0;34m\u001b[0m\u001b[0m\n\u001b[0m\u001b[1;32m   4505\u001b[0m         \u001b[0;32mreturn\u001b[0m \u001b[0msanitize_array\u001b[0m\u001b[0;34m(\u001b[0m\u001b[0mvalue\u001b[0m\u001b[0;34m,\u001b[0m \u001b[0mself\u001b[0m\u001b[0;34m.\u001b[0m\u001b[0mindex\u001b[0m\u001b[0;34m,\u001b[0m \u001b[0mcopy\u001b[0m\u001b[0;34m=\u001b[0m\u001b[0;32mTrue\u001b[0m\u001b[0;34m,\u001b[0m \u001b[0mallow_2d\u001b[0m\u001b[0;34m=\u001b[0m\u001b[0;32mTrue\u001b[0m\u001b[0;34m)\u001b[0m\u001b[0;34m\u001b[0m\u001b[0;34m\u001b[0m\u001b[0m\n\u001b[1;32m   4506\u001b[0m \u001b[0;34m\u001b[0m\u001b[0m\n",
      "\u001b[0;32m~/miniconda3/envs/personal/lib/python3.7/site-packages/pandas/core/common.py\u001b[0m in \u001b[0;36mrequire_length_match\u001b[0;34m(data, index)\u001b[0m\n\u001b[1;32m    530\u001b[0m     \u001b[0;32mif\u001b[0m \u001b[0mlen\u001b[0m\u001b[0;34m(\u001b[0m\u001b[0mdata\u001b[0m\u001b[0;34m)\u001b[0m \u001b[0;34m!=\u001b[0m \u001b[0mlen\u001b[0m\u001b[0;34m(\u001b[0m\u001b[0mindex\u001b[0m\u001b[0;34m)\u001b[0m\u001b[0;34m:\u001b[0m\u001b[0;34m\u001b[0m\u001b[0;34m\u001b[0m\u001b[0m\n\u001b[1;32m    531\u001b[0m         raise ValueError(\n\u001b[0;32m--> 532\u001b[0;31m             \u001b[0;34m\"Length of values \"\u001b[0m\u001b[0;34m\u001b[0m\u001b[0;34m\u001b[0m\u001b[0m\n\u001b[0m\u001b[1;32m    533\u001b[0m             \u001b[0;34mf\"({len(data)}) \"\u001b[0m\u001b[0;34m\u001b[0m\u001b[0;34m\u001b[0m\u001b[0m\n\u001b[1;32m    534\u001b[0m             \u001b[0;34m\"does not match length of index \"\u001b[0m\u001b[0;34m\u001b[0m\u001b[0;34m\u001b[0m\u001b[0m\n",
      "\u001b[0;31mValueError\u001b[0m: Length of values (1071) does not match length of index (1139)"
     ]
    }
   ],
   "source": [
    "df_plot = df[-len(X_test):]\n",
    "df_plot['predictions'] = predictions_round\n",
    "\n",
    "plt.style.use('seaborn-whitegrid')\n",
    "plt.figure(figsize=(30,8))\n",
    "\n",
    "df_plot['price_close'].plot()\n",
    "\n",
    "for i in range(len(df_plot)):\n",
    "    if y_pred[i] == 1:\n",
    "        plt.annotate('>', (i, df_plot.iloc[i]['price_close']), xytext=(-10, 0), textcoords='offset points', fontsize=14, fontweight='bold')"
   ]
  },
  {
   "cell_type": "markdown",
   "metadata": {},
   "source": [
    "___"
   ]
  },
  {
   "cell_type": "code",
   "execution_count": 109,
   "metadata": {
    "execution": {
     "iopub.execute_input": "2021-09-22T02:17:40.265897Z",
     "iopub.status.busy": "2021-09-22T02:17:40.265631Z",
     "iopub.status.idle": "2021-09-22T02:17:40.271836Z",
     "shell.execute_reply": "2021-09-22T02:17:40.270835Z",
     "shell.execute_reply.started": "2021-09-22T02:17:40.265866Z"
    }
   },
   "outputs": [
    {
     "data": {
      "text/plain": [
       "array([[1.],\n",
       "       [1.],\n",
       "       [1.],\n",
       "       ...,\n",
       "       [1.],\n",
       "       [1.],\n",
       "       [1.]])"
      ]
     },
     "execution_count": 109,
     "metadata": {},
     "output_type": "execute_result"
    }
   ],
   "source": [
    "y_train[np.where(y_train == 1)[0]]"
   ]
  },
  {
   "cell_type": "code",
   "execution_count": 110,
   "metadata": {
    "execution": {
     "iopub.execute_input": "2021-09-22T02:17:40.932060Z",
     "iopub.status.busy": "2021-09-22T02:17:40.931796Z",
     "iopub.status.idle": "2021-09-22T02:17:40.937793Z",
     "shell.execute_reply": "2021-09-22T02:17:40.936985Z",
     "shell.execute_reply.started": "2021-09-22T02:17:40.932029Z"
    }
   },
   "outputs": [
    {
     "data": {
      "text/plain": [
       "(1149, 10, 1)"
      ]
     },
     "execution_count": 110,
     "metadata": {},
     "output_type": "execute_result"
    }
   ],
   "source": [
    "X_train[np.where(y_train == 1)[0]].shape"
   ]
  },
  {
   "cell_type": "code",
   "execution_count": 111,
   "metadata": {
    "execution": {
     "iopub.execute_input": "2021-09-22T02:17:41.279646Z",
     "iopub.status.busy": "2021-09-22T02:17:41.279399Z",
     "iopub.status.idle": "2021-09-22T02:17:41.284629Z",
     "shell.execute_reply": "2021-09-22T02:17:41.284089Z",
     "shell.execute_reply.started": "2021-09-22T02:17:41.279618Z"
    }
   },
   "outputs": [
    {
     "data": {
      "text/plain": [
       "array([   0,    1,    2, ..., 1399, 1400, 1401])"
      ]
     },
     "execution_count": 111,
     "metadata": {},
     "output_type": "execute_result"
    }
   ],
   "source": [
    "np.where(y_train == 0)[0][:1002]"
   ]
  },
  {
   "cell_type": "code",
   "execution_count": 112,
   "metadata": {
    "execution": {
     "iopub.execute_input": "2021-09-22T02:17:41.696437Z",
     "iopub.status.busy": "2021-09-22T02:17:41.696170Z",
     "iopub.status.idle": "2021-09-22T02:17:41.702066Z",
     "shell.execute_reply": "2021-09-22T02:17:41.701258Z",
     "shell.execute_reply.started": "2021-09-22T02:17:41.696406Z"
    }
   },
   "outputs": [
    {
     "data": {
      "text/plain": [
       "(1149, 10, 1)"
      ]
     },
     "execution_count": 112,
     "metadata": {},
     "output_type": "execute_result"
    }
   ],
   "source": [
    "X_train[np.where(y_train == 1)[0]].shape"
   ]
  },
  {
   "cell_type": "code",
   "execution_count": 113,
   "metadata": {
    "execution": {
     "iopub.execute_input": "2021-09-22T02:17:42.112166Z",
     "iopub.status.busy": "2021-09-22T02:17:42.111913Z",
     "iopub.status.idle": "2021-09-22T02:17:42.117680Z",
     "shell.execute_reply": "2021-09-22T02:17:42.116813Z",
     "shell.execute_reply.started": "2021-09-22T02:17:42.112136Z"
    }
   },
   "outputs": [
    {
     "data": {
      "text/plain": [
       "(1002, 10, 1)"
      ]
     },
     "execution_count": 113,
     "metadata": {},
     "output_type": "execute_result"
    }
   ],
   "source": [
    "X_train[np.where(y_train == 0)[0][:1002]].shape"
   ]
  },
  {
   "cell_type": "code",
   "execution_count": 93,
   "metadata": {
    "execution": {
     "iopub.execute_input": "2021-09-22T02:12:14.928752Z",
     "iopub.status.busy": "2021-09-22T02:12:14.928494Z",
     "iopub.status.idle": "2021-09-22T02:12:14.934253Z",
     "shell.execute_reply": "2021-09-22T02:12:14.933605Z",
     "shell.execute_reply.started": "2021-09-22T02:12:14.928724Z"
    }
   },
   "outputs": [],
   "source": [
    "X_train_balanced = np.concatenate((X_train[np.where(y_train == 1)[0]], X_train[np.where(y_train == 0)[0][:2000]]))\n",
    "y_train_balanced = np.concatenate((y_train[np.where(y_train == 1)[0]], y_train[np.where(y_train == 0)[0][:2000]]))"
   ]
  },
  {
   "cell_type": "code",
   "execution_count": 94,
   "metadata": {
    "execution": {
     "iopub.execute_input": "2021-09-22T02:12:15.637003Z",
     "iopub.status.busy": "2021-09-22T02:12:15.636751Z",
     "iopub.status.idle": "2021-09-22T02:12:19.202689Z",
     "shell.execute_reply": "2021-09-22T02:12:19.201969Z",
     "shell.execute_reply.started": "2021-09-22T02:12:15.636973Z"
    }
   },
   "outputs": [
    {
     "name": "stdout",
     "output_type": "stream",
     "text": [
      "Epoch 1/3\n",
      "99/99 [==============================] - 2s 12ms/step - loss: 1.2596 - accuracy: 0.6304 - val_loss: 0.6012 - val_accuracy: 0.7182\n",
      "Epoch 2/3\n",
      "99/99 [==============================] - 0s 4ms/step - loss: 0.7330 - accuracy: 0.5583 - val_loss: 0.6316 - val_accuracy: 0.7182\n",
      "Epoch 3/3\n",
      "99/99 [==============================] - 0s 4ms/step - loss: 0.6867 - accuracy: 0.6351 - val_loss: 0.6208 - val_accuracy: 0.7182\n",
      "Model: \"sequential_17\"\n",
      "_________________________________________________________________\n",
      "Layer (type)                 Output Shape              Param #   \n",
      "=================================================================\n",
      "lstm_18 (LSTM)               (None, 100)               40800     \n",
      "_________________________________________________________________\n",
      "dropout_2 (Dropout)          (None, 100)               0         \n",
      "_________________________________________________________________\n",
      "dense_17 (Dense)             (None, 1)                 101       \n",
      "=================================================================\n",
      "Total params: 40,901\n",
      "Trainable params: 40,901\n",
      "Non-trainable params: 0\n",
      "_________________________________________________________________\n"
     ]
    },
    {
     "data": {
      "image/png": "[encoded data removed]",
      "text/plain": [
       "<Figure size 1440x288 with 1 Axes>"
      ]
     },
     "metadata": {},
     "output_type": "display_data"
    }
   ],
   "source": [
    "# Complie model:\n",
    "model = Sequential()\n",
    "model.add(LSTM(100, activation='tanh'))\n",
    "model.add(Dropout(0.2))\n",
    "model.add(Dense(1, activation='sigmoid'))\n",
    "model.compile(loss=loss, optimizer=optimizer, metrics=['accuracy']) \n",
    "results = model.fit(X_train_balanced, y_train_balanced, epochs=epochs, validation_data=(X_test, y_test), verbose=1, shuffle=False)\n",
    "model.summary() \n",
    "\n",
    "plt.figure(figsize=(20,4))\n",
    "plt.plot(results.history['loss'])\n",
    "plt.show()"
   ]
  },
  {
   "cell_type": "code",
   "execution_count": 95,
   "metadata": {
    "execution": {
     "iopub.execute_input": "2021-09-22T02:12:19.204347Z",
     "iopub.status.busy": "2021-09-22T02:12:19.204156Z",
     "iopub.status.idle": "2021-09-22T02:12:19.529679Z",
     "shell.execute_reply": "2021-09-22T02:12:19.528975Z",
     "shell.execute_reply.started": "2021-09-22T02:12:19.204328Z"
    }
   },
   "outputs": [
    {
     "data": {
      "text/plain": [
       "0    1071\n",
       "dtype: int64"
      ]
     },
     "execution_count": 95,
     "metadata": {},
     "output_type": "execute_result"
    }
   ],
   "source": [
    "predictionsn = model.predict(X_test)\n",
    "predictions_round = [1 if x > 0.5 else 0 for x in predictions]\n",
    "pd.Series(predictions_round).value_counts()"
   ]
  },
  {
   "cell_type": "markdown",
   "metadata": {},
   "source": [
    "___"
   ]
  },
  {
   "cell_type": "code",
   "execution_count": 102,
   "metadata": {
    "execution": {
     "iopub.execute_input": "2021-09-22T02:14:04.713500Z",
     "iopub.status.busy": "2021-09-22T02:14:04.713255Z",
     "iopub.status.idle": "2021-09-22T02:14:09.493435Z",
     "shell.execute_reply": "2021-09-22T02:14:09.492776Z",
     "shell.execute_reply.started": "2021-09-22T02:14:04.713472Z"
    }
   },
   "outputs": [],
   "source": [
    "train, test = tensorflow.keras.datasets.imdb.load_data()"
   ]
  },
  {
   "cell_type": "code",
   "execution_count": 104,
   "metadata": {
    "execution": {
     "iopub.execute_input": "2021-09-22T02:15:51.675776Z",
     "iopub.status.busy": "2021-09-22T02:15:51.675466Z",
     "iopub.status.idle": "2021-09-22T02:15:51.720409Z",
     "shell.execute_reply": "2021-09-22T02:15:51.719312Z",
     "shell.execute_reply.started": "2021-09-22T02:15:51.675745Z"
    }
   },
   "outputs": [
    {
     "ename": "ValueError",
     "evalue": "Unknown activation function: adam. Please ensure this object is passed to the `custom_objects` argument. See https://www.tensorflow.org/guide/keras/save_and_serialize#registering_the_custom_object for details.",
     "output_type": "error",
     "traceback": [
      "\u001b[0;31m---------------------------------------------------------------------------\u001b[0m",
      "\u001b[0;31mValueError\u001b[0m                                Traceback (most recent call last)",
      "\u001b[0;32m<ipython-input-104-d1e622894575>\u001b[0m in \u001b[0;36m<module>\u001b[0;34m\u001b[0m\n\u001b[1;32m      1\u001b[0m \u001b[0;31m# Complie model:\u001b[0m\u001b[0;34m\u001b[0m\u001b[0;34m\u001b[0m\u001b[0;34m\u001b[0m\u001b[0m\n\u001b[1;32m      2\u001b[0m \u001b[0mmodel\u001b[0m \u001b[0;34m=\u001b[0m \u001b[0mSequential\u001b[0m\u001b[0;34m(\u001b[0m\u001b[0;34m)\u001b[0m\u001b[0;34m\u001b[0m\u001b[0;34m\u001b[0m\u001b[0m\n\u001b[0;32m----> 3\u001b[0;31m \u001b[0mmodel\u001b[0m\u001b[0;34m.\u001b[0m\u001b[0madd\u001b[0m\u001b[0;34m(\u001b[0m\u001b[0mLSTM\u001b[0m\u001b[0;34m(\u001b[0m\u001b[0;36m100\u001b[0m\u001b[0;34m,\u001b[0m \u001b[0mactivation\u001b[0m\u001b[0;34m=\u001b[0m\u001b[0;34m'adam'\u001b[0m\u001b[0;34m)\u001b[0m\u001b[0;34m)\u001b[0m\u001b[0;34m\u001b[0m\u001b[0;34m\u001b[0m\u001b[0m\n\u001b[0m\u001b[1;32m      4\u001b[0m \u001b[0mmodel\u001b[0m\u001b[0;34m.\u001b[0m\u001b[0madd\u001b[0m\u001b[0;34m(\u001b[0m\u001b[0mDropout\u001b[0m\u001b[0;34m(\u001b[0m\u001b[0;36m0.2\u001b[0m\u001b[0;34m)\u001b[0m\u001b[0;34m)\u001b[0m\u001b[0;34m\u001b[0m\u001b[0;34m\u001b[0m\u001b[0m\n\u001b[1;32m      5\u001b[0m \u001b[0mmodel\u001b[0m\u001b[0;34m.\u001b[0m\u001b[0madd\u001b[0m\u001b[0;34m(\u001b[0m\u001b[0mDense\u001b[0m\u001b[0;34m(\u001b[0m\u001b[0;36m1\u001b[0m\u001b[0;34m,\u001b[0m \u001b[0mactivation\u001b[0m\u001b[0;34m=\u001b[0m\u001b[0;34m'sigmoid'\u001b[0m\u001b[0;34m)\u001b[0m\u001b[0;34m)\u001b[0m\u001b[0;34m\u001b[0m\u001b[0;34m\u001b[0m\u001b[0m\n",
      "\u001b[0;32m~/miniconda3/envs/personal/lib/python3.7/site-packages/tensorflow/python/keras/layers/recurrent_v2.py\u001b[0m in \u001b[0;36m__init__\u001b[0;34m(self, units, activation, recurrent_activation, use_bias, kernel_initializer, recurrent_initializer, bias_initializer, unit_forget_bias, kernel_regularizer, recurrent_regularizer, bias_regularizer, activity_regularizer, kernel_constraint, recurrent_constraint, bias_constraint, dropout, recurrent_dropout, return_sequences, return_state, go_backwards, stateful, time_major, unroll, **kwargs)\u001b[0m\n\u001b[1;32m   1122\u001b[0m         \u001b[0mtime_major\u001b[0m\u001b[0;34m=\u001b[0m\u001b[0mtime_major\u001b[0m\u001b[0;34m,\u001b[0m\u001b[0;34m\u001b[0m\u001b[0;34m\u001b[0m\u001b[0m\n\u001b[1;32m   1123\u001b[0m         \u001b[0munroll\u001b[0m\u001b[0;34m=\u001b[0m\u001b[0munroll\u001b[0m\u001b[0;34m,\u001b[0m\u001b[0;34m\u001b[0m\u001b[0;34m\u001b[0m\u001b[0m\n\u001b[0;32m-> 1124\u001b[0;31m         **kwargs)\n\u001b[0m\u001b[1;32m   1125\u001b[0m \u001b[0;34m\u001b[0m\u001b[0m\n\u001b[1;32m   1126\u001b[0m     self.state_spec = [\n",
      "\u001b[0;32m~/miniconda3/envs/personal/lib/python3.7/site-packages/tensorflow/python/keras/layers/recurrent.py\u001b[0m in \u001b[0;36m__init__\u001b[0;34m(self, *args, **kwargs)\u001b[0m\n\u001b[1;32m   1111\u001b[0m   \u001b[0;32mdef\u001b[0m \u001b[0m__init__\u001b[0m\u001b[0;34m(\u001b[0m\u001b[0mself\u001b[0m\u001b[0;34m,\u001b[0m \u001b[0;34m*\u001b[0m\u001b[0margs\u001b[0m\u001b[0;34m,\u001b[0m \u001b[0;34m**\u001b[0m\u001b[0mkwargs\u001b[0m\u001b[0;34m)\u001b[0m\u001b[0;34m:\u001b[0m\u001b[0;34m\u001b[0m\u001b[0;34m\u001b[0m\u001b[0m\n\u001b[1;32m   1112\u001b[0m     \u001b[0mself\u001b[0m\u001b[0;34m.\u001b[0m\u001b[0m_create_non_trackable_mask_cache\u001b[0m\u001b[0;34m(\u001b[0m\u001b[0;34m)\u001b[0m\u001b[0;34m\u001b[0m\u001b[0;34m\u001b[0m\u001b[0m\n\u001b[0;32m-> 1113\u001b[0;31m     \u001b[0msuper\u001b[0m\u001b[0;34m(\u001b[0m\u001b[0mDropoutRNNCellMixin\u001b[0m\u001b[0;34m,\u001b[0m \u001b[0mself\u001b[0m\u001b[0;34m)\u001b[0m\u001b[0;34m.\u001b[0m\u001b[0m__init__\u001b[0m\u001b[0;34m(\u001b[0m\u001b[0;34m*\u001b[0m\u001b[0margs\u001b[0m\u001b[0;34m,\u001b[0m \u001b[0;34m**\u001b[0m\u001b[0mkwargs\u001b[0m\u001b[0;34m)\u001b[0m\u001b[0;34m\u001b[0m\u001b[0;34m\u001b[0m\u001b[0m\n\u001b[0m\u001b[1;32m   1114\u001b[0m \u001b[0;34m\u001b[0m\u001b[0m\n\u001b[1;32m   1115\u001b[0m   \u001b[0;34m@\u001b[0m\u001b[0mtrackable\u001b[0m\u001b[0;34m.\u001b[0m\u001b[0mno_automatic_dependency_tracking\u001b[0m\u001b[0;34m\u001b[0m\u001b[0;34m\u001b[0m\u001b[0m\n",
      "\u001b[0;32m~/miniconda3/envs/personal/lib/python3.7/site-packages/tensorflow/python/keras/layers/recurrent.py\u001b[0m in \u001b[0;36m__init__\u001b[0;34m(self, units, activation, recurrent_activation, use_bias, kernel_initializer, recurrent_initializer, bias_initializer, unit_forget_bias, kernel_regularizer, recurrent_regularizer, bias_regularizer, activity_regularizer, kernel_constraint, recurrent_constraint, bias_constraint, dropout, recurrent_dropout, return_sequences, return_state, go_backwards, stateful, unroll, **kwargs)\u001b[0m\n\u001b[1;32m   2778\u001b[0m         \u001b[0mdtype\u001b[0m\u001b[0;34m=\u001b[0m\u001b[0mkwargs\u001b[0m\u001b[0;34m.\u001b[0m\u001b[0mget\u001b[0m\u001b[0;34m(\u001b[0m\u001b[0;34m'dtype'\u001b[0m\u001b[0;34m)\u001b[0m\u001b[0;34m,\u001b[0m\u001b[0;34m\u001b[0m\u001b[0;34m\u001b[0m\u001b[0m\n\u001b[1;32m   2779\u001b[0m         \u001b[0mtrainable\u001b[0m\u001b[0;34m=\u001b[0m\u001b[0mkwargs\u001b[0m\u001b[0;34m.\u001b[0m\u001b[0mget\u001b[0m\u001b[0;34m(\u001b[0m\u001b[0;34m'trainable'\u001b[0m\u001b[0;34m,\u001b[0m \u001b[0;32mTrue\u001b[0m\u001b[0;34m)\u001b[0m\u001b[0;34m,\u001b[0m\u001b[0;34m\u001b[0m\u001b[0;34m\u001b[0m\u001b[0m\n\u001b[0;32m-> 2780\u001b[0;31m         **cell_kwargs)\n\u001b[0m\u001b[1;32m   2781\u001b[0m     super(LSTM, self).__init__(\n\u001b[1;32m   2782\u001b[0m         \u001b[0mcell\u001b[0m\u001b[0;34m,\u001b[0m\u001b[0;34m\u001b[0m\u001b[0;34m\u001b[0m\u001b[0m\n",
      "\u001b[0;32m~/miniconda3/envs/personal/lib/python3.7/site-packages/tensorflow/python/keras/layers/recurrent.py\u001b[0m in \u001b[0;36m__init__\u001b[0;34m(self, units, activation, recurrent_activation, use_bias, kernel_initializer, recurrent_initializer, bias_initializer, unit_forget_bias, kernel_regularizer, recurrent_regularizer, bias_regularizer, kernel_constraint, recurrent_constraint, bias_constraint, dropout, recurrent_dropout, **kwargs)\u001b[0m\n\u001b[1;32m   2320\u001b[0m     \u001b[0msuper\u001b[0m\u001b[0;34m(\u001b[0m\u001b[0mLSTMCell\u001b[0m\u001b[0;34m,\u001b[0m \u001b[0mself\u001b[0m\u001b[0;34m)\u001b[0m\u001b[0;34m.\u001b[0m\u001b[0m__init__\u001b[0m\u001b[0;34m(\u001b[0m\u001b[0;34m**\u001b[0m\u001b[0mkwargs\u001b[0m\u001b[0;34m)\u001b[0m\u001b[0;34m\u001b[0m\u001b[0;34m\u001b[0m\u001b[0m\n\u001b[1;32m   2321\u001b[0m     \u001b[0mself\u001b[0m\u001b[0;34m.\u001b[0m\u001b[0munits\u001b[0m \u001b[0;34m=\u001b[0m \u001b[0munits\u001b[0m\u001b[0;34m\u001b[0m\u001b[0;34m\u001b[0m\u001b[0m\n\u001b[0;32m-> 2322\u001b[0;31m     \u001b[0mself\u001b[0m\u001b[0;34m.\u001b[0m\u001b[0mactivation\u001b[0m \u001b[0;34m=\u001b[0m \u001b[0mactivations\u001b[0m\u001b[0;34m.\u001b[0m\u001b[0mget\u001b[0m\u001b[0;34m(\u001b[0m\u001b[0mactivation\u001b[0m\u001b[0;34m)\u001b[0m\u001b[0;34m\u001b[0m\u001b[0;34m\u001b[0m\u001b[0m\n\u001b[0m\u001b[1;32m   2323\u001b[0m     \u001b[0mself\u001b[0m\u001b[0;34m.\u001b[0m\u001b[0mrecurrent_activation\u001b[0m \u001b[0;34m=\u001b[0m \u001b[0mactivations\u001b[0m\u001b[0;34m.\u001b[0m\u001b[0mget\u001b[0m\u001b[0;34m(\u001b[0m\u001b[0mrecurrent_activation\u001b[0m\u001b[0;34m)\u001b[0m\u001b[0;34m\u001b[0m\u001b[0;34m\u001b[0m\u001b[0m\n\u001b[1;32m   2324\u001b[0m     \u001b[0mself\u001b[0m\u001b[0;34m.\u001b[0m\u001b[0muse_bias\u001b[0m \u001b[0;34m=\u001b[0m \u001b[0muse_bias\u001b[0m\u001b[0;34m\u001b[0m\u001b[0;34m\u001b[0m\u001b[0m\n",
      "\u001b[0;32m~/miniconda3/envs/personal/lib/python3.7/site-packages/tensorflow/python/util/dispatch.py\u001b[0m in \u001b[0;36mwrapper\u001b[0;34m(*args, **kwargs)\u001b[0m\n\u001b[1;32m    204\u001b[0m     \u001b[0;34m\"\"\"Call target, and fall back on dispatchers if there is a TypeError.\"\"\"\u001b[0m\u001b[0;34m\u001b[0m\u001b[0;34m\u001b[0m\u001b[0m\n\u001b[1;32m    205\u001b[0m     \u001b[0;32mtry\u001b[0m\u001b[0;34m:\u001b[0m\u001b[0;34m\u001b[0m\u001b[0;34m\u001b[0m\u001b[0m\n\u001b[0;32m--> 206\u001b[0;31m       \u001b[0;32mreturn\u001b[0m \u001b[0mtarget\u001b[0m\u001b[0;34m(\u001b[0m\u001b[0;34m*\u001b[0m\u001b[0margs\u001b[0m\u001b[0;34m,\u001b[0m \u001b[0;34m**\u001b[0m\u001b[0mkwargs\u001b[0m\u001b[0;34m)\u001b[0m\u001b[0;34m\u001b[0m\u001b[0;34m\u001b[0m\u001b[0m\n\u001b[0m\u001b[1;32m    207\u001b[0m     \u001b[0;32mexcept\u001b[0m \u001b[0;34m(\u001b[0m\u001b[0mTypeError\u001b[0m\u001b[0;34m,\u001b[0m \u001b[0mValueError\u001b[0m\u001b[0;34m)\u001b[0m\u001b[0;34m:\u001b[0m\u001b[0;34m\u001b[0m\u001b[0;34m\u001b[0m\u001b[0m\n\u001b[1;32m    208\u001b[0m       \u001b[0;31m# Note: convert_to_eager_tensor currently raises a ValueError, not a\u001b[0m\u001b[0;34m\u001b[0m\u001b[0;34m\u001b[0m\u001b[0;34m\u001b[0m\u001b[0m\n",
      "\u001b[0;32m~/miniconda3/envs/personal/lib/python3.7/site-packages/tensorflow/python/keras/activations.py\u001b[0m in \u001b[0;36mget\u001b[0;34m(identifier)\u001b[0m\n\u001b[1;32m    585\u001b[0m   \u001b[0;32mif\u001b[0m \u001b[0misinstance\u001b[0m\u001b[0;34m(\u001b[0m\u001b[0midentifier\u001b[0m\u001b[0;34m,\u001b[0m \u001b[0mstr\u001b[0m\u001b[0;34m)\u001b[0m\u001b[0;34m:\u001b[0m\u001b[0;34m\u001b[0m\u001b[0;34m\u001b[0m\u001b[0m\n\u001b[1;32m    586\u001b[0m     \u001b[0midentifier\u001b[0m \u001b[0;34m=\u001b[0m \u001b[0mstr\u001b[0m\u001b[0;34m(\u001b[0m\u001b[0midentifier\u001b[0m\u001b[0;34m)\u001b[0m\u001b[0;34m\u001b[0m\u001b[0;34m\u001b[0m\u001b[0m\n\u001b[0;32m--> 587\u001b[0;31m     \u001b[0;32mreturn\u001b[0m \u001b[0mdeserialize\u001b[0m\u001b[0;34m(\u001b[0m\u001b[0midentifier\u001b[0m\u001b[0;34m)\u001b[0m\u001b[0;34m\u001b[0m\u001b[0;34m\u001b[0m\u001b[0m\n\u001b[0m\u001b[1;32m    588\u001b[0m   \u001b[0;32melif\u001b[0m \u001b[0misinstance\u001b[0m\u001b[0;34m(\u001b[0m\u001b[0midentifier\u001b[0m\u001b[0;34m,\u001b[0m \u001b[0mdict\u001b[0m\u001b[0;34m)\u001b[0m\u001b[0;34m:\u001b[0m\u001b[0;34m\u001b[0m\u001b[0;34m\u001b[0m\u001b[0m\n\u001b[1;32m    589\u001b[0m     \u001b[0;32mreturn\u001b[0m \u001b[0mdeserialize\u001b[0m\u001b[0;34m(\u001b[0m\u001b[0midentifier\u001b[0m\u001b[0;34m)\u001b[0m\u001b[0;34m\u001b[0m\u001b[0;34m\u001b[0m\u001b[0m\n",
      "\u001b[0;32m~/miniconda3/envs/personal/lib/python3.7/site-packages/tensorflow/python/util/dispatch.py\u001b[0m in \u001b[0;36mwrapper\u001b[0;34m(*args, **kwargs)\u001b[0m\n\u001b[1;32m    204\u001b[0m     \u001b[0;34m\"\"\"Call target, and fall back on dispatchers if there is a TypeError.\"\"\"\u001b[0m\u001b[0;34m\u001b[0m\u001b[0;34m\u001b[0m\u001b[0m\n\u001b[1;32m    205\u001b[0m     \u001b[0;32mtry\u001b[0m\u001b[0;34m:\u001b[0m\u001b[0;34m\u001b[0m\u001b[0;34m\u001b[0m\u001b[0m\n\u001b[0;32m--> 206\u001b[0;31m       \u001b[0;32mreturn\u001b[0m \u001b[0mtarget\u001b[0m\u001b[0;34m(\u001b[0m\u001b[0;34m*\u001b[0m\u001b[0margs\u001b[0m\u001b[0;34m,\u001b[0m \u001b[0;34m**\u001b[0m\u001b[0mkwargs\u001b[0m\u001b[0;34m)\u001b[0m\u001b[0;34m\u001b[0m\u001b[0;34m\u001b[0m\u001b[0m\n\u001b[0m\u001b[1;32m    207\u001b[0m     \u001b[0;32mexcept\u001b[0m \u001b[0;34m(\u001b[0m\u001b[0mTypeError\u001b[0m\u001b[0;34m,\u001b[0m \u001b[0mValueError\u001b[0m\u001b[0;34m)\u001b[0m\u001b[0;34m:\u001b[0m\u001b[0;34m\u001b[0m\u001b[0;34m\u001b[0m\u001b[0m\n\u001b[1;32m    208\u001b[0m       \u001b[0;31m# Note: convert_to_eager_tensor currently raises a ValueError, not a\u001b[0m\u001b[0;34m\u001b[0m\u001b[0;34m\u001b[0m\u001b[0;34m\u001b[0m\u001b[0m\n",
      "\u001b[0;32m~/miniconda3/envs/personal/lib/python3.7/site-packages/tensorflow/python/keras/activations.py\u001b[0m in \u001b[0;36mdeserialize\u001b[0;34m(name, custom_objects)\u001b[0m\n\u001b[1;32m    548\u001b[0m       \u001b[0mmodule_objects\u001b[0m\u001b[0;34m=\u001b[0m\u001b[0mglobs\u001b[0m\u001b[0;34m,\u001b[0m\u001b[0;34m\u001b[0m\u001b[0;34m\u001b[0m\u001b[0m\n\u001b[1;32m    549\u001b[0m       \u001b[0mcustom_objects\u001b[0m\u001b[0;34m=\u001b[0m\u001b[0mcustom_objects\u001b[0m\u001b[0;34m,\u001b[0m\u001b[0;34m\u001b[0m\u001b[0;34m\u001b[0m\u001b[0m\n\u001b[0;32m--> 550\u001b[0;31m       printable_module_name='activation function')\n\u001b[0m\u001b[1;32m    551\u001b[0m \u001b[0;34m\u001b[0m\u001b[0m\n\u001b[1;32m    552\u001b[0m \u001b[0;34m\u001b[0m\u001b[0m\n",
      "\u001b[0;32m~/miniconda3/envs/personal/lib/python3.7/site-packages/tensorflow/python/keras/utils/generic_utils.py\u001b[0m in \u001b[0;36mdeserialize_keras_object\u001b[0;34m(identifier, module_objects, custom_objects, printable_module_name)\u001b[0m\n\u001b[1;32m    701\u001b[0m             \u001b[0;34m'https://www.tensorflow.org/guide/keras/save_and_serialize'\u001b[0m\u001b[0;34m\u001b[0m\u001b[0;34m\u001b[0m\u001b[0m\n\u001b[1;32m    702\u001b[0m             \u001b[0;34m'#registering_the_custom_object for details.'\u001b[0m\u001b[0;34m\u001b[0m\u001b[0;34m\u001b[0m\u001b[0m\n\u001b[0;32m--> 703\u001b[0;31m             .format(printable_module_name, object_name))\n\u001b[0m\u001b[1;32m    704\u001b[0m \u001b[0;34m\u001b[0m\u001b[0m\n\u001b[1;32m    705\u001b[0m     \u001b[0;31m# Classes passed by name are instantiated with no args, functions are\u001b[0m\u001b[0;34m\u001b[0m\u001b[0;34m\u001b[0m\u001b[0;34m\u001b[0m\u001b[0m\n",
      "\u001b[0;31mValueError\u001b[0m: Unknown activation function: adam. Please ensure this object is passed to the `custom_objects` argument. See https://www.tensorflow.org/guide/keras/save_and_serialize#registering_the_custom_object for details."
     ]
    }
   ],
   "source": [
    "# Complie model:\n",
    "model = Sequential()\n",
    "model.add(LSTM(100, activation='binary_crossentropy'))\n",
    "model.add(Dropout(0.2))\n",
    "model.add(Dense(1, activation='sigmoid'))\n",
    "model.compile(loss=loss, optimizer=optimizer, metrics=['accuracy']) \n",
    "results = model.fit(train[0], train[0], epochs=epochs, validation_data=(test[0],test[1]), verbose=1, shuffle=False)\n",
    "model.summary() "
   ]
  },
  {
   "cell_type": "code",
   "execution_count": null,
   "metadata": {},
   "outputs": [],
   "source": []
  }
 ],
 "metadata": {
  "kernelspec": {
   "display_name": "personal",
   "language": "python",
   "name": "personal"
  },
  "language_info": {
   "codemirror_mode": {
    "name": "ipython",
    "version": 3
   },
   "file_extension": ".py",
   "mimetype": "text/x-python",
   "name": "python",
   "nbconvert_exporter": "python",
   "pygments_lexer": "ipython3",
   "version": "3.7.7"
  }
 },
 "nbformat": 4,
 "nbformat_minor": 4
}
