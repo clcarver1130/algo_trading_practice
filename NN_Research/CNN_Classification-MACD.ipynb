{
 "cells": [
  {
   "cell_type": "code",
   "execution_count": 2,
   "metadata": {
    "execution": {
     "iopub.execute_input": "2021-10-02T19:44:31.419876Z",
     "iopub.status.busy": "2021-10-02T19:44:31.419621Z",
     "iopub.status.idle": "2021-10-02T19:44:37.113727Z",
     "shell.execute_reply": "2021-10-02T19:44:37.113174Z",
     "shell.execute_reply.started": "2021-10-02T19:44:31.419847Z"
    }
   },
   "outputs": [],
   "source": [
    "# General libraries:\n",
    "import numpy as np\n",
    "import pandas as pd\n",
    "import datetime\n",
    "import matplotlib.pyplot as plt\n",
    "import seaborn as sns\n",
    "import warnings\n",
    "warnings.filterwarnings('ignore')\n",
    "\n",
    "# Personal libraries:\n",
    "# from robin_helperfunctions import round_to_hour\n",
    "# from robinhoodstrategy import cryptoStrategy, BackcastStrategy, Trade\n",
    "\n",
    "# Deep learning libraries:\n",
    "from sklearn.preprocessing import MinMaxScaler\n",
    "from sklearn.metrics import classification_report, confusion_matrix\n",
    "from tensorflow.keras.models import Sequential\n",
    "from tensorflow.keras.layers import Conv1D, Flatten, MaxPooling1D, Dense, Dropout\n",
    "from tensorflow.keras.optimizers import RMSprop"
   ]
  },
  {
   "cell_type": "code",
   "execution_count": 70,
   "metadata": {
    "execution": {
     "iopub.execute_input": "2021-10-02T20:13:31.041747Z",
     "iopub.status.busy": "2021-10-02T20:13:31.041509Z",
     "iopub.status.idle": "2021-10-02T20:13:31.202963Z",
     "shell.execute_reply": "2021-10-02T20:13:31.202302Z",
     "shell.execute_reply.started": "2021-10-02T20:13:31.041720Z"
    }
   },
   "outputs": [],
   "source": [
    "# Load historical data from file:\n",
    "df = pd.read_csv('eth_historical_4hrs.csv')\n",
    "\n",
    "# Convert timezones and reformat:\n",
    "df['time_period_start'] = pd.to_datetime(df['time_period_start']).dt.tz_convert('US/Central').dt.strftime('%m-%d-%Y %H:%M')\n",
    "\n",
    "# Pull just the value fields:\n",
    "df_modeling = df[['price_close', 'price_open', 'price_high', 'price_low']]\n",
    "\n",
    "# Calculate metrics: \n",
    "df_modeling['26_ema'] = df_modeling['price_close'].ewm(span=26,min_periods=0,adjust=True,ignore_na=False).mean()\n",
    "df_modeling['12_ema'] = df_modeling['price_close'].ewm(span=12,min_periods=0,adjust=True,ignore_na=False).mean()\n",
    "df_modeling['MACD'] = df_modeling['12_ema'] - df_modeling['26_ema']\n",
    "df_modeling = df_modeling.fillna(0)\n",
    "\n",
    "df_modeling['HL'] = df_modeling['price_high'] - df_modeling['price_low']\n",
    "df_modeling['absHC'] = abs(df_modeling['price_high'] - df_modeling['price_close'].shift(1))\n",
    "df_modeling['absLC'] = abs(df_modeling['price_low'] - df_modeling['price_close'].shift(1))\n",
    "df_modeling['TR'] = df_modeling[['HL','absHC','absLC']].max(axis=1)\n",
    "df_modeling['ATR'] = df_modeling['TR'].rolling(window=14).mean()\n",
    "df_modeling['NATR'] = (df_modeling['ATR'] / df_modeling['price_close']) *100\n",
    "df_modeling = df_modeling.fillna(0)\n",
    "\n",
    "def DMI(df, period):\n",
    "    df['UpMove'] = df['price_high'] - df['price_high'].shift(1)\n",
    "    df['DownMove'] = df['price_low'].shift(1) - df['price_low']\n",
    "    df['Zero'] = 0\n",
    "\n",
    "    df['PlusDM'] = np.where((df['UpMove'] > df['DownMove']) & (df['UpMove'] > df['Zero']), df['UpMove'], 0)\n",
    "    df['MinusDM'] = np.where((df['UpMove'] < df['DownMove']) & (df['DownMove'] > df['Zero']), df['DownMove'], 0)\n",
    "\n",
    "    df['plusDI'] = 100 * (df['PlusDM']/df['ATR']).ewm(span=period,min_periods=0,adjust=True,ignore_na=False).mean()\n",
    "    df['minusDI'] = 100 * (df['MinusDM']/df['ATR']).ewm(span=period,min_periods=0,adjust=True,ignore_na=False).mean()\n",
    "\n",
    "    df['ADX'] = 100 * (abs((df['plusDI'] - df['minusDI'])/(df['plusDI'] + df['minusDI']))).ewm(span=period,min_periods=0,adjust=True,ignore_na=False).mean()\n",
    "\n",
    "DMI(df_modeling, 14)\n",
    "df_modeling.fillna(0, inplace=True)\n",
    "\n",
    "df_modeling.head()\n",
    "df = df_modeling"
   ]
  },
  {
   "cell_type": "code",
   "execution_count": 71,
   "metadata": {
    "execution": {
     "iopub.execute_input": "2021-10-02T20:13:34.120629Z",
     "iopub.status.busy": "2021-10-02T20:13:34.120333Z",
     "iopub.status.idle": "2021-10-02T20:13:34.128536Z",
     "shell.execute_reply": "2021-10-02T20:13:34.127593Z",
     "shell.execute_reply.started": "2021-10-02T20:13:34.120581Z"
    }
   },
   "outputs": [],
   "source": [
    "def entry_flag(df, lookforward_num=6, pct_gain=0.05):\n",
    "    \n",
    "    '''If there will be over a x% gain in the next x periods, flag as a 1. Else 0.'''\n",
    "    \n",
    "    df['pctchange'] = df[['price_close']].pct_change(lookforward_num)\n",
    "    \n",
    "    entry_flags = []\n",
    "    for i in range(len(df) - lookforward_num):\n",
    "        if df.iloc[i+lookforward_num]['pctchange'] >= pct_gain:\n",
    "            entry_flags.append(1)\n",
    "        else:\n",
    "            entry_flags.append(0)\n",
    "    # Add in buffer None's\n",
    "    for i in range(lookforward_num):\n",
    "        entry_flags.append(None)\n",
    "    return entry_flags"
   ]
  },
  {
   "cell_type": "code",
   "execution_count": 72,
   "metadata": {
    "execution": {
     "iopub.execute_input": "2021-10-02T20:13:34.570600Z",
     "iopub.status.busy": "2021-10-02T20:13:34.570368Z",
     "iopub.status.idle": "2021-10-02T20:13:35.323429Z",
     "shell.execute_reply": "2021-10-02T20:13:35.322936Z",
     "shell.execute_reply.started": "2021-10-02T20:13:34.570574Z"
    }
   },
   "outputs": [
    {
     "data": {
      "text/plain": [
       "0.0    7201\n",
       "1.0    1206\n",
       "Name: entry_flag, dtype: int64"
      ]
     },
     "execution_count": 72,
     "metadata": {},
     "output_type": "execute_result"
    }
   ],
   "source": [
    "df['entry_flag'] = entry_flag(df)\n",
    "df['entry_flag'].value_counts()"
   ]
  },
  {
   "cell_type": "code",
   "execution_count": 73,
   "metadata": {
    "execution": {
     "iopub.execute_input": "2021-10-02T20:13:35.897013Z",
     "iopub.status.busy": "2021-10-02T20:13:35.896774Z",
     "iopub.status.idle": "2021-10-02T20:13:35.902771Z",
     "shell.execute_reply": "2021-10-02T20:13:35.902053Z",
     "shell.execute_reply.started": "2021-10-02T20:13:35.896985Z"
    }
   },
   "outputs": [],
   "source": [
    "def create_sequence(df, n_input): \n",
    "    \n",
    "    data = np.array(df)\n",
    "    \n",
    "    X = list()\n",
    "    start = n_input\n",
    "    for _ in range(len(data)):\n",
    "        # define the end of the input sequence\n",
    "        end = start + n_input\n",
    "        # ensure we have enough data for this instance \n",
    "        if end <= len(data) - n_input:\n",
    "            X.append(data[start:end, :])\n",
    "        # move along one time step\n",
    "        start += 1\n",
    "    return np.array(X)\n",
    "\n",
    "def create_targets(df, n_input):\n",
    "    return np.array(df['entry_flag'][(n_input-1):-n_input*2].values).reshape(-1,1)"
   ]
  },
  {
   "cell_type": "code",
   "execution_count": 82,
   "metadata": {
    "execution": {
     "iopub.execute_input": "2021-10-02T20:14:18.648140Z",
     "iopub.status.busy": "2021-10-02T20:14:18.647880Z",
     "iopub.status.idle": "2021-10-02T20:14:18.684880Z",
     "shell.execute_reply": "2021-10-02T20:14:18.684296Z",
     "shell.execute_reply.started": "2021-10-02T20:14:18.648112Z"
    }
   },
   "outputs": [],
   "source": [
    "seq_len = 24\n",
    "drop_columns = ['pctchange', 'entry_flag']\n",
    "df_features = df.drop(columns=drop_columns)\n",
    "X = create_sequence(df_features, seq_len)\n",
    "y = create_targets(df, seq_len)"
   ]
  },
  {
   "cell_type": "code",
   "execution_count": 83,
   "metadata": {
    "execution": {
     "iopub.execute_input": "2021-10-02T20:14:19.220540Z",
     "iopub.status.busy": "2021-10-02T20:14:19.220295Z",
     "iopub.status.idle": "2021-10-02T20:14:19.225121Z",
     "shell.execute_reply": "2021-10-02T20:14:19.224403Z",
     "shell.execute_reply.started": "2021-10-02T20:14:19.220512Z"
    }
   },
   "outputs": [],
   "source": [
    "def normalized_df(X):\n",
    "    return np.array([x/x[0]-1 for x in X])\n",
    "\n",
    "def trainTest_split(X, training_size=0.8):\n",
    "    return X[:int(training_size*len(X))], X[int(training_size*len(X)):]"
   ]
  },
  {
   "cell_type": "code",
   "execution_count": 84,
   "metadata": {
    "execution": {
     "iopub.execute_input": "2021-10-02T20:14:20.311702Z",
     "iopub.status.busy": "2021-10-02T20:14:20.311460Z",
     "iopub.status.idle": "2021-10-02T20:14:20.318889Z",
     "shell.execute_reply": "2021-10-02T20:14:20.318122Z",
     "shell.execute_reply.started": "2021-10-02T20:14:20.311674Z"
    }
   },
   "outputs": [
    {
     "name": "stdout",
     "output_type": "stream",
     "text": [
      "(6673, 24, 21) (6673, 1)\n",
      "(1669, 24, 21) (1669, 1)\n"
     ]
    }
   ],
   "source": [
    "# X_norm = normalized_df(X)\n",
    "X_norm = X\n",
    "X_train, X_test = trainTest_split(X_norm)\n",
    "y_train, y_test = trainTest_split(y)\n",
    "print(X_train.shape, y_train.shape)\n",
    "print(X_test.shape, y_test.shape)"
   ]
  },
  {
   "cell_type": "code",
   "execution_count": 85,
   "metadata": {
    "execution": {
     "iopub.execute_input": "2021-10-02T20:14:21.323352Z",
     "iopub.status.busy": "2021-10-02T20:14:21.323130Z",
     "iopub.status.idle": "2021-10-02T20:14:21.327064Z",
     "shell.execute_reply": "2021-10-02T20:14:21.326303Z",
     "shell.execute_reply.started": "2021-10-02T20:14:21.323326Z"
    }
   },
   "outputs": [],
   "source": [
    "n_timesteps, n_features, n_outputs = X_train.shape[1], X_train.shape[2], y_train.shape[1]"
   ]
  },
  {
   "cell_type": "code",
   "execution_count": 86,
   "metadata": {
    "execution": {
     "iopub.execute_input": "2021-10-02T20:14:21.920107Z",
     "iopub.status.busy": "2021-10-02T20:14:21.919856Z",
     "iopub.status.idle": "2021-10-02T20:14:21.959464Z",
     "shell.execute_reply": "2021-10-02T20:14:21.958868Z",
     "shell.execute_reply.started": "2021-10-02T20:14:21.920079Z"
    }
   },
   "outputs": [],
   "source": [
    "# define the CNN model\n",
    "model = Sequential()\n",
    "model.add(Conv1D(64, 3, activation='relu', input_shape=(n_timesteps,n_features))) \n",
    "model.add(MaxPooling1D())\n",
    "model.add(Flatten())\n",
    "model.add(Dense(100, activation='relu'))\n",
    "model.add(Dense(n_outputs, activation='sigmoid')) \n",
    "model.compile(loss='binary_crossentropy', optimizer='adam', metrics=['accuracy'])"
   ]
  },
  {
   "cell_type": "code",
   "execution_count": 87,
   "metadata": {
    "execution": {
     "iopub.execute_input": "2021-10-02T20:14:22.304034Z",
     "iopub.status.busy": "2021-10-02T20:14:22.303818Z",
     "iopub.status.idle": "2021-10-02T20:14:24.717400Z",
     "shell.execute_reply": "2021-10-02T20:14:24.716837Z",
     "shell.execute_reply.started": "2021-10-02T20:14:22.304009Z"
    }
   },
   "outputs": [
    {
     "name": "stdout",
     "output_type": "stream",
     "text": [
      "0.8585979342460632\n"
     ]
    },
    {
     "data": {
      "image/png": "[encoded data removed]",
      "text/plain": [
       "<Figure size 1440x288 with 1 Axes>"
      ]
     },
     "metadata": {
      "needs_background": "light"
     },
     "output_type": "display_data"
    }
   ],
   "source": [
    "verbose, epochs, batch_size = 0, 10, 64\n",
    "results = model.fit(X_train, y_train, epochs=epochs, batch_size=batch_size, verbose=verbose)\n",
    "# evaluate model\n",
    "_, accuracy = model.evaluate(X_test, y_test, batch_size=batch_size, verbose=0)\n",
    "plt.figure(figsize=(20,4))\n",
    "print(accuracy)\n",
    "plt.plot(results.history['loss'])\n",
    "plt.show()"
   ]
  },
  {
   "cell_type": "code",
   "execution_count": 88,
   "metadata": {
    "execution": {
     "iopub.execute_input": "2021-10-02T20:14:24.718973Z",
     "iopub.status.busy": "2021-10-02T20:14:24.718764Z",
     "iopub.status.idle": "2021-10-02T20:14:24.816115Z",
     "shell.execute_reply": "2021-10-02T20:14:24.815527Z",
     "shell.execute_reply.started": "2021-10-02T20:14:24.718923Z"
    }
   },
   "outputs": [
    {
     "data": {
      "text/plain": [
       "0    1250\n",
       "1     419\n",
       "dtype: int64"
      ]
     },
     "execution_count": 88,
     "metadata": {},
     "output_type": "execute_result"
    }
   ],
   "source": [
    "predictions = model.predict(X_test)\n",
    "predictions_round = [1 if x > 0.5 else 0 for x in predictions]\n",
    "pd.Series(predictions_round).value_counts()"
   ]
  },
  {
   "cell_type": "code",
   "execution_count": 89,
   "metadata": {
    "execution": {
     "iopub.execute_input": "2021-10-02T20:14:24.817575Z",
     "iopub.status.busy": "2021-10-02T20:14:24.817426Z",
     "iopub.status.idle": "2021-10-02T20:14:24.826913Z",
     "shell.execute_reply": "2021-10-02T20:14:24.826411Z",
     "shell.execute_reply.started": "2021-10-02T20:14:24.817556Z"
    }
   },
   "outputs": [
    {
     "name": "stdout",
     "output_type": "stream",
     "text": [
      "              precision    recall  f1-score   support\n",
      "\n",
      "         0.0       0.88      0.75      0.81      1457\n",
      "         1.0       0.11      0.22      0.14       192\n",
      "\n",
      "    accuracy                           0.69      1649\n",
      "   macro avg       0.49      0.49      0.48      1649\n",
      "weighted avg       0.79      0.69      0.73      1649\n",
      "\n"
     ]
    }
   ],
   "source": [
    "df_plot = df[-len(X_test):]\n",
    "df_plot['predictions'] = predictions_round\n",
    "print(classification_report(df_plot['entry_flag'][10:-10].values, df_plot['predictions'][10:-10].values))"
   ]
  },
  {
   "cell_type": "code",
   "execution_count": 38,
   "metadata": {
    "execution": {
     "iopub.execute_input": "2021-10-02T19:35:34.881556Z",
     "iopub.status.busy": "2021-10-02T19:35:34.881320Z",
     "iopub.status.idle": "2021-10-02T19:35:34.884669Z",
     "shell.execute_reply": "2021-10-02T19:35:34.884001Z",
     "shell.execute_reply.started": "2021-10-02T19:35:34.881529Z"
    }
   },
   "outputs": [],
   "source": [
    "# df_plot = df[-len(X_test):]\n",
    "# df_plot['predictions'] = predictions_round\n",
    "\n",
    "# plt.style.use('seaborn-whitegrid')\n",
    "# plt.figure(figsize=(30,7))\n",
    "\n",
    "# df_plot['price_close'].plot()\n",
    "\n",
    "# for i in range(len(df_plot)):\n",
    "#     if df_plot.iloc[i, 8] == 1:\n",
    "#         plt.annotate('.', (i, df_plot.iloc[i]['price_close']), fontsize=4)\n",
    "# # plt.tight_layout()\n",
    "# # plt.savefig('result_plot.png')"
   ]
  },
  {
   "cell_type": "code",
   "execution_count": 39,
   "metadata": {
    "execution": {
     "iopub.execute_input": "2021-10-02T19:35:35.183273Z",
     "iopub.status.busy": "2021-10-02T19:35:35.183049Z",
     "iopub.status.idle": "2021-10-02T19:35:35.201845Z",
     "shell.execute_reply": "2021-10-02T19:35:35.201302Z",
     "shell.execute_reply.started": "2021-10-02T19:35:35.183247Z"
    }
   },
   "outputs": [],
   "source": [
    "model.save('4h_6period_cnn.h5')"
   ]
  },
  {
   "cell_type": "code",
   "execution_count": 40,
   "metadata": {
    "execution": {
     "iopub.execute_input": "2021-10-02T19:35:35.526088Z",
     "iopub.status.busy": "2021-10-02T19:35:35.525855Z",
     "iopub.status.idle": "2021-10-02T19:35:35.544412Z",
     "shell.execute_reply": "2021-10-02T19:35:35.543782Z",
     "shell.execute_reply.started": "2021-10-02T19:35:35.526061Z"
    }
   },
   "outputs": [
    {
     "data": {
      "text/html": [
       "<div>\n",
       "<style scoped>\n",
       "    .dataframe tbody tr th:only-of-type {\n",
       "        vertical-align: middle;\n",
       "    }\n",
       "\n",
       "    .dataframe tbody tr th {\n",
       "        vertical-align: top;\n",
       "    }\n",
       "\n",
       "    .dataframe thead th {\n",
       "        text-align: right;\n",
       "    }\n",
       "</style>\n",
       "<table border=\"1\" class=\"dataframe\">\n",
       "  <thead>\n",
       "    <tr style=\"text-align: right;\">\n",
       "      <th></th>\n",
       "      <th>price_close</th>\n",
       "      <th>price_open</th>\n",
       "      <th>price_high</th>\n",
       "      <th>price_low</th>\n",
       "      <th>volume_traded</th>\n",
       "      <th>trades_count</th>\n",
       "      <th>pctchange</th>\n",
       "      <th>entry_flag</th>\n",
       "      <th>predictions</th>\n",
       "    </tr>\n",
       "  </thead>\n",
       "  <tbody>\n",
       "    <tr>\n",
       "      <th>6823</th>\n",
       "      <td>122.73</td>\n",
       "      <td>127.75</td>\n",
       "      <td>128.39</td>\n",
       "      <td>122.32</td>\n",
       "      <td>18837.707748</td>\n",
       "      <td>2454</td>\n",
       "      <td>-0.067685</td>\n",
       "      <td>1.0</td>\n",
       "      <td>0</td>\n",
       "    </tr>\n",
       "    <tr>\n",
       "      <th>6824</th>\n",
       "      <td>121.75</td>\n",
       "      <td>122.64</td>\n",
       "      <td>123.10</td>\n",
       "      <td>119.62</td>\n",
       "      <td>24784.506558</td>\n",
       "      <td>2651</td>\n",
       "      <td>-0.080924</td>\n",
       "      <td>1.0</td>\n",
       "      <td>0</td>\n",
       "    </tr>\n",
       "    <tr>\n",
       "      <th>6825</th>\n",
       "      <td>123.73</td>\n",
       "      <td>121.75</td>\n",
       "      <td>125.44</td>\n",
       "      <td>121.32</td>\n",
       "      <td>13743.108024</td>\n",
       "      <td>1256</td>\n",
       "      <td>-0.061087</td>\n",
       "      <td>1.0</td>\n",
       "      <td>0</td>\n",
       "    </tr>\n",
       "    <tr>\n",
       "      <th>6826</th>\n",
       "      <td>121.69</td>\n",
       "      <td>123.72</td>\n",
       "      <td>124.38</td>\n",
       "      <td>120.74</td>\n",
       "      <td>24605.075843</td>\n",
       "      <td>7289</td>\n",
       "      <td>-0.069648</td>\n",
       "      <td>1.0</td>\n",
       "      <td>0</td>\n",
       "    </tr>\n",
       "    <tr>\n",
       "      <th>6848</th>\n",
       "      <td>127.02</td>\n",
       "      <td>127.03</td>\n",
       "      <td>127.53</td>\n",
       "      <td>127.00</td>\n",
       "      <td>2663.465161</td>\n",
       "      <td>289</td>\n",
       "      <td>-0.009668</td>\n",
       "      <td>1.0</td>\n",
       "      <td>0</td>\n",
       "    </tr>\n",
       "    <tr>\n",
       "      <th>...</th>\n",
       "      <td>...</td>\n",
       "      <td>...</td>\n",
       "      <td>...</td>\n",
       "      <td>...</td>\n",
       "      <td>...</td>\n",
       "      <td>...</td>\n",
       "      <td>...</td>\n",
       "      <td>...</td>\n",
       "      <td>...</td>\n",
       "    </tr>\n",
       "    <tr>\n",
       "      <th>8372</th>\n",
       "      <td>433.98</td>\n",
       "      <td>436.81</td>\n",
       "      <td>438.51</td>\n",
       "      <td>428.66</td>\n",
       "      <td>13476.368398</td>\n",
       "      <td>3166</td>\n",
       "      <td>0.012269</td>\n",
       "      <td>1.0</td>\n",
       "      <td>0</td>\n",
       "    </tr>\n",
       "    <tr>\n",
       "      <th>8373</th>\n",
       "      <td>443.88</td>\n",
       "      <td>434.00</td>\n",
       "      <td>444.41</td>\n",
       "      <td>428.68</td>\n",
       "      <td>14025.545545</td>\n",
       "      <td>3049</td>\n",
       "      <td>0.043834</td>\n",
       "      <td>1.0</td>\n",
       "      <td>0</td>\n",
       "    </tr>\n",
       "    <tr>\n",
       "      <th>8401</th>\n",
       "      <td>323.29</td>\n",
       "      <td>357.08</td>\n",
       "      <td>359.43</td>\n",
       "      <td>311.04</td>\n",
       "      <td>99870.049276</td>\n",
       "      <td>14288</td>\n",
       "      <td>-0.176289</td>\n",
       "      <td>1.0</td>\n",
       "      <td>0</td>\n",
       "    </tr>\n",
       "    <tr>\n",
       "      <th>8402</th>\n",
       "      <td>335.38</td>\n",
       "      <td>323.43</td>\n",
       "      <td>337.55</td>\n",
       "      <td>314.83</td>\n",
       "      <td>36026.491585</td>\n",
       "      <td>5561</td>\n",
       "      <td>-0.130735</td>\n",
       "      <td>1.0</td>\n",
       "      <td>0</td>\n",
       "    </tr>\n",
       "    <tr>\n",
       "      <th>8403</th>\n",
       "      <td>328.46</td>\n",
       "      <td>334.88</td>\n",
       "      <td>343.68</td>\n",
       "      <td>322.59</td>\n",
       "      <td>19048.942878</td>\n",
       "      <td>3498</td>\n",
       "      <td>-0.153083</td>\n",
       "      <td>1.0</td>\n",
       "      <td>0</td>\n",
       "    </tr>\n",
       "  </tbody>\n",
       "</table>\n",
       "<p>266 rows × 9 columns</p>\n",
       "</div>"
      ],
      "text/plain": [
       "      price_close  price_open  price_high  price_low  volume_traded  \\\n",
       "6823       122.73      127.75      128.39     122.32   18837.707748   \n",
       "6824       121.75      122.64      123.10     119.62   24784.506558   \n",
       "6825       123.73      121.75      125.44     121.32   13743.108024   \n",
       "6826       121.69      123.72      124.38     120.74   24605.075843   \n",
       "6848       127.02      127.03      127.53     127.00    2663.465161   \n",
       "...           ...         ...         ...        ...            ...   \n",
       "8372       433.98      436.81      438.51     428.66   13476.368398   \n",
       "8373       443.88      434.00      444.41     428.68   14025.545545   \n",
       "8401       323.29      357.08      359.43     311.04   99870.049276   \n",
       "8402       335.38      323.43      337.55     314.83   36026.491585   \n",
       "8403       328.46      334.88      343.68     322.59   19048.942878   \n",
       "\n",
       "      trades_count  pctchange  entry_flag  predictions  \n",
       "6823          2454  -0.067685         1.0            0  \n",
       "6824          2651  -0.080924         1.0            0  \n",
       "6825          1256  -0.061087         1.0            0  \n",
       "6826          7289  -0.069648         1.0            0  \n",
       "6848           289  -0.009668         1.0            0  \n",
       "...            ...        ...         ...          ...  \n",
       "8372          3166   0.012269         1.0            0  \n",
       "8373          3049   0.043834         1.0            0  \n",
       "8401         14288  -0.176289         1.0            0  \n",
       "8402          5561  -0.130735         1.0            0  \n",
       "8403          3498  -0.153083         1.0            0  \n",
       "\n",
       "[266 rows x 9 columns]"
      ]
     },
     "execution_count": 40,
     "metadata": {},
     "output_type": "execute_result"
    }
   ],
   "source": [
    "# df_plot[df_plot['entry_flag']==1]"
   ]
  },
  {
   "cell_type": "markdown",
   "metadata": {},
   "source": [
    "___"
   ]
  }
 ],
 "metadata": {
  "kernelspec": {
   "display_name": "personal",
   "language": "python",
   "name": "personal"
  },
  "language_info": {
   "codemirror_mode": {
    "name": "ipython",
    "version": 3
   },
   "file_extension": ".py",
   "mimetype": "text/x-python",
   "name": "python",
   "nbconvert_exporter": "python",
   "pygments_lexer": "ipython3",
   "version": "3.7.7"
  }
 },
 "nbformat": 4,
 "nbformat_minor": 4
}
