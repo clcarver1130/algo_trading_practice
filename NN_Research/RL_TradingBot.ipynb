{
 "cells": [
  {
   "cell_type": "code",
   "execution_count": 16,
   "metadata": {
    "execution": {
     "iopub.execute_input": "2022-02-08T23:17:52.201572Z",
     "iopub.status.busy": "2022-02-08T23:17:52.201250Z",
     "iopub.status.idle": "2022-02-08T23:17:52.215090Z",
     "shell.execute_reply": "2022-02-08T23:17:52.214060Z",
     "shell.execute_reply.started": "2022-02-08T23:17:52.201540Z"
    },
    "tags": []
   },
   "outputs": [],
   "source": [
    "import time\n",
    "import copy\n",
    "import numpy as np\n",
    "import pandas as pd\n",
    "from sklearn.model_selection import train_test_split\n",
    "import torch\n",
    "import torch.nn as nn\n",
    "from torch.autograd import Variable\n",
    "import torch.optim as optim\n",
    "import torch.nn.functional as F\n",
    "from plotly import tools\n",
    "from plotly.graph_objs import *\n",
    "from plotly.offline import init_notebook_mode, iplot, iplot_mpl"
   ]
  },
  {
   "cell_type": "code",
   "execution_count": 13,
   "metadata": {
    "execution": {
     "iopub.execute_input": "2022-02-08T23:15:55.228333Z",
     "iopub.status.busy": "2022-02-08T23:15:55.228041Z",
     "iopub.status.idle": "2022-02-08T23:15:55.532060Z",
     "shell.execute_reply": "2022-02-08T23:15:55.531417Z",
     "shell.execute_reply.started": "2022-02-08T23:15:55.228306Z"
    },
    "tags": []
   },
   "outputs": [
    {
     "data": {
      "text/html": [
       "<div>\n",
       "<style scoped>\n",
       "    .dataframe tbody tr th:only-of-type {\n",
       "        vertical-align: middle;\n",
       "    }\n",
       "\n",
       "    .dataframe tbody tr th {\n",
       "        vertical-align: top;\n",
       "    }\n",
       "\n",
       "    .dataframe thead th {\n",
       "        text-align: right;\n",
       "    }\n",
       "</style>\n",
       "<table border=\"1\" class=\"dataframe\">\n",
       "  <thead>\n",
       "    <tr style=\"text-align: right;\">\n",
       "      <th></th>\n",
       "      <th>Open</th>\n",
       "      <th>High</th>\n",
       "      <th>Low</th>\n",
       "      <th>Close</th>\n",
       "      <th>Volume</th>\n",
       "      <th>Trades</th>\n",
       "    </tr>\n",
       "    <tr>\n",
       "      <th>time_period_start</th>\n",
       "      <th></th>\n",
       "      <th></th>\n",
       "      <th></th>\n",
       "      <th></th>\n",
       "      <th></th>\n",
       "      <th></th>\n",
       "    </tr>\n",
       "  </thead>\n",
       "  <tbody>\n",
       "    <tr>\n",
       "      <th>06-24-2019 17:00</th>\n",
       "      <td>308.84</td>\n",
       "      <td>313.09</td>\n",
       "      <td>308.84</td>\n",
       "      <td>311.24</td>\n",
       "      <td>3454.712211</td>\n",
       "      <td>460</td>\n",
       "    </tr>\n",
       "    <tr>\n",
       "      <th>06-24-2019 17:30</th>\n",
       "      <td>311.23</td>\n",
       "      <td>311.70</td>\n",
       "      <td>308.12</td>\n",
       "      <td>308.80</td>\n",
       "      <td>511.260554</td>\n",
       "      <td>100</td>\n",
       "    </tr>\n",
       "    <tr>\n",
       "      <th>06-24-2019 18:00</th>\n",
       "      <td>308.89</td>\n",
       "      <td>310.31</td>\n",
       "      <td>308.24</td>\n",
       "      <td>308.91</td>\n",
       "      <td>1355.438085</td>\n",
       "      <td>145</td>\n",
       "    </tr>\n",
       "    <tr>\n",
       "      <th>06-24-2019 18:30</th>\n",
       "      <td>308.81</td>\n",
       "      <td>310.44</td>\n",
       "      <td>308.81</td>\n",
       "      <td>310.44</td>\n",
       "      <td>129.936307</td>\n",
       "      <td>134</td>\n",
       "    </tr>\n",
       "    <tr>\n",
       "      <th>06-24-2019 19:00</th>\n",
       "      <td>310.75</td>\n",
       "      <td>312.40</td>\n",
       "      <td>309.79</td>\n",
       "      <td>310.43</td>\n",
       "      <td>2269.709662</td>\n",
       "      <td>410</td>\n",
       "    </tr>\n",
       "  </tbody>\n",
       "</table>\n",
       "</div>"
      ],
      "text/plain": [
       "                     Open    High     Low   Close       Volume  Trades\n",
       "time_period_start                                                     \n",
       "06-24-2019 17:00   308.84  313.09  308.84  311.24  3454.712211     460\n",
       "06-24-2019 17:30   311.23  311.70  308.12  308.80   511.260554     100\n",
       "06-24-2019 18:00   308.89  310.31  308.24  308.91  1355.438085     145\n",
       "06-24-2019 18:30   308.81  310.44  308.81  310.44   129.936307     134\n",
       "06-24-2019 19:00   310.75  312.40  309.79  310.43  2269.709662     410"
      ]
     },
     "execution_count": 13,
     "metadata": {},
     "output_type": "execute_result"
    }
   ],
   "source": [
    "# Load historical data from file:\n",
    "df = pd.read_csv('eth_historical_data.csv')\n",
    "\n",
    "# Convert timezones and reformat:\n",
    "df['time_period_start'] = pd.to_datetime(df['time_period_start']).dt.tz_convert('US/Central').dt.strftime('%m-%d-%Y %H:%M')\n",
    "# Reset Index\n",
    "df.set_index('time_period_start', inplace=True)\n",
    "# Pull just the value fields:\n",
    "df = df[['price_open', 'price_high', 'price_low', 'price_close', 'volume_traded', 'trades_count']]\n",
    "df.columns = ['Open', 'High', 'Low', 'Close', 'Volume', 'Trades']\n",
    "df.head()"
   ]
  },
  {
   "cell_type": "code",
   "execution_count": 17,
   "metadata": {
    "execution": {
     "iopub.execute_input": "2022-02-08T23:18:22.333097Z",
     "iopub.status.busy": "2022-02-08T23:18:22.332784Z",
     "iopub.status.idle": "2022-02-08T23:18:22.338899Z",
     "shell.execute_reply": "2022-02-08T23:18:22.338029Z",
     "shell.execute_reply.started": "2022-02-08T23:18:22.333069Z"
    },
    "tags": []
   },
   "outputs": [],
   "source": [
    "train, test = train_test_split(df, test_size=0.2, shuffle=False)"
   ]
  },
  {
   "cell_type": "code",
   "execution_count": 25,
   "metadata": {
    "execution": {
     "iopub.execute_input": "2022-02-08T23:20:19.637115Z",
     "iopub.status.busy": "2022-02-08T23:20:19.636792Z",
     "iopub.status.idle": "2022-02-08T23:20:19.648005Z",
     "shell.execute_reply": "2022-02-08T23:20:19.647237Z",
     "shell.execute_reply.started": "2022-02-08T23:20:19.637085Z"
    }
   },
   "outputs": [],
   "source": [
    "class Environment1:\n",
    "    \n",
    "    def __init__(self, data, history_t=90):\n",
    "        self.data = data\n",
    "        self.history_t = history_t\n",
    "        self.reset()\n",
    "        \n",
    "    def reset(self):\n",
    "        self.t = 0\n",
    "        self.done = False\n",
    "        self.profits = 0\n",
    "        self.positions = []\n",
    "        self.position_value = 0\n",
    "        self.history = [0 for _ in range(self.history_t)]\n",
    "        return [self.position_value] + self.history # obs\n",
    "    \n",
    "    def step(self, act):\n",
    "        reward = 0\n",
    "        \n",
    "        # act = 0: stay, 1: buy, 2: sell\n",
    "        if act == 1:\n",
    "            self.positions.append(self.data.iloc[self.t, :]['Close'])\n",
    "        elif act == 2: # sell\n",
    "            if len(self.positions) == 0:\n",
    "                reward = -1\n",
    "            else:\n",
    "                profits = 0\n",
    "                for p in self.positions:\n",
    "                    profits += (self.data.iloc[self.t, :]['Close'] - p)\n",
    "                reward += profits\n",
    "                self.profits += profits\n",
    "                self.positions = []\n",
    "        \n",
    "        # set next time\n",
    "        self.t += 1\n",
    "        \n",
    "        self.position_value = 0\n",
    "        for p in self.positions:\n",
    "            self.position_value += (self.data.iloc[self.t, :]['Close'] - p)\n",
    "        self.history.pop(0)\n",
    "        self.history.append(self.data.iloc[self.t, :]['Close'] - self.data.iloc[(self.t-1), :]['Close'])\n",
    "        if (self.t==len(self.data)-1):\n",
    "            self.done=True\n",
    "        # clipping reward\n",
    "        if reward > 0:\n",
    "            reward = 1\n",
    "        elif reward < 0:\n",
    "            reward = -1\n",
    "        #print (\"t={%d}, done={%str}\"%(self.t,self.done))\n",
    "        return [self.position_value] + self.history, reward, self.done # obs, reward, done"
   ]
  },
  {
   "cell_type": "code",
   "execution_count": 26,
   "metadata": {
    "execution": {
     "iopub.execute_input": "2022-02-08T23:20:26.929693Z",
     "iopub.status.busy": "2022-02-08T23:20:26.929371Z",
     "iopub.status.idle": "2022-02-08T23:20:26.941766Z",
     "shell.execute_reply": "2022-02-08T23:20:26.940796Z",
     "shell.execute_reply.started": "2022-02-08T23:20:26.929663Z"
    }
   },
   "outputs": [
    {
     "name": "stdout",
     "output_type": "stream",
     "text": [
      "[0, 0, 0, 0, 0, 0, 0, 0, 0, 0, 0, 0, 0, 0, 0, 0, 0, 0, 0, 0, 0, 0, 0, 0, 0, 0, 0, 0, 0, 0, 0, 0, 0, 0, 0, 0, 0, 0, 0, 0, 0, 0, 0, 0, 0, 0, 0, 0, 0, 0, 0, 0, 0, 0, 0, 0, 0, 0, 0, 0, 0, 0, 0, 0, 0, 0, 0, 0, 0, 0, 0, 0, 0, 0, 0, 0, 0, 0, 0, 0, 0, 0, 0, 0, 0, 0, 0, 0, 0, 0, 0]\n",
      "1\n",
      "([-2.4399999999999977, 0, 0, 0, 0, 0, 0, 0, 0, 0, 0, 0, 0, 0, 0, 0, 0, 0, 0, 0, 0, 0, 0, 0, 0, 0, 0, 0, 0, 0, 0, 0, 0, 0, 0, 0, 0, 0, 0, 0, 0, 0, 0, 0, 0, 0, 0, 0, 0, 0, 0, 0, 0, 0, 0, 0, 0, 0, 0, 0, 0, 0, 0, 0, 0, 0, 0, 0, 0, 0, 0, 0, 0, 0, 0, 0, 0, 0, 0, 0, 0, 0, 0, 0, 0, 0, 0, 0, 0, 0, -2.4399999999999977], 0, False)\n",
      "2\n",
      "([0, 0, 0, 0, 0, 0, 0, 0, 0, 0, 0, 0, 0, 0, 0, 0, 0, 0, 0, 0, 0, 0, 0, 0, 0, 0, 0, 0, 0, 0, 0, 0, 0, 0, 0, 0, 0, 0, 0, 0, 0, 0, 0, 0, 0, 0, 0, 0, 0, 0, 0, 0, 0, 0, 0, 0, 0, 0, 0, 0, 0, 0, 0, 0, 0, 0, 0, 0, 0, 0, 0, 0, 0, 0, 0, 0, 0, 0, 0, 0, 0, 0, 0, 0, 0, 0, 0, 0, 0, -2.4399999999999977, 0.11000000000001364], -1, False)\n",
      "1\n",
      "([1.5299999999999727, 0, 0, 0, 0, 0, 0, 0, 0, 0, 0, 0, 0, 0, 0, 0, 0, 0, 0, 0, 0, 0, 0, 0, 0, 0, 0, 0, 0, 0, 0, 0, 0, 0, 0, 0, 0, 0, 0, 0, 0, 0, 0, 0, 0, 0, 0, 0, 0, 0, 0, 0, 0, 0, 0, 0, 0, 0, 0, 0, 0, 0, 0, 0, 0, 0, 0, 0, 0, 0, 0, 0, 0, 0, 0, 0, 0, 0, 0, 0, 0, 0, 0, 0, 0, 0, 0, 0, -2.4399999999999977, 0.11000000000001364, 1.5299999999999727], 0, False)\n"
     ]
    }
   ],
   "source": [
    "env = Environment1(train)\n",
    "print(env.reset())\n",
    "for _ in range(3):\n",
    "    pact = np.random.randint(3)\n",
    "    print (pact)\n",
    "    print(env.step(pact))"
   ]
  },
  {
   "cell_type": "code",
   "execution_count": 27,
   "metadata": {
    "execution": {
     "iopub.execute_input": "2022-02-08T23:20:40.091511Z",
     "iopub.status.busy": "2022-02-08T23:20:40.091188Z",
     "iopub.status.idle": "2022-02-08T23:20:40.097025Z",
     "shell.execute_reply": "2022-02-08T23:20:40.096110Z",
     "shell.execute_reply.started": "2022-02-08T23:20:40.091481Z"
    }
   },
   "outputs": [],
   "source": [
    "#def train_dqn(env):\n",
    "    \n",
    "class Q_Network(nn.Module):\n",
    "        \n",
    "    def __init__(self,obs_len,hidden_size,actions_n):\n",
    "            \n",
    "        super(Q_Network,self).__init__()\n",
    "            \n",
    "        self.fc_val = nn.Sequential(\n",
    "            nn.Linear(obs_len, hidden_size),\n",
    "            nn.ReLU(),\n",
    "            nn.Linear(hidden_size, hidden_size),\n",
    "            nn.ReLU(),\n",
    "            nn.Linear(hidden_size, actions_n)\n",
    "        )\n",
    "        \n",
    "        \n",
    "    def forward(self,x):\n",
    "        h =  self.fc_val(x)\n",
    "        return (h)"
   ]
  },
  {
   "cell_type": "code",
   "execution_count": 33,
   "metadata": {
    "execution": {
     "iopub.execute_input": "2022-02-08T23:23:15.417059Z",
     "iopub.status.busy": "2022-02-08T23:23:15.416765Z",
     "iopub.status.idle": "2022-02-08T23:23:15.426216Z",
     "shell.execute_reply": "2022-02-08T23:23:15.425531Z",
     "shell.execute_reply.started": "2022-02-08T23:23:15.417032Z"
    },
    "tags": []
   },
   "outputs": [],
   "source": [
    "hidden_size=100\n",
    "input_size=env.history_t+1\n",
    "output_size=3\n",
    "USE_CUDA = False\n",
    "LR = 0.001\n",
    "\n",
    "Q = Q_Network(input_size, hidden_size, output_size)\n",
    "Q_ast = copy.deepcopy(Q)\n",
    "loss_function = nn.MSELoss()\n",
    "optimizer = optim.Adam(list(Q.parameters()), lr=LR)\n",
    "\n",
    "epoch_num = 50\n",
    "step_max = len(env.data)-1\n",
    "memory_size = 200\n",
    "batch_size = 50\n",
    "gamma = 0.97"
   ]
  },
  {
   "cell_type": "code",
   "execution_count": 34,
   "metadata": {
    "execution": {
     "iopub.execute_input": "2022-02-08T23:23:17.024095Z",
     "iopub.status.busy": "2022-02-08T23:23:17.023766Z",
     "iopub.status.idle": "2022-02-08T23:23:17.028565Z",
     "shell.execute_reply": "2022-02-08T23:23:17.027730Z",
     "shell.execute_reply.started": "2022-02-08T23:23:17.024063Z"
    },
    "tags": []
   },
   "outputs": [],
   "source": [
    "obs, reward, done = env.step(5)"
   ]
  },
  {
   "cell_type": "code",
   "execution_count": 35,
   "metadata": {
    "execution": {
     "iopub.execute_input": "2022-02-08T23:23:17.833604Z",
     "iopub.status.busy": "2022-02-08T23:23:17.833292Z",
     "iopub.status.idle": "2022-02-08T23:23:17.838310Z",
     "shell.execute_reply": "2022-02-08T23:23:17.837483Z",
     "shell.execute_reply.started": "2022-02-08T23:23:17.833575Z"
    },
    "tags": []
   },
   "outputs": [],
   "source": [
    "memory = []\n",
    "total_step = 0\n",
    "total_rewards = []\n",
    "total_losses = []\n",
    "epsilon = 1.0\n",
    "epsilon_decrease = 1e-3\n",
    "epsilon_min = 0.1\n",
    "start_reduce_epsilon = 200\n",
    "train_freq = 10\n",
    "update_q_freq = 20\n",
    "gamma = 0.97\n",
    "show_log_freq = 5"
   ]
  },
  {
   "cell_type": "code",
   "execution_count": 37,
   "metadata": {
    "execution": {
     "iopub.execute_input": "2022-02-08T23:29:33.594718Z",
     "iopub.status.busy": "2022-02-08T23:29:33.594426Z",
     "iopub.status.idle": "2022-02-08T23:53:41.295262Z",
     "shell.execute_reply": "2022-02-08T23:53:41.294208Z",
     "shell.execute_reply.started": "2022-02-08T23:29:33.594691Z"
    },
    "tags": []
   },
   "outputs": [
    {
     "ename": "KeyboardInterrupt",
     "evalue": "",
     "output_type": "error",
     "traceback": [
      "\u001b[0;31m---------------------------------------------------------------------------\u001b[0m",
      "\u001b[0;31mKeyboardInterrupt\u001b[0m                         Traceback (most recent call last)",
      "\u001b[0;32m<ipython-input-37-f5ed96c139c7>\u001b[0m in \u001b[0;36m<module>\u001b[0;34m\u001b[0m\n\u001b[1;32m     67\u001b[0m \u001b[0;34m\u001b[0m\u001b[0m\n\u001b[1;32m     68\u001b[0m         \u001b[0;32mif\u001b[0m \u001b[0;34m(\u001b[0m\u001b[0mepoch\u001b[0m\u001b[0;34m+\u001b[0m\u001b[0;36m1\u001b[0m\u001b[0;34m)\u001b[0m \u001b[0;34m%\u001b[0m \u001b[0mshow_log_freq\u001b[0m \u001b[0;34m==\u001b[0m \u001b[0;36m0\u001b[0m\u001b[0;34m:\u001b[0m\u001b[0;34m\u001b[0m\u001b[0;34m\u001b[0m\u001b[0m\n\u001b[0;32m---> 69\u001b[0;31m             \u001b[0mlog_reward\u001b[0m \u001b[0;34m=\u001b[0m \u001b[0msum\u001b[0m\u001b[0;34m(\u001b[0m\u001b[0mtotal_rewards\u001b[0m\u001b[0;34m[\u001b[0m\u001b[0;34m(\u001b[0m\u001b[0;34m(\u001b[0m\u001b[0mepoch\u001b[0m\u001b[0;34m+\u001b[0m\u001b[0;36m1\u001b[0m\u001b[0;34m)\u001b[0m\u001b[0;34m-\u001b[0m\u001b[0mshow_log_freq\u001b[0m\u001b[0;34m)\u001b[0m\u001b[0;34m:\u001b[0m\u001b[0;34m]\u001b[0m\u001b[0;34m)\u001b[0m\u001b[0;34m/\u001b[0m\u001b[0mshow_log_freq\u001b[0m\u001b[0;34m\u001b[0m\u001b[0;34m\u001b[0m\u001b[0m\n\u001b[0m\u001b[1;32m     70\u001b[0m             \u001b[0mlog_loss\u001b[0m \u001b[0;34m=\u001b[0m \u001b[0msum\u001b[0m\u001b[0;34m(\u001b[0m\u001b[0mtotal_losses\u001b[0m\u001b[0;34m[\u001b[0m\u001b[0;34m(\u001b[0m\u001b[0;34m(\u001b[0m\u001b[0mepoch\u001b[0m\u001b[0;34m+\u001b[0m\u001b[0;36m1\u001b[0m\u001b[0;34m)\u001b[0m\u001b[0;34m-\u001b[0m\u001b[0mshow_log_freq\u001b[0m\u001b[0;34m)\u001b[0m\u001b[0;34m:\u001b[0m\u001b[0;34m]\u001b[0m\u001b[0;34m)\u001b[0m\u001b[0;34m/\u001b[0m\u001b[0mshow_log_freq\u001b[0m\u001b[0;34m\u001b[0m\u001b[0;34m\u001b[0m\u001b[0m\n\u001b[1;32m     71\u001b[0m             \u001b[0melapsed_time\u001b[0m \u001b[0;34m=\u001b[0m \u001b[0mtime\u001b[0m\u001b[0;34m.\u001b[0m\u001b[0mtime\u001b[0m\u001b[0;34m(\u001b[0m\u001b[0;34m)\u001b[0m\u001b[0;34m-\u001b[0m\u001b[0mstart\u001b[0m\u001b[0;34m\u001b[0m\u001b[0;34m\u001b[0m\u001b[0m\n",
      "\u001b[0;31mKeyboardInterrupt\u001b[0m: "
     ]
    }
   ],
   "source": [
    "start = time.time()\n",
    "for epoch in range(epoch_num):\n",
    "\n",
    "    pobs = env.reset()\n",
    "    step = 0\n",
    "    done = False\n",
    "    total_reward = 0\n",
    "    total_loss = 0\n",
    "\n",
    "    while not done and step < step_max:\n",
    "\n",
    "        # select act\n",
    "        pact = np.random.randint(3)\n",
    "        if np.random.rand() > epsilon:\n",
    "            pact = Q(torch.from_numpy(np.array(pobs, dtype=np.float32).reshape(1, -1)))\n",
    "            pact = np.argmax(pact.data)\n",
    "            pact = pact.numpy()\n",
    "\n",
    "        # act\n",
    "        obs, reward, done = env.step(pact)\n",
    "\n",
    "        # add memory\n",
    "        memory.append((pobs, pact, reward, obs, done))\n",
    "        if len(memory) > memory_size:\n",
    "            memory.pop(0)\n",
    "\n",
    "        # train or update q\n",
    "        if len(memory) == memory_size:\n",
    "            if total_step % train_freq == 0:\n",
    "                shuffled_memory = np.random.permutation(memory)\n",
    "                memory_idx = range(len(shuffled_memory))\n",
    "                for i in memory_idx[::batch_size]:\n",
    "                    batch = np.array(shuffled_memory[i:i+batch_size])\n",
    "                    b_pobs = np.array(batch[:, 0].tolist(), dtype=np.float32).reshape(batch_size, -1)\n",
    "                    b_pact = np.array(batch[:, 1].tolist(), dtype=np.int32)\n",
    "                    b_reward = np.array(batch[:, 2].tolist(), dtype=np.int32)\n",
    "                    b_obs = np.array(batch[:, 3].tolist(), dtype=np.float32).reshape(batch_size, -1)\n",
    "                    b_done = np.array(batch[:, 4].tolist(), dtype=np.bool)\n",
    "\n",
    "                    q = Q(torch.from_numpy(b_pobs))\n",
    "                    q_ = Q_ast(torch.from_numpy(b_obs))\n",
    "                    maxq = np.max(q_.data.numpy(),axis=1)\n",
    "                    target = copy.deepcopy(q.data)\n",
    "                    for j in range(batch_size):\n",
    "                        target[j, b_pact[j]] = b_reward[j]+gamma*maxq[j]*(not b_done[j])\n",
    "                    Q.zero_grad()\n",
    "                    loss = loss_function(q, target)\n",
    "                    total_loss += loss.data.item()\n",
    "                    loss.backward()\n",
    "                    optimizer.step()\n",
    "                    \n",
    "            if total_step % update_q_freq == 0:\n",
    "                Q_ast = copy.deepcopy(Q)\n",
    "                \n",
    "            # epsilon\n",
    "            if epsilon > epsilon_min and total_step > start_reduce_epsilon:\n",
    "                epsilon -= epsilon_decrease\n",
    "\n",
    "            # next step\n",
    "            total_reward += reward\n",
    "            pobs = obs\n",
    "            step += 1\n",
    "            total_step += 1\n",
    "\n",
    "        total_rewards.append(total_reward)\n",
    "        total_losses.append(total_loss)\n",
    "\n",
    "        if (epoch+1) % show_log_freq == 0:\n",
    "            log_reward = sum(total_rewards[((epoch+1)-show_log_freq):])/show_log_freq\n",
    "            log_loss = sum(total_losses[((epoch+1)-show_log_freq):])/show_log_freq\n",
    "            elapsed_time = time.time()-start\n",
    "            # print('\\t'.join(map(str, [epoch+1, epsilon, total_step, log_reward, log_loss, elapsed_time])))\n",
    "            start = time.time()"
   ]
  },
  {
   "cell_type": "code",
   "execution_count": 38,
   "metadata": {
    "execution": {
     "iopub.execute_input": "2022-02-08T23:53:44.664072Z",
     "iopub.status.busy": "2022-02-08T23:53:44.663777Z",
     "iopub.status.idle": "2022-02-08T23:53:48.377940Z",
     "shell.execute_reply": "2022-02-08T23:53:48.377288Z",
     "shell.execute_reply.started": "2022-02-08T23:53:44.664044Z"
    },
    "tags": []
   },
   "outputs": [],
   "source": [
    "test_env = Environment1(test)\n",
    "pobs = test_env.reset()\n",
    "test_acts = []\n",
    "test_rewards = []\n",
    "\n",
    "for _ in range(len(test_env.data)-1):\n",
    "    \n",
    "    pact = Q(torch.from_numpy(np.array(pobs, dtype=np.float32).reshape(1, -1)))\n",
    "    pact = np.argmax(pact.data)\n",
    "    test_acts.append(pact.item())\n",
    "            \n",
    "    obs, reward, done = test_env.step(pact.numpy())\n",
    "    test_rewards.append(reward)\n",
    "\n",
    "    pobs = obs\n",
    "        \n",
    "test_profits = test_env.profits"
   ]
  },
  {
   "cell_type": "code",
   "execution_count": 39,
   "metadata": {
    "execution": {
     "iopub.execute_input": "2022-02-08T23:53:59.165956Z",
     "iopub.status.busy": "2022-02-08T23:53:59.165651Z",
     "iopub.status.idle": "2022-02-08T23:53:59.170801Z",
     "shell.execute_reply": "2022-02-08T23:53:59.170045Z",
     "shell.execute_reply.started": "2022-02-08T23:53:59.165928Z"
    }
   },
   "outputs": [
    {
     "data": {
      "text/plain": [
       "-791.6900000000031"
      ]
     },
     "execution_count": 39,
     "metadata": {},
     "output_type": "execute_result"
    }
   ],
   "source": [
    "test_profits"
   ]
  },
  {
   "cell_type": "code",
   "execution_count": null,
   "metadata": {},
   "outputs": [],
   "source": []
  }
 ],
 "metadata": {
  "kernelspec": {
   "display_name": "personal",
   "language": "python",
   "name": "personal"
  },
  "language_info": {
   "codemirror_mode": {
    "name": "ipython",
    "version": 3
   },
   "file_extension": ".py",
   "mimetype": "text/x-python",
   "name": "python",
   "nbconvert_exporter": "python",
   "pygments_lexer": "ipython3",
   "version": "3.7.7"
  }
 },
 "nbformat": 4,
 "nbformat_minor": 4
}
