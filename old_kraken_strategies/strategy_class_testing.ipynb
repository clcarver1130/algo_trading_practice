{
 "cells": [
  {
   "cell_type": "markdown",
   "metadata": {},
   "source": [
    "# Strategy Class"
   ]
  },
  {
   "cell_type": "code",
   "execution_count": 40,
   "metadata": {
    "execution": {
     "iopub.execute_input": "2020-12-16T01:30:12.071358Z",
     "iopub.status.busy": "2020-12-16T01:30:12.071105Z",
     "iopub.status.idle": "2020-12-16T01:30:12.159375Z",
     "shell.execute_reply": "2020-12-16T01:30:12.158551Z",
     "shell.execute_reply.started": "2020-12-16T01:30:12.071329Z"
    }
   },
   "outputs": [],
   "source": [
    "### Main libraries\n",
    "import pandas as pd\n",
    "import matplotlib.pyplot as plt\n",
    "import time\n",
    "import datetime\n",
    "from coinapi_rest_v1 import CoinAPIv1\n",
    "from logins import CoinAPI_KEY\n",
    "from robin_helperfunctions import round_to_hour\n",
    "from talib import MACD\n",
    "\n",
    "from robinhoodstrategy import cryptoStrategy, BackcastStrategy, Trade"
   ]
  },
  {
   "cell_type": "markdown",
   "metadata": {},
   "source": [
    "___\n",
    "### Testing"
   ]
  },
  {
   "cell_type": "code",
   "execution_count": 41,
   "metadata": {
    "execution": {
     "iopub.execute_input": "2020-12-16T01:30:12.532682Z",
     "iopub.status.busy": "2020-12-16T01:30:12.532429Z",
     "iopub.status.idle": "2020-12-16T01:30:12.566219Z",
     "shell.execute_reply": "2020-12-16T01:30:12.565543Z",
     "shell.execute_reply.started": "2020-12-16T01:30:12.532653Z"
    }
   },
   "outputs": [],
   "source": [
    "test_strategy = cryptoStrategy('MACD')"
   ]
  },
  {
   "cell_type": "code",
   "execution_count": 42,
   "metadata": {
    "execution": {
     "iopub.execute_input": "2020-12-16T01:30:12.904238Z",
     "iopub.status.busy": "2020-12-16T01:30:12.903997Z",
     "iopub.status.idle": "2020-12-16T01:30:12.940258Z",
     "shell.execute_reply": "2020-12-16T01:30:12.939608Z",
     "shell.execute_reply.started": "2020-12-16T01:30:12.904210Z"
    }
   },
   "outputs": [],
   "source": [
    "def entry_exit_func(hist_data, position_flag, trade=None):\n",
    "    \n",
    "    # MACD\n",
    "    FAST, SLOW, SIGNAL = 12, 26, 9\n",
    "    \n",
    "    exp1 = hist_data['close'].ewm(span=FAST, adjust=False).mean()\n",
    "    exp2 = hist_data['close'].ewm(span=SLOW, adjust=False).mean()\n",
    "    macd = exp1-exp2\n",
    "    signal = macd.ewm(span=SIGNAL, adjust=False).mean()\n",
    "    macd_current, signal_current = macd[-1], signal[-1]\n",
    "\n",
    "    \n",
    "    if position_flag:\n",
    "        if macd_current <= signal_current:\n",
    "            return 'sell'\n",
    "        else:\n",
    "            return 'pass'\n",
    "    elif macd_current > signal_current:\n",
    "            return 'buy'\n",
    "    else:\n",
    "        return 'pass'\n",
    "test_strategy.add_entryExit_conditions(entry_exit_func)"
   ]
  },
  {
   "cell_type": "code",
   "execution_count": 43,
   "metadata": {
    "execution": {
     "iopub.execute_input": "2020-12-16T01:30:13.287242Z",
     "iopub.status.busy": "2020-12-16T01:30:13.287004Z",
     "iopub.status.idle": "2020-12-16T01:30:14.655845Z",
     "shell.execute_reply": "2020-12-16T01:30:14.655201Z",
     "shell.execute_reply.started": "2020-12-16T01:30:13.287215Z"
    }
   },
   "outputs": [
    {
     "name": "stdout",
     "output_type": "stream",
     "text": [
      "Running backcast. Staring with $2500\n"
     ]
    }
   ],
   "source": [
    "backtest = BackcastStrategy(test_strategy)\n",
    "backtest.set_parameters(2500, 'XETHZUSD', '240', 1, 39)\n",
    "backtest.run_backcast()"
   ]
  },
  {
   "cell_type": "code",
   "execution_count": 63,
   "metadata": {
    "execution": {
     "iopub.execute_input": "2020-12-16T02:00:28.945262Z",
     "iopub.status.busy": "2020-12-16T02:00:28.945016Z",
     "iopub.status.idle": "2020-12-16T02:00:28.993287Z",
     "shell.execute_reply": "2020-12-16T02:00:28.992703Z",
     "shell.execute_reply.started": "2020-12-16T02:00:28.945234Z"
    }
   },
   "outputs": [
    {
     "data": {
      "text/html": [
       "<div>\n",
       "<style scoped>\n",
       "    .dataframe tbody tr th:only-of-type {\n",
       "        vertical-align: middle;\n",
       "    }\n",
       "\n",
       "    .dataframe tbody tr th {\n",
       "        vertical-align: top;\n",
       "    }\n",
       "\n",
       "    .dataframe thead th {\n",
       "        text-align: right;\n",
       "    }\n",
       "</style>\n",
       "<table border=\"1\" class=\"dataframe\">\n",
       "  <thead>\n",
       "    <tr style=\"text-align: right;\">\n",
       "      <th></th>\n",
       "      <th>peirods</th>\n",
       "      <th>buy_price</th>\n",
       "      <th>sell_price</th>\n",
       "      <th>pct_change</th>\n",
       "      <th>highest_gain</th>\n",
       "      <th>max_drawdown</th>\n",
       "      <th>current_capital</th>\n",
       "      <th>winning_trade</th>\n",
       "    </tr>\n",
       "    <tr>\n",
       "      <th>trade_start</th>\n",
       "      <th></th>\n",
       "      <th></th>\n",
       "      <th></th>\n",
       "      <th></th>\n",
       "      <th></th>\n",
       "      <th></th>\n",
       "      <th></th>\n",
       "      <th></th>\n",
       "    </tr>\n",
       "  </thead>\n",
       "  <tbody>\n",
       "    <tr>\n",
       "      <th>2020-08-31 00:00:00-05:00</th>\n",
       "      <td>18.000000</td>\n",
       "      <td>395.205000</td>\n",
       "      <td>414.145000</td>\n",
       "      <td>0.049749</td>\n",
       "      <td>0.128921</td>\n",
       "      <td>-0.010790</td>\n",
       "      <td>2563.995859</td>\n",
       "      <td>0.500000</td>\n",
       "    </tr>\n",
       "    <tr>\n",
       "      <th>2020-09-30 00:00:00-05:00</th>\n",
       "      <td>20.000000</td>\n",
       "      <td>355.847500</td>\n",
       "      <td>362.655000</td>\n",
       "      <td>0.019374</td>\n",
       "      <td>0.054635</td>\n",
       "      <td>-0.015252</td>\n",
       "      <td>2894.707782</td>\n",
       "      <td>0.750000</td>\n",
       "    </tr>\n",
       "    <tr>\n",
       "      <th>2020-10-31 00:00:00-05:00</th>\n",
       "      <td>11.571429</td>\n",
       "      <td>375.467143</td>\n",
       "      <td>380.098571</td>\n",
       "      <td>0.012772</td>\n",
       "      <td>0.036994</td>\n",
       "      <td>-0.003814</td>\n",
       "      <td>3094.420855</td>\n",
       "      <td>0.428571</td>\n",
       "    </tr>\n",
       "    <tr>\n",
       "      <th>2020-11-30 00:00:00-06:00</th>\n",
       "      <td>16.000000</td>\n",
       "      <td>465.806667</td>\n",
       "      <td>502.653333</td>\n",
       "      <td>0.076867</td>\n",
       "      <td>0.117652</td>\n",
       "      <td>-0.002898</td>\n",
       "      <td>3834.815879</td>\n",
       "      <td>0.666667</td>\n",
       "    </tr>\n",
       "    <tr>\n",
       "      <th>2020-12-31 00:00:00-06:00</th>\n",
       "      <td>7.500000</td>\n",
       "      <td>571.915000</td>\n",
       "      <td>569.775000</td>\n",
       "      <td>-0.003230</td>\n",
       "      <td>0.017744</td>\n",
       "      <td>-0.009998</td>\n",
       "      <td>4719.614816</td>\n",
       "      <td>0.250000</td>\n",
       "    </tr>\n",
       "  </tbody>\n",
       "</table>\n",
       "</div>"
      ],
      "text/plain": [
       "                             peirods   buy_price  sell_price  pct_change  \\\n",
       "trade_start                                                                \n",
       "2020-08-31 00:00:00-05:00  18.000000  395.205000  414.145000    0.049749   \n",
       "2020-09-30 00:00:00-05:00  20.000000  355.847500  362.655000    0.019374   \n",
       "2020-10-31 00:00:00-05:00  11.571429  375.467143  380.098571    0.012772   \n",
       "2020-11-30 00:00:00-06:00  16.000000  465.806667  502.653333    0.076867   \n",
       "2020-12-31 00:00:00-06:00   7.500000  571.915000  569.775000   -0.003230   \n",
       "\n",
       "                           highest_gain  max_drawdown  current_capital  \\\n",
       "trade_start                                                              \n",
       "2020-08-31 00:00:00-05:00      0.128921     -0.010790      2563.995859   \n",
       "2020-09-30 00:00:00-05:00      0.054635     -0.015252      2894.707782   \n",
       "2020-10-31 00:00:00-05:00      0.036994     -0.003814      3094.420855   \n",
       "2020-11-30 00:00:00-06:00      0.117652     -0.002898      3834.815879   \n",
       "2020-12-31 00:00:00-06:00      0.017744     -0.009998      4719.614816   \n",
       "\n",
       "                           winning_trade  \n",
       "trade_start                               \n",
       "2020-08-31 00:00:00-05:00       0.500000  \n",
       "2020-09-30 00:00:00-05:00       0.750000  \n",
       "2020-10-31 00:00:00-05:00       0.428571  \n",
       "2020-11-30 00:00:00-06:00       0.666667  \n",
       "2020-12-31 00:00:00-06:00       0.250000  "
      ]
     },
     "execution_count": 63,
     "metadata": {},
     "output_type": "execute_result"
    }
   ],
   "source": [
    "backtest.trades.set_index('trade_start').resample('M').mean()"
   ]
  },
  {
   "cell_type": "code",
   "execution_count": 46,
   "metadata": {
    "execution": {
     "iopub.execute_input": "2020-12-16T01:30:30.410522Z",
     "iopub.status.busy": "2020-12-16T01:30:30.410276Z",
     "iopub.status.idle": "2020-12-16T01:30:30.446967Z",
     "shell.execute_reply": "2020-12-16T01:30:30.446300Z",
     "shell.execute_reply.started": "2020-12-16T01:30:30.410494Z"
    }
   },
   "outputs": [
    {
     "name": "stdout",
     "output_type": "stream",
     "text": [
      "\n",
      "                # Wins: 12\n",
      "\n",
      "                Average Win: 0.07660768230887864\n",
      "\n",
      "                # Losses: 11\n",
      "\n",
      "                Average Loss: -0.018601229095336316\n",
      "\n",
      "                Win %: 0.5217391304347826\n",
      "\n",
      "                Overall return: 2323.7793664018473\n",
      "\n",
      "                Percent return: 0.9295117465607389\n",
      "\n",
      "                \n"
     ]
    }
   ],
   "source": [
    "backtest.backcast_results()"
   ]
  },
  {
   "cell_type": "code",
   "execution_count": 47,
   "metadata": {
    "execution": {
     "iopub.execute_input": "2020-12-16T01:30:30.938960Z",
     "iopub.status.busy": "2020-12-16T01:30:30.938708Z",
     "iopub.status.idle": "2020-12-16T01:30:31.162579Z",
     "shell.execute_reply": "2020-12-16T01:30:31.161920Z",
     "shell.execute_reply.started": "2020-12-16T01:30:30.938931Z"
    }
   },
   "outputs": [
    {
     "data": {
      "image/png": "[encoded data removed]",
      "text/plain": [
       "<Figure size 2160x576 with 1 Axes>"
      ]
     },
     "metadata": {},
     "output_type": "display_data"
    }
   ],
   "source": [
    "backtest.plot_trades()"
   ]
  },
  {
   "cell_type": "code",
   "execution_count": 35,
   "metadata": {
    "execution": {
     "iopub.execute_input": "2020-12-16T01:25:16.243106Z",
     "iopub.status.busy": "2020-12-16T01:25:16.242884Z",
     "iopub.status.idle": "2020-12-16T01:25:16.272168Z",
     "shell.execute_reply": "2020-12-16T01:25:16.271661Z",
     "shell.execute_reply.started": "2020-12-16T01:25:16.243081Z"
    }
   },
   "outputs": [],
   "source": [
    "df = backtest.trades"
   ]
  },
  {
   "cell_type": "code",
   "execution_count": 72,
   "metadata": {
    "execution": {
     "iopub.execute_input": "2020-12-16T02:16:16.724226Z",
     "iopub.status.busy": "2020-12-16T02:16:16.723967Z",
     "iopub.status.idle": "2020-12-16T02:16:16.770950Z",
     "shell.execute_reply": "2020-12-16T02:16:16.770317Z",
     "shell.execute_reply.started": "2020-12-16T02:16:16.724197Z"
    }
   },
   "outputs": [
    {
     "data": {
      "text/html": [
       "<div>\n",
       "<style scoped>\n",
       "    .dataframe tbody tr th:only-of-type {\n",
       "        vertical-align: middle;\n",
       "    }\n",
       "\n",
       "    .dataframe tbody tr th {\n",
       "        vertical-align: top;\n",
       "    }\n",
       "\n",
       "    .dataframe thead th {\n",
       "        text-align: right;\n",
       "    }\n",
       "</style>\n",
       "<table border=\"1\" class=\"dataframe\">\n",
       "  <thead>\n",
       "    <tr style=\"text-align: right;\">\n",
       "      <th></th>\n",
       "      <th>trade_end</th>\n",
       "      <th>peirods</th>\n",
       "      <th>time_held</th>\n",
       "      <th>buy_price</th>\n",
       "      <th>sell_price</th>\n",
       "      <th>pct_change</th>\n",
       "      <th>highest_gain</th>\n",
       "      <th>max_drawdown</th>\n",
       "      <th>current_capital</th>\n",
       "      <th>winning_trade</th>\n",
       "    </tr>\n",
       "    <tr>\n",
       "      <th>trade_start</th>\n",
       "      <th></th>\n",
       "      <th></th>\n",
       "      <th></th>\n",
       "      <th></th>\n",
       "      <th></th>\n",
       "      <th></th>\n",
       "      <th></th>\n",
       "      <th></th>\n",
       "      <th></th>\n",
       "      <th></th>\n",
       "    </tr>\n",
       "  </thead>\n",
       "  <tbody>\n",
       "    <tr>\n",
       "      <th>2020-08-31 00:00:00-05:00</th>\n",
       "      <td>2</td>\n",
       "      <td>2</td>\n",
       "      <td>2</td>\n",
       "      <td>2</td>\n",
       "      <td>2</td>\n",
       "      <td>2</td>\n",
       "      <td>2</td>\n",
       "      <td>2</td>\n",
       "      <td>2</td>\n",
       "      <td>2</td>\n",
       "    </tr>\n",
       "    <tr>\n",
       "      <th>2020-09-30 00:00:00-05:00</th>\n",
       "      <td>4</td>\n",
       "      <td>4</td>\n",
       "      <td>4</td>\n",
       "      <td>4</td>\n",
       "      <td>4</td>\n",
       "      <td>4</td>\n",
       "      <td>4</td>\n",
       "      <td>4</td>\n",
       "      <td>4</td>\n",
       "      <td>4</td>\n",
       "    </tr>\n",
       "    <tr>\n",
       "      <th>2020-10-31 00:00:00-05:00</th>\n",
       "      <td>7</td>\n",
       "      <td>7</td>\n",
       "      <td>7</td>\n",
       "      <td>7</td>\n",
       "      <td>7</td>\n",
       "      <td>7</td>\n",
       "      <td>7</td>\n",
       "      <td>7</td>\n",
       "      <td>7</td>\n",
       "      <td>7</td>\n",
       "    </tr>\n",
       "    <tr>\n",
       "      <th>2020-11-30 00:00:00-06:00</th>\n",
       "      <td>6</td>\n",
       "      <td>6</td>\n",
       "      <td>6</td>\n",
       "      <td>6</td>\n",
       "      <td>6</td>\n",
       "      <td>6</td>\n",
       "      <td>6</td>\n",
       "      <td>6</td>\n",
       "      <td>6</td>\n",
       "      <td>6</td>\n",
       "    </tr>\n",
       "    <tr>\n",
       "      <th>2020-12-31 00:00:00-06:00</th>\n",
       "      <td>4</td>\n",
       "      <td>4</td>\n",
       "      <td>4</td>\n",
       "      <td>4</td>\n",
       "      <td>4</td>\n",
       "      <td>4</td>\n",
       "      <td>4</td>\n",
       "      <td>4</td>\n",
       "      <td>4</td>\n",
       "      <td>4</td>\n",
       "    </tr>\n",
       "  </tbody>\n",
       "</table>\n",
       "</div>"
      ],
      "text/plain": [
       "                           trade_end  peirods  time_held  buy_price  \\\n",
       "trade_start                                                           \n",
       "2020-08-31 00:00:00-05:00          2        2          2          2   \n",
       "2020-09-30 00:00:00-05:00          4        4          4          4   \n",
       "2020-10-31 00:00:00-05:00          7        7          7          7   \n",
       "2020-11-30 00:00:00-06:00          6        6          6          6   \n",
       "2020-12-31 00:00:00-06:00          4        4          4          4   \n",
       "\n",
       "                           sell_price  pct_change  highest_gain  max_drawdown  \\\n",
       "trade_start                                                                     \n",
       "2020-08-31 00:00:00-05:00           2           2             2             2   \n",
       "2020-09-30 00:00:00-05:00           4           4             4             4   \n",
       "2020-10-31 00:00:00-05:00           7           7             7             7   \n",
       "2020-11-30 00:00:00-06:00           6           6             6             6   \n",
       "2020-12-31 00:00:00-06:00           4           4             4             4   \n",
       "\n",
       "                           current_capital  winning_trade  \n",
       "trade_start                                                \n",
       "2020-08-31 00:00:00-05:00                2              2  \n",
       "2020-09-30 00:00:00-05:00                4              4  \n",
       "2020-10-31 00:00:00-05:00                7              7  \n",
       "2020-11-30 00:00:00-06:00                6              6  \n",
       "2020-12-31 00:00:00-06:00                4              4  "
      ]
     },
     "execution_count": 72,
     "metadata": {},
     "output_type": "execute_result"
    }
   ],
   "source": [
    "df.set_index('trade_start').resample('M').count()"
   ]
  },
  {
   "cell_type": "code",
   "execution_count": 50,
   "metadata": {
    "execution": {
     "iopub.execute_input": "2020-12-16T01:41:10.187251Z",
     "iopub.status.busy": "2020-12-16T01:41:10.187024Z",
     "iopub.status.idle": "2020-12-16T01:41:10.219905Z",
     "shell.execute_reply": "2020-12-16T01:41:10.219367Z",
     "shell.execute_reply.started": "2020-12-16T01:41:10.187226Z"
    }
   },
   "outputs": [
    {
     "name": "stdout",
     "output_type": "stream",
     "text": [
      "11000.0\n",
      "12100.000000000002\n",
      "13310.000000000004\n",
      "14641.000000000005\n",
      "16105.100000000008\n",
      "17715.61000000001\n",
      "19487.171000000013\n",
      "21435.888100000015\n",
      "23579.47691000002\n",
      "25937.424601000024\n",
      "28531.16706110003\n",
      "31384.283767210036\n"
     ]
    }
   ],
   "source": [
    "n = 12\n",
    "capital = 10000\n",
    "monthly_return = 0.1\n",
    "for x in range(n):\n",
    "    capital = capital * (1+monthly_return)\n",
    "    print(capital)"
   ]
  },
  {
   "cell_type": "code",
   "execution_count": null,
   "metadata": {},
   "outputs": [],
   "source": []
  }
 ],
 "metadata": {
  "kernelspec": {
   "display_name": "personal",
   "language": "python",
   "name": "personal"
  },
  "language_info": {
   "codemirror_mode": {
    "name": "ipython",
    "version": 3
   },
   "file_extension": ".py",
   "mimetype": "text/x-python",
   "name": "python",
   "nbconvert_exporter": "python",
   "pygments_lexer": "ipython3",
   "version": "3.7.7"
  }
 },
 "nbformat": 4,
 "nbformat_minor": 4
}
