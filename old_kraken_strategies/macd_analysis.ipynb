{
 "cells": [
  {
   "cell_type": "code",
   "execution_count": 4,
   "metadata": {
    "execution": {
     "iopub.execute_input": "2020-12-15T22:49:37.592417Z",
     "iopub.status.busy": "2020-12-15T22:49:37.592190Z",
     "iopub.status.idle": "2020-12-15T22:49:37.614293Z",
     "shell.execute_reply": "2020-12-15T22:49:37.613751Z",
     "shell.execute_reply.started": "2020-12-15T22:49:37.592390Z"
    }
   },
   "outputs": [],
   "source": [
    "# Library imports:\n",
    "import pandas as pd"
   ]
  },
  {
   "cell_type": "code",
   "execution_count": 14,
   "metadata": {
    "execution": {
     "iopub.execute_input": "2020-12-15T22:53:55.038297Z",
     "iopub.status.busy": "2020-12-15T22:53:55.038065Z",
     "iopub.status.idle": "2020-12-15T22:53:55.144478Z",
     "shell.execute_reply": "2020-12-15T22:53:55.143855Z",
     "shell.execute_reply.started": "2020-12-15T22:53:55.038269Z"
    }
   },
   "outputs": [
    {
     "data": {
      "text/html": [
       "<div>\n",
       "<style scoped>\n",
       "    .dataframe tbody tr th:only-of-type {\n",
       "        vertical-align: middle;\n",
       "    }\n",
       "\n",
       "    .dataframe tbody tr th {\n",
       "        vertical-align: top;\n",
       "    }\n",
       "\n",
       "    .dataframe thead th {\n",
       "        text-align: right;\n",
       "    }\n",
       "</style>\n",
       "<table border=\"1\" class=\"dataframe\">\n",
       "  <thead>\n",
       "    <tr style=\"text-align: right;\">\n",
       "      <th></th>\n",
       "      <th>time_period_start</th>\n",
       "      <th>time_period_end</th>\n",
       "      <th>time_open</th>\n",
       "      <th>time_close</th>\n",
       "      <th>price_open</th>\n",
       "      <th>price_high</th>\n",
       "      <th>price_low</th>\n",
       "      <th>price_close</th>\n",
       "      <th>volume_traded</th>\n",
       "      <th>trades_count</th>\n",
       "    </tr>\n",
       "  </thead>\n",
       "  <tbody>\n",
       "    <tr>\n",
       "      <th>0</th>\n",
       "      <td>2016-10-17 12:00:00+00:00</td>\n",
       "      <td>2016-10-17 16:00:00+00:00</td>\n",
       "      <td>2016-10-17 14:02:50.463000+00:00</td>\n",
       "      <td>2016-10-17 15:52:20.075000+00:00</td>\n",
       "      <td>11.87000</td>\n",
       "      <td>11.90000</td>\n",
       "      <td>11.85972</td>\n",
       "      <td>11.8895</td>\n",
       "      <td>1076.171006</td>\n",
       "      <td>48</td>\n",
       "    </tr>\n",
       "    <tr>\n",
       "      <th>1</th>\n",
       "      <td>2016-10-17 16:00:00+00:00</td>\n",
       "      <td>2016-10-17 20:00:00+00:00</td>\n",
       "      <td>2016-10-17 16:06:47.168000+00:00</td>\n",
       "      <td>2016-10-17 19:59:40.924000+00:00</td>\n",
       "      <td>11.89000</td>\n",
       "      <td>12.00000</td>\n",
       "      <td>11.89000</td>\n",
       "      <td>12.0000</td>\n",
       "      <td>6184.443260</td>\n",
       "      <td>182</td>\n",
       "    </tr>\n",
       "    <tr>\n",
       "      <th>2</th>\n",
       "      <td>2016-10-17 20:00:00+00:00</td>\n",
       "      <td>2016-10-18 00:00:00+00:00</td>\n",
       "      <td>2016-10-17 20:00:56.389000+00:00</td>\n",
       "      <td>2016-10-17 22:59:11.255000+00:00</td>\n",
       "      <td>12.00000</td>\n",
       "      <td>12.03000</td>\n",
       "      <td>11.93356</td>\n",
       "      <td>12.0300</td>\n",
       "      <td>3391.487460</td>\n",
       "      <td>120</td>\n",
       "    </tr>\n",
       "    <tr>\n",
       "      <th>3</th>\n",
       "      <td>2016-10-18 00:00:00+00:00</td>\n",
       "      <td>2016-10-18 04:00:00+00:00</td>\n",
       "      <td>2016-10-18 00:52:09.076000+00:00</td>\n",
       "      <td>2016-10-18 03:56:53.167000+00:00</td>\n",
       "      <td>12.02591</td>\n",
       "      <td>12.20000</td>\n",
       "      <td>12.00000</td>\n",
       "      <td>12.2000</td>\n",
       "      <td>1590.240506</td>\n",
       "      <td>53</td>\n",
       "    </tr>\n",
       "    <tr>\n",
       "      <th>4</th>\n",
       "      <td>2016-10-18 04:00:00+00:00</td>\n",
       "      <td>2016-10-18 08:00:00+00:00</td>\n",
       "      <td>2016-10-18 04:01:54.687000+00:00</td>\n",
       "      <td>2016-10-18 07:51:48.682000+00:00</td>\n",
       "      <td>12.20000</td>\n",
       "      <td>12.54799</td>\n",
       "      <td>12.20000</td>\n",
       "      <td>12.4310</td>\n",
       "      <td>4801.330298</td>\n",
       "      <td>164</td>\n",
       "    </tr>\n",
       "  </tbody>\n",
       "</table>\n",
       "</div>"
      ],
      "text/plain": [
       "          time_period_start           time_period_end  \\\n",
       "0 2016-10-17 12:00:00+00:00 2016-10-17 16:00:00+00:00   \n",
       "1 2016-10-17 16:00:00+00:00 2016-10-17 20:00:00+00:00   \n",
       "2 2016-10-17 20:00:00+00:00 2016-10-18 00:00:00+00:00   \n",
       "3 2016-10-18 00:00:00+00:00 2016-10-18 04:00:00+00:00   \n",
       "4 2016-10-18 04:00:00+00:00 2016-10-18 08:00:00+00:00   \n",
       "\n",
       "                         time_open                       time_close  \\\n",
       "0 2016-10-17 14:02:50.463000+00:00 2016-10-17 15:52:20.075000+00:00   \n",
       "1 2016-10-17 16:06:47.168000+00:00 2016-10-17 19:59:40.924000+00:00   \n",
       "2 2016-10-17 20:00:56.389000+00:00 2016-10-17 22:59:11.255000+00:00   \n",
       "3 2016-10-18 00:52:09.076000+00:00 2016-10-18 03:56:53.167000+00:00   \n",
       "4 2016-10-18 04:01:54.687000+00:00 2016-10-18 07:51:48.682000+00:00   \n",
       "\n",
       "   price_open  price_high  price_low  price_close  volume_traded  trades_count  \n",
       "0    11.87000    11.90000   11.85972      11.8895    1076.171006            48  \n",
       "1    11.89000    12.00000   11.89000      12.0000    6184.443260           182  \n",
       "2    12.00000    12.03000   11.93356      12.0300    3391.487460           120  \n",
       "3    12.02591    12.20000   12.00000      12.2000    1590.240506            53  \n",
       "4    12.20000    12.54799   12.20000      12.4310    4801.330298           164  "
      ]
     },
     "execution_count": 14,
     "metadata": {},
     "output_type": "execute_result"
    }
   ],
   "source": [
    "# Load data:\n",
    "df = pd.read_csv('eth_historical_4hrs.csv', parse_dates=['time_period_start', 'time_period_end', 'time_open', 'time_close'])\n",
    "df.head()"
   ]
  },
  {
   "cell_type": "code",
   "execution_count": 15,
   "metadata": {
    "execution": {
     "iopub.execute_input": "2020-12-15T22:54:04.707579Z",
     "iopub.status.busy": "2020-12-15T22:54:04.707332Z",
     "iopub.status.idle": "2020-12-15T22:54:04.736700Z",
     "shell.execute_reply": "2020-12-15T22:54:04.735987Z",
     "shell.execute_reply.started": "2020-12-15T22:54:04.707551Z"
    }
   },
   "outputs": [
    {
     "name": "stdout",
     "output_type": "stream",
     "text": [
      "<class 'pandas.core.frame.DataFrame'>\n",
      "RangeIndex: 8413 entries, 0 to 8412\n",
      "Data columns (total 10 columns):\n",
      " #   Column             Non-Null Count  Dtype              \n",
      "---  ------             --------------  -----              \n",
      " 0   time_period_start  8413 non-null   datetime64[ns, UTC]\n",
      " 1   time_period_end    8413 non-null   datetime64[ns, UTC]\n",
      " 2   time_open          8413 non-null   datetime64[ns, UTC]\n",
      " 3   time_close         8413 non-null   datetime64[ns, UTC]\n",
      " 4   price_open         8413 non-null   float64            \n",
      " 5   price_high         8413 non-null   float64            \n",
      " 6   price_low          8413 non-null   float64            \n",
      " 7   price_close        8413 non-null   float64            \n",
      " 8   volume_traded      8413 non-null   float64            \n",
      " 9   trades_count       8413 non-null   int64              \n",
      "dtypes: datetime64[ns, UTC](4), float64(5), int64(1)\n",
      "memory usage: 657.4 KB\n"
     ]
    }
   ],
   "source": [
    "df.info()"
   ]
  },
  {
   "cell_type": "code",
   "execution_count": 17,
   "metadata": {
    "execution": {
     "iopub.execute_input": "2020-12-15T22:55:14.869276Z",
     "iopub.status.busy": "2020-12-15T22:55:14.869045Z",
     "iopub.status.idle": "2020-12-15T22:55:14.897278Z",
     "shell.execute_reply": "2020-12-15T22:55:14.896729Z",
     "shell.execute_reply.started": "2020-12-15T22:55:14.869250Z"
    }
   },
   "outputs": [],
   "source": [
    "# Calculate MACD\n",
    "FAST, SLOW, SIGNAL = 12, 26, 9\n",
    "macd_fast = df['price_close'].ewm(span=FAST, adjust=False).mean()\n",
    "macd_slow = df['price_close'].ewm(span=SLOW, adjust=False).mean()\n",
    "macd = macd_fast-macd_slow\n",
    "signal = macd.ewm(span=SIGNAL, adjust=False).mean()\n",
    "\n",
    "# Add in MACD indicators:\n",
    "df['macd'] = macd\n",
    "df['signal'] = signal"
   ]
  },
  {
   "cell_type": "code",
   "execution_count": null,
   "metadata": {},
   "outputs": [],
   "source": []
  }
 ],
 "metadata": {
  "kernelspec": {
   "display_name": "personal",
   "language": "python",
   "name": "personal"
  },
  "language_info": {
   "codemirror_mode": {
    "name": "ipython",
    "version": 3
   },
   "file_extension": ".py",
   "mimetype": "text/x-python",
   "name": "python",
   "nbconvert_exporter": "python",
   "pygments_lexer": "ipython3",
   "version": "3.7.7"
  }
 },
 "nbformat": 4,
 "nbformat_minor": 4
}
