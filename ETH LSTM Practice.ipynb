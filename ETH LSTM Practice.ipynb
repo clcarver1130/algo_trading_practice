{
 "cells": [
  {
   "cell_type": "code",
   "execution_count": 2,
   "metadata": {
    "execution": {
     "iopub.execute_input": "2020-08-16T21:13:59.265729Z",
     "iopub.status.busy": "2020-08-16T21:13:59.265544Z",
     "iopub.status.idle": "2020-08-16T21:14:02.257122Z",
     "shell.execute_reply": "2020-08-16T21:14:02.256426Z",
     "shell.execute_reply.started": "2020-08-16T21:13:59.265710Z"
    }
   },
   "outputs": [],
   "source": [
    "import pandas as pd\n",
    "import time\n",
    "import matplotlib.pyplot as plt\n",
    "import datetime\n",
    "import numpy as np\n",
    "import gc\n",
    "%matplotlib inline\n",
    "\n",
    "# !pip install -q keras \n",
    "\n",
    "from tensorflow.keras.models import Sequential\n",
    "from tensorflow.keras.layers import Activation, Dense\n",
    "from tensorflow.keras.layers import LSTM\n",
    "from tensorflow.keras.layers import Dropout\n",
    "\n",
    "from coinapi_rest_v1 import CoinAPIv1\n",
    "from robin_helperfunctions import round_to_hour"
   ]
  },
  {
   "cell_type": "code",
   "execution_count": 3,
   "metadata": {
    "execution": {
     "iopub.execute_input": "2020-08-16T21:14:02.258403Z",
     "iopub.status.busy": "2020-08-16T21:14:02.258235Z",
     "iopub.status.idle": "2020-08-16T21:14:02.298414Z",
     "shell.execute_reply": "2020-08-16T21:14:02.297716Z",
     "shell.execute_reply.started": "2020-08-16T21:14:02.258383Z"
    }
   },
   "outputs": [],
   "source": [
    "# Constants:\n",
    "window_len = 3\n",
    "neurons = 1024                 # number of hidden units in the LSTM layer\n",
    "activation_function = 'tanh'  # activation function for LSTM and Dense layer\n",
    "loss = 'mse'                  # loss function for calculating the gradient, in this case Mean Squared Error\n",
    "optimizer= 'adam'             # optimizer for appljying gradient decent\n",
    "dropout = 0.25                # dropout ratio used after each LSTM layer to avoid overfitting\n",
    "batch_size = 128              \n",
    "epochs = 15"
   ]
  },
  {
   "cell_type": "code",
   "execution_count": 4,
   "metadata": {
    "execution": {
     "iopub.execute_input": "2020-08-16T21:14:02.300015Z",
     "iopub.status.busy": "2020-08-16T21:14:02.299852Z",
     "iopub.status.idle": "2020-08-16T21:14:02.340298Z",
     "shell.execute_reply": "2020-08-16T21:14:02.339802Z",
     "shell.execute_reply.started": "2020-08-16T21:14:02.299996Z"
    }
   },
   "outputs": [],
   "source": [
    "### CoinAPI login\n",
    "from logins import CoinAPI_KEY\n",
    "coin_api = CoinAPIv1(CoinAPI_KEY)"
   ]
  },
  {
   "cell_type": "code",
   "execution_count": 5,
   "metadata": {
    "execution": {
     "iopub.execute_input": "2020-08-16T21:14:02.341559Z",
     "iopub.status.busy": "2020-08-16T21:14:02.341408Z",
     "iopub.status.idle": "2020-08-16T21:14:02.380817Z",
     "shell.execute_reply": "2020-08-16T21:14:02.380266Z",
     "shell.execute_reply.started": "2020-08-16T21:14:02.341541Z"
    }
   },
   "outputs": [],
   "source": [
    "# symbol = 'KRAKEN_SPOT_ETH_USD'\n",
    "# agg = '30MIN'\n",
    "# hours_of_data = 10000\n",
    "# now = str(pd.Timestamp.today())[0:16]\n",
    "# time_window = round_to_hour(pd.Timestamp.today() - datetime.timedelta(hours=hours_of_data)).isoformat()\n",
    "# df = pd.DataFrame(coin_api.ohlcv_historical_data(symbol, {'period_id':agg, 'time_start':time_window, 'limit':'100000'})).set_index('time_period_start')"
   ]
  },
  {
   "cell_type": "code",
   "execution_count": 6,
   "metadata": {
    "execution": {
     "iopub.execute_input": "2020-08-16T21:14:02.381958Z",
     "iopub.status.busy": "2020-08-16T21:14:02.381787Z",
     "iopub.status.idle": "2020-08-16T21:14:02.471883Z",
     "shell.execute_reply": "2020-08-16T21:14:02.471368Z",
     "shell.execute_reply.started": "2020-08-16T21:14:02.381937Z"
    }
   },
   "outputs": [],
   "source": [
    "df = pd.read_csv('eth_historical_data.csv')"
   ]
  },
  {
   "cell_type": "code",
   "execution_count": 7,
   "metadata": {
    "execution": {
     "iopub.execute_input": "2020-08-16T21:14:02.472852Z",
     "iopub.status.busy": "2020-08-16T21:14:02.472708Z",
     "iopub.status.idle": "2020-08-16T21:14:02.515923Z",
     "shell.execute_reply": "2020-08-16T21:14:02.515255Z",
     "shell.execute_reply.started": "2020-08-16T21:14:02.472833Z"
    }
   },
   "outputs": [],
   "source": [
    "model_data = df[['price_open', 'price_high', 'price_low', 'price_close', 'volume_traded', 'trades_count']].reset_index(drop=True)"
   ]
  },
  {
   "cell_type": "code",
   "execution_count": 8,
   "metadata": {
    "execution": {
     "iopub.execute_input": "2020-08-16T21:14:02.517255Z",
     "iopub.status.busy": "2020-08-16T21:14:02.516898Z",
     "iopub.status.idle": "2020-08-16T21:14:02.684618Z",
     "shell.execute_reply": "2020-08-16T21:14:02.683643Z",
     "shell.execute_reply.started": "2020-08-16T21:14:02.517230Z"
    }
   },
   "outputs": [
    {
     "data": {
      "text/plain": [
       "<matplotlib.axes._subplots.AxesSubplot at 0x7fe623dfbc90>"
      ]
     },
     "execution_count": 8,
     "metadata": {},
     "output_type": "execute_result"
    },
    {
     "data": {
      "image/png": "[encoded data removed]",
      "text/plain": [
       "<Figure size 432x288 with 1 Axes>"
      ]
     },
     "metadata": {
      "needs_background": "light"
     },
     "output_type": "display_data"
    }
   ],
   "source": [
    "model_data['price_close'].plot()"
   ]
  },
  {
   "cell_type": "code",
   "execution_count": 9,
   "metadata": {
    "execution": {
     "iopub.execute_input": "2020-08-16T21:14:02.687545Z",
     "iopub.status.busy": "2020-08-16T21:14:02.687336Z",
     "iopub.status.idle": "2020-08-16T21:14:02.729425Z",
     "shell.execute_reply": "2020-08-16T21:14:02.728393Z",
     "shell.execute_reply.started": "2020-08-16T21:14:02.687527Z"
    }
   },
   "outputs": [],
   "source": [
    "def split_data(data, training_size=0.8):\n",
    "  \"\"\"\n",
    "  data: Pandas Dataframe\n",
    "  training_size: proportion of the data to be used for training\n",
    "  This function splits the data into training_set and test_set based on the given training_size\n",
    "  Return: train_set and test_set as pandas DataFrame\n",
    "  \"\"\"\n",
    "  return data[:int(training_size*len(data))], data[int(training_size*len(data)):]"
   ]
  },
  {
   "cell_type": "code",
   "execution_count": 10,
   "metadata": {
    "execution": {
     "iopub.execute_input": "2020-08-16T21:14:02.730980Z",
     "iopub.status.busy": "2020-08-16T21:14:02.730819Z",
     "iopub.status.idle": "2020-08-16T21:14:02.771657Z",
     "shell.execute_reply": "2020-08-16T21:14:02.771086Z",
     "shell.execute_reply.started": "2020-08-16T21:14:02.730960Z"
    }
   },
   "outputs": [],
   "source": [
    "train_set, test_set = split_data(model_data)"
   ]
  },
  {
   "cell_type": "code",
   "execution_count": 11,
   "metadata": {
    "execution": {
     "iopub.execute_input": "2020-08-16T21:14:02.772557Z",
     "iopub.status.busy": "2020-08-16T21:14:02.772420Z",
     "iopub.status.idle": "2020-08-16T21:14:02.815278Z",
     "shell.execute_reply": "2020-08-16T21:14:02.814737Z",
     "shell.execute_reply.started": "2020-08-16T21:14:02.772538Z"
    }
   },
   "outputs": [],
   "source": [
    "def create_inputs(data, window_len):\n",
    "    \n",
    "  '''\n",
    "  data: pandas DataFrame, this could be either training_set or test_set\n",
    "  window_len: is an intiger to be used as the look back window for creating a single input sample.\n",
    "  This function will create input array X from the given dataset and will normalize data between 0 and 1\n",
    "  Return: X, the input for our model as a python list which later needs to be converted to numpy array.\n",
    "  '''\n",
    "\n",
    "  inputs = []\n",
    "  for i in range(len(data) - window_len):\n",
    "    temp_set = data[i:(i + window_len)].copy()\n",
    "    inputs.append(temp_set)\n",
    "    for col in data:\n",
    "      inputs[i].loc[:, col] = inputs[i].loc[:, col] / inputs[i].loc[:, col].iloc[0] - 1  \n",
    "  return inputs\n",
    "\n",
    "def to_array(data):\n",
    "  \"\"\"\n",
    "  data: DataFrame\n",
    "  This function will convert list of inputs to a numpy array\n",
    "  Return: numpy array\n",
    "  \"\"\"\n",
    "  x = [np.array(data[i]) for i in range (len(data))]\n",
    "  return np.array(x)\n"
   ]
  },
  {
   "cell_type": "code",
   "execution_count": 12,
   "metadata": {
    "execution": {
     "iopub.execute_input": "2020-08-16T21:14:02.816417Z",
     "iopub.status.busy": "2020-08-16T21:14:02.816256Z",
     "iopub.status.idle": "2020-08-16T21:15:09.112382Z",
     "shell.execute_reply": "2020-08-16T21:15:09.111783Z",
     "shell.execute_reply.started": "2020-08-16T21:14:02.816397Z"
    }
   },
   "outputs": [],
   "source": [
    "X_train = to_array(create_inputs(train_set, window_len))\n",
    "X_test = to_array(create_inputs(test_set, window_len))"
   ]
  },
  {
   "cell_type": "code",
   "execution_count": 13,
   "metadata": {
    "execution": {
     "iopub.execute_input": "2020-08-16T21:15:09.113540Z",
     "iopub.status.busy": "2020-08-16T21:15:09.113367Z",
     "iopub.status.idle": "2020-08-16T21:15:09.154629Z",
     "shell.execute_reply": "2020-08-16T21:15:09.154071Z",
     "shell.execute_reply.started": "2020-08-16T21:15:09.113520Z"
    }
   },
   "outputs": [],
   "source": [
    "def create_outputs(data, window_len):\n",
    "  \"\"\"\n",
    "  data: pandas DataFrame, this could be either training_set or test_set\n",
    "  window_len: is an intiger to be used as the look back window for creating a single input sample.\n",
    "  This function will create the labels array for our training and validation and normalize it between 0 and 1\n",
    "  Return: Normalized numpy array for 'Close' prices of the given coin\n",
    "  \"\"\"\n",
    "  return (data['price_close'][window_len:].values / data['price_close'][:-window_len].values) - 1"
   ]
  },
  {
   "cell_type": "code",
   "execution_count": 14,
   "metadata": {
    "execution": {
     "iopub.execute_input": "2020-08-16T21:15:09.155636Z",
     "iopub.status.busy": "2020-08-16T21:15:09.155494Z",
     "iopub.status.idle": "2020-08-16T21:15:09.197316Z",
     "shell.execute_reply": "2020-08-16T21:15:09.196818Z",
     "shell.execute_reply.started": "2020-08-16T21:15:09.155617Z"
    }
   },
   "outputs": [
    {
     "data": {
      "text/plain": [
       "array([311.24, 308.8 , 308.91, ..., 207.62, 206.22, 206.2 ])"
      ]
     },
     "execution_count": 14,
     "metadata": {},
     "output_type": "execute_result"
    }
   ],
   "source": [
    "train_set['price_close'][:].values"
   ]
  },
  {
   "cell_type": "code",
   "execution_count": 15,
   "metadata": {
    "execution": {
     "iopub.execute_input": "2020-08-16T21:15:09.198455Z",
     "iopub.status.busy": "2020-08-16T21:15:09.198252Z",
     "iopub.status.idle": "2020-08-16T21:15:09.239994Z",
     "shell.execute_reply": "2020-08-16T21:15:09.239530Z",
     "shell.execute_reply.started": "2020-08-16T21:15:09.198430Z"
    }
   },
   "outputs": [
    {
     "data": {
      "text/plain": [
       "array([310.44, 310.43, 309.55, ..., 207.62, 206.22, 206.2 ])"
      ]
     },
     "execution_count": 15,
     "metadata": {},
     "output_type": "execute_result"
    }
   ],
   "source": [
    "train_set['price_close'][window_len:].values"
   ]
  },
  {
   "cell_type": "code",
   "execution_count": 16,
   "metadata": {
    "execution": {
     "iopub.execute_input": "2020-08-16T21:15:09.241892Z",
     "iopub.status.busy": "2020-08-16T21:15:09.241723Z",
     "iopub.status.idle": "2020-08-16T21:15:09.282604Z",
     "shell.execute_reply": "2020-08-16T21:15:09.282058Z",
     "shell.execute_reply.started": "2020-08-16T21:15:09.241872Z"
    }
   },
   "outputs": [],
   "source": [
    "Y_train = create_outputs(train_set, 3)\n",
    "Y_test = create_outputs(test_set, 3)"
   ]
  },
  {
   "cell_type": "code",
   "execution_count": 17,
   "metadata": {
    "execution": {
     "iopub.execute_input": "2020-08-16T21:15:09.283950Z",
     "iopub.status.busy": "2020-08-16T21:15:09.283781Z",
     "iopub.status.idle": "2020-08-16T21:15:09.327630Z",
     "shell.execute_reply": "2020-08-16T21:15:09.327018Z",
     "shell.execute_reply.started": "2020-08-16T21:15:09.283930Z"
    }
   },
   "outputs": [],
   "source": [
    "def build_model(inputs, output_size, neurons, activ_func=activation_function, dropout=dropout, loss=loss, optimizer=optimizer):\n",
    "  \"\"\"\n",
    "  inputs: input data as numpy array\n",
    "  output_size: number of predictions per input sample\n",
    "  neurons: number of neurons/ units in the LSTM layer\n",
    "  active_func: Activation function to be used in LSTM layers and Dense layer\n",
    "  dropout: dropout ration, default is 0.25\n",
    "  loss: loss function for calculating the gradient\n",
    "  optimizer: type of optimizer to backpropagate the gradient\n",
    "  This function will build 3 layered RNN model with LSTM cells with dripouts after each LSTM layer \n",
    "  and finally a dense layer to produce the output using keras' sequential model.\n",
    "  Return: Keras sequential model and model summary\n",
    "  \"\"\"\n",
    "  model = Sequential()\n",
    "  model.add(LSTM(neurons, return_sequences=True, input_shape=(inputs.shape[1], inputs.shape[2]), activation=activ_func))\n",
    "  model.add(Dropout(dropout))\n",
    "  model.add(LSTM(neurons, return_sequences=True, activation=activ_func))\n",
    "  model.add(Dropout(dropout))\n",
    "  model.add(LSTM(neurons, return_sequences=True, activation=activ_func))\n",
    "  model.add(Dropout(dropout))\n",
    "  model.add(LSTM(neurons, activation=activ_func))\n",
    "  model.add(Dropout(dropout))\n",
    "  model.add(Dense(units=output_size))\n",
    "  model.add(Activation(activ_func))\n",
    "  model.compile(loss=loss, optimizer=optimizer, metrics=['mae'])\n",
    "  model.summary()\n",
    "  return model"
   ]
  },
  {
   "cell_type": "code",
   "execution_count": 27,
   "metadata": {
    "execution": {
     "iopub.execute_input": "2020-08-16T23:09:17.033654Z",
     "iopub.status.busy": "2020-08-16T23:09:17.033396Z",
     "iopub.status.idle": "2020-08-16T23:09:17.083452Z",
     "shell.execute_reply": "2020-08-16T23:09:17.082945Z",
     "shell.execute_reply.started": "2020-08-16T23:09:17.033624Z"
    }
   },
   "outputs": [
    {
     "data": {
      "text/plain": [
       "(15997,)"
      ]
     },
     "execution_count": 27,
     "metadata": {},
     "output_type": "execute_result"
    }
   ],
   "source": [
    "Y_train.shape"
   ]
  },
  {
   "cell_type": "code",
   "execution_count": 22,
   "metadata": {
    "execution": {
     "iopub.execute_input": "2020-08-16T23:08:34.204482Z",
     "iopub.status.busy": "2020-08-16T23:08:34.204246Z",
     "iopub.status.idle": "2020-08-16T23:08:34.252892Z",
     "shell.execute_reply": "2020-08-16T23:08:34.252127Z",
     "shell.execute_reply.started": "2020-08-16T23:08:34.204455Z"
    }
   },
   "outputs": [
    {
     "data": {
      "text/plain": [
       "(15997, 3, 6)"
      ]
     },
     "execution_count": 22,
     "metadata": {},
     "output_type": "execute_result"
    }
   ],
   "source": [
    "X_train.shape"
   ]
  },
  {
   "cell_type": "code",
   "execution_count": 25,
   "metadata": {
    "execution": {
     "iopub.execute_input": "2020-08-16T23:08:58.548455Z",
     "iopub.status.busy": "2020-08-16T23:08:58.548185Z",
     "iopub.status.idle": "2020-08-16T23:09:03.096182Z",
     "shell.execute_reply": "2020-08-16T23:09:03.095783Z",
     "shell.execute_reply.started": "2020-08-16T23:08:58.548424Z"
    }
   },
   "outputs": [
    {
     "name": "stdout",
     "output_type": "stream",
     "text": [
      "Model: \"sequential\"\n",
      "_________________________________________________________________\n",
      "Layer (type)                 Output Shape              Param #   \n",
      "=================================================================\n",
      "lstm (LSTM)                  (None, 3, 1024)           4222976   \n",
      "_________________________________________________________________\n",
      "dropout (Dropout)            (None, 3, 1024)           0         \n",
      "_________________________________________________________________\n",
      "lstm_1 (LSTM)                (None, 3, 1024)           8392704   \n",
      "_________________________________________________________________\n",
      "dropout_1 (Dropout)          (None, 3, 1024)           0         \n",
      "_________________________________________________________________\n",
      "lstm_2 (LSTM)                (None, 3, 1024)           8392704   \n",
      "_________________________________________________________________\n",
      "dropout_2 (Dropout)          (None, 3, 1024)           0         \n",
      "_________________________________________________________________\n",
      "lstm_3 (LSTM)                (None, 1024)              8392704   \n",
      "_________________________________________________________________\n",
      "dropout_3 (Dropout)          (None, 1024)              0         \n",
      "_________________________________________________________________\n",
      "dense (Dense)                (None, 1)                 1025      \n",
      "_________________________________________________________________\n",
      "activation (Activation)      (None, 1)                 0         \n",
      "=================================================================\n",
      "Total params: 29,402,113\n",
      "Trainable params: 29,402,113\n",
      "Non-trainable params: 0\n",
      "_________________________________________________________________\n"
     ]
    }
   ],
   "source": [
    "# clean up the memory\n",
    "gc.collect()\n",
    "\n",
    "# random seed for reproducibility\n",
    "np.random.seed(202)\n",
    "\n",
    "# initialise model architecture\n",
    "eth_model = build_model(X_train, output_size=1, neurons=neurons)"
   ]
  },
  {
   "cell_type": "code",
   "execution_count": 26,
   "metadata": {
    "execution": {
     "iopub.execute_input": "2020-08-16T23:09:03.097686Z",
     "iopub.status.busy": "2020-08-16T23:09:03.097502Z",
     "iopub.status.idle": "2020-08-16T23:09:08.329858Z",
     "shell.execute_reply": "2020-08-16T23:09:08.328689Z",
     "shell.execute_reply.started": "2020-08-16T23:09:03.097666Z"
    }
   },
   "outputs": [
    {
     "name": "stdout",
     "output_type": "stream",
     "text": [
      "Epoch 1/15\n",
      "  1/125 [..............................] - ETA: 0s - loss: 4.1685e-04 - mae: 0.0131"
     ]
    },
    {
     "ename": "KeyboardInterrupt",
     "evalue": "",
     "output_type": "error",
     "traceback": [
      "\u001b[0;31m---------------------------------------------------------------------------\u001b[0m",
      "\u001b[0;31mKeyboardInterrupt\u001b[0m                         Traceback (most recent call last)",
      "\u001b[0;32m<ipython-input-26-37e032c2e8e7>\u001b[0m in \u001b[0;36m<module>\u001b[0;34m\u001b[0m\n\u001b[1;32m      1\u001b[0m \u001b[0;31m# train model on data\u001b[0m\u001b[0;34m\u001b[0m\u001b[0;34m\u001b[0m\u001b[0;34m\u001b[0m\u001b[0m\n\u001b[0;32m----> 2\u001b[0;31m \u001b[0meth_results\u001b[0m \u001b[0;34m=\u001b[0m \u001b[0meth_model\u001b[0m\u001b[0;34m.\u001b[0m\u001b[0mfit\u001b[0m\u001b[0;34m(\u001b[0m\u001b[0mX_train\u001b[0m\u001b[0;34m,\u001b[0m \u001b[0mY_train\u001b[0m\u001b[0;34m,\u001b[0m \u001b[0mepochs\u001b[0m\u001b[0;34m=\u001b[0m\u001b[0mepochs\u001b[0m\u001b[0;34m,\u001b[0m \u001b[0mbatch_size\u001b[0m\u001b[0;34m=\u001b[0m\u001b[0mbatch_size\u001b[0m\u001b[0;34m,\u001b[0m \u001b[0mverbose\u001b[0m\u001b[0;34m=\u001b[0m\u001b[0;36m1\u001b[0m\u001b[0;34m,\u001b[0m \u001b[0mvalidation_data\u001b[0m\u001b[0;34m=\u001b[0m\u001b[0;34m(\u001b[0m\u001b[0mX_test\u001b[0m\u001b[0;34m,\u001b[0m \u001b[0mY_test\u001b[0m\u001b[0;34m)\u001b[0m\u001b[0;34m,\u001b[0m \u001b[0mshuffle\u001b[0m\u001b[0;34m=\u001b[0m\u001b[0;32mFalse\u001b[0m\u001b[0;34m)\u001b[0m\u001b[0;34m\u001b[0m\u001b[0;34m\u001b[0m\u001b[0m\n\u001b[0m",
      "\u001b[0;32m~/miniconda3/envs/personal/lib/python3.7/site-packages/tensorflow/python/keras/engine/training.py\u001b[0m in \u001b[0;36m_method_wrapper\u001b[0;34m(self, *args, **kwargs)\u001b[0m\n\u001b[1;32m    106\u001b[0m   \u001b[0;32mdef\u001b[0m \u001b[0m_method_wrapper\u001b[0m\u001b[0;34m(\u001b[0m\u001b[0mself\u001b[0m\u001b[0;34m,\u001b[0m \u001b[0;34m*\u001b[0m\u001b[0margs\u001b[0m\u001b[0;34m,\u001b[0m \u001b[0;34m**\u001b[0m\u001b[0mkwargs\u001b[0m\u001b[0;34m)\u001b[0m\u001b[0;34m:\u001b[0m\u001b[0;34m\u001b[0m\u001b[0;34m\u001b[0m\u001b[0m\n\u001b[1;32m    107\u001b[0m     \u001b[0;32mif\u001b[0m \u001b[0;32mnot\u001b[0m \u001b[0mself\u001b[0m\u001b[0;34m.\u001b[0m\u001b[0m_in_multi_worker_mode\u001b[0m\u001b[0;34m(\u001b[0m\u001b[0;34m)\u001b[0m\u001b[0;34m:\u001b[0m  \u001b[0;31m# pylint: disable=protected-access\u001b[0m\u001b[0;34m\u001b[0m\u001b[0;34m\u001b[0m\u001b[0m\n\u001b[0;32m--> 108\u001b[0;31m       \u001b[0;32mreturn\u001b[0m \u001b[0mmethod\u001b[0m\u001b[0;34m(\u001b[0m\u001b[0mself\u001b[0m\u001b[0;34m,\u001b[0m \u001b[0;34m*\u001b[0m\u001b[0margs\u001b[0m\u001b[0;34m,\u001b[0m \u001b[0;34m**\u001b[0m\u001b[0mkwargs\u001b[0m\u001b[0;34m)\u001b[0m\u001b[0;34m\u001b[0m\u001b[0;34m\u001b[0m\u001b[0m\n\u001b[0m\u001b[1;32m    109\u001b[0m \u001b[0;34m\u001b[0m\u001b[0m\n\u001b[1;32m    110\u001b[0m     \u001b[0;31m# Running inside `run_distribute_coordinator` already.\u001b[0m\u001b[0;34m\u001b[0m\u001b[0;34m\u001b[0m\u001b[0;34m\u001b[0m\u001b[0m\n",
      "\u001b[0;32m~/miniconda3/envs/personal/lib/python3.7/site-packages/tensorflow/python/keras/engine/training.py\u001b[0m in \u001b[0;36mfit\u001b[0;34m(self, x, y, batch_size, epochs, verbose, callbacks, validation_split, validation_data, shuffle, class_weight, sample_weight, initial_epoch, steps_per_epoch, validation_steps, validation_batch_size, validation_freq, max_queue_size, workers, use_multiprocessing)\u001b[0m\n\u001b[1;32m   1096\u001b[0m                 batch_size=batch_size):\n\u001b[1;32m   1097\u001b[0m               \u001b[0mcallbacks\u001b[0m\u001b[0;34m.\u001b[0m\u001b[0mon_train_batch_begin\u001b[0m\u001b[0;34m(\u001b[0m\u001b[0mstep\u001b[0m\u001b[0;34m)\u001b[0m\u001b[0;34m\u001b[0m\u001b[0;34m\u001b[0m\u001b[0m\n\u001b[0;32m-> 1098\u001b[0;31m               \u001b[0mtmp_logs\u001b[0m \u001b[0;34m=\u001b[0m \u001b[0mtrain_function\u001b[0m\u001b[0;34m(\u001b[0m\u001b[0miterator\u001b[0m\u001b[0;34m)\u001b[0m\u001b[0;34m\u001b[0m\u001b[0;34m\u001b[0m\u001b[0m\n\u001b[0m\u001b[1;32m   1099\u001b[0m               \u001b[0;32mif\u001b[0m \u001b[0mdata_handler\u001b[0m\u001b[0;34m.\u001b[0m\u001b[0mshould_sync\u001b[0m\u001b[0;34m:\u001b[0m\u001b[0;34m\u001b[0m\u001b[0;34m\u001b[0m\u001b[0m\n\u001b[1;32m   1100\u001b[0m                 \u001b[0mcontext\u001b[0m\u001b[0;34m.\u001b[0m\u001b[0masync_wait\u001b[0m\u001b[0;34m(\u001b[0m\u001b[0;34m)\u001b[0m\u001b[0;34m\u001b[0m\u001b[0;34m\u001b[0m\u001b[0m\n",
      "\u001b[0;32m~/miniconda3/envs/personal/lib/python3.7/site-packages/tensorflow/python/eager/def_function.py\u001b[0m in \u001b[0;36m__call__\u001b[0;34m(self, *args, **kwds)\u001b[0m\n\u001b[1;32m    778\u001b[0m       \u001b[0;32melse\u001b[0m\u001b[0;34m:\u001b[0m\u001b[0;34m\u001b[0m\u001b[0;34m\u001b[0m\u001b[0m\n\u001b[1;32m    779\u001b[0m         \u001b[0mcompiler\u001b[0m \u001b[0;34m=\u001b[0m \u001b[0;34m\"nonXla\"\u001b[0m\u001b[0;34m\u001b[0m\u001b[0;34m\u001b[0m\u001b[0m\n\u001b[0;32m--> 780\u001b[0;31m         \u001b[0mresult\u001b[0m \u001b[0;34m=\u001b[0m \u001b[0mself\u001b[0m\u001b[0;34m.\u001b[0m\u001b[0m_call\u001b[0m\u001b[0;34m(\u001b[0m\u001b[0;34m*\u001b[0m\u001b[0margs\u001b[0m\u001b[0;34m,\u001b[0m \u001b[0;34m**\u001b[0m\u001b[0mkwds\u001b[0m\u001b[0;34m)\u001b[0m\u001b[0;34m\u001b[0m\u001b[0;34m\u001b[0m\u001b[0m\n\u001b[0m\u001b[1;32m    781\u001b[0m \u001b[0;34m\u001b[0m\u001b[0m\n\u001b[1;32m    782\u001b[0m       \u001b[0mnew_tracing_count\u001b[0m \u001b[0;34m=\u001b[0m \u001b[0mself\u001b[0m\u001b[0;34m.\u001b[0m\u001b[0m_get_tracing_count\u001b[0m\u001b[0;34m(\u001b[0m\u001b[0;34m)\u001b[0m\u001b[0;34m\u001b[0m\u001b[0;34m\u001b[0m\u001b[0m\n",
      "\u001b[0;32m~/miniconda3/envs/personal/lib/python3.7/site-packages/tensorflow/python/eager/def_function.py\u001b[0m in \u001b[0;36m_call\u001b[0;34m(self, *args, **kwds)\u001b[0m\n\u001b[1;32m    805\u001b[0m       \u001b[0;31m# In this case we have created variables on the first call, so we run the\u001b[0m\u001b[0;34m\u001b[0m\u001b[0;34m\u001b[0m\u001b[0;34m\u001b[0m\u001b[0m\n\u001b[1;32m    806\u001b[0m       \u001b[0;31m# defunned version which is guaranteed to never create variables.\u001b[0m\u001b[0;34m\u001b[0m\u001b[0;34m\u001b[0m\u001b[0;34m\u001b[0m\u001b[0m\n\u001b[0;32m--> 807\u001b[0;31m       \u001b[0;32mreturn\u001b[0m \u001b[0mself\u001b[0m\u001b[0;34m.\u001b[0m\u001b[0m_stateless_fn\u001b[0m\u001b[0;34m(\u001b[0m\u001b[0;34m*\u001b[0m\u001b[0margs\u001b[0m\u001b[0;34m,\u001b[0m \u001b[0;34m**\u001b[0m\u001b[0mkwds\u001b[0m\u001b[0;34m)\u001b[0m  \u001b[0;31m# pylint: disable=not-callable\u001b[0m\u001b[0;34m\u001b[0m\u001b[0;34m\u001b[0m\u001b[0m\n\u001b[0m\u001b[1;32m    808\u001b[0m     \u001b[0;32melif\u001b[0m \u001b[0mself\u001b[0m\u001b[0;34m.\u001b[0m\u001b[0m_stateful_fn\u001b[0m \u001b[0;32mis\u001b[0m \u001b[0;32mnot\u001b[0m \u001b[0;32mNone\u001b[0m\u001b[0;34m:\u001b[0m\u001b[0;34m\u001b[0m\u001b[0;34m\u001b[0m\u001b[0m\n\u001b[1;32m    809\u001b[0m       \u001b[0;31m# Release the lock early so that multiple threads can perform the call\u001b[0m\u001b[0;34m\u001b[0m\u001b[0;34m\u001b[0m\u001b[0;34m\u001b[0m\u001b[0m\n",
      "\u001b[0;32m~/miniconda3/envs/personal/lib/python3.7/site-packages/tensorflow/python/eager/function.py\u001b[0m in \u001b[0;36m__call__\u001b[0;34m(self, *args, **kwargs)\u001b[0m\n\u001b[1;32m   2827\u001b[0m     \u001b[0;32mwith\u001b[0m \u001b[0mself\u001b[0m\u001b[0;34m.\u001b[0m\u001b[0m_lock\u001b[0m\u001b[0;34m:\u001b[0m\u001b[0;34m\u001b[0m\u001b[0;34m\u001b[0m\u001b[0m\n\u001b[1;32m   2828\u001b[0m       \u001b[0mgraph_function\u001b[0m\u001b[0;34m,\u001b[0m \u001b[0margs\u001b[0m\u001b[0;34m,\u001b[0m \u001b[0mkwargs\u001b[0m \u001b[0;34m=\u001b[0m \u001b[0mself\u001b[0m\u001b[0;34m.\u001b[0m\u001b[0m_maybe_define_function\u001b[0m\u001b[0;34m(\u001b[0m\u001b[0margs\u001b[0m\u001b[0;34m,\u001b[0m \u001b[0mkwargs\u001b[0m\u001b[0;34m)\u001b[0m\u001b[0;34m\u001b[0m\u001b[0;34m\u001b[0m\u001b[0m\n\u001b[0;32m-> 2829\u001b[0;31m     \u001b[0;32mreturn\u001b[0m \u001b[0mgraph_function\u001b[0m\u001b[0;34m.\u001b[0m\u001b[0m_filtered_call\u001b[0m\u001b[0;34m(\u001b[0m\u001b[0margs\u001b[0m\u001b[0;34m,\u001b[0m \u001b[0mkwargs\u001b[0m\u001b[0;34m)\u001b[0m  \u001b[0;31m# pylint: disable=protected-access\u001b[0m\u001b[0;34m\u001b[0m\u001b[0;34m\u001b[0m\u001b[0m\n\u001b[0m\u001b[1;32m   2830\u001b[0m \u001b[0;34m\u001b[0m\u001b[0m\n\u001b[1;32m   2831\u001b[0m   \u001b[0;34m@\u001b[0m\u001b[0mproperty\u001b[0m\u001b[0;34m\u001b[0m\u001b[0;34m\u001b[0m\u001b[0m\n",
      "\u001b[0;32m~/miniconda3/envs/personal/lib/python3.7/site-packages/tensorflow/python/eager/function.py\u001b[0m in \u001b[0;36m_filtered_call\u001b[0;34m(self, args, kwargs, cancellation_manager)\u001b[0m\n\u001b[1;32m   1846\u001b[0m                            resource_variable_ops.BaseResourceVariable))],\n\u001b[1;32m   1847\u001b[0m         \u001b[0mcaptured_inputs\u001b[0m\u001b[0;34m=\u001b[0m\u001b[0mself\u001b[0m\u001b[0;34m.\u001b[0m\u001b[0mcaptured_inputs\u001b[0m\u001b[0;34m,\u001b[0m\u001b[0;34m\u001b[0m\u001b[0;34m\u001b[0m\u001b[0m\n\u001b[0;32m-> 1848\u001b[0;31m         cancellation_manager=cancellation_manager)\n\u001b[0m\u001b[1;32m   1849\u001b[0m \u001b[0;34m\u001b[0m\u001b[0m\n\u001b[1;32m   1850\u001b[0m   \u001b[0;32mdef\u001b[0m \u001b[0m_call_flat\u001b[0m\u001b[0;34m(\u001b[0m\u001b[0mself\u001b[0m\u001b[0;34m,\u001b[0m \u001b[0margs\u001b[0m\u001b[0;34m,\u001b[0m \u001b[0mcaptured_inputs\u001b[0m\u001b[0;34m,\u001b[0m \u001b[0mcancellation_manager\u001b[0m\u001b[0;34m=\u001b[0m\u001b[0;32mNone\u001b[0m\u001b[0;34m)\u001b[0m\u001b[0;34m:\u001b[0m\u001b[0;34m\u001b[0m\u001b[0;34m\u001b[0m\u001b[0m\n",
      "\u001b[0;32m~/miniconda3/envs/personal/lib/python3.7/site-packages/tensorflow/python/eager/function.py\u001b[0m in \u001b[0;36m_call_flat\u001b[0;34m(self, args, captured_inputs, cancellation_manager)\u001b[0m\n\u001b[1;32m   1922\u001b[0m       \u001b[0;31m# No tape is watching; skip to running the function.\u001b[0m\u001b[0;34m\u001b[0m\u001b[0;34m\u001b[0m\u001b[0;34m\u001b[0m\u001b[0m\n\u001b[1;32m   1923\u001b[0m       return self._build_call_outputs(self._inference_function.call(\n\u001b[0;32m-> 1924\u001b[0;31m           ctx, args, cancellation_manager=cancellation_manager))\n\u001b[0m\u001b[1;32m   1925\u001b[0m     forward_backward = self._select_forward_and_backward_functions(\n\u001b[1;32m   1926\u001b[0m         \u001b[0margs\u001b[0m\u001b[0;34m,\u001b[0m\u001b[0;34m\u001b[0m\u001b[0;34m\u001b[0m\u001b[0m\n",
      "\u001b[0;32m~/miniconda3/envs/personal/lib/python3.7/site-packages/tensorflow/python/eager/function.py\u001b[0m in \u001b[0;36mcall\u001b[0;34m(self, ctx, args, cancellation_manager)\u001b[0m\n\u001b[1;32m    548\u001b[0m               \u001b[0minputs\u001b[0m\u001b[0;34m=\u001b[0m\u001b[0margs\u001b[0m\u001b[0;34m,\u001b[0m\u001b[0;34m\u001b[0m\u001b[0;34m\u001b[0m\u001b[0m\n\u001b[1;32m    549\u001b[0m               \u001b[0mattrs\u001b[0m\u001b[0;34m=\u001b[0m\u001b[0mattrs\u001b[0m\u001b[0;34m,\u001b[0m\u001b[0;34m\u001b[0m\u001b[0;34m\u001b[0m\u001b[0m\n\u001b[0;32m--> 550\u001b[0;31m               ctx=ctx)\n\u001b[0m\u001b[1;32m    551\u001b[0m         \u001b[0;32melse\u001b[0m\u001b[0;34m:\u001b[0m\u001b[0;34m\u001b[0m\u001b[0;34m\u001b[0m\u001b[0m\n\u001b[1;32m    552\u001b[0m           outputs = execute.execute_with_cancellation(\n",
      "\u001b[0;32m~/miniconda3/envs/personal/lib/python3.7/site-packages/tensorflow/python/eager/execute.py\u001b[0m in \u001b[0;36mquick_execute\u001b[0;34m(op_name, num_outputs, inputs, attrs, ctx, name)\u001b[0m\n\u001b[1;32m     58\u001b[0m     \u001b[0mctx\u001b[0m\u001b[0;34m.\u001b[0m\u001b[0mensure_initialized\u001b[0m\u001b[0;34m(\u001b[0m\u001b[0;34m)\u001b[0m\u001b[0;34m\u001b[0m\u001b[0;34m\u001b[0m\u001b[0m\n\u001b[1;32m     59\u001b[0m     tensors = pywrap_tfe.TFE_Py_Execute(ctx._handle, device_name, op_name,\n\u001b[0;32m---> 60\u001b[0;31m                                         inputs, attrs, num_outputs)\n\u001b[0m\u001b[1;32m     61\u001b[0m   \u001b[0;32mexcept\u001b[0m \u001b[0mcore\u001b[0m\u001b[0;34m.\u001b[0m\u001b[0m_NotOkStatusException\u001b[0m \u001b[0;32mas\u001b[0m \u001b[0me\u001b[0m\u001b[0;34m:\u001b[0m\u001b[0;34m\u001b[0m\u001b[0;34m\u001b[0m\u001b[0m\n\u001b[1;32m     62\u001b[0m     \u001b[0;32mif\u001b[0m \u001b[0mname\u001b[0m \u001b[0;32mis\u001b[0m \u001b[0;32mnot\u001b[0m \u001b[0;32mNone\u001b[0m\u001b[0;34m:\u001b[0m\u001b[0;34m\u001b[0m\u001b[0;34m\u001b[0m\u001b[0m\n",
      "\u001b[0;31mKeyboardInterrupt\u001b[0m: "
     ]
    }
   ],
   "source": [
    "# train model on data\n",
    "eth_results = eth_model.fit(X_train, Y_train, epochs=epochs, batch_size=batch_size, verbose=1, validation_data=(X_test, Y_test), shuffle=False)"
   ]
  },
  {
   "cell_type": "code",
   "execution_count": 121,
   "metadata": {
    "execution": {
     "iopub.execute_input": "2020-08-15T12:02:23.297293Z",
     "iopub.status.busy": "2020-08-15T12:02:23.297039Z",
     "iopub.status.idle": "2020-08-15T12:02:23.358195Z",
     "shell.execute_reply": "2020-08-15T12:02:23.357622Z",
     "shell.execute_reply.started": "2020-08-15T12:02:23.297264Z"
    }
   },
   "outputs": [],
   "source": [
    "def show_plot(data, tag):\n",
    "  fig, (ax1, ax2) = plt.subplots(2,1, gridspec_kw = {'height_ratios':[3, 1]})\n",
    "  ax1.set_ylabel('Closing Price ($)',fontsize=12)\n",
    "  ax2.set_ylabel('Volume ($ bn)',fontsize=12)\n",
    "  ax2.set_yticks([int('%d000000000'%i) for i in range(10)])\n",
    "  ax2.set_yticklabels(range(10))\n",
    "  ax1.set_xticks([datetime.date(i,j,1) for i in range(2013,2019) for j in [1,7]])\n",
    "  ax1.set_xticklabels('')\n",
    "  ax2.set_xticks([datetime.date(i,j,1) for i in range(2013,2019) for j in [1,7]])\n",
    "  ax2.set_xticklabels([datetime.date(i,j,1).strftime('%b %Y')  for i in range(2013,2019) for j in [1,7]])\n",
    "  ax1.plot(data['time_close'],data['price_close'])\n",
    "  ax2.bar(data['time_close'].values, data['volume_traded'].values)\n",
    "  fig.tight_layout()\n",
    "  plt.show()\n",
    "  \n",
    "\n",
    "def date_labels(market_data):\n",
    "  last_date = market_data.iloc[0, 0]\n",
    "  date_list = [last_date - datetime.timedelta(days=x) for x in range(len(X_test))]\n",
    "  return[date.strftime('%m/%d/%Y') for date in date_list][::-1]\n",
    "\n",
    "\n",
    "def plot_results(history, model, Y_target):\n",
    "  plt.figure(figsize=(25, 20))\n",
    "  plt.subplot(311)\n",
    "  plt.plot(history.epoch, history.history['loss'], )\n",
    "  plt.plot(history.epoch, history.history['val_loss'])\n",
    "  plt.xlabel('Number of Epochs')\n",
    "  plt.ylabel('Loss')\n",
    "  plt.title(' Model Loss')\n",
    "  plt.legend(['Training', 'Test'])\n",
    "\n",
    "  plt.subplot(312)\n",
    "  plt.plot(Y_target)\n",
    "  plt.plot(model.predict(X_train))\n",
    "  plt.xlabel('Dates')\n",
    "  plt.ylabel('Price')\n",
    "  plt.title(' Single Point Price Prediction on Training Set')\n",
    "  plt.legend(['Actual','Predicted'])\n",
    "\n",
    "  ax1 = plt.subplot(313)\n",
    "  plt.plot(test_set['price_close'][window_len:].values.tolist())\n",
    "  plt.plot(((np.transpose(model.predict(X_test)) + 1) * test_set['price_close'].values[:-window_len])[0])\n",
    "  plt.xlabel('Dates')\n",
    "  plt.ylabel('Price')\n",
    "  plt.title(' Single Point Price Prediction on Test Set')\n",
    "  plt.legend(['Actual','Predicted'])\n",
    "  \n",
    "#   date_list = date_labels(history)\n",
    "#   ax1.set_xticks([x for x in range(len(date_list))])\n",
    "#   for label in ax1.set_xticklabels([date for date in date_list], rotation='vertical')[::2]:\n",
    "#     label.set_visible(False)\n",
    "\n",
    "  plt.show()"
   ]
  },
  {
   "cell_type": "code",
   "execution_count": 129,
   "metadata": {
    "execution": {
     "iopub.execute_input": "2020-08-15T12:34:01.956174Z",
     "iopub.status.busy": "2020-08-15T12:34:01.955946Z",
     "iopub.status.idle": "2020-08-15T12:34:02.006299Z",
     "shell.execute_reply": "2020-08-15T12:34:02.005731Z",
     "shell.execute_reply.started": "2020-08-15T12:34:01.956148Z"
    }
   },
   "outputs": [
    {
     "data": {
      "text/plain": [
       "array([206.5 , 206.77, 207.54, ..., 441.53, 440.56, 440.93])"
      ]
     },
     "execution_count": 129,
     "metadata": {},
     "output_type": "execute_result"
    }
   ],
   "source": [
    "test_set['price_close'].values[:-window_len]"
   ]
  },
  {
   "cell_type": "code",
   "execution_count": 144,
   "metadata": {
    "execution": {
     "iopub.execute_input": "2020-08-15T12:44:25.756298Z",
     "iopub.status.busy": "2020-08-15T12:44:25.756049Z",
     "iopub.status.idle": "2020-08-15T12:44:29.373704Z",
     "shell.execute_reply": "2020-08-15T12:44:29.372917Z",
     "shell.execute_reply.started": "2020-08-15T12:44:25.756270Z"
    }
   },
   "outputs": [
    {
     "data": {
      "text/plain": [
       "array([207.63886786, 206.32315233, 206.15080992, ..., 440.75882595,\n",
       "       443.14676317, 443.4483436 ])"
      ]
     },
     "execution_count": 144,
     "metadata": {},
     "output_type": "execute_result"
    }
   ],
   "source": [
    "((np.transpose(eth_model.predict(X_test)) + 1) * test_set['price_close'].values[:-window_len])[0]"
   ]
  },
  {
   "cell_type": "code",
   "execution_count": 146,
   "metadata": {
    "execution": {
     "iopub.execute_input": "2020-08-15T12:45:31.990958Z",
     "iopub.status.busy": "2020-08-15T12:45:31.990727Z",
     "iopub.status.idle": "2020-08-15T12:45:35.620680Z",
     "shell.execute_reply": "2020-08-15T12:45:35.620018Z",
     "shell.execute_reply.started": "2020-08-15T12:45:31.990931Z"
    }
   },
   "outputs": [
    {
     "data": {
      "text/plain": [
       "1.0057114"
      ]
     },
     "execution_count": 146,
     "metadata": {},
     "output_type": "execute_result"
    }
   ],
   "source": [
    "(np.transpose(eth_model.predict(X_test)) + 1)[0][-1]"
   ]
  },
  {
   "cell_type": "code",
   "execution_count": 150,
   "metadata": {
    "execution": {
     "iopub.execute_input": "2020-08-15T12:47:32.099308Z",
     "iopub.status.busy": "2020-08-15T12:47:32.099080Z",
     "iopub.status.idle": "2020-08-15T12:47:32.146914Z",
     "shell.execute_reply": "2020-08-15T12:47:32.146390Z",
     "shell.execute_reply.started": "2020-08-15T12:47:32.099281Z"
    }
   },
   "outputs": [
    {
     "data": {
      "text/plain": [
       "16000    206.50\n",
       "16001    206.77\n",
       "16002    207.54\n",
       "16003    206.09\n",
       "16004    206.40\n",
       "          ...  \n",
       "19996    440.56\n",
       "19997    440.93\n",
       "19998    442.00\n",
       "19999    442.97\n",
       "20000    441.00\n",
       "Name: price_close, Length: 4001, dtype: float64"
      ]
     },
     "execution_count": 150,
     "metadata": {},
     "output_type": "execute_result"
    }
   ],
   "source": [
    "test_set['price_close']"
   ]
  },
  {
   "cell_type": "code",
   "execution_count": 149,
   "metadata": {
    "execution": {
     "iopub.execute_input": "2020-08-15T12:47:02.317492Z",
     "iopub.status.busy": "2020-08-15T12:47:02.317221Z",
     "iopub.status.idle": "2020-08-15T12:47:02.367170Z",
     "shell.execute_reply": "2020-08-15T12:47:02.366600Z",
     "shell.execute_reply.started": "2020-08-15T12:47:02.317462Z"
    }
   },
   "outputs": [
    {
     "data": {
      "text/plain": [
       "3998"
      ]
     },
     "execution_count": 149,
     "metadata": {},
     "output_type": "execute_result"
    }
   ],
   "source": [
    "len(X_test)"
   ]
  },
  {
   "cell_type": "code",
   "execution_count": 122,
   "metadata": {
    "execution": {
     "iopub.execute_input": "2020-08-15T12:02:23.803577Z",
     "iopub.status.busy": "2020-08-15T12:02:23.803312Z",
     "iopub.status.idle": "2020-08-15T12:02:42.133282Z",
     "shell.execute_reply": "2020-08-15T12:02:42.132865Z",
     "shell.execute_reply.started": "2020-08-15T12:02:23.803546Z"
    }
   },
   "outputs": [
    {
     "data": {
      "image/png": "[encoded data removed]",
      "text/plain": [
       "<Figure size 1800x1440 with 3 Axes>"
      ]
     },
     "metadata": {
      "needs_background": "light"
     },
     "output_type": "display_data"
    }
   ],
   "source": [
    "plot_results(eth_results, eth_model, Y_train)"
   ]
  },
  {
   "cell_type": "markdown",
   "metadata": {},
   "source": [
    "### Single Point Tests"
   ]
  },
  {
   "cell_type": "code",
   "execution_count": 88,
   "metadata": {
    "execution": {
     "iopub.execute_input": "2020-08-15T11:53:04.654466Z",
     "iopub.status.busy": "2020-08-15T11:53:04.654249Z",
     "iopub.status.idle": "2020-08-15T11:53:04.703839Z",
     "shell.execute_reply": "2020-08-15T11:53:04.703338Z",
     "shell.execute_reply.started": "2020-08-15T11:53:04.654441Z"
    }
   },
   "outputs": [
    {
     "data": {
      "text/html": [
       "<div>\n",
       "<style scoped>\n",
       "    .dataframe tbody tr th:only-of-type {\n",
       "        vertical-align: middle;\n",
       "    }\n",
       "\n",
       "    .dataframe tbody tr th {\n",
       "        vertical-align: top;\n",
       "    }\n",
       "\n",
       "    .dataframe thead th {\n",
       "        text-align: right;\n",
       "    }\n",
       "</style>\n",
       "<table border=\"1\" class=\"dataframe\">\n",
       "  <thead>\n",
       "    <tr style=\"text-align: right;\">\n",
       "      <th></th>\n",
       "      <th>time_period_start</th>\n",
       "      <th>time_period_end</th>\n",
       "      <th>time_open</th>\n",
       "      <th>time_close</th>\n",
       "      <th>price_open</th>\n",
       "      <th>price_high</th>\n",
       "      <th>price_low</th>\n",
       "      <th>price_close</th>\n",
       "      <th>volume_traded</th>\n",
       "      <th>trades_count</th>\n",
       "    </tr>\n",
       "  </thead>\n",
       "  <tbody>\n",
       "    <tr>\n",
       "      <th>19996</th>\n",
       "      <td>2020-08-14T17:00:00.0000000Z</td>\n",
       "      <td>2020-08-14T17:30:00.0000000Z</td>\n",
       "      <td>2020-08-14T17:00:01.7180000Z</td>\n",
       "      <td>2020-08-14T17:29:55.2850000Z</td>\n",
       "      <td>441.54</td>\n",
       "      <td>442.60</td>\n",
       "      <td>437.03</td>\n",
       "      <td>440.56</td>\n",
       "      <td>3507.431196</td>\n",
       "      <td>836</td>\n",
       "    </tr>\n",
       "    <tr>\n",
       "      <th>19997</th>\n",
       "      <td>2020-08-14T17:30:00.0000000Z</td>\n",
       "      <td>2020-08-14T18:00:00.0000000Z</td>\n",
       "      <td>2020-08-14T17:30:01.9370000Z</td>\n",
       "      <td>2020-08-14T17:59:32.2080000Z</td>\n",
       "      <td>440.31</td>\n",
       "      <td>442.41</td>\n",
       "      <td>438.69</td>\n",
       "      <td>440.93</td>\n",
       "      <td>1392.748513</td>\n",
       "      <td>393</td>\n",
       "    </tr>\n",
       "    <tr>\n",
       "      <th>19998</th>\n",
       "      <td>2020-08-14T18:00:00.0000000Z</td>\n",
       "      <td>2020-08-14T18:30:00.0000000Z</td>\n",
       "      <td>2020-08-14T18:00:17.9710000Z</td>\n",
       "      <td>2020-08-14T18:29:32.0840000Z</td>\n",
       "      <td>440.55</td>\n",
       "      <td>444.13</td>\n",
       "      <td>440.28</td>\n",
       "      <td>442.00</td>\n",
       "      <td>1784.620684</td>\n",
       "      <td>453</td>\n",
       "    </tr>\n",
       "    <tr>\n",
       "      <th>19999</th>\n",
       "      <td>2020-08-14T18:30:00.0000000Z</td>\n",
       "      <td>2020-08-14T19:00:00.0000000Z</td>\n",
       "      <td>2020-08-14T18:30:01.6520000Z</td>\n",
       "      <td>2020-08-14T18:59:47.9260000Z</td>\n",
       "      <td>442.20</td>\n",
       "      <td>444.50</td>\n",
       "      <td>441.61</td>\n",
       "      <td>442.97</td>\n",
       "      <td>888.232354</td>\n",
       "      <td>268</td>\n",
       "    </tr>\n",
       "    <tr>\n",
       "      <th>20000</th>\n",
       "      <td>2020-08-14T19:00:00.0000000Z</td>\n",
       "      <td>2020-08-14T19:30:00.0000000Z</td>\n",
       "      <td>2020-08-14T19:00:04.5300000Z</td>\n",
       "      <td>2020-08-14T19:11:21.2950000Z</td>\n",
       "      <td>442.86</td>\n",
       "      <td>442.91</td>\n",
       "      <td>441.00</td>\n",
       "      <td>441.00</td>\n",
       "      <td>617.408476</td>\n",
       "      <td>147</td>\n",
       "    </tr>\n",
       "  </tbody>\n",
       "</table>\n",
       "</div>"
      ],
      "text/plain": [
       "                  time_period_start               time_period_end  \\\n",
       "19996  2020-08-14T17:00:00.0000000Z  2020-08-14T17:30:00.0000000Z   \n",
       "19997  2020-08-14T17:30:00.0000000Z  2020-08-14T18:00:00.0000000Z   \n",
       "19998  2020-08-14T18:00:00.0000000Z  2020-08-14T18:30:00.0000000Z   \n",
       "19999  2020-08-14T18:30:00.0000000Z  2020-08-14T19:00:00.0000000Z   \n",
       "20000  2020-08-14T19:00:00.0000000Z  2020-08-14T19:30:00.0000000Z   \n",
       "\n",
       "                          time_open                    time_close  price_open  \\\n",
       "19996  2020-08-14T17:00:01.7180000Z  2020-08-14T17:29:55.2850000Z      441.54   \n",
       "19997  2020-08-14T17:30:01.9370000Z  2020-08-14T17:59:32.2080000Z      440.31   \n",
       "19998  2020-08-14T18:00:17.9710000Z  2020-08-14T18:29:32.0840000Z      440.55   \n",
       "19999  2020-08-14T18:30:01.6520000Z  2020-08-14T18:59:47.9260000Z      442.20   \n",
       "20000  2020-08-14T19:00:04.5300000Z  2020-08-14T19:11:21.2950000Z      442.86   \n",
       "\n",
       "       price_high  price_low  price_close  volume_traded  trades_count  \n",
       "19996      442.60     437.03       440.56    3507.431196           836  \n",
       "19997      442.41     438.69       440.93    1392.748513           393  \n",
       "19998      444.13     440.28       442.00    1784.620684           453  \n",
       "19999      444.50     441.61       442.97     888.232354           268  \n",
       "20000      442.91     441.00       441.00     617.408476           147  "
      ]
     },
     "execution_count": 88,
     "metadata": {},
     "output_type": "execute_result"
    }
   ],
   "source": [
    "df.tail()"
   ]
  },
  {
   "cell_type": "code",
   "execution_count": 134,
   "metadata": {
    "execution": {
     "iopub.execute_input": "2020-08-15T12:39:30.391516Z",
     "iopub.status.busy": "2020-08-15T12:39:30.391274Z",
     "iopub.status.idle": "2020-08-15T12:39:30.442496Z",
     "shell.execute_reply": "2020-08-15T12:39:30.441993Z",
     "shell.execute_reply.started": "2020-08-15T12:39:30.391489Z"
    }
   },
   "outputs": [],
   "source": [
    "data = df[['price_open', 'price_high', 'price_low', 'price_close', 'volume_traded', 'trades_count']].reset_index(drop=True).iloc[-4:-1]"
   ]
  },
  {
   "cell_type": "code",
   "execution_count": 135,
   "metadata": {
    "execution": {
     "iopub.execute_input": "2020-08-15T12:39:35.604598Z",
     "iopub.status.busy": "2020-08-15T12:39:35.604316Z",
     "iopub.status.idle": "2020-08-15T12:39:35.661344Z",
     "shell.execute_reply": "2020-08-15T12:39:35.660739Z",
     "shell.execute_reply.started": "2020-08-15T12:39:35.604568Z"
    }
   },
   "outputs": [
    {
     "data": {
      "text/html": [
       "<div>\n",
       "<style scoped>\n",
       "    .dataframe tbody tr th:only-of-type {\n",
       "        vertical-align: middle;\n",
       "    }\n",
       "\n",
       "    .dataframe tbody tr th {\n",
       "        vertical-align: top;\n",
       "    }\n",
       "\n",
       "    .dataframe thead th {\n",
       "        text-align: right;\n",
       "    }\n",
       "</style>\n",
       "<table border=\"1\" class=\"dataframe\">\n",
       "  <thead>\n",
       "    <tr style=\"text-align: right;\">\n",
       "      <th></th>\n",
       "      <th>price_open</th>\n",
       "      <th>price_high</th>\n",
       "      <th>price_low</th>\n",
       "      <th>price_close</th>\n",
       "      <th>volume_traded</th>\n",
       "      <th>trades_count</th>\n",
       "    </tr>\n",
       "  </thead>\n",
       "  <tbody>\n",
       "    <tr>\n",
       "      <th>19997</th>\n",
       "      <td>440.31</td>\n",
       "      <td>442.41</td>\n",
       "      <td>438.69</td>\n",
       "      <td>440.93</td>\n",
       "      <td>1392.748513</td>\n",
       "      <td>393</td>\n",
       "    </tr>\n",
       "    <tr>\n",
       "      <th>19998</th>\n",
       "      <td>440.55</td>\n",
       "      <td>444.13</td>\n",
       "      <td>440.28</td>\n",
       "      <td>442.00</td>\n",
       "      <td>1784.620684</td>\n",
       "      <td>453</td>\n",
       "    </tr>\n",
       "    <tr>\n",
       "      <th>19999</th>\n",
       "      <td>442.20</td>\n",
       "      <td>444.50</td>\n",
       "      <td>441.61</td>\n",
       "      <td>442.97</td>\n",
       "      <td>888.232354</td>\n",
       "      <td>268</td>\n",
       "    </tr>\n",
       "  </tbody>\n",
       "</table>\n",
       "</div>"
      ],
      "text/plain": [
       "       price_open  price_high  price_low  price_close  volume_traded  \\\n",
       "19997      440.31      442.41     438.69       440.93    1392.748513   \n",
       "19998      440.55      444.13     440.28       442.00    1784.620684   \n",
       "19999      442.20      444.50     441.61       442.97     888.232354   \n",
       "\n",
       "       trades_count  \n",
       "19997           393  \n",
       "19998           453  \n",
       "19999           268  "
      ]
     },
     "execution_count": 135,
     "metadata": {},
     "output_type": "execute_result"
    }
   ],
   "source": [
    "data"
   ]
  },
  {
   "cell_type": "code",
   "execution_count": 136,
   "metadata": {
    "execution": {
     "iopub.execute_input": "2020-08-15T12:39:50.022491Z",
     "iopub.status.busy": "2020-08-15T12:39:50.022301Z",
     "iopub.status.idle": "2020-08-15T12:39:50.066283Z",
     "shell.execute_reply": "2020-08-15T12:39:50.065606Z",
     "shell.execute_reply.started": "2020-08-15T12:39:50.022472Z"
    }
   },
   "outputs": [],
   "source": [
    "data_normalized = data.copy()\n",
    "for col in data:\n",
    "  data_normalized.loc[:, col] = data_normalized.loc[:, col] / data_normalized.loc[:, col].iloc[0] - 1 \n",
    "model_input = np.array(np.array(data_normalized))"
   ]
  },
  {
   "cell_type": "code",
   "execution_count": 164,
   "metadata": {
    "execution": {
     "iopub.execute_input": "2020-08-15T12:51:51.067137Z",
     "iopub.status.busy": "2020-08-15T12:51:51.066894Z",
     "iopub.status.idle": "2020-08-15T12:51:51.119689Z",
     "shell.execute_reply": "2020-08-15T12:51:51.119176Z",
     "shell.execute_reply.started": "2020-08-15T12:51:51.067109Z"
    }
   },
   "outputs": [
    {
     "data": {
      "text/html": [
       "<div>\n",
       "<style scoped>\n",
       "    .dataframe tbody tr th:only-of-type {\n",
       "        vertical-align: middle;\n",
       "    }\n",
       "\n",
       "    .dataframe tbody tr th {\n",
       "        vertical-align: top;\n",
       "    }\n",
       "\n",
       "    .dataframe thead th {\n",
       "        text-align: right;\n",
       "    }\n",
       "</style>\n",
       "<table border=\"1\" class=\"dataframe\">\n",
       "  <thead>\n",
       "    <tr style=\"text-align: right;\">\n",
       "      <th></th>\n",
       "      <th>price_open</th>\n",
       "      <th>price_high</th>\n",
       "      <th>price_low</th>\n",
       "      <th>price_close</th>\n",
       "      <th>volume_traded</th>\n",
       "      <th>trades_count</th>\n",
       "    </tr>\n",
       "  </thead>\n",
       "  <tbody>\n",
       "    <tr>\n",
       "      <th>19997</th>\n",
       "      <td>0.000000</td>\n",
       "      <td>0.000000</td>\n",
       "      <td>0.000000</td>\n",
       "      <td>0.000000</td>\n",
       "      <td>0.000000</td>\n",
       "      <td>0.000000</td>\n",
       "    </tr>\n",
       "    <tr>\n",
       "      <th>19998</th>\n",
       "      <td>0.000545</td>\n",
       "      <td>0.003888</td>\n",
       "      <td>0.003624</td>\n",
       "      <td>0.002427</td>\n",
       "      <td>0.281366</td>\n",
       "      <td>0.152672</td>\n",
       "    </tr>\n",
       "    <tr>\n",
       "      <th>19999</th>\n",
       "      <td>0.004292</td>\n",
       "      <td>0.004724</td>\n",
       "      <td>0.006656</td>\n",
       "      <td>0.004627</td>\n",
       "      <td>-0.362245</td>\n",
       "      <td>-0.318066</td>\n",
       "    </tr>\n",
       "  </tbody>\n",
       "</table>\n",
       "</div>"
      ],
      "text/plain": [
       "       price_open  price_high  price_low  price_close  volume_traded  \\\n",
       "19997    0.000000    0.000000   0.000000     0.000000       0.000000   \n",
       "19998    0.000545    0.003888   0.003624     0.002427       0.281366   \n",
       "19999    0.004292    0.004724   0.006656     0.004627      -0.362245   \n",
       "\n",
       "       trades_count  \n",
       "19997      0.000000  \n",
       "19998      0.152672  \n",
       "19999     -0.318066  "
      ]
     },
     "execution_count": 164,
     "metadata": {},
     "output_type": "execute_result"
    }
   ],
   "source": [
    "data_normalized"
   ]
  },
  {
   "cell_type": "code",
   "execution_count": 162,
   "metadata": {
    "execution": {
     "iopub.execute_input": "2020-08-15T12:51:28.296988Z",
     "iopub.status.busy": "2020-08-15T12:51:28.296753Z",
     "iopub.status.idle": "2020-08-15T12:51:28.345148Z",
     "shell.execute_reply": "2020-08-15T12:51:28.344671Z",
     "shell.execute_reply.started": "2020-08-15T12:51:28.296961Z"
    }
   },
   "outputs": [
    {
     "data": {
      "text/plain": [
       "440.93"
      ]
     },
     "execution_count": 162,
     "metadata": {},
     "output_type": "execute_result"
    }
   ],
   "source": [
    "data['price_close'].iloc[-3]"
   ]
  },
  {
   "cell_type": "code",
   "execution_count": 161,
   "metadata": {
    "execution": {
     "iopub.execute_input": "2020-08-15T12:51:03.646182Z",
     "iopub.status.busy": "2020-08-15T12:51:03.645922Z",
     "iopub.status.idle": "2020-08-15T12:51:03.831986Z",
     "shell.execute_reply": "2020-08-15T12:51:03.831488Z",
     "shell.execute_reply.started": "2020-08-15T12:51:03.646151Z"
    }
   },
   "outputs": [
    {
     "data": {
      "text/plain": [
       "[<matplotlib.lines.Line2D at 0x7f974ef3f310>]"
      ]
     },
     "execution_count": 161,
     "metadata": {},
     "output_type": "execute_result"
    },
    {
     "data": {
      "image/png": "[encoded data removed]",
      "text/plain": [
       "<Figure size 432x288 with 1 Axes>"
      ]
     },
     "metadata": {
      "needs_background": "light"
     },
     "output_type": "display_data"
    }
   ],
   "source": [
    "plt.plot(df['price_close'].tail(4).values.tolist(), marker='o', linestyle='')\n",
    "plt.plot((eth_model.predict(model_reshaped)[0][0] + 1) * data['price_close'].iloc[-3], marker='o', linestyle='')"
   ]
  },
  {
   "cell_type": "code",
   "execution_count": 169,
   "metadata": {
    "execution": {
     "iopub.execute_input": "2020-08-15T13:52:10.857006Z",
     "iopub.status.busy": "2020-08-15T13:52:10.856753Z",
     "iopub.status.idle": "2020-08-15T13:52:10.947761Z",
     "shell.execute_reply": "2020-08-15T13:52:10.947259Z",
     "shell.execute_reply.started": "2020-08-15T13:52:10.856976Z"
    }
   },
   "outputs": [
    {
     "data": {
      "text/plain": [
       "0.005711388"
      ]
     },
     "execution_count": 169,
     "metadata": {},
     "output_type": "execute_result"
    }
   ],
   "source": [
    "eth_model.predict(model_reshaped)[0][0]"
   ]
  },
  {
   "cell_type": "code",
   "execution_count": 167,
   "metadata": {
    "execution": {
     "iopub.execute_input": "2020-08-15T13:51:49.269797Z",
     "iopub.status.busy": "2020-08-15T13:51:49.269546Z",
     "iopub.status.idle": "2020-08-15T13:51:49.394638Z",
     "shell.execute_reply": "2020-08-15T13:51:49.394025Z",
     "shell.execute_reply.started": "2020-08-15T13:51:49.269768Z"
    }
   },
   "outputs": [
    {
     "name": "stdout",
     "output_type": "stream",
     "text": [
      "1.0057113878428936\n",
      "440.93\n"
     ]
    },
    {
     "data": {
      "text/plain": [
       "443.4483222415671"
      ]
     },
     "execution_count": 167,
     "metadata": {},
     "output_type": "execute_result"
    }
   ],
   "source": [
    "print(eth_model.predict(model_reshaped)[0][0] + 1) \n",
    "print(data['price_close'].iloc[-3])\n",
    "(eth_model.predict(model_reshaped)[0][0] + 1) * data['price_close'].iloc[-3]"
   ]
  },
  {
   "cell_type": "code",
   "execution_count": null,
   "metadata": {},
   "outputs": [],
   "source": []
  }
 ],
 "metadata": {
  "kernelspec": {
   "display_name": "personal",
   "language": "python",
   "name": "personal"
  },
  "language_info": {
   "codemirror_mode": {
    "name": "ipython",
    "version": 3
   },
   "file_extension": ".py",
   "mimetype": "text/x-python",
   "name": "python",
   "nbconvert_exporter": "python",
   "pygments_lexer": "ipython3",
   "version": "3.7.7"
  }
 },
 "nbformat": 4,
 "nbformat_minor": 4
}
