{
 "cells": [
  {
   "cell_type": "code",
   "execution_count": 181,
   "metadata": {
    "execution": {
     "iopub.execute_input": "2020-08-16T23:53:19.933278Z",
     "iopub.status.busy": "2020-08-16T23:53:19.933042Z",
     "iopub.status.idle": "2020-08-16T23:53:19.986654Z",
     "shell.execute_reply": "2020-08-16T23:53:19.985968Z",
     "shell.execute_reply.started": "2020-08-16T23:53:19.933250Z"
    }
   },
   "outputs": [],
   "source": [
    "import numpy as np\n",
    "import pandas as pd\n",
    "import datetime\n",
    "from sklearn.metrics import mean_squared_error \n",
    "from sklearn.preprocessing import MinMaxScaler\n",
    "import matplotlib.pyplot as plt\n",
    "import seaborn as sns\n",
    "import gc\n",
    "from tensorflow.keras.models import Sequential\n",
    "from tensorflow.keras.layers import Dense, LSTM, Dropout, Activation\n",
    "from lstmPrice_Prediction import PricePrediction\n",
    "import warnings\n",
    "warnings.filterwarnings(\"ignore\")"
   ]
  },
  {
   "cell_type": "markdown",
   "metadata": {},
   "source": [
    "### Load in Data and Clean:"
   ]
  },
  {
   "cell_type": "code",
   "execution_count": 4,
   "metadata": {
    "execution": {
     "iopub.execute_input": "2020-08-16T22:03:39.564265Z",
     "iopub.status.busy": "2020-08-16T22:03:39.564070Z",
     "iopub.status.idle": "2020-08-16T22:03:40.970633Z",
     "shell.execute_reply": "2020-08-16T22:03:40.970203Z",
     "shell.execute_reply.started": "2020-08-16T22:03:39.564239Z"
    }
   },
   "outputs": [
    {
     "data": {
      "text/html": [
       "<div>\n",
       "<style scoped>\n",
       "    .dataframe tbody tr th:only-of-type {\n",
       "        vertical-align: middle;\n",
       "    }\n",
       "\n",
       "    .dataframe tbody tr th {\n",
       "        vertical-align: top;\n",
       "    }\n",
       "\n",
       "    .dataframe thead th {\n",
       "        text-align: right;\n",
       "    }\n",
       "</style>\n",
       "<table border=\"1\" class=\"dataframe\">\n",
       "  <thead>\n",
       "    <tr style=\"text-align: right;\">\n",
       "      <th></th>\n",
       "      <th>price_open</th>\n",
       "      <th>price_high</th>\n",
       "      <th>price_low</th>\n",
       "      <th>price_close</th>\n",
       "      <th>volume_traded</th>\n",
       "      <th>trades_count</th>\n",
       "    </tr>\n",
       "    <tr>\n",
       "      <th>time_period_start</th>\n",
       "      <th></th>\n",
       "      <th></th>\n",
       "      <th></th>\n",
       "      <th></th>\n",
       "      <th></th>\n",
       "      <th></th>\n",
       "    </tr>\n",
       "  </thead>\n",
       "  <tbody>\n",
       "    <tr>\n",
       "      <th>06-24-2019 17:00</th>\n",
       "      <td>308.84</td>\n",
       "      <td>313.09</td>\n",
       "      <td>308.84</td>\n",
       "      <td>311.24</td>\n",
       "      <td>3454.712211</td>\n",
       "      <td>460</td>\n",
       "    </tr>\n",
       "    <tr>\n",
       "      <th>06-24-2019 17:30</th>\n",
       "      <td>311.23</td>\n",
       "      <td>311.70</td>\n",
       "      <td>308.12</td>\n",
       "      <td>308.80</td>\n",
       "      <td>511.260554</td>\n",
       "      <td>100</td>\n",
       "    </tr>\n",
       "    <tr>\n",
       "      <th>06-24-2019 18:00</th>\n",
       "      <td>308.89</td>\n",
       "      <td>310.31</td>\n",
       "      <td>308.24</td>\n",
       "      <td>308.91</td>\n",
       "      <td>1355.438085</td>\n",
       "      <td>145</td>\n",
       "    </tr>\n",
       "    <tr>\n",
       "      <th>06-24-2019 18:30</th>\n",
       "      <td>308.81</td>\n",
       "      <td>310.44</td>\n",
       "      <td>308.81</td>\n",
       "      <td>310.44</td>\n",
       "      <td>129.936307</td>\n",
       "      <td>134</td>\n",
       "    </tr>\n",
       "    <tr>\n",
       "      <th>06-24-2019 19:00</th>\n",
       "      <td>310.75</td>\n",
       "      <td>312.40</td>\n",
       "      <td>309.79</td>\n",
       "      <td>310.43</td>\n",
       "      <td>2269.709662</td>\n",
       "      <td>410</td>\n",
       "    </tr>\n",
       "  </tbody>\n",
       "</table>\n",
       "</div>"
      ],
      "text/plain": [
       "                   price_open  price_high  price_low  price_close  \\\n",
       "time_period_start                                                   \n",
       "06-24-2019 17:00       308.84      313.09     308.84       311.24   \n",
       "06-24-2019 17:30       311.23      311.70     308.12       308.80   \n",
       "06-24-2019 18:00       308.89      310.31     308.24       308.91   \n",
       "06-24-2019 18:30       308.81      310.44     308.81       310.44   \n",
       "06-24-2019 19:00       310.75      312.40     309.79       310.43   \n",
       "\n",
       "                   volume_traded  trades_count  \n",
       "time_period_start                               \n",
       "06-24-2019 17:00     3454.712211           460  \n",
       "06-24-2019 17:30      511.260554           100  \n",
       "06-24-2019 18:00     1355.438085           145  \n",
       "06-24-2019 18:30      129.936307           134  \n",
       "06-24-2019 19:00     2269.709662           410  "
      ]
     },
     "execution_count": 4,
     "metadata": {},
     "output_type": "execute_result"
    }
   ],
   "source": [
    "# Load historical data from file:\n",
    "df = pd.read_csv('eth_historical_data.csv')\n",
    "\n",
    "# Convert timezones and reformat:\n",
    "df['time_period_start'] = pd.to_datetime(df['time_period_start']).dt.tz_convert('US/Central').dt.strftime('%m-%d-%Y %H:%M')\n",
    "# Reset Index\n",
    "df.set_index('time_period_start', inplace=True)\n",
    "# Pull just the value fields:\n",
    "df = df[['price_open', 'price_high', 'price_low', 'price_close', 'volume_traded', 'trades_count']]\n",
    "df.head()"
   ]
  },
  {
   "cell_type": "code",
   "execution_count": 5,
   "metadata": {
    "execution": {
     "iopub.execute_input": "2020-08-16T22:03:40.972288Z",
     "iopub.status.busy": "2020-08-16T22:03:40.972152Z",
     "iopub.status.idle": "2020-08-16T22:03:41.163391Z",
     "shell.execute_reply": "2020-08-16T22:03:41.162984Z",
     "shell.execute_reply.started": "2020-08-16T22:03:40.972271Z"
    }
   },
   "outputs": [
    {
     "data": {
      "image/png": "[encoded data removed]",
      "text/plain": [
       "<Figure size 1080x360 with 1 Axes>"
      ]
     },
     "metadata": {
      "needs_background": "light"
     },
     "output_type": "display_data"
    }
   ],
   "source": [
    "# Plot the closing prices just as a reference:\n",
    "df['price_close'].plot(figsize=(15,5))\n",
    "plt.ylabel('Close Price')\n",
    "plt.xticks(rotation=45)\n",
    "sns.despine()\n",
    "plt.show()"
   ]
  },
  {
   "cell_type": "markdown",
   "metadata": {},
   "source": [
    "### Prepare Data for Modeling"
   ]
  },
  {
   "cell_type": "code",
   "execution_count": 126,
   "metadata": {
    "execution": {
     "iopub.execute_input": "2020-08-16T23:14:26.448121Z",
     "iopub.status.busy": "2020-08-16T23:14:26.447949Z",
     "iopub.status.idle": "2020-08-16T23:14:27.091143Z",
     "shell.execute_reply": "2020-08-16T23:14:27.090581Z",
     "shell.execute_reply.started": "2020-08-16T23:14:26.448102Z"
    }
   },
   "outputs": [],
   "source": [
    "lstm = PricePrediction()\n",
    "lstm.load_dataframe(df)\n",
    "train_set, test_set = lstm.split_data()\n",
    "\n",
    "n_input = 3 \n",
    "n_out = 1\n",
    "\n",
    "X_train, y_train = lstm.to_supervised(train_set, n_input, n_out)\n",
    "X_test, y_test = lstm.to_supervised(test_set, n_input, n_out)\n",
    "\n",
    "X_train_norm, y_train_norm = lstm.normalize_inputs(X_train, y_train)\n",
    "X_test_norm, y_test_norm = lstm.normalize_inputs(X_test, y_test)"
   ]
  },
  {
   "cell_type": "code",
   "execution_count": 131,
   "metadata": {
    "execution": {
     "iopub.execute_input": "2020-08-16T23:15:18.423456Z",
     "iopub.status.busy": "2020-08-16T23:15:18.423264Z",
     "iopub.status.idle": "2020-08-16T23:15:18.471924Z",
     "shell.execute_reply": "2020-08-16T23:15:18.471278Z",
     "shell.execute_reply.started": "2020-08-16T23:15:18.423436Z"
    }
   },
   "outputs": [],
   "source": [
    "neurons = 1024               # number of hidden units in the LSTM layer\n",
    "activation_function = 'tanh'  # activation function for LSTM and Dense layer\n",
    "loss = 'mse'                  # loss function for calculating the gradient, in this case Mean Squared Error\n",
    "optimizer= 'adam'             # optimizer for appljying gradient decent\n",
    "dropout = 0.25                # dropout ratio used after each LSTM layer to avoid overfitting\n",
    "batch_size = 128              \n",
    "epochs = 12\n",
    "\n",
    "def build_model(inputs, output_size, neurons, activ_func=activation_function, dropout=dropout, loss=loss, optimizer=optimizer):\n",
    "    model = Sequential()\n",
    "    model.add(LSTM(neurons, return_sequences=True, input_shape=(inputs.shape[1], inputs.shape[2]), activation=activ_func))\n",
    "    model.add(Dropout(dropout))\n",
    "    model.add(LSTM(neurons, return_sequences=True, activation=activ_func))\n",
    "    model.add(Dropout(dropout))\n",
    "    model.add(LSTM(neurons, return_sequences=True, activation=activ_func))\n",
    "    model.add(Dropout(dropout))\n",
    "    model.add(LSTM(neurons, activation=activ_func))\n",
    "    model.add(Dropout(dropout))\n",
    "    model.add(Dense(units=n_out))\n",
    "    model.add(Activation(activ_func))\n",
    "    model.compile(loss=loss, optimizer=optimizer, metrics=['mae']) \n",
    "    model.summary()\n",
    "    return model"
   ]
  },
  {
   "cell_type": "code",
   "execution_count": 134,
   "metadata": {
    "execution": {
     "iopub.execute_input": "2020-08-16T23:15:36.007687Z",
     "iopub.status.busy": "2020-08-16T23:15:36.007424Z",
     "iopub.status.idle": "2020-08-16T23:26:47.874100Z",
     "shell.execute_reply": "2020-08-16T23:26:47.873431Z",
     "shell.execute_reply.started": "2020-08-16T23:15:36.007655Z"
    }
   },
   "outputs": [
    {
     "name": "stdout",
     "output_type": "stream",
     "text": [
      "Model: \"sequential\"\n",
      "_________________________________________________________________\n",
      "Layer (type)                 Output Shape              Param #   \n",
      "=================================================================\n",
      "lstm (LSTM)                  (None, 3, 1024)           4222976   \n",
      "_________________________________________________________________\n",
      "dropout (Dropout)            (None, 3, 1024)           0         \n",
      "_________________________________________________________________\n",
      "lstm_1 (LSTM)                (None, 3, 1024)           8392704   \n",
      "_________________________________________________________________\n",
      "dropout_1 (Dropout)          (None, 3, 1024)           0         \n",
      "_________________________________________________________________\n",
      "lstm_2 (LSTM)                (None, 3, 1024)           8392704   \n",
      "_________________________________________________________________\n",
      "dropout_2 (Dropout)          (None, 3, 1024)           0         \n",
      "_________________________________________________________________\n",
      "lstm_3 (LSTM)                (None, 1024)              8392704   \n",
      "_________________________________________________________________\n",
      "dropout_3 (Dropout)          (None, 1024)              0         \n",
      "_________________________________________________________________\n",
      "dense (Dense)                (None, 1)                 1025      \n",
      "_________________________________________________________________\n",
      "activation (Activation)      (None, 1)                 0         \n",
      "=================================================================\n",
      "Total params: 29,402,113\n",
      "Trainable params: 29,402,113\n",
      "Non-trainable params: 0\n",
      "_________________________________________________________________\n",
      "Epoch 1/12\n",
      "125/125 [==============================] - 54s 428ms/step - loss: 1.8013e-04 - mae: 0.0081 - val_loss: 8.1926e-05 - val_mae: 0.0062\n",
      "Epoch 2/12\n",
      "125/125 [==============================] - 53s 423ms/step - loss: 1.6899e-04 - mae: 0.0076 - val_loss: 7.9593e-05 - val_mae: 0.0060\n",
      "Epoch 3/12\n",
      "125/125 [==============================] - 53s 423ms/step - loss: 1.6572e-04 - mae: 0.0075 - val_loss: 7.4920e-05 - val_mae: 0.0055\n",
      "Epoch 4/12\n",
      "125/125 [==============================] - 53s 420ms/step - loss: 1.6487e-04 - mae: 0.0075 - val_loss: 7.2708e-05 - val_mae: 0.0052\n",
      "Epoch 5/12\n",
      "125/125 [==============================] - 53s 421ms/step - loss: 1.6357e-04 - mae: 0.0074 - val_loss: 7.4242e-05 - val_mae: 0.0053\n",
      "Epoch 6/12\n",
      "125/125 [==============================] - 54s 430ms/step - loss: 1.6120e-04 - mae: 0.0074 - val_loss: 7.2811e-05 - val_mae: 0.0055\n",
      "Epoch 7/12\n",
      "125/125 [==============================] - 53s 426ms/step - loss: 1.5676e-04 - mae: 0.0074 - val_loss: 6.9745e-05 - val_mae: 0.0052\n",
      "Epoch 8/12\n",
      "125/125 [==============================] - 55s 437ms/step - loss: 1.4026e-04 - mae: 0.0070 - val_loss: 6.3197e-05 - val_mae: 0.0050\n",
      "Epoch 9/12\n",
      "125/125 [==============================] - 54s 431ms/step - loss: 1.1528e-04 - mae: 0.0063 - val_loss: 4.5587e-05 - val_mae: 0.0043\n",
      "Epoch 10/12\n",
      "125/125 [==============================] - 60s 480ms/step - loss: 1.0540e-04 - mae: 0.0060 - val_loss: 5.3414e-05 - val_mae: 0.0046\n",
      "Epoch 11/12\n",
      "125/125 [==============================] - 59s 472ms/step - loss: 1.0414e-04 - mae: 0.0061 - val_loss: 3.7206e-05 - val_mae: 0.0038\n",
      "Epoch 12/12\n",
      "125/125 [==============================] - 59s 472ms/step - loss: 8.5436e-05 - mae: 0.0055 - val_loss: 3.3887e-05 - val_mae: 0.0036\n"
     ]
    }
   ],
   "source": [
    "# clean up the memory\n",
    "gc.collect()\n",
    "\n",
    "# random seed for reproducibility\n",
    "np.random.seed(202)\n",
    "\n",
    "# initialise model architecture\n",
    "model = build_model(X_train_norm, n_out, neurons=neurons)\n",
    "results = model.fit(X_train_norm, y_train_norm, epochs=epochs, batch_size=batch_size, verbose=1, validation_data=(X_test_norm, y_test_norm), shuffle=False)"
   ]
  },
  {
   "cell_type": "code",
   "execution_count": 162,
   "metadata": {
    "execution": {
     "iopub.execute_input": "2020-08-16T23:43:37.740640Z",
     "iopub.status.busy": "2020-08-16T23:43:37.740391Z",
     "iopub.status.idle": "2020-08-16T23:43:41.858550Z",
     "shell.execute_reply": "2020-08-16T23:43:41.858020Z",
     "shell.execute_reply.started": "2020-08-16T23:43:37.740610Z"
    }
   },
   "outputs": [
    {
     "data": {
      "image/png": "[encoded data removed]",
      "text/plain": [
       "<Figure size 1800x576 with 1 Axes>"
      ]
     },
     "metadata": {
      "needs_background": "light"
     },
     "output_type": "display_data"
    }
   ],
   "source": [
    "plt.figure(figsize=(25,8))\n",
    "plt.plot(y_test)\n",
    "plt.plot(((model.predict(X_test_norm)+1) * test_set['price_close'][:-n_input].values)[0])\n",
    "plt.xlabel('Dates')\n",
    "plt.ylabel('Price')\n",
    "plt.title(' Single Point Price Prediction on Test Set')\n",
    "plt.legend(['Actual','Predicted'])\n",
    "sns.despine()\n",
    "plt.show()"
   ]
  },
  {
   "cell_type": "markdown",
   "metadata": {},
   "source": [
    "### Prediction Analysis"
   ]
  },
  {
   "cell_type": "code",
   "execution_count": 184,
   "metadata": {
    "execution": {
     "iopub.execute_input": "2020-08-16T23:54:05.112289Z",
     "iopub.status.busy": "2020-08-16T23:54:05.112026Z",
     "iopub.status.idle": "2020-08-16T23:54:08.937888Z",
     "shell.execute_reply": "2020-08-16T23:54:08.937273Z",
     "shell.execute_reply.started": "2020-08-16T23:54:05.112258Z"
    }
   },
   "outputs": [],
   "source": [
    "test_set['predicted_price_close'] = [None, None, None] + ((model.predict(X_test_norm)+1) * test_set['price_close'][:-n_input].values)[0].tolist()"
   ]
  },
  {
   "cell_type": "code",
   "execution_count": 187,
   "metadata": {
    "execution": {
     "iopub.execute_input": "2020-08-16T23:55:25.635460Z",
     "iopub.status.busy": "2020-08-16T23:55:25.635270Z",
     "iopub.status.idle": "2020-08-16T23:55:25.683252Z",
     "shell.execute_reply": "2020-08-16T23:55:25.682659Z",
     "shell.execute_reply.started": "2020-08-16T23:55:25.635438Z"
    }
   },
   "outputs": [],
   "source": [
    "test_set['close_pct_change'] = test_set['price_close'].pct_change()\n",
    "test_set['predicted_pct_change'] = test_set['predicted_price_close'].pct_change()"
   ]
  },
  {
   "cell_type": "code",
   "execution_count": 191,
   "metadata": {
    "execution": {
     "iopub.execute_input": "2020-08-16T23:59:57.004799Z",
     "iopub.status.busy": "2020-08-16T23:59:57.004542Z",
     "iopub.status.idle": "2020-08-16T23:59:57.259365Z",
     "shell.execute_reply": "2020-08-16T23:59:57.258840Z",
     "shell.execute_reply.started": "2020-08-16T23:59:57.004769Z"
    }
   },
   "outputs": [],
   "source": [
    "def predict_label(df):\n",
    "    if (df['close_pct_change'] > 0) & (df['predicted_pct_change'] > 0):\n",
    "        return 'true_positive'\n",
    "    if (df['close_pct_change'] < 0) & (df['predicted_pct_change'] < 0):\n",
    "        return 'true_negative'\n",
    "    if (df['close_pct_change'] > 0) & (df['predicted_pct_change'] < 0):\n",
    "        return 'false_negative'\n",
    "    if (df['close_pct_change'] < 0) & (df['predicted_pct_change'] > 0):\n",
    "        return 'false_positive'\n",
    "    \n",
    "test_set['predict_label'] = test_set.apply(predict_label, axis=1)"
   ]
  },
  {
   "cell_type": "code",
   "execution_count": 195,
   "metadata": {
    "execution": {
     "iopub.execute_input": "2020-08-17T00:01:55.086970Z",
     "iopub.status.busy": "2020-08-17T00:01:55.086731Z",
     "iopub.status.idle": "2020-08-17T00:01:55.149178Z",
     "shell.execute_reply": "2020-08-17T00:01:55.148677Z",
     "shell.execute_reply.started": "2020-08-17T00:01:55.086942Z"
    }
   },
   "outputs": [
    {
     "data": {
      "text/html": [
       "<div>\n",
       "<style scoped>\n",
       "    .dataframe tbody tr th:only-of-type {\n",
       "        vertical-align: middle;\n",
       "    }\n",
       "\n",
       "    .dataframe tbody tr th {\n",
       "        vertical-align: top;\n",
       "    }\n",
       "\n",
       "    .dataframe thead th {\n",
       "        text-align: right;\n",
       "    }\n",
       "</style>\n",
       "<table border=\"1\" class=\"dataframe\">\n",
       "  <thead>\n",
       "    <tr style=\"text-align: right;\">\n",
       "      <th></th>\n",
       "      <th>price_open</th>\n",
       "      <th>price_high</th>\n",
       "      <th>price_low</th>\n",
       "      <th>price_close</th>\n",
       "      <th>volume_traded</th>\n",
       "      <th>trades_count</th>\n",
       "      <th>predicted_price_close</th>\n",
       "      <th>close_pct_change</th>\n",
       "      <th>predicted_pct_change</th>\n",
       "      <th>predict_label</th>\n",
       "    </tr>\n",
       "    <tr>\n",
       "      <th>time_period_start</th>\n",
       "      <th></th>\n",
       "      <th></th>\n",
       "      <th></th>\n",
       "      <th></th>\n",
       "      <th></th>\n",
       "      <th></th>\n",
       "      <th></th>\n",
       "      <th></th>\n",
       "      <th></th>\n",
       "      <th></th>\n",
       "    </tr>\n",
       "  </thead>\n",
       "  <tbody>\n",
       "    <tr>\n",
       "      <th>05-23-2020 05:30</th>\n",
       "      <td>206.11</td>\n",
       "      <td>206.57</td>\n",
       "      <td>205.51</td>\n",
       "      <td>206.50</td>\n",
       "      <td>403.466819</td>\n",
       "      <td>86</td>\n",
       "      <td>NaN</td>\n",
       "      <td>NaN</td>\n",
       "      <td>NaN</td>\n",
       "      <td>None</td>\n",
       "    </tr>\n",
       "    <tr>\n",
       "      <th>05-23-2020 06:00</th>\n",
       "      <td>206.50</td>\n",
       "      <td>207.38</td>\n",
       "      <td>206.27</td>\n",
       "      <td>206.77</td>\n",
       "      <td>658.528596</td>\n",
       "      <td>157</td>\n",
       "      <td>NaN</td>\n",
       "      <td>0.001308</td>\n",
       "      <td>NaN</td>\n",
       "      <td>None</td>\n",
       "    </tr>\n",
       "    <tr>\n",
       "      <th>05-23-2020 06:30</th>\n",
       "      <td>206.65</td>\n",
       "      <td>207.83</td>\n",
       "      <td>206.65</td>\n",
       "      <td>207.54</td>\n",
       "      <td>888.478460</td>\n",
       "      <td>166</td>\n",
       "      <td>NaN</td>\n",
       "      <td>0.003724</td>\n",
       "      <td>NaN</td>\n",
       "      <td>None</td>\n",
       "    </tr>\n",
       "    <tr>\n",
       "      <th>05-23-2020 07:00</th>\n",
       "      <td>207.53</td>\n",
       "      <td>207.53</td>\n",
       "      <td>206.06</td>\n",
       "      <td>206.09</td>\n",
       "      <td>643.800380</td>\n",
       "      <td>171</td>\n",
       "      <td>207.900174</td>\n",
       "      <td>-0.006987</td>\n",
       "      <td>NaN</td>\n",
       "      <td>None</td>\n",
       "    </tr>\n",
       "    <tr>\n",
       "      <th>05-23-2020 07:30</th>\n",
       "      <td>206.06</td>\n",
       "      <td>206.40</td>\n",
       "      <td>204.68</td>\n",
       "      <td>206.40</td>\n",
       "      <td>989.693407</td>\n",
       "      <td>224</td>\n",
       "      <td>208.172005</td>\n",
       "      <td>0.001504</td>\n",
       "      <td>0.001308</td>\n",
       "      <td>true_positive</td>\n",
       "    </tr>\n",
       "    <tr>\n",
       "      <th>05-23-2020 08:00</th>\n",
       "      <td>206.38</td>\n",
       "      <td>206.92</td>\n",
       "      <td>206.14</td>\n",
       "      <td>206.51</td>\n",
       "      <td>545.003288</td>\n",
       "      <td>87</td>\n",
       "      <td>208.947226</td>\n",
       "      <td>0.000533</td>\n",
       "      <td>0.003724</td>\n",
       "      <td>true_positive</td>\n",
       "    </tr>\n",
       "    <tr>\n",
       "      <th>05-23-2020 08:30</th>\n",
       "      <td>206.51</td>\n",
       "      <td>206.78</td>\n",
       "      <td>206.16</td>\n",
       "      <td>206.19</td>\n",
       "      <td>158.907657</td>\n",
       "      <td>37</td>\n",
       "      <td>207.487394</td>\n",
       "      <td>-0.001550</td>\n",
       "      <td>-0.006987</td>\n",
       "      <td>true_negative</td>\n",
       "    </tr>\n",
       "    <tr>\n",
       "      <th>05-23-2020 09:00</th>\n",
       "      <td>206.14</td>\n",
       "      <td>207.54</td>\n",
       "      <td>205.59</td>\n",
       "      <td>207.48</td>\n",
       "      <td>644.147195</td>\n",
       "      <td>123</td>\n",
       "      <td>207.799496</td>\n",
       "      <td>0.006256</td>\n",
       "      <td>0.001504</td>\n",
       "      <td>true_positive</td>\n",
       "    </tr>\n",
       "    <tr>\n",
       "      <th>05-23-2020 09:30</th>\n",
       "      <td>207.55</td>\n",
       "      <td>208.19</td>\n",
       "      <td>207.55</td>\n",
       "      <td>207.78</td>\n",
       "      <td>820.276607</td>\n",
       "      <td>155</td>\n",
       "      <td>207.910242</td>\n",
       "      <td>0.001446</td>\n",
       "      <td>0.000533</td>\n",
       "      <td>true_positive</td>\n",
       "    </tr>\n",
       "    <tr>\n",
       "      <th>05-23-2020 10:00</th>\n",
       "      <td>207.84</td>\n",
       "      <td>207.89</td>\n",
       "      <td>207.26</td>\n",
       "      <td>207.48</td>\n",
       "      <td>136.895313</td>\n",
       "      <td>65</td>\n",
       "      <td>207.588072</td>\n",
       "      <td>-0.001444</td>\n",
       "      <td>-0.001550</td>\n",
       "      <td>true_negative</td>\n",
       "    </tr>\n",
       "    <tr>\n",
       "      <th>05-23-2020 10:30</th>\n",
       "      <td>207.50</td>\n",
       "      <td>207.50</td>\n",
       "      <td>207.02</td>\n",
       "      <td>207.40</td>\n",
       "      <td>146.277324</td>\n",
       "      <td>54</td>\n",
       "      <td>208.886819</td>\n",
       "      <td>-0.000386</td>\n",
       "      <td>0.006256</td>\n",
       "      <td>false_positive</td>\n",
       "    </tr>\n",
       "    <tr>\n",
       "      <th>05-23-2020 11:00</th>\n",
       "      <td>207.78</td>\n",
       "      <td>208.00</td>\n",
       "      <td>205.71</td>\n",
       "      <td>205.94</td>\n",
       "      <td>1626.904578</td>\n",
       "      <td>211</td>\n",
       "      <td>209.188853</td>\n",
       "      <td>-0.007040</td>\n",
       "      <td>0.001446</td>\n",
       "      <td>false_positive</td>\n",
       "    </tr>\n",
       "    <tr>\n",
       "      <th>05-23-2020 11:30</th>\n",
       "      <td>205.94</td>\n",
       "      <td>206.83</td>\n",
       "      <td>205.94</td>\n",
       "      <td>206.83</td>\n",
       "      <td>537.302583</td>\n",
       "      <td>72</td>\n",
       "      <td>208.886819</td>\n",
       "      <td>0.004322</td>\n",
       "      <td>-0.001444</td>\n",
       "      <td>false_negative</td>\n",
       "    </tr>\n",
       "    <tr>\n",
       "      <th>05-23-2020 12:00</th>\n",
       "      <td>206.79</td>\n",
       "      <td>207.42</td>\n",
       "      <td>206.55</td>\n",
       "      <td>206.56</td>\n",
       "      <td>249.482230</td>\n",
       "      <td>84</td>\n",
       "      <td>208.806277</td>\n",
       "      <td>-0.001305</td>\n",
       "      <td>-0.000386</td>\n",
       "      <td>true_negative</td>\n",
       "    </tr>\n",
       "    <tr>\n",
       "      <th>05-23-2020 12:30</th>\n",
       "      <td>206.56</td>\n",
       "      <td>207.27</td>\n",
       "      <td>206.55</td>\n",
       "      <td>207.17</td>\n",
       "      <td>254.721393</td>\n",
       "      <td>78</td>\n",
       "      <td>207.336377</td>\n",
       "      <td>0.002953</td>\n",
       "      <td>-0.007040</td>\n",
       "      <td>false_negative</td>\n",
       "    </tr>\n",
       "  </tbody>\n",
       "</table>\n",
       "</div>"
      ],
      "text/plain": [
       "                   price_open  price_high  price_low  price_close  \\\n",
       "time_period_start                                                   \n",
       "05-23-2020 05:30       206.11      206.57     205.51       206.50   \n",
       "05-23-2020 06:00       206.50      207.38     206.27       206.77   \n",
       "05-23-2020 06:30       206.65      207.83     206.65       207.54   \n",
       "05-23-2020 07:00       207.53      207.53     206.06       206.09   \n",
       "05-23-2020 07:30       206.06      206.40     204.68       206.40   \n",
       "05-23-2020 08:00       206.38      206.92     206.14       206.51   \n",
       "05-23-2020 08:30       206.51      206.78     206.16       206.19   \n",
       "05-23-2020 09:00       206.14      207.54     205.59       207.48   \n",
       "05-23-2020 09:30       207.55      208.19     207.55       207.78   \n",
       "05-23-2020 10:00       207.84      207.89     207.26       207.48   \n",
       "05-23-2020 10:30       207.50      207.50     207.02       207.40   \n",
       "05-23-2020 11:00       207.78      208.00     205.71       205.94   \n",
       "05-23-2020 11:30       205.94      206.83     205.94       206.83   \n",
       "05-23-2020 12:00       206.79      207.42     206.55       206.56   \n",
       "05-23-2020 12:30       206.56      207.27     206.55       207.17   \n",
       "\n",
       "                   volume_traded  trades_count  predicted_price_close  \\\n",
       "time_period_start                                                       \n",
       "05-23-2020 05:30      403.466819            86                    NaN   \n",
       "05-23-2020 06:00      658.528596           157                    NaN   \n",
       "05-23-2020 06:30      888.478460           166                    NaN   \n",
       "05-23-2020 07:00      643.800380           171             207.900174   \n",
       "05-23-2020 07:30      989.693407           224             208.172005   \n",
       "05-23-2020 08:00      545.003288            87             208.947226   \n",
       "05-23-2020 08:30      158.907657            37             207.487394   \n",
       "05-23-2020 09:00      644.147195           123             207.799496   \n",
       "05-23-2020 09:30      820.276607           155             207.910242   \n",
       "05-23-2020 10:00      136.895313            65             207.588072   \n",
       "05-23-2020 10:30      146.277324            54             208.886819   \n",
       "05-23-2020 11:00     1626.904578           211             209.188853   \n",
       "05-23-2020 11:30      537.302583            72             208.886819   \n",
       "05-23-2020 12:00      249.482230            84             208.806277   \n",
       "05-23-2020 12:30      254.721393            78             207.336377   \n",
       "\n",
       "                   close_pct_change  predicted_pct_change   predict_label  \n",
       "time_period_start                                                          \n",
       "05-23-2020 05:30                NaN                   NaN            None  \n",
       "05-23-2020 06:00           0.001308                   NaN            None  \n",
       "05-23-2020 06:30           0.003724                   NaN            None  \n",
       "05-23-2020 07:00          -0.006987                   NaN            None  \n",
       "05-23-2020 07:30           0.001504              0.001308   true_positive  \n",
       "05-23-2020 08:00           0.000533              0.003724   true_positive  \n",
       "05-23-2020 08:30          -0.001550             -0.006987   true_negative  \n",
       "05-23-2020 09:00           0.006256              0.001504   true_positive  \n",
       "05-23-2020 09:30           0.001446              0.000533   true_positive  \n",
       "05-23-2020 10:00          -0.001444             -0.001550   true_negative  \n",
       "05-23-2020 10:30          -0.000386              0.006256  false_positive  \n",
       "05-23-2020 11:00          -0.007040              0.001446  false_positive  \n",
       "05-23-2020 11:30           0.004322             -0.001444  false_negative  \n",
       "05-23-2020 12:00          -0.001305             -0.000386   true_negative  \n",
       "05-23-2020 12:30           0.002953             -0.007040  false_negative  "
      ]
     },
     "execution_count": 195,
     "metadata": {},
     "output_type": "execute_result"
    }
   ],
   "source": [
    "test_set.head(15)"
   ]
  },
  {
   "cell_type": "code",
   "execution_count": 194,
   "metadata": {
    "execution": {
     "iopub.execute_input": "2020-08-17T00:00:36.412058Z",
     "iopub.status.busy": "2020-08-17T00:00:36.411802Z",
     "iopub.status.idle": "2020-08-17T00:00:36.467613Z",
     "shell.execute_reply": "2020-08-17T00:00:36.467114Z",
     "shell.execute_reply.started": "2020-08-17T00:00:36.412028Z"
    }
   },
   "outputs": [
    {
     "data": {
      "text/plain": [
       "false_negative    0.257925\n",
       "false_positive    0.257418\n",
       "true_positive     0.251585\n",
       "true_negative     0.233071\n",
       "Name: predict_label, dtype: float64"
      ]
     },
     "execution_count": 194,
     "metadata": {},
     "output_type": "execute_result"
    }
   ],
   "source": [
    "test_set['predict_label'].value_counts(normalize=True)"
   ]
  },
  {
   "cell_type": "code",
   "execution_count": null,
   "metadata": {},
   "outputs": [],
   "source": []
  }
 ],
 "metadata": {
  "kernelspec": {
   "display_name": "personal",
   "language": "python",
   "name": "personal"
  },
  "language_info": {
   "codemirror_mode": {
    "name": "ipython",
    "version": 3
   },
   "file_extension": ".py",
   "mimetype": "text/x-python",
   "name": "python",
   "nbconvert_exporter": "python",
   "pygments_lexer": "ipython3",
   "version": "3.7.7"
  }
 },
 "nbformat": 4,
 "nbformat_minor": 4
}
