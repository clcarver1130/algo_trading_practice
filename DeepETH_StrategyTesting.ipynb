{
 "cells": [
  {
   "cell_type": "code",
   "execution_count": 12,
   "metadata": {
    "execution": {
     "iopub.execute_input": "2020-09-08T00:02:13.369867Z",
     "iopub.status.busy": "2020-09-08T00:02:13.369684Z",
     "iopub.status.idle": "2020-09-08T00:02:13.615747Z",
     "shell.execute_reply": "2020-09-08T00:02:13.615118Z",
     "shell.execute_reply.started": "2020-09-08T00:02:13.369847Z"
    }
   },
   "outputs": [],
   "source": [
    "# General libraries:\n",
    "import numpy as np\n",
    "import pandas as pd\n",
    "import datetime\n",
    "import matplotlib.pyplot as plt\n",
    "import seaborn as sns\n",
    "\n",
    "# Personal libraries:\n",
    "from robin_helperfunctions import round_to_hour\n",
    "from robinhoodstrategy import cryptoStrategy, BackcastStrategy, Trade\n",
    "\n",
    "# Deep learning libraries:\n",
    "from tensorflow.keras.models import load_model\n",
    "from sklearn.preprocessing import MinMaxScaler"
   ]
  },
  {
   "cell_type": "markdown",
   "metadata": {},
   "source": [
    "## Build Strategy"
   ]
  },
  {
   "cell_type": "code",
   "execution_count": 9,
   "metadata": {
    "execution": {
     "iopub.execute_input": "2020-09-08T00:00:34.010890Z",
     "iopub.status.busy": "2020-09-08T00:00:34.010643Z",
     "iopub.status.idle": "2020-09-08T00:00:34.064925Z",
     "shell.execute_reply": "2020-09-08T00:00:34.064333Z",
     "shell.execute_reply.started": "2020-09-08T00:00:34.010862Z"
    }
   },
   "outputs": [],
   "source": [
    "lstm_strategy = cryptoStrategy('simple_LSTM_strategy')"
   ]
  },
  {
   "cell_type": "code",
   "execution_count": null,
   "metadata": {},
   "outputs": [],
   "source": [
    "def entry_exit_func(hist_data, position_flag, trade=None):\n",
    "    \n",
    "    n_inputs = 6\n",
    "    \n",
    "    model = load_model('4hr_6period_lstm.h5')\n",
    "    "
   ]
  },
  {
   "cell_type": "code",
   "execution_count": 10,
   "metadata": {
    "execution": {
     "iopub.execute_input": "2020-09-08T00:00:38.592456Z",
     "iopub.status.busy": "2020-09-08T00:00:38.592207Z",
     "iopub.status.idle": "2020-09-08T00:00:38.925198Z",
     "shell.execute_reply": "2020-09-08T00:00:38.924628Z",
     "shell.execute_reply.started": "2020-09-08T00:00:38.592427Z"
    }
   },
   "outputs": [],
   "source": [
    "model = load_model('4hr_6period_lstm.h5')"
   ]
  },
  {
   "cell_type": "code",
   "execution_count": 13,
   "metadata": {
    "execution": {
     "iopub.execute_input": "2020-09-08T00:02:20.554776Z",
     "iopub.status.busy": "2020-09-08T00:02:20.554608Z",
     "iopub.status.idle": "2020-09-08T00:02:20.621246Z",
     "shell.execute_reply": "2020-09-08T00:02:20.620356Z",
     "shell.execute_reply.started": "2020-09-08T00:02:20.554758Z"
    }
   },
   "outputs": [
    {
     "ename": "NameError",
     "evalue": "name 'hist_data' is not defined",
     "output_type": "error",
     "traceback": [
      "\u001b[0;31m---------------------------------------------------------------------------\u001b[0m",
      "\u001b[0;31mNameError\u001b[0m                                 Traceback (most recent call last)",
      "\u001b[0;32m<ipython-input-13-38b15c0ecc27>\u001b[0m in \u001b[0;36m<module>\u001b[0;34m\u001b[0m\n\u001b[0;32m----> 1\u001b[0;31m \u001b[0mhist_data\u001b[0m\u001b[0;34m\u001b[0m\u001b[0;34m\u001b[0m\u001b[0m\n\u001b[0m",
      "\u001b[0;31mNameError\u001b[0m: name 'hist_data' is not defined"
     ]
    }
   ],
   "source": []
  },
  {
   "cell_type": "code",
   "execution_count": null,
   "metadata": {},
   "outputs": [],
   "source": []
  }
 ],
 "metadata": {
  "kernelspec": {
   "display_name": "personal",
   "language": "python",
   "name": "personal"
  },
  "language_info": {
   "codemirror_mode": {
    "name": "ipython",
    "version": 3
   },
   "file_extension": ".py",
   "mimetype": "text/x-python",
   "name": "python",
   "nbconvert_exporter": "python",
   "pygments_lexer": "ipython3",
   "version": "3.7.7"
  }
 },
 "nbformat": 4,
 "nbformat_minor": 4
}
