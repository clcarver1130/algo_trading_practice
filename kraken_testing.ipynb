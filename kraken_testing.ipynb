{
 "cells": [
  {
   "cell_type": "code",
   "execution_count": 3,
   "metadata": {
    "execution": {
     "iopub.execute_input": "2020-09-02T20:49:33.146261Z",
     "iopub.status.busy": "2020-09-02T20:49:33.146038Z",
     "iopub.status.idle": "2020-09-02T20:49:33.682056Z",
     "shell.execute_reply": "2020-09-02T20:49:33.681285Z",
     "shell.execute_reply.started": "2020-09-02T20:49:33.146236Z"
    }
   },
   "outputs": [],
   "source": [
    "import pandas as pd\n",
    "import schedule\n",
    "import time\n",
    "from logger import logging\n",
    "\n",
    "import krakenex\n",
    "from pykrakenapi import KrakenAPI\n",
    "api = krakenex.API()\n",
    "k = KrakenAPI(api)\n",
    "api.load_key('kraken_keys.py')"
   ]
  },
  {
   "cell_type": "code",
   "execution_count": 16,
   "metadata": {
    "execution": {
     "iopub.execute_input": "2020-09-02T21:10:35.903797Z",
     "iopub.status.busy": "2020-09-02T21:10:35.903549Z",
     "iopub.status.idle": "2020-09-02T21:10:35.931529Z",
     "shell.execute_reply": "2020-09-02T21:10:35.930869Z",
     "shell.execute_reply.started": "2020-09-02T21:10:35.903769Z"
    }
   },
   "outputs": [
    {
     "data": {
      "text/plain": [
       "'XETHZUSD'"
      ]
     },
     "execution_count": 16,
     "metadata": {},
     "output_type": "execute_result"
    }
   ],
   "source": [
    "pair"
   ]
  },
  {
   "cell_type": "code",
   "execution_count": 29,
   "metadata": {
    "execution": {
     "iopub.execute_input": "2020-09-02T21:16:54.226855Z",
     "iopub.status.busy": "2020-09-02T21:16:54.226603Z",
     "iopub.status.idle": "2020-09-02T21:16:55.230212Z",
     "shell.execute_reply": "2020-09-02T21:16:55.229621Z",
     "shell.execute_reply.started": "2020-09-02T21:16:54.226824Z"
    }
   },
   "outputs": [
    {
     "data": {
      "text/html": [
       "<div>\n",
       "<style scoped>\n",
       "    .dataframe tbody tr th:only-of-type {\n",
       "        vertical-align: middle;\n",
       "    }\n",
       "\n",
       "    .dataframe tbody tr th {\n",
       "        vertical-align: top;\n",
       "    }\n",
       "\n",
       "    .dataframe thead th {\n",
       "        text-align: right;\n",
       "    }\n",
       "</style>\n",
       "<table border=\"1\" class=\"dataframe\">\n",
       "  <thead>\n",
       "    <tr style=\"text-align: right;\">\n",
       "      <th></th>\n",
       "      <th>time</th>\n",
       "      <th>open</th>\n",
       "      <th>high</th>\n",
       "      <th>low</th>\n",
       "      <th>close</th>\n",
       "      <th>vwap</th>\n",
       "      <th>volume</th>\n",
       "      <th>count</th>\n",
       "    </tr>\n",
       "    <tr>\n",
       "      <th>dtime</th>\n",
       "      <th></th>\n",
       "      <th></th>\n",
       "      <th></th>\n",
       "      <th></th>\n",
       "      <th></th>\n",
       "      <th></th>\n",
       "      <th></th>\n",
       "      <th></th>\n",
       "    </tr>\n",
       "  </thead>\n",
       "  <tbody>\n",
       "    <tr>\n",
       "      <th>2020-05-05 19:00:00-05:00</th>\n",
       "      <td>1588723200</td>\n",
       "      <td>205.48</td>\n",
       "      <td>209.23</td>\n",
       "      <td>202.25</td>\n",
       "      <td>206.94</td>\n",
       "      <td>205.45</td>\n",
       "      <td>7770.709506</td>\n",
       "      <td>2029</td>\n",
       "    </tr>\n",
       "    <tr>\n",
       "      <th>2020-05-05 23:00:00-05:00</th>\n",
       "      <td>1588737600</td>\n",
       "      <td>206.83</td>\n",
       "      <td>208.72</td>\n",
       "      <td>205.91</td>\n",
       "      <td>207.89</td>\n",
       "      <td>207.62</td>\n",
       "      <td>3894.413602</td>\n",
       "      <td>2536</td>\n",
       "    </tr>\n",
       "    <tr>\n",
       "      <th>2020-05-06 03:00:00-05:00</th>\n",
       "      <td>1588752000</td>\n",
       "      <td>207.88</td>\n",
       "      <td>211.13</td>\n",
       "      <td>206.40</td>\n",
       "      <td>210.54</td>\n",
       "      <td>209.31</td>\n",
       "      <td>17330.739791</td>\n",
       "      <td>3018</td>\n",
       "    </tr>\n",
       "    <tr>\n",
       "      <th>2020-05-06 07:00:00-05:00</th>\n",
       "      <td>1588766400</td>\n",
       "      <td>210.54</td>\n",
       "      <td>211.31</td>\n",
       "      <td>207.00</td>\n",
       "      <td>208.42</td>\n",
       "      <td>209.01</td>\n",
       "      <td>8933.991571</td>\n",
       "      <td>1894</td>\n",
       "    </tr>\n",
       "    <tr>\n",
       "      <th>2020-05-06 11:00:00-05:00</th>\n",
       "      <td>1588780800</td>\n",
       "      <td>208.55</td>\n",
       "      <td>209.01</td>\n",
       "      <td>204.67</td>\n",
       "      <td>205.00</td>\n",
       "      <td>206.97</td>\n",
       "      <td>8256.965770</td>\n",
       "      <td>1287</td>\n",
       "    </tr>\n",
       "    <tr>\n",
       "      <th>...</th>\n",
       "      <td>...</td>\n",
       "      <td>...</td>\n",
       "      <td>...</td>\n",
       "      <td>...</td>\n",
       "      <td>...</td>\n",
       "      <td>...</td>\n",
       "      <td>...</td>\n",
       "      <td>...</td>\n",
       "    </tr>\n",
       "    <tr>\n",
       "      <th>2020-09-01 23:00:00-05:00</th>\n",
       "      <td>1599019200</td>\n",
       "      <td>469.90</td>\n",
       "      <td>481.00</td>\n",
       "      <td>465.75</td>\n",
       "      <td>466.78</td>\n",
       "      <td>473.99</td>\n",
       "      <td>13643.140015</td>\n",
       "      <td>2760</td>\n",
       "    </tr>\n",
       "    <tr>\n",
       "      <th>2020-09-02 03:00:00-05:00</th>\n",
       "      <td>1599033600</td>\n",
       "      <td>466.78</td>\n",
       "      <td>472.38</td>\n",
       "      <td>423.00</td>\n",
       "      <td>442.30</td>\n",
       "      <td>446.59</td>\n",
       "      <td>47210.008619</td>\n",
       "      <td>7744</td>\n",
       "    </tr>\n",
       "    <tr>\n",
       "      <th>2020-09-02 07:00:00-05:00</th>\n",
       "      <td>1599048000</td>\n",
       "      <td>442.25</td>\n",
       "      <td>448.98</td>\n",
       "      <td>427.00</td>\n",
       "      <td>432.92</td>\n",
       "      <td>438.90</td>\n",
       "      <td>36493.205239</td>\n",
       "      <td>6153</td>\n",
       "    </tr>\n",
       "    <tr>\n",
       "      <th>2020-09-02 11:00:00-05:00</th>\n",
       "      <td>1599062400</td>\n",
       "      <td>432.98</td>\n",
       "      <td>438.52</td>\n",
       "      <td>422.00</td>\n",
       "      <td>436.29</td>\n",
       "      <td>430.75</td>\n",
       "      <td>34719.835507</td>\n",
       "      <td>5388</td>\n",
       "    </tr>\n",
       "    <tr>\n",
       "      <th>2020-09-02 15:00:00-05:00</th>\n",
       "      <td>1599076800</td>\n",
       "      <td>436.41</td>\n",
       "      <td>438.45</td>\n",
       "      <td>431.51</td>\n",
       "      <td>436.52</td>\n",
       "      <td>434.40</td>\n",
       "      <td>2791.737301</td>\n",
       "      <td>753</td>\n",
       "    </tr>\n",
       "  </tbody>\n",
       "</table>\n",
       "<p>720 rows × 8 columns</p>\n",
       "</div>"
      ],
      "text/plain": [
       "                                 time    open    high     low   close    vwap  \\\n",
       "dtime                                                                           \n",
       "2020-05-05 19:00:00-05:00  1588723200  205.48  209.23  202.25  206.94  205.45   \n",
       "2020-05-05 23:00:00-05:00  1588737600  206.83  208.72  205.91  207.89  207.62   \n",
       "2020-05-06 03:00:00-05:00  1588752000  207.88  211.13  206.40  210.54  209.31   \n",
       "2020-05-06 07:00:00-05:00  1588766400  210.54  211.31  207.00  208.42  209.01   \n",
       "2020-05-06 11:00:00-05:00  1588780800  208.55  209.01  204.67  205.00  206.97   \n",
       "...                               ...     ...     ...     ...     ...     ...   \n",
       "2020-09-01 23:00:00-05:00  1599019200  469.90  481.00  465.75  466.78  473.99   \n",
       "2020-09-02 03:00:00-05:00  1599033600  466.78  472.38  423.00  442.30  446.59   \n",
       "2020-09-02 07:00:00-05:00  1599048000  442.25  448.98  427.00  432.92  438.90   \n",
       "2020-09-02 11:00:00-05:00  1599062400  432.98  438.52  422.00  436.29  430.75   \n",
       "2020-09-02 15:00:00-05:00  1599076800  436.41  438.45  431.51  436.52  434.40   \n",
       "\n",
       "                                 volume  count  \n",
       "dtime                                           \n",
       "2020-05-05 19:00:00-05:00   7770.709506   2029  \n",
       "2020-05-05 23:00:00-05:00   3894.413602   2536  \n",
       "2020-05-06 03:00:00-05:00  17330.739791   3018  \n",
       "2020-05-06 07:00:00-05:00   8933.991571   1894  \n",
       "2020-05-06 11:00:00-05:00   8256.965770   1287  \n",
       "...                                 ...    ...  \n",
       "2020-09-01 23:00:00-05:00  13643.140015   2760  \n",
       "2020-09-02 03:00:00-05:00  47210.008619   7744  \n",
       "2020-09-02 07:00:00-05:00  36493.205239   6153  \n",
       "2020-09-02 11:00:00-05:00  34719.835507   5388  \n",
       "2020-09-02 15:00:00-05:00   2791.737301    753  \n",
       "\n",
       "[720 rows x 8 columns]"
      ]
     },
     "execution_count": 29,
     "metadata": {},
     "output_type": "execute_result"
    }
   ],
   "source": [
    "currency = 'ZUSD'\n",
    "crypto = 'XETH'\n",
    "pair = crypto + currency\n",
    "agg = '240'\n",
    "\n",
    "df, last = k.get_ohlc_data(pair, interval=agg, ascending=True, since=k.datetime_to_unixtime(pd.to_datetime('2020-01-01')))\n",
    "df.index = df.index.tz_localize(tz='UTC').tz_convert('US/Central')\n",
    "df"
   ]
  },
  {
   "cell_type": "code",
   "execution_count": 27,
   "metadata": {
    "execution": {
     "iopub.execute_input": "2020-09-02T21:16:33.706128Z",
     "iopub.status.busy": "2020-09-02T21:16:33.705878Z",
     "iopub.status.idle": "2020-09-02T21:16:34.069447Z",
     "shell.execute_reply": "2020-09-02T21:16:34.068927Z",
     "shell.execute_reply.started": "2020-09-02T21:16:33.706099Z"
    }
   },
   "outputs": [
    {
     "data": {
      "text/html": [
       "<div>\n",
       "<style scoped>\n",
       "    .dataframe tbody tr th:only-of-type {\n",
       "        vertical-align: middle;\n",
       "    }\n",
       "\n",
       "    .dataframe tbody tr th {\n",
       "        vertical-align: top;\n",
       "    }\n",
       "\n",
       "    .dataframe thead th {\n",
       "        text-align: right;\n",
       "    }\n",
       "</style>\n",
       "<table border=\"1\" class=\"dataframe\">\n",
       "  <thead>\n",
       "    <tr style=\"text-align: right;\">\n",
       "      <th></th>\n",
       "      <th>time</th>\n",
       "      <th>open</th>\n",
       "      <th>high</th>\n",
       "      <th>low</th>\n",
       "      <th>close</th>\n",
       "      <th>vwap</th>\n",
       "      <th>volume</th>\n",
       "      <th>count</th>\n",
       "    </tr>\n",
       "    <tr>\n",
       "      <th>dtime</th>\n",
       "      <th></th>\n",
       "      <th></th>\n",
       "      <th></th>\n",
       "      <th></th>\n",
       "      <th></th>\n",
       "      <th></th>\n",
       "      <th></th>\n",
       "      <th></th>\n",
       "    </tr>\n",
       "  </thead>\n",
       "  <tbody>\n",
       "    <tr>\n",
       "      <th>2020-09-02</th>\n",
       "      <td>1599004800</td>\n",
       "      <td>475.81</td>\n",
       "      <td>481.0</td>\n",
       "      <td>422.0</td>\n",
       "      <td>436.52</td>\n",
       "      <td>447.32</td>\n",
       "      <td>159178.62134</td>\n",
       "      <td>26775</td>\n",
       "    </tr>\n",
       "  </tbody>\n",
       "</table>\n",
       "</div>"
      ],
      "text/plain": [
       "                  time    open   high    low   close    vwap        volume  \\\n",
       "dtime                                                                        \n",
       "2020-09-02  1599004800  475.81  481.0  422.0  436.52  447.32  159178.62134   \n",
       "\n",
       "            count  \n",
       "dtime              \n",
       "2020-09-02  26775  "
      ]
     },
     "execution_count": 27,
     "metadata": {},
     "output_type": "execute_result"
    }
   ],
   "source": [
    "k.get_ohlc_data(pair, interval=agg, ascending=True, since=last)[0]"
   ]
  },
  {
   "cell_type": "code",
   "execution_count": 21,
   "metadata": {
    "execution": {
     "iopub.execute_input": "2020-09-02T21:15:17.199927Z",
     "iopub.status.busy": "2020-09-02T21:15:17.199684Z",
     "iopub.status.idle": "2020-09-02T21:15:17.230406Z",
     "shell.execute_reply": "2020-09-02T21:15:17.229694Z",
     "shell.execute_reply.started": "2020-09-02T21:15:17.199900Z"
    }
   },
   "outputs": [
    {
     "data": {
      "text/plain": [
       "1577836800"
      ]
     },
     "execution_count": 21,
     "metadata": {},
     "output_type": "execute_result"
    }
   ],
   "source": [
    "k.datetime_to_unixtime(pd.to_datetime('2020-01-01'))"
   ]
  },
  {
   "cell_type": "code",
   "execution_count": 15,
   "metadata": {
    "execution": {
     "iopub.execute_input": "2020-09-02T21:00:08.066672Z",
     "iopub.status.busy": "2020-09-02T21:00:08.066440Z",
     "iopub.status.idle": "2020-09-02T21:00:08.430061Z",
     "shell.execute_reply": "2020-09-02T21:00:08.429435Z",
     "shell.execute_reply.started": "2020-09-02T21:00:08.066646Z"
    }
   },
   "outputs": [
    {
     "data": {
      "text/html": [
       "<div>\n",
       "<style scoped>\n",
       "    .dataframe tbody tr th:only-of-type {\n",
       "        vertical-align: middle;\n",
       "    }\n",
       "\n",
       "    .dataframe tbody tr th {\n",
       "        vertical-align: top;\n",
       "    }\n",
       "\n",
       "    .dataframe thead th {\n",
       "        text-align: right;\n",
       "    }\n",
       "</style>\n",
       "<table border=\"1\" class=\"dataframe\">\n",
       "  <thead>\n",
       "    <tr style=\"text-align: right;\">\n",
       "      <th></th>\n",
       "      <th>ZEUR</th>\n",
       "    </tr>\n",
       "  </thead>\n",
       "  <tbody>\n",
       "    <tr>\n",
       "      <th>eb</th>\n",
       "      <td>17.7263</td>\n",
       "    </tr>\n",
       "    <tr>\n",
       "      <th>tb</th>\n",
       "      <td>1.0513</td>\n",
       "    </tr>\n",
       "    <tr>\n",
       "      <th>m</th>\n",
       "      <td>0.0000</td>\n",
       "    </tr>\n",
       "    <tr>\n",
       "      <th>n</th>\n",
       "      <td>0.0000</td>\n",
       "    </tr>\n",
       "    <tr>\n",
       "      <th>c</th>\n",
       "      <td>0.0000</td>\n",
       "    </tr>\n",
       "    <tr>\n",
       "      <th>v</th>\n",
       "      <td>0.0000</td>\n",
       "    </tr>\n",
       "    <tr>\n",
       "      <th>e</th>\n",
       "      <td>1.0513</td>\n",
       "    </tr>\n",
       "    <tr>\n",
       "      <th>mf</th>\n",
       "      <td>1.0513</td>\n",
       "    </tr>\n",
       "  </tbody>\n",
       "</table>\n",
       "</div>"
      ],
      "text/plain": [
       "       ZEUR\n",
       "eb  17.7263\n",
       "tb   1.0513\n",
       "m    0.0000\n",
       "n    0.0000\n",
       "c    0.0000\n",
       "v    0.0000\n",
       "e    1.0513\n",
       "mf   1.0513"
      ]
     },
     "execution_count": 15,
     "metadata": {},
     "output_type": "execute_result"
    }
   ],
   "source": [
    "k.get_trade_balance()"
   ]
  },
  {
   "cell_type": "code",
   "execution_count": null,
   "metadata": {},
   "outputs": [],
   "source": []
  }
 ],
 "metadata": {
  "kernelspec": {
   "display_name": "personal",
   "language": "python",
   "name": "personal"
  },
  "language_info": {
   "codemirror_mode": {
    "name": "ipython",
    "version": 3
   },
   "file_extension": ".py",
   "mimetype": "text/x-python",
   "name": "python",
   "nbconvert_exporter": "python",
   "pygments_lexer": "ipython3",
   "version": "3.7.7"
  }
 },
 "nbformat": 4,
 "nbformat_minor": 4
}
