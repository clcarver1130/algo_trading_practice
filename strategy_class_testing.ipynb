{
 "cells": [
  {
   "cell_type": "markdown",
   "metadata": {},
   "source": [
    "# Strategy Class"
   ]
  },
  {
   "cell_type": "code",
   "execution_count": 1,
   "metadata": {
    "execution": {
     "iopub.execute_input": "2020-11-24T19:57:02.792913Z",
     "iopub.status.busy": "2020-11-24T19:57:02.792650Z",
     "iopub.status.idle": "2020-11-24T19:57:08.275343Z",
     "shell.execute_reply": "2020-11-24T19:57:08.274552Z",
     "shell.execute_reply.started": "2020-11-24T19:57:02.792882Z"
    }
   },
   "outputs": [],
   "source": [
    "### Main libraries\n",
    "import pandas as pd\n",
    "import matplotlib.pyplot as plt\n",
    "import time\n",
    "import datetime\n",
    "from coinapi_rest_v1 import CoinAPIv1\n",
    "from logins import CoinAPI_KEY\n",
    "from robin_helperfunctions import round_to_hour\n",
    "from talib import MACD\n",
    "\n",
    "from robinhoodstrategy import cryptoStrategy, BackcastStrategy, Trade"
   ]
  },
  {
   "cell_type": "markdown",
   "metadata": {},
   "source": [
    "___\n",
    "### Testing"
   ]
  },
  {
   "cell_type": "code",
   "execution_count": 2,
   "metadata": {
    "execution": {
     "iopub.execute_input": "2020-11-24T19:57:08.276968Z",
     "iopub.status.busy": "2020-11-24T19:57:08.276767Z",
     "iopub.status.idle": "2020-11-24T19:57:08.305938Z",
     "shell.execute_reply": "2020-11-24T19:57:08.305218Z",
     "shell.execute_reply.started": "2020-11-24T19:57:08.276943Z"
    }
   },
   "outputs": [],
   "source": [
    "test_strategy = cryptoStrategy('MACD')"
   ]
  },
  {
   "cell_type": "code",
   "execution_count": 3,
   "metadata": {
    "execution": {
     "iopub.execute_input": "2020-11-24T19:57:08.307736Z",
     "iopub.status.busy": "2020-11-24T19:57:08.307566Z",
     "iopub.status.idle": "2020-11-24T19:57:08.335515Z",
     "shell.execute_reply": "2020-11-24T19:57:08.334962Z",
     "shell.execute_reply.started": "2020-11-24T19:57:08.307716Z"
    }
   },
   "outputs": [],
   "source": [
    "def entry_exit_func(hist_data, position_flag, trade=None):\n",
    "    \n",
    "    # MACD\n",
    "    fast = 12\n",
    "    slow = 26\n",
    "    signal = 9\n",
    "    macd, macdsignal, macdhist = MACD(hist_data['close'], fast, slow, signal)\n",
    "    macd_current = macd[-1]\n",
    "    signal_current = macdsignal[-1]\n",
    "\n",
    "    \n",
    "    if position_flag:\n",
    "        if macd_current <= signal_current:\n",
    "            return 'sell'\n",
    "        else:\n",
    "            return 'pass'\n",
    "    elif macd_current > signal_current:\n",
    "            return 'buy'\n",
    "    else:\n",
    "        return 'pass'\n",
    "test_strategy.add_entryExit_conditions(entry_exit_func)"
   ]
  },
  {
   "cell_type": "code",
   "execution_count": 40,
   "metadata": {
    "execution": {
     "iopub.execute_input": "2020-11-24T20:34:39.888217Z",
     "iopub.status.busy": "2020-11-24T20:34:39.887989Z",
     "iopub.status.idle": "2020-11-24T20:34:40.648627Z",
     "shell.execute_reply": "2020-11-24T20:34:40.648082Z",
     "shell.execute_reply.started": "2020-11-24T20:34:39.888191Z"
    }
   },
   "outputs": [
    {
     "name": "stdout",
     "output_type": "stream",
     "text": [
      "Running backcast. Staring with $1000\n"
     ]
    }
   ],
   "source": [
    "backtest = BackcastStrategy(test_strategy)\n",
    "backtest.set_parameters(1000, 'XETHZUSD', '240', 1, 39)\n",
    "backtest.run_backcast()"
   ]
  },
  {
   "cell_type": "code",
   "execution_count": 41,
   "metadata": {
    "execution": {
     "iopub.execute_input": "2020-11-24T20:34:41.165419Z",
     "iopub.status.busy": "2020-11-24T20:34:41.165169Z",
     "iopub.status.idle": "2020-11-24T20:34:41.212152Z",
     "shell.execute_reply": "2020-11-24T20:34:41.211596Z",
     "shell.execute_reply.started": "2020-11-24T20:34:41.165390Z"
    }
   },
   "outputs": [
    {
     "data": {
      "text/html": [
       "<div>\n",
       "<style scoped>\n",
       "    .dataframe tbody tr th:only-of-type {\n",
       "        vertical-align: middle;\n",
       "    }\n",
       "\n",
       "    .dataframe tbody tr th {\n",
       "        vertical-align: top;\n",
       "    }\n",
       "\n",
       "    .dataframe thead th {\n",
       "        text-align: right;\n",
       "    }\n",
       "</style>\n",
       "<table border=\"1\" class=\"dataframe\">\n",
       "  <thead>\n",
       "    <tr style=\"text-align: right;\">\n",
       "      <th></th>\n",
       "      <th>trade_start</th>\n",
       "      <th>trade_end</th>\n",
       "      <th>peirods</th>\n",
       "      <th>time_held</th>\n",
       "      <th>buy_price</th>\n",
       "      <th>sell_price</th>\n",
       "      <th>pct_change</th>\n",
       "      <th>current_capital</th>\n",
       "    </tr>\n",
       "  </thead>\n",
       "  <tbody>\n",
       "    <tr>\n",
       "      <th>0</th>\n",
       "      <td>2020-08-03 03:00:00-05:00</td>\n",
       "      <td>2020-08-03 11:00:00-05:00</td>\n",
       "      <td>1</td>\n",
       "      <td>0 days 08:00:00</td>\n",
       "      <td>391.31</td>\n",
       "      <td>394.24</td>\n",
       "      <td>0.007488</td>\n",
       "      <td>1007.487670</td>\n",
       "    </tr>\n",
       "    <tr>\n",
       "      <th>1</th>\n",
       "      <td>2020-08-08 19:00:00-05:00</td>\n",
       "      <td>2020-08-11 11:00:00-05:00</td>\n",
       "      <td>15</td>\n",
       "      <td>2 days 16:00:00</td>\n",
       "      <td>395.51</td>\n",
       "      <td>380.27</td>\n",
       "      <td>-0.038533</td>\n",
       "      <td>968.666623</td>\n",
       "    </tr>\n",
       "    <tr>\n",
       "      <th>2</th>\n",
       "      <td>2020-08-12 19:00:00-05:00</td>\n",
       "      <td>2020-08-15 23:00:00-05:00</td>\n",
       "      <td>18</td>\n",
       "      <td>3 days 04:00:00</td>\n",
       "      <td>394.74</td>\n",
       "      <td>427.16</td>\n",
       "      <td>0.082130</td>\n",
       "      <td>1048.223222</td>\n",
       "    </tr>\n",
       "    <tr>\n",
       "      <th>3</th>\n",
       "      <td>2020-08-20 11:00:00-05:00</td>\n",
       "      <td>2020-08-21 07:00:00-05:00</td>\n",
       "      <td>4</td>\n",
       "      <td>0 days 20:00:00</td>\n",
       "      <td>414.45</td>\n",
       "      <td>404.33</td>\n",
       "      <td>-0.024418</td>\n",
       "      <td>1022.627809</td>\n",
       "    </tr>\n",
       "    <tr>\n",
       "      <th>4</th>\n",
       "      <td>2020-08-22 15:00:00-05:00</td>\n",
       "      <td>2020-08-25 11:00:00-05:00</td>\n",
       "      <td>16</td>\n",
       "      <td>2 days 20:00:00</td>\n",
       "      <td>395.52</td>\n",
       "      <td>379.24</td>\n",
       "      <td>-0.041161</td>\n",
       "      <td>980.535422</td>\n",
       "    </tr>\n",
       "    <tr>\n",
       "      <th>5</th>\n",
       "      <td>2020-08-28 03:00:00-05:00</td>\n",
       "      <td>2020-09-02 03:00:00-05:00</td>\n",
       "      <td>29</td>\n",
       "      <td>5 days 00:00:00</td>\n",
       "      <td>393.47</td>\n",
       "      <td>442.30</td>\n",
       "      <td>0.124101</td>\n",
       "      <td>1102.220798</td>\n",
       "    </tr>\n",
       "    <tr>\n",
       "      <th>6</th>\n",
       "      <td>2020-09-06 11:00:00-05:00</td>\n",
       "      <td>2020-09-13 03:00:00-05:00</td>\n",
       "      <td>39</td>\n",
       "      <td>6 days 16:00:00</td>\n",
       "      <td>353.15</td>\n",
       "      <td>372.30</td>\n",
       "      <td>0.054226</td>\n",
       "      <td>1161.990098</td>\n",
       "    </tr>\n",
       "    <tr>\n",
       "      <th>7</th>\n",
       "      <td>2020-09-16 23:00:00-05:00</td>\n",
       "      <td>2020-09-19 19:00:00-05:00</td>\n",
       "      <td>16</td>\n",
       "      <td>2 days 20:00:00</td>\n",
       "      <td>380.13</td>\n",
       "      <td>381.21</td>\n",
       "      <td>0.002841</td>\n",
       "      <td>1165.291467</td>\n",
       "    </tr>\n",
       "    <tr>\n",
       "      <th>8</th>\n",
       "      <td>2020-09-24 03:00:00-05:00</td>\n",
       "      <td>2020-09-27 19:00:00-05:00</td>\n",
       "      <td>21</td>\n",
       "      <td>3 days 16:00:00</td>\n",
       "      <td>338.24</td>\n",
       "      <td>351.90</td>\n",
       "      <td>0.040386</td>\n",
       "      <td>1212.352374</td>\n",
       "    </tr>\n",
       "    <tr>\n",
       "      <th>9</th>\n",
       "      <td>2020-09-30 11:00:00-05:00</td>\n",
       "      <td>2020-10-01 15:00:00-05:00</td>\n",
       "      <td>6</td>\n",
       "      <td>1 days 04:00:00</td>\n",
       "      <td>355.70</td>\n",
       "      <td>353.00</td>\n",
       "      <td>-0.007591</td>\n",
       "      <td>1203.149812</td>\n",
       "    </tr>\n",
       "    <tr>\n",
       "      <th>10</th>\n",
       "      <td>2020-10-04 11:00:00-05:00</td>\n",
       "      <td>2020-10-06 11:00:00-05:00</td>\n",
       "      <td>11</td>\n",
       "      <td>2 days 00:00:00</td>\n",
       "      <td>353.03</td>\n",
       "      <td>340.74</td>\n",
       "      <td>-0.034813</td>\n",
       "      <td>1161.264671</td>\n",
       "    </tr>\n",
       "    <tr>\n",
       "      <th>11</th>\n",
       "      <td>2020-10-08 11:00:00-05:00</td>\n",
       "      <td>2020-10-11 19:00:00-05:00</td>\n",
       "      <td>19</td>\n",
       "      <td>3 days 08:00:00</td>\n",
       "      <td>351.58</td>\n",
       "      <td>374.24</td>\n",
       "      <td>0.064452</td>\n",
       "      <td>1236.110389</td>\n",
       "    </tr>\n",
       "    <tr>\n",
       "      <th>12</th>\n",
       "      <td>2020-10-17 23:00:00-05:00</td>\n",
       "      <td>2020-10-20 11:00:00-05:00</td>\n",
       "      <td>14</td>\n",
       "      <td>2 days 12:00:00</td>\n",
       "      <td>374.10</td>\n",
       "      <td>368.88</td>\n",
       "      <td>-0.013953</td>\n",
       "      <td>1218.862337</td>\n",
       "    </tr>\n",
       "    <tr>\n",
       "      <th>13</th>\n",
       "      <td>2020-10-20 23:00:00-05:00</td>\n",
       "      <td>2020-10-24 03:00:00-05:00</td>\n",
       "      <td>18</td>\n",
       "      <td>3 days 04:00:00</td>\n",
       "      <td>379.22</td>\n",
       "      <td>414.44</td>\n",
       "      <td>0.092875</td>\n",
       "      <td>1332.063992</td>\n",
       "    </tr>\n",
       "    <tr>\n",
       "      <th>14</th>\n",
       "      <td>2020-10-28 11:00:00-05:00</td>\n",
       "      <td>2020-10-28 23:00:00-05:00</td>\n",
       "      <td>2</td>\n",
       "      <td>0 days 12:00:00</td>\n",
       "      <td>414.44</td>\n",
       "      <td>414.44</td>\n",
       "      <td>0.000000</td>\n",
       "      <td>1332.063992</td>\n",
       "    </tr>\n",
       "    <tr>\n",
       "      <th>15</th>\n",
       "      <td>2020-11-05 02:00:00-06:00</td>\n",
       "      <td>2020-11-08 02:00:00-06:00</td>\n",
       "      <td>17</td>\n",
       "      <td>3 days 00:00:00</td>\n",
       "      <td>403.87</td>\n",
       "      <td>445.63</td>\n",
       "      <td>0.103400</td>\n",
       "      <td>1469.798888</td>\n",
       "    </tr>\n",
       "    <tr>\n",
       "      <th>16</th>\n",
       "      <td>2020-11-11 02:00:00-06:00</td>\n",
       "      <td>2020-11-12 10:00:00-06:00</td>\n",
       "      <td>7</td>\n",
       "      <td>1 days 08:00:00</td>\n",
       "      <td>460.86</td>\n",
       "      <td>457.49</td>\n",
       "      <td>-0.007312</td>\n",
       "      <td>1459.051107</td>\n",
       "    </tr>\n",
       "    <tr>\n",
       "      <th>17</th>\n",
       "      <td>2020-11-12 18:00:00-06:00</td>\n",
       "      <td>2020-11-14 02:00:00-06:00</td>\n",
       "      <td>7</td>\n",
       "      <td>1 days 08:00:00</td>\n",
       "      <td>464.90</td>\n",
       "      <td>459.08</td>\n",
       "      <td>-0.012519</td>\n",
       "      <td>1440.785507</td>\n",
       "    </tr>\n",
       "    <tr>\n",
       "      <th>18</th>\n",
       "      <td>2020-11-16 18:00:00-06:00</td>\n",
       "      <td>2020-11-19 14:00:00-06:00</td>\n",
       "      <td>16</td>\n",
       "      <td>2 days 20:00:00</td>\n",
       "      <td>462.34</td>\n",
       "      <td>471.97</td>\n",
       "      <td>0.020829</td>\n",
       "      <td>1470.795379</td>\n",
       "    </tr>\n",
       "    <tr>\n",
       "      <th>19</th>\n",
       "      <td>2020-11-19 18:00:00-06:00</td>\n",
       "      <td>2020-11-24 10:00:00-06:00</td>\n",
       "      <td>27</td>\n",
       "      <td>4 days 16:00:00</td>\n",
       "      <td>485.01</td>\n",
       "      <td>607.81</td>\n",
       "      <td>0.253191</td>\n",
       "      <td>1843.187026</td>\n",
       "    </tr>\n",
       "  </tbody>\n",
       "</table>\n",
       "</div>"
      ],
      "text/plain": [
       "                 trade_start                 trade_end  peirods  \\\n",
       "0  2020-08-03 03:00:00-05:00 2020-08-03 11:00:00-05:00        1   \n",
       "1  2020-08-08 19:00:00-05:00 2020-08-11 11:00:00-05:00       15   \n",
       "2  2020-08-12 19:00:00-05:00 2020-08-15 23:00:00-05:00       18   \n",
       "3  2020-08-20 11:00:00-05:00 2020-08-21 07:00:00-05:00        4   \n",
       "4  2020-08-22 15:00:00-05:00 2020-08-25 11:00:00-05:00       16   \n",
       "5  2020-08-28 03:00:00-05:00 2020-09-02 03:00:00-05:00       29   \n",
       "6  2020-09-06 11:00:00-05:00 2020-09-13 03:00:00-05:00       39   \n",
       "7  2020-09-16 23:00:00-05:00 2020-09-19 19:00:00-05:00       16   \n",
       "8  2020-09-24 03:00:00-05:00 2020-09-27 19:00:00-05:00       21   \n",
       "9  2020-09-30 11:00:00-05:00 2020-10-01 15:00:00-05:00        6   \n",
       "10 2020-10-04 11:00:00-05:00 2020-10-06 11:00:00-05:00       11   \n",
       "11 2020-10-08 11:00:00-05:00 2020-10-11 19:00:00-05:00       19   \n",
       "12 2020-10-17 23:00:00-05:00 2020-10-20 11:00:00-05:00       14   \n",
       "13 2020-10-20 23:00:00-05:00 2020-10-24 03:00:00-05:00       18   \n",
       "14 2020-10-28 11:00:00-05:00 2020-10-28 23:00:00-05:00        2   \n",
       "15 2020-11-05 02:00:00-06:00 2020-11-08 02:00:00-06:00       17   \n",
       "16 2020-11-11 02:00:00-06:00 2020-11-12 10:00:00-06:00        7   \n",
       "17 2020-11-12 18:00:00-06:00 2020-11-14 02:00:00-06:00        7   \n",
       "18 2020-11-16 18:00:00-06:00 2020-11-19 14:00:00-06:00       16   \n",
       "19 2020-11-19 18:00:00-06:00 2020-11-24 10:00:00-06:00       27   \n",
       "\n",
       "         time_held  buy_price  sell_price  pct_change  current_capital  \n",
       "0  0 days 08:00:00     391.31      394.24    0.007488      1007.487670  \n",
       "1  2 days 16:00:00     395.51      380.27   -0.038533       968.666623  \n",
       "2  3 days 04:00:00     394.74      427.16    0.082130      1048.223222  \n",
       "3  0 days 20:00:00     414.45      404.33   -0.024418      1022.627809  \n",
       "4  2 days 20:00:00     395.52      379.24   -0.041161       980.535422  \n",
       "5  5 days 00:00:00     393.47      442.30    0.124101      1102.220798  \n",
       "6  6 days 16:00:00     353.15      372.30    0.054226      1161.990098  \n",
       "7  2 days 20:00:00     380.13      381.21    0.002841      1165.291467  \n",
       "8  3 days 16:00:00     338.24      351.90    0.040386      1212.352374  \n",
       "9  1 days 04:00:00     355.70      353.00   -0.007591      1203.149812  \n",
       "10 2 days 00:00:00     353.03      340.74   -0.034813      1161.264671  \n",
       "11 3 days 08:00:00     351.58      374.24    0.064452      1236.110389  \n",
       "12 2 days 12:00:00     374.10      368.88   -0.013953      1218.862337  \n",
       "13 3 days 04:00:00     379.22      414.44    0.092875      1332.063992  \n",
       "14 0 days 12:00:00     414.44      414.44    0.000000      1332.063992  \n",
       "15 3 days 00:00:00     403.87      445.63    0.103400      1469.798888  \n",
       "16 1 days 08:00:00     460.86      457.49   -0.007312      1459.051107  \n",
       "17 1 days 08:00:00     464.90      459.08   -0.012519      1440.785507  \n",
       "18 2 days 20:00:00     462.34      471.97    0.020829      1470.795379  \n",
       "19 4 days 16:00:00     485.01      607.81    0.253191      1843.187026  "
      ]
     },
     "execution_count": 41,
     "metadata": {},
     "output_type": "execute_result"
    }
   ],
   "source": [
    "backtest.trades"
   ]
  },
  {
   "cell_type": "code",
   "execution_count": 42,
   "metadata": {
    "execution": {
     "iopub.execute_input": "2020-11-24T20:34:44.291669Z",
     "iopub.status.busy": "2020-11-24T20:34:44.291430Z",
     "iopub.status.idle": "2020-11-24T20:34:44.328703Z",
     "shell.execute_reply": "2020-11-24T20:34:44.328019Z",
     "shell.execute_reply.started": "2020-11-24T20:34:44.291642Z"
    }
   },
   "outputs": [
    {
     "name": "stdout",
     "output_type": "stream",
     "text": [
      "\n",
      "                # Wins: 11\n",
      "\n",
      "                Average Win: 0.07690157983551837\n",
      "\n",
      "                # Losses: 9\n",
      "\n",
      "                Average Loss: -0.02003330348408191\n",
      "\n",
      "                Win %: 0.55\n",
      "\n",
      "                Overall return: 843.1870261341953\n",
      "\n",
      "                Percent return: 0.8431870261341953\n",
      "\n",
      "                \n"
     ]
    }
   ],
   "source": [
    "backtest.backcast_results()"
   ]
  },
  {
   "cell_type": "code",
   "execution_count": 43,
   "metadata": {
    "execution": {
     "iopub.execute_input": "2020-11-24T20:34:48.588628Z",
     "iopub.status.busy": "2020-11-24T20:34:48.588402Z",
     "iopub.status.idle": "2020-11-24T20:34:48.802650Z",
     "shell.execute_reply": "2020-11-24T20:34:48.802102Z",
     "shell.execute_reply.started": "2020-11-24T20:34:48.588602Z"
    }
   },
   "outputs": [
    {
     "data": {
      "image/png": "[encoded data removed]",
      "text/plain": [
       "<Figure size 2160x576 with 1 Axes>"
      ]
     },
     "metadata": {},
     "output_type": "display_data"
    }
   ],
   "source": [
    "backtest.plot_trades()"
   ]
  },
  {
   "cell_type": "code",
   "execution_count": null,
   "metadata": {},
   "outputs": [],
   "source": []
  },
  {
   "cell_type": "markdown",
   "metadata": {},
   "source": [
    "___"
   ]
  }
 ],
 "metadata": {
  "kernelspec": {
   "display_name": "personal",
   "language": "python",
   "name": "personal"
  },
  "language_info": {
   "codemirror_mode": {
    "name": "ipython",
    "version": 3
   },
   "file_extension": ".py",
   "mimetype": "text/x-python",
   "name": "python",
   "nbconvert_exporter": "python",
   "pygments_lexer": "ipython3",
   "version": "3.7.7"
  }
 },
 "nbformat": 4,
 "nbformat_minor": 4
}
