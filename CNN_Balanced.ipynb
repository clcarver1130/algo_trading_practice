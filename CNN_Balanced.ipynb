{
 "cells": [
  {
   "cell_type": "code",
   "execution_count": 1,
   "metadata": {
    "execution": {
     "iopub.execute_input": "2020-09-26T12:54:06.258429Z",
     "iopub.status.busy": "2020-09-26T12:54:06.258191Z",
     "iopub.status.idle": "2020-09-26T12:54:09.483915Z",
     "shell.execute_reply": "2020-09-26T12:54:09.483337Z",
     "shell.execute_reply.started": "2020-09-26T12:54:06.258404Z"
    }
   },
   "outputs": [],
   "source": [
    "# General libraries:\n",
    "import numpy as np\n",
    "import pandas as pd\n",
    "import datetime\n",
    "import matplotlib.pyplot as plt\n",
    "import seaborn as sns\n",
    "import warnings\n",
    "warnings.filterwarnings('ignore')\n",
    "\n",
    "# Personal libraries:\n",
    "from robin_helperfunctions import round_to_hour\n",
    "from robinhoodstrategy import cryptoStrategy, BackcastStrategy, Trade\n",
    "\n",
    "# Deep learning libraries:\n",
    "from sklearn.preprocessing import MinMaxScaler\n",
    "from sklearn.metrics import classification_report, confusion_matrix\n",
    "from tensorflow.keras.models import Sequential\n",
    "from tensorflow.keras.layers import Conv1D, Flatten, MaxPooling1D, Dense, Dropout\n",
    "from tensorflow.keras.optimizers import RMSprop"
   ]
  },
  {
   "cell_type": "code",
   "execution_count": 2,
   "metadata": {
    "execution": {
     "iopub.execute_input": "2020-09-26T12:54:09.485155Z",
     "iopub.status.busy": "2020-09-26T12:54:09.485004Z",
     "iopub.status.idle": "2020-09-26T12:54:09.695024Z",
     "shell.execute_reply": "2020-09-26T12:54:09.694396Z",
     "shell.execute_reply.started": "2020-09-26T12:54:09.485137Z"
    }
   },
   "outputs": [
    {
     "data": {
      "text/html": [
       "<div>\n",
       "<style scoped>\n",
       "    .dataframe tbody tr th:only-of-type {\n",
       "        vertical-align: middle;\n",
       "    }\n",
       "\n",
       "    .dataframe tbody tr th {\n",
       "        vertical-align: top;\n",
       "    }\n",
       "\n",
       "    .dataframe thead th {\n",
       "        text-align: right;\n",
       "    }\n",
       "</style>\n",
       "<table border=\"1\" class=\"dataframe\">\n",
       "  <thead>\n",
       "    <tr style=\"text-align: right;\">\n",
       "      <th></th>\n",
       "      <th>price_close</th>\n",
       "      <th>price_open</th>\n",
       "      <th>price_high</th>\n",
       "      <th>price_low</th>\n",
       "      <th>volume_traded</th>\n",
       "      <th>trades_count</th>\n",
       "    </tr>\n",
       "  </thead>\n",
       "  <tbody>\n",
       "    <tr>\n",
       "      <th>0</th>\n",
       "      <td>11.8895</td>\n",
       "      <td>11.87000</td>\n",
       "      <td>11.90000</td>\n",
       "      <td>11.85972</td>\n",
       "      <td>1076.171006</td>\n",
       "      <td>48</td>\n",
       "    </tr>\n",
       "    <tr>\n",
       "      <th>1</th>\n",
       "      <td>12.0000</td>\n",
       "      <td>11.89000</td>\n",
       "      <td>12.00000</td>\n",
       "      <td>11.89000</td>\n",
       "      <td>6184.443260</td>\n",
       "      <td>182</td>\n",
       "    </tr>\n",
       "    <tr>\n",
       "      <th>2</th>\n",
       "      <td>12.0300</td>\n",
       "      <td>12.00000</td>\n",
       "      <td>12.03000</td>\n",
       "      <td>11.93356</td>\n",
       "      <td>3391.487460</td>\n",
       "      <td>120</td>\n",
       "    </tr>\n",
       "    <tr>\n",
       "      <th>3</th>\n",
       "      <td>12.2000</td>\n",
       "      <td>12.02591</td>\n",
       "      <td>12.20000</td>\n",
       "      <td>12.00000</td>\n",
       "      <td>1590.240506</td>\n",
       "      <td>53</td>\n",
       "    </tr>\n",
       "    <tr>\n",
       "      <th>4</th>\n",
       "      <td>12.4310</td>\n",
       "      <td>12.20000</td>\n",
       "      <td>12.54799</td>\n",
       "      <td>12.20000</td>\n",
       "      <td>4801.330298</td>\n",
       "      <td>164</td>\n",
       "    </tr>\n",
       "  </tbody>\n",
       "</table>\n",
       "</div>"
      ],
      "text/plain": [
       "   price_close  price_open  price_high  price_low  volume_traded  trades_count\n",
       "0      11.8895    11.87000    11.90000   11.85972    1076.171006            48\n",
       "1      12.0000    11.89000    12.00000   11.89000    6184.443260           182\n",
       "2      12.0300    12.00000    12.03000   11.93356    3391.487460           120\n",
       "3      12.2000    12.02591    12.20000   12.00000    1590.240506            53\n",
       "4      12.4310    12.20000    12.54799   12.20000    4801.330298           164"
      ]
     },
     "execution_count": 2,
     "metadata": {},
     "output_type": "execute_result"
    }
   ],
   "source": [
    "# Load historical data from file:\n",
    "df = pd.read_csv('eth_historical_4hrs.csv')\n",
    "\n",
    "# Convert timezones and reformat:\n",
    "df['time_period_start'] = pd.to_datetime(df['time_period_start']).dt.tz_convert('US/Central').dt.strftime('%m-%d-%Y %H:%M')\n",
    "\n",
    "# Pull just the value fields:\n",
    "df = df[['price_close', 'price_open', 'price_high', 'price_low', 'volume_traded', 'trades_count']]\n",
    "\n",
    "# Load just ~2018 onwards:\n",
    "# df = df[2500:]\n",
    "\n",
    "df.head()"
   ]
  },
  {
   "cell_type": "code",
   "execution_count": 3,
   "metadata": {
    "execution": {
     "iopub.execute_input": "2020-09-26T12:54:09.696628Z",
     "iopub.status.busy": "2020-09-26T12:54:09.696489Z",
     "iopub.status.idle": "2020-09-26T12:54:09.741128Z",
     "shell.execute_reply": "2020-09-26T12:54:09.740553Z",
     "shell.execute_reply.started": "2020-09-26T12:54:09.696612Z"
    }
   },
   "outputs": [],
   "source": [
    "def entry_flag(df, lookforward_num=6):\n",
    "    \n",
    "    '''If there will be over a 5% gain in the next 6 periods, flag as a 1. Else 0.'''\n",
    "    \n",
    "    df['pctchange'] = df[['price_close']].pct_change(lookforward_num)\n",
    "    \n",
    "    entry_flags = []\n",
    "    for i in range(len(df) - lookforward_num):\n",
    "        if df.iloc[i+lookforward_num]['pctchange'] >= 0.05:\n",
    "            entry_flags.append(1)\n",
    "        else:\n",
    "            entry_flags.append(0)\n",
    "    # Add in buffer None's\n",
    "    for i in range(lookforward_num):\n",
    "        entry_flags.append(None)\n",
    "    return entry_flags"
   ]
  },
  {
   "cell_type": "code",
   "execution_count": 4,
   "metadata": {
    "execution": {
     "iopub.execute_input": "2020-09-26T12:54:09.742371Z",
     "iopub.status.busy": "2020-09-26T12:54:09.742209Z",
     "iopub.status.idle": "2020-09-26T12:54:10.713140Z",
     "shell.execute_reply": "2020-09-26T12:54:10.712622Z",
     "shell.execute_reply.started": "2020-09-26T12:54:09.742351Z"
    }
   },
   "outputs": [
    {
     "data": {
      "text/plain": [
       "0.0    7201\n",
       "1.0    1206\n",
       "Name: entry_flag, dtype: int64"
      ]
     },
     "execution_count": 4,
     "metadata": {},
     "output_type": "execute_result"
    }
   ],
   "source": [
    "df['entry_flag'] = entry_flag(df)\n",
    "df['entry_flag'].value_counts()"
   ]
  },
  {
   "cell_type": "code",
   "execution_count": 10,
   "metadata": {
    "execution": {
     "iopub.execute_input": "2020-09-26T12:55:39.732888Z",
     "iopub.status.busy": "2020-09-26T12:55:39.732695Z",
     "iopub.status.idle": "2020-09-26T12:55:45.966763Z",
     "shell.execute_reply": "2020-09-26T12:55:45.966155Z",
     "shell.execute_reply.started": "2020-09-26T12:55:39.732867Z"
    }
   },
   "outputs": [
    {
     "name": "stdout",
     "output_type": "stream",
     "text": [
      "<class 'numpy.ndarray'>\n",
      "(8378, 12, 6) (8378, 1)\n"
     ]
    }
   ],
   "source": [
    "def create_sequence(df, n_input): \n",
    "    \n",
    "    X,y = list(), list()\n",
    "    \n",
    "    start = n_input\n",
    "    for _ in range(len(df)):\n",
    "        # define the end of the input sequence\n",
    "        end = start + n_input\n",
    "        # ensure we have enough data for this instance \n",
    "        if end <= len(df) - n_input:\n",
    "            df_slice = df.iloc[start:end]\n",
    "            X.append(np.array(df_slice[['price_close', 'price_open', 'price_high', 'price_low', 'volume_traded', 'trades_count']]))\n",
    "            y.append(df_slice['entry_flag'].tolist()[-1])\n",
    "        # move along one time step\n",
    "        start += 1\n",
    "    return np.array(X), np.array(y).reshape(-1,1)\n",
    "\n",
    "seq_len = 12\n",
    "X1, y1 = create_sequence(df, seq_len)\n",
    "print(type(y1))\n",
    "print(X1.shape, y1.shape)"
   ]
  },
  {
   "cell_type": "code",
   "execution_count": 9,
   "metadata": {
    "execution": {
     "iopub.execute_input": "2020-09-26T12:55:02.558155Z",
     "iopub.status.busy": "2020-09-26T12:55:02.557889Z",
     "iopub.status.idle": "2020-09-26T12:55:02.623007Z",
     "shell.execute_reply": "2020-09-26T12:55:02.622252Z",
     "shell.execute_reply.started": "2020-09-26T12:55:02.558127Z"
    }
   },
   "outputs": [
    {
     "name": "stdout",
     "output_type": "stream",
     "text": [
      "<class 'numpy.ndarray'>\n",
      "(8378, 12, 6) (8378, 1)\n"
     ]
    }
   ],
   "source": [
    "def create_sequence(df, n_input): \n",
    "    \n",
    "    data = np.array(df)\n",
    "    \n",
    "    X = list()\n",
    "    start = n_input\n",
    "    for _ in range(len(data)):\n",
    "        # define the end of the input sequence\n",
    "        end = start + n_input\n",
    "        # ensure we have enough data for this instance \n",
    "        if end <= len(data) - n_input:\n",
    "            X.append(data[start:end, :])\n",
    "        # move along one time step\n",
    "        start += 1\n",
    "    return np.array(X)\n",
    "\n",
    "def create_targets(df, n_input):\n",
    "    return np.array(df['entry_flag'][(n_input-1):-n_input*2].values).reshape(-1,1)\n",
    "\n",
    "seq_len = 12\n",
    "df_features = df.drop(columns=['pctchange', 'entry_flag'])\n",
    "X2 = create_sequence(df_features, seq_len)\n",
    "y2 = create_targets(df, seq_len)\n",
    "print(type(y2))\n",
    "print(X2.shape, y2.shape)"
   ]
  },
  {
   "cell_type": "code",
   "execution_count": null,
   "metadata": {
    "execution": {
     "iopub.status.busy": "2020-09-26T12:54:22.121261Z",
     "iopub.status.idle": "2020-09-26T12:54:22.121494Z"
    }
   },
   "outputs": [],
   "source": [
    "df.head(30)"
   ]
  },
  {
   "cell_type": "code",
   "execution_count": 29,
   "metadata": {
    "execution": {
     "iopub.execute_input": "2020-09-26T12:58:31.100059Z",
     "iopub.status.busy": "2020-09-26T12:58:31.099819Z",
     "iopub.status.idle": "2020-09-26T12:58:31.154402Z",
     "shell.execute_reply": "2020-09-26T12:58:31.153863Z",
     "shell.execute_reply.started": "2020-09-26T12:58:31.100031Z"
    }
   },
   "outputs": [
    {
     "data": {
      "text/plain": [
       "numpy.float64"
      ]
     },
     "execution_count": 29,
     "metadata": {},
     "output_type": "execute_result"
    }
   ],
   "source": [
    "type(X1[1][0][0])"
   ]
  },
  {
   "cell_type": "code",
   "execution_count": 13,
   "metadata": {
    "execution": {
     "iopub.execute_input": "2020-09-26T12:56:31.099143Z",
     "iopub.status.busy": "2020-09-26T12:56:31.098887Z",
     "iopub.status.idle": "2020-09-26T12:56:31.149522Z",
     "shell.execute_reply": "2020-09-26T12:56:31.148970Z",
     "shell.execute_reply.started": "2020-09-26T12:56:31.099114Z"
    }
   },
   "outputs": [],
   "source": [
    "def normalized_df(X):\n",
    "    return np.array([x/x[0]-1 for x in X])\n",
    "\n",
    "def trainTest_split(X, training_size=0.8):\n",
    "    return X[:int(training_size*len(X))], X[int(training_size*len(X)):]"
   ]
  },
  {
   "cell_type": "code",
   "execution_count": 40,
   "metadata": {
    "execution": {
     "iopub.execute_input": "2020-09-26T13:00:11.576158Z",
     "iopub.status.busy": "2020-09-26T13:00:11.575941Z",
     "iopub.status.idle": "2020-09-26T13:00:11.653910Z",
     "shell.execute_reply": "2020-09-26T13:00:11.653372Z",
     "shell.execute_reply.started": "2020-09-26T13:00:11.576134Z"
    }
   },
   "outputs": [
    {
     "data": {
      "text/plain": [
       "array([[ 0.00000000e+00,  0.00000000e+00,  0.00000000e+00,\n",
       "         0.00000000e+00,  0.00000000e+00,  0.00000000e+00],\n",
       "       [-1.75249169e-03, -4.28952923e-02, -3.75335807e-02,\n",
       "        -5.02008368e-03, -7.18053690e-01, -7.48502994e-01],\n",
       "       [-2.66611296e-04, -4.76573494e-02, -3.65549444e-02,\n",
       "        -3.25188285e-03, -8.28855513e-01, -8.71257485e-01],\n",
       "       [ 1.60714286e-02, -3.65549444e-02, -2.18833952e-02,\n",
       "         8.36820084e-03, -9.46555088e-01, -9.25149701e-01],\n",
       "       [ 2.49169435e-03, -3.57554049e-02, -3.42522707e-02,\n",
       "         5.31297071e-03, -9.48614046e-01, -9.55089820e-01],\n",
       "       [ 1.50581395e-02, -3.49558654e-02, -1.67991237e-02,\n",
       "         5.02677824e-03, -7.95770724e-01, -8.11377246e-01],\n",
       "       [ 2.49169435e-03, -2.25797940e-02, -2.25797940e-02,\n",
       "         1.00418410e-02, -9.03603230e-01, -8.83233533e-01],\n",
       "       [ 3.28073090e-03, -3.49558654e-02, -2.13692913e-02,\n",
       "         7.53891213e-03, -7.57294653e-01, -7.81437126e-01],\n",
       "       [ 6.43687708e-04, -3.41963029e-02, -2.85235704e-02,\n",
       "         5.85774059e-03, -8.22798903e-01, -8.41317365e-01],\n",
       "       [ 9.65116279e-03, -2.86914737e-02, -2.80638352e-02,\n",
       "         1.65983264e-02, -8.94125422e-01, -8.95209581e-01],\n",
       "       [ 2.49169435e-03, -3.15002559e-02, -2.95829602e-02,\n",
       "         1.00418410e-02, -9.66813747e-01, -9.64071856e-01],\n",
       "       [ 4.98338870e-03, -3.49558654e-02, -2.97436676e-02,\n",
       "         9.02677824e-03, -9.71278150e-01, -9.49101796e-01]])"
      ]
     },
     "execution_count": 40,
     "metadata": {},
     "output_type": "execute_result"
    }
   ],
   "source": [
    "normalized_df(X1)[0]"
   ]
  },
  {
   "cell_type": "code",
   "execution_count": 41,
   "metadata": {
    "execution": {
     "iopub.execute_input": "2020-09-26T13:00:26.901542Z",
     "iopub.status.busy": "2020-09-26T13:00:26.901302Z",
     "iopub.status.idle": "2020-09-26T13:00:27.011756Z",
     "shell.execute_reply": "2020-09-26T13:00:27.010767Z",
     "shell.execute_reply.started": "2020-09-26T13:00:26.901515Z"
    }
   },
   "outputs": [
    {
     "data": {
      "text/plain": [
       "array([[ 0.00000000e+00,  0.00000000e+00,  0.00000000e+00,\n",
       "         0.00000000e+00,  0.00000000e+00,  0.00000000e+00],\n",
       "       [-1.75249169e-03, -4.28952923e-02, -3.75335807e-02,\n",
       "        -5.02008368e-03, -7.18053690e-01, -7.48502994e-01],\n",
       "       [-2.66611296e-04, -4.76573494e-02, -3.65549444e-02,\n",
       "        -3.25188285e-03, -8.28855513e-01, -8.71257485e-01],\n",
       "       [ 1.60714286e-02, -3.65549444e-02, -2.18833952e-02,\n",
       "         8.36820084e-03, -9.46555088e-01, -9.25149701e-01],\n",
       "       [ 2.49169435e-03, -3.57554049e-02, -3.42522707e-02,\n",
       "         5.31297071e-03, -9.48614046e-01, -9.55089820e-01],\n",
       "       [ 1.50581395e-02, -3.49558654e-02, -1.67991237e-02,\n",
       "         5.02677824e-03, -7.95770724e-01, -8.11377246e-01],\n",
       "       [ 2.49169435e-03, -2.25797940e-02, -2.25797940e-02,\n",
       "         1.00418410e-02, -9.03603230e-01, -8.83233533e-01],\n",
       "       [ 3.28073090e-03, -3.49558654e-02, -2.13692913e-02,\n",
       "         7.53891213e-03, -7.57294653e-01, -7.81437126e-01],\n",
       "       [ 6.43687708e-04, -3.41963029e-02, -2.85235704e-02,\n",
       "         5.85774059e-03, -8.22798903e-01, -8.41317365e-01],\n",
       "       [ 9.65116279e-03, -2.86914737e-02, -2.80638352e-02,\n",
       "         1.65983264e-02, -8.94125422e-01, -8.95209581e-01],\n",
       "       [ 2.49169435e-03, -3.15002559e-02, -2.95829602e-02,\n",
       "         1.00418410e-02, -9.66813747e-01, -9.64071856e-01],\n",
       "       [ 4.98338870e-03, -3.49558654e-02, -2.97436676e-02,\n",
       "         9.02677824e-03, -9.71278150e-01, -9.49101796e-01]])"
      ]
     },
     "execution_count": 41,
     "metadata": {},
     "output_type": "execute_result"
    }
   ],
   "source": [
    "normalized_df(X2)[0]"
   ]
  },
  {
   "cell_type": "code",
   "execution_count": 73,
   "metadata": {
    "execution": {
     "iopub.execute_input": "2020-09-26T13:07:55.534023Z",
     "iopub.status.busy": "2020-09-26T13:07:55.533780Z",
     "iopub.status.idle": "2020-09-26T13:07:55.605842Z",
     "shell.execute_reply": "2020-09-26T13:07:55.605311Z",
     "shell.execute_reply.started": "2020-09-26T13:07:55.533996Z"
    }
   },
   "outputs": [
    {
     "data": {
      "text/html": [
       "<div>\n",
       "<style scoped>\n",
       "    .dataframe tbody tr th:only-of-type {\n",
       "        vertical-align: middle;\n",
       "    }\n",
       "\n",
       "    .dataframe tbody tr th {\n",
       "        vertical-align: top;\n",
       "    }\n",
       "\n",
       "    .dataframe thead th {\n",
       "        text-align: right;\n",
       "    }\n",
       "</style>\n",
       "<table border=\"1\" class=\"dataframe\">\n",
       "  <thead>\n",
       "    <tr style=\"text-align: right;\">\n",
       "      <th></th>\n",
       "      <th>0</th>\n",
       "      <th>1</th>\n",
       "      <th>2</th>\n",
       "      <th>3</th>\n",
       "      <th>4</th>\n",
       "      <th>5</th>\n",
       "      <th>6</th>\n",
       "      <th>7</th>\n",
       "      <th>8</th>\n",
       "      <th>9</th>\n",
       "      <th>...</th>\n",
       "      <th>62</th>\n",
       "      <th>63</th>\n",
       "      <th>64</th>\n",
       "      <th>65</th>\n",
       "      <th>66</th>\n",
       "      <th>67</th>\n",
       "      <th>68</th>\n",
       "      <th>69</th>\n",
       "      <th>70</th>\n",
       "      <th>71</th>\n",
       "    </tr>\n",
       "  </thead>\n",
       "  <tbody>\n",
       "    <tr>\n",
       "      <th>0</th>\n",
       "      <td>12.04000</td>\n",
       "      <td>12.50720</td>\n",
       "      <td>12.50720</td>\n",
       "      <td>11.95000</td>\n",
       "      <td>10626.586878</td>\n",
       "      <td>334.0</td>\n",
       "      <td>12.01890</td>\n",
       "      <td>11.97070</td>\n",
       "      <td>12.03776</td>\n",
       "      <td>11.89001</td>\n",
       "      <td>...</td>\n",
       "      <td>12.13720</td>\n",
       "      <td>12.07000</td>\n",
       "      <td>352.656597</td>\n",
       "      <td>12.0</td>\n",
       "      <td>12.10000</td>\n",
       "      <td>12.07000</td>\n",
       "      <td>12.13519</td>\n",
       "      <td>12.05787</td>\n",
       "      <td>305.215230</td>\n",
       "      <td>17.0</td>\n",
       "    </tr>\n",
       "    <tr>\n",
       "      <th>1</th>\n",
       "      <td>12.01890</td>\n",
       "      <td>11.97070</td>\n",
       "      <td>12.03776</td>\n",
       "      <td>11.89001</td>\n",
       "      <td>2996.126954</td>\n",
       "      <td>84.0</td>\n",
       "      <td>12.03679</td>\n",
       "      <td>11.91114</td>\n",
       "      <td>12.05000</td>\n",
       "      <td>11.91114</td>\n",
       "      <td>...</td>\n",
       "      <td>12.13519</td>\n",
       "      <td>12.05787</td>\n",
       "      <td>305.215230</td>\n",
       "      <td>17.0</td>\n",
       "      <td>12.10400</td>\n",
       "      <td>12.07812</td>\n",
       "      <td>12.11987</td>\n",
       "      <td>12.07000</td>\n",
       "      <td>1653.463689</td>\n",
       "      <td>30.0</td>\n",
       "    </tr>\n",
       "    <tr>\n",
       "      <th>2</th>\n",
       "      <td>12.03679</td>\n",
       "      <td>11.91114</td>\n",
       "      <td>12.05000</td>\n",
       "      <td>11.91114</td>\n",
       "      <td>1818.681760</td>\n",
       "      <td>43.0</td>\n",
       "      <td>12.23350</td>\n",
       "      <td>12.05000</td>\n",
       "      <td>12.23350</td>\n",
       "      <td>12.05000</td>\n",
       "      <td>...</td>\n",
       "      <td>12.11987</td>\n",
       "      <td>12.07000</td>\n",
       "      <td>1653.463689</td>\n",
       "      <td>30.0</td>\n",
       "      <td>12.08990</td>\n",
       "      <td>12.10290</td>\n",
       "      <td>12.10649</td>\n",
       "      <td>12.05000</td>\n",
       "      <td>661.240808</td>\n",
       "      <td>19.0</td>\n",
       "    </tr>\n",
       "    <tr>\n",
       "      <th>3</th>\n",
       "      <td>12.23350</td>\n",
       "      <td>12.05000</td>\n",
       "      <td>12.23350</td>\n",
       "      <td>12.05000</td>\n",
       "      <td>567.937001</td>\n",
       "      <td>25.0</td>\n",
       "      <td>12.07000</td>\n",
       "      <td>12.06000</td>\n",
       "      <td>12.07880</td>\n",
       "      <td>12.01349</td>\n",
       "      <td>...</td>\n",
       "      <td>12.10649</td>\n",
       "      <td>12.05000</td>\n",
       "      <td>661.240808</td>\n",
       "      <td>19.0</td>\n",
       "      <td>12.16000</td>\n",
       "      <td>12.05018</td>\n",
       "      <td>12.17810</td>\n",
       "      <td>12.05018</td>\n",
       "      <td>843.588351</td>\n",
       "      <td>32.0</td>\n",
       "    </tr>\n",
       "    <tr>\n",
       "      <th>4</th>\n",
       "      <td>12.07000</td>\n",
       "      <td>12.06000</td>\n",
       "      <td>12.07880</td>\n",
       "      <td>12.01349</td>\n",
       "      <td>546.057300</td>\n",
       "      <td>15.0</td>\n",
       "      <td>12.22130</td>\n",
       "      <td>12.07000</td>\n",
       "      <td>12.29709</td>\n",
       "      <td>12.01007</td>\n",
       "      <td>...</td>\n",
       "      <td>12.17810</td>\n",
       "      <td>12.05018</td>\n",
       "      <td>843.588351</td>\n",
       "      <td>32.0</td>\n",
       "      <td>12.06441</td>\n",
       "      <td>12.16359</td>\n",
       "      <td>12.16359</td>\n",
       "      <td>12.02000</td>\n",
       "      <td>991.638430</td>\n",
       "      <td>27.0</td>\n",
       "    </tr>\n",
       "    <tr>\n",
       "      <th>...</th>\n",
       "      <td>...</td>\n",
       "      <td>...</td>\n",
       "      <td>...</td>\n",
       "      <td>...</td>\n",
       "      <td>...</td>\n",
       "      <td>...</td>\n",
       "      <td>...</td>\n",
       "      <td>...</td>\n",
       "      <td>...</td>\n",
       "      <td>...</td>\n",
       "      <td>...</td>\n",
       "      <td>...</td>\n",
       "      <td>...</td>\n",
       "      <td>...</td>\n",
       "      <td>...</td>\n",
       "      <td>...</td>\n",
       "      <td>...</td>\n",
       "      <td>...</td>\n",
       "      <td>...</td>\n",
       "      <td>...</td>\n",
       "      <td>...</td>\n",
       "    </tr>\n",
       "    <tr>\n",
       "      <th>8373</th>\n",
       "      <td>443.47000</td>\n",
       "      <td>440.47000</td>\n",
       "      <td>450.00000</td>\n",
       "      <td>438.15000</td>\n",
       "      <td>18291.390638</td>\n",
       "      <td>3655.0</td>\n",
       "      <td>437.42000</td>\n",
       "      <td>443.40000</td>\n",
       "      <td>446.10000</td>\n",
       "      <td>424.25000</td>\n",
       "      <td>...</td>\n",
       "      <td>393.50000</td>\n",
       "      <td>376.59000</td>\n",
       "      <td>17813.063640</td>\n",
       "      <td>3789.0</td>\n",
       "      <td>385.82000</td>\n",
       "      <td>391.92000</td>\n",
       "      <td>393.25000</td>\n",
       "      <td>384.79000</td>\n",
       "      <td>9719.320172</td>\n",
       "      <td>1893.0</td>\n",
       "    </tr>\n",
       "    <tr>\n",
       "      <th>8374</th>\n",
       "      <td>437.42000</td>\n",
       "      <td>443.40000</td>\n",
       "      <td>446.10000</td>\n",
       "      <td>424.25000</td>\n",
       "      <td>20770.364411</td>\n",
       "      <td>4036.0</td>\n",
       "      <td>423.23000</td>\n",
       "      <td>437.42000</td>\n",
       "      <td>439.27000</td>\n",
       "      <td>421.54000</td>\n",
       "      <td>...</td>\n",
       "      <td>393.25000</td>\n",
       "      <td>384.79000</td>\n",
       "      <td>9719.320172</td>\n",
       "      <td>1893.0</td>\n",
       "      <td>387.83000</td>\n",
       "      <td>385.61000</td>\n",
       "      <td>394.80000</td>\n",
       "      <td>384.96000</td>\n",
       "      <td>7423.211126</td>\n",
       "      <td>2438.0</td>\n",
       "    </tr>\n",
       "    <tr>\n",
       "      <th>8375</th>\n",
       "      <td>423.23000</td>\n",
       "      <td>437.42000</td>\n",
       "      <td>439.27000</td>\n",
       "      <td>421.54000</td>\n",
       "      <td>11957.890791</td>\n",
       "      <td>2702.0</td>\n",
       "      <td>403.65000</td>\n",
       "      <td>423.19000</td>\n",
       "      <td>425.93000</td>\n",
       "      <td>391.00000</td>\n",
       "      <td>...</td>\n",
       "      <td>394.80000</td>\n",
       "      <td>384.96000</td>\n",
       "      <td>7423.211126</td>\n",
       "      <td>2438.0</td>\n",
       "      <td>381.20000</td>\n",
       "      <td>387.48000</td>\n",
       "      <td>389.33000</td>\n",
       "      <td>378.00000</td>\n",
       "      <td>33717.613690</td>\n",
       "      <td>3301.0</td>\n",
       "    </tr>\n",
       "    <tr>\n",
       "      <th>8376</th>\n",
       "      <td>403.65000</td>\n",
       "      <td>423.19000</td>\n",
       "      <td>425.93000</td>\n",
       "      <td>391.00000</td>\n",
       "      <td>89937.587105</td>\n",
       "      <td>11655.0</td>\n",
       "      <td>402.41000</td>\n",
       "      <td>403.62000</td>\n",
       "      <td>408.00000</td>\n",
       "      <td>392.14000</td>\n",
       "      <td>...</td>\n",
       "      <td>389.33000</td>\n",
       "      <td>378.00000</td>\n",
       "      <td>33717.613690</td>\n",
       "      <td>3301.0</td>\n",
       "      <td>356.41000</td>\n",
       "      <td>380.70000</td>\n",
       "      <td>380.70000</td>\n",
       "      <td>347.88000</td>\n",
       "      <td>46714.464981</td>\n",
       "      <td>6678.0</td>\n",
       "    </tr>\n",
       "    <tr>\n",
       "      <th>8377</th>\n",
       "      <td>402.41000</td>\n",
       "      <td>403.62000</td>\n",
       "      <td>408.00000</td>\n",
       "      <td>392.14000</td>\n",
       "      <td>38224.242879</td>\n",
       "      <td>6340.0</td>\n",
       "      <td>382.43000</td>\n",
       "      <td>402.09000</td>\n",
       "      <td>408.14000</td>\n",
       "      <td>371.21000</td>\n",
       "      <td>...</td>\n",
       "      <td>380.70000</td>\n",
       "      <td>347.88000</td>\n",
       "      <td>46714.464981</td>\n",
       "      <td>6678.0</td>\n",
       "      <td>356.47000</td>\n",
       "      <td>355.95000</td>\n",
       "      <td>360.46000</td>\n",
       "      <td>335.00000</td>\n",
       "      <td>55368.377430</td>\n",
       "      <td>9027.0</td>\n",
       "    </tr>\n",
       "  </tbody>\n",
       "</table>\n",
       "<p>8378 rows × 72 columns</p>\n",
       "</div>"
      ],
      "text/plain": [
       "             0          1          2          3             4        5   \\\n",
       "0      12.04000   12.50720   12.50720   11.95000  10626.586878    334.0   \n",
       "1      12.01890   11.97070   12.03776   11.89001   2996.126954     84.0   \n",
       "2      12.03679   11.91114   12.05000   11.91114   1818.681760     43.0   \n",
       "3      12.23350   12.05000   12.23350   12.05000    567.937001     25.0   \n",
       "4      12.07000   12.06000   12.07880   12.01349    546.057300     15.0   \n",
       "...         ...        ...        ...        ...           ...      ...   \n",
       "8373  443.47000  440.47000  450.00000  438.15000  18291.390638   3655.0   \n",
       "8374  437.42000  443.40000  446.10000  424.25000  20770.364411   4036.0   \n",
       "8375  423.23000  437.42000  439.27000  421.54000  11957.890791   2702.0   \n",
       "8376  403.65000  423.19000  425.93000  391.00000  89937.587105  11655.0   \n",
       "8377  402.41000  403.62000  408.00000  392.14000  38224.242879   6340.0   \n",
       "\n",
       "             6          7          8          9   ...         62         63  \\\n",
       "0      12.01890   11.97070   12.03776   11.89001  ...   12.13720   12.07000   \n",
       "1      12.03679   11.91114   12.05000   11.91114  ...   12.13519   12.05787   \n",
       "2      12.23350   12.05000   12.23350   12.05000  ...   12.11987   12.07000   \n",
       "3      12.07000   12.06000   12.07880   12.01349  ...   12.10649   12.05000   \n",
       "4      12.22130   12.07000   12.29709   12.01007  ...   12.17810   12.05018   \n",
       "...         ...        ...        ...        ...  ...        ...        ...   \n",
       "8373  437.42000  443.40000  446.10000  424.25000  ...  393.50000  376.59000   \n",
       "8374  423.23000  437.42000  439.27000  421.54000  ...  393.25000  384.79000   \n",
       "8375  403.65000  423.19000  425.93000  391.00000  ...  394.80000  384.96000   \n",
       "8376  402.41000  403.62000  408.00000  392.14000  ...  389.33000  378.00000   \n",
       "8377  382.43000  402.09000  408.14000  371.21000  ...  380.70000  347.88000   \n",
       "\n",
       "                64      65         66         67         68         69  \\\n",
       "0       352.656597    12.0   12.10000   12.07000   12.13519   12.05787   \n",
       "1       305.215230    17.0   12.10400   12.07812   12.11987   12.07000   \n",
       "2      1653.463689    30.0   12.08990   12.10290   12.10649   12.05000   \n",
       "3       661.240808    19.0   12.16000   12.05018   12.17810   12.05018   \n",
       "4       843.588351    32.0   12.06441   12.16359   12.16359   12.02000   \n",
       "...            ...     ...        ...        ...        ...        ...   \n",
       "8373  17813.063640  3789.0  385.82000  391.92000  393.25000  384.79000   \n",
       "8374   9719.320172  1893.0  387.83000  385.61000  394.80000  384.96000   \n",
       "8375   7423.211126  2438.0  381.20000  387.48000  389.33000  378.00000   \n",
       "8376  33717.613690  3301.0  356.41000  380.70000  380.70000  347.88000   \n",
       "8377  46714.464981  6678.0  356.47000  355.95000  360.46000  335.00000   \n",
       "\n",
       "                70      71  \n",
       "0       305.215230    17.0  \n",
       "1      1653.463689    30.0  \n",
       "2       661.240808    19.0  \n",
       "3       843.588351    32.0  \n",
       "4       991.638430    27.0  \n",
       "...            ...     ...  \n",
       "8373   9719.320172  1893.0  \n",
       "8374   7423.211126  2438.0  \n",
       "8375  33717.613690  3301.0  \n",
       "8376  46714.464981  6678.0  \n",
       "8377  55368.377430  9027.0  \n",
       "\n",
       "[8378 rows x 72 columns]"
      ]
     },
     "execution_count": 73,
     "metadata": {},
     "output_type": "execute_result"
    }
   ],
   "source": [
    "pd.DataFrame(X1.reshape(8378,72))"
   ]
  },
  {
   "cell_type": "code",
   "execution_count": 50,
   "metadata": {
    "execution": {
     "iopub.execute_input": "2020-09-26T13:02:04.177278Z",
     "iopub.status.busy": "2020-09-26T13:02:04.177047Z",
     "iopub.status.idle": "2020-09-26T13:02:04.228147Z",
     "shell.execute_reply": "2020-09-26T13:02:04.227505Z",
     "shell.execute_reply.started": "2020-09-26T13:02:04.177252Z"
    }
   },
   "outputs": [
    {
     "data": {
      "text/plain": [
       "array([0.])"
      ]
     },
     "execution_count": 50,
     "metadata": {},
     "output_type": "execute_result"
    }
   ],
   "source": [
    "y1[8362]"
   ]
  },
  {
   "cell_type": "code",
   "execution_count": 51,
   "metadata": {
    "execution": {
     "iopub.execute_input": "2020-09-26T13:02:09.531067Z",
     "iopub.status.busy": "2020-09-26T13:02:09.530836Z",
     "iopub.status.idle": "2020-09-26T13:02:09.583400Z",
     "shell.execute_reply": "2020-09-26T13:02:09.582739Z",
     "shell.execute_reply.started": "2020-09-26T13:02:09.531041Z"
    }
   },
   "outputs": [
    {
     "data": {
      "text/plain": [
       "array([1.])"
      ]
     },
     "execution_count": 51,
     "metadata": {},
     "output_type": "execute_result"
    }
   ],
   "source": [
    "y2[8362]"
   ]
  },
  {
   "cell_type": "code",
   "execution_count": 19,
   "metadata": {
    "execution": {
     "iopub.execute_input": "2020-09-26T12:56:45.342689Z",
     "iopub.status.busy": "2020-09-26T12:56:45.342452Z",
     "iopub.status.idle": "2020-09-26T12:56:45.425540Z",
     "shell.execute_reply": "2020-09-26T12:56:45.424993Z",
     "shell.execute_reply.started": "2020-09-26T12:56:45.342662Z"
    }
   },
   "outputs": [
    {
     "name": "stdout",
     "output_type": "stream",
     "text": [
      "(6702, 12, 6) (6702, 1)\n",
      "(1676, 12, 6) (1676, 1)\n"
     ]
    }
   ],
   "source": [
    "X_norm = normalized_df(X2)\n",
    "X_train, X_test = trainTest_split(X_norm)\n",
    "y_train, y_test = trainTest_split(y2)\n",
    "print(X_train.shape, y_train.shape)\n",
    "print(X_test.shape, y_test.shape)"
   ]
  },
  {
   "cell_type": "code",
   "execution_count": 20,
   "metadata": {
    "execution": {
     "iopub.execute_input": "2020-09-26T12:56:45.813888Z",
     "iopub.status.busy": "2020-09-26T12:56:45.813648Z",
     "iopub.status.idle": "2020-09-26T12:56:45.862575Z",
     "shell.execute_reply": "2020-09-26T12:56:45.861931Z",
     "shell.execute_reply.started": "2020-09-26T12:56:45.813862Z"
    }
   },
   "outputs": [],
   "source": [
    "n_timesteps, n_features, n_outputs = X_train.shape[1], X_train.shape[2], y_train.shape[1]"
   ]
  },
  {
   "cell_type": "code",
   "execution_count": 21,
   "metadata": {
    "execution": {
     "iopub.execute_input": "2020-09-26T12:56:46.048373Z",
     "iopub.status.busy": "2020-09-26T12:56:46.048138Z",
     "iopub.status.idle": "2020-09-26T12:56:46.138100Z",
     "shell.execute_reply": "2020-09-26T12:56:46.137597Z",
     "shell.execute_reply.started": "2020-09-26T12:56:46.048347Z"
    }
   },
   "outputs": [],
   "source": [
    "# define the CNN model\n",
    "model = Sequential()\n",
    "model.add(Conv1D(64, 6, activation='relu', input_shape=(n_timesteps,n_features))) \n",
    "model.add(Conv1D(64, 6, activation='relu'))\n",
    "model.add(Dropout(0.5))\n",
    "model.add(MaxPooling1D())\n",
    "model.add(Flatten())\n",
    "model.add(Dense(100, activation='relu'))\n",
    "model.add(Dense(n_outputs, activation='sigmoid')) \n",
    "model.compile(loss='binary_crossentropy', optimizer='adam', metrics=['accuracy'])"
   ]
  },
  {
   "cell_type": "code",
   "execution_count": 22,
   "metadata": {
    "execution": {
     "iopub.execute_input": "2020-09-26T12:56:46.241896Z",
     "iopub.status.busy": "2020-09-26T12:56:46.241667Z",
     "iopub.status.idle": "2020-09-26T12:56:48.555031Z",
     "shell.execute_reply": "2020-09-26T12:56:48.554418Z",
     "shell.execute_reply.started": "2020-09-26T12:56:46.241870Z"
    }
   },
   "outputs": [
    {
     "name": "stdout",
     "output_type": "stream",
     "text": [
      "0.9677804112434387\n"
     ]
    },
    {
     "data": {
      "image/png": "[encoded data removed]",
      "text/plain": [
       "<Figure size 1440x288 with 1 Axes>"
      ]
     },
     "metadata": {
      "needs_background": "light"
     },
     "output_type": "display_data"
    }
   ],
   "source": [
    "verbose, epochs, batch_size = 0, 10, 32\n",
    "results = model.fit(X_train, y_train, epochs=epochs, batch_size=batch_size, verbose=verbose)\n",
    "# evaluate model\n",
    "_, accuracy = model.evaluate(X_test, y_test, batch_size=batch_size, verbose=0)\n",
    "plt.figure(figsize=(20,4))\n",
    "print(accuracy)\n",
    "plt.plot(results.history['loss'])\n",
    "plt.show()"
   ]
  },
  {
   "cell_type": "code",
   "execution_count": 23,
   "metadata": {
    "execution": {
     "iopub.execute_input": "2020-09-26T12:56:48.556398Z",
     "iopub.status.busy": "2020-09-26T12:56:48.556251Z",
     "iopub.status.idle": "2020-09-26T12:56:48.685643Z",
     "shell.execute_reply": "2020-09-26T12:56:48.685210Z",
     "shell.execute_reply.started": "2020-09-26T12:56:48.556380Z"
    }
   },
   "outputs": [
    {
     "data": {
      "text/plain": [
       "0    1532\n",
       "1     144\n",
       "dtype: int64"
      ]
     },
     "execution_count": 23,
     "metadata": {},
     "output_type": "execute_result"
    }
   ],
   "source": [
    "predictions = model.predict(X_test)\n",
    "predictions_round = [1 if x > 0.5 else 0 for x in predictions]\n",
    "pd.Series(predictions_round).value_counts()"
   ]
  },
  {
   "cell_type": "code",
   "execution_count": 24,
   "metadata": {
    "execution": {
     "iopub.execute_input": "2020-09-26T12:57:11.207001Z",
     "iopub.status.busy": "2020-09-26T12:57:11.206727Z",
     "iopub.status.idle": "2020-09-26T12:57:11.699815Z",
     "shell.execute_reply": "2020-09-26T12:57:11.699381Z",
     "shell.execute_reply.started": "2020-09-26T12:57:11.206968Z"
    }
   },
   "outputs": [
    {
     "data": {
      "image/png": "[encoded data removed]",
      "text/plain": [
       "<Figure size 2160x720 with 1 Axes>"
      ]
     },
     "metadata": {},
     "output_type": "display_data"
    }
   ],
   "source": [
    "df_plot = df[-len(X_test):]\n",
    "df_plot['predictions'] = predictions_round\n",
    "\n",
    "plt.style.use('seaborn-whitegrid')\n",
    "plt.figure(figsize=(30,10))\n",
    "\n",
    "df_plot['price_close'].plot()\n",
    "\n",
    "for i in range(len(df_plot)):\n",
    "    if df_plot.iloc[i, 8] == 1:\n",
    "        plt.annotate('>', (i, df_plot.iloc[i]['price_close']), xytext=(-10, 0), textcoords='offset points')\n",
    "plt.show()"
   ]
  },
  {
   "cell_type": "code",
   "execution_count": 116,
   "metadata": {
    "execution": {
     "iopub.execute_input": "2020-09-26T02:11:20.062163Z",
     "iopub.status.busy": "2020-09-26T02:11:20.061892Z",
     "iopub.status.idle": "2020-09-26T02:11:20.119210Z",
     "shell.execute_reply": "2020-09-26T02:11:20.118693Z",
     "shell.execute_reply.started": "2020-09-26T02:11:20.062128Z"
    }
   },
   "outputs": [
    {
     "name": "stdout",
     "output_type": "stream",
     "text": [
      "              precision    recall  f1-score   support\n",
      "\n",
      "         0.0       0.89      0.86      0.88      1464\n",
      "         1.0       0.17      0.22      0.19       192\n",
      "\n",
      "    accuracy                           0.78      1656\n",
      "   macro avg       0.53      0.54      0.53      1656\n",
      "weighted avg       0.81      0.78      0.80      1656\n",
      "\n"
     ]
    }
   ],
   "source": [
    "print(classification_report(df_plot['entry_flag'][10:-10].values, df_plot['predictions'][10:-10].values))"
   ]
  },
  {
   "cell_type": "code",
   "execution_count": 102,
   "metadata": {
    "execution": {
     "iopub.execute_input": "2020-09-26T02:08:08.406491Z",
     "iopub.status.busy": "2020-09-26T02:08:08.406253Z",
     "iopub.status.idle": "2020-09-26T02:08:08.458797Z",
     "shell.execute_reply": "2020-09-26T02:08:08.458287Z",
     "shell.execute_reply.started": "2020-09-26T02:08:08.406463Z"
    }
   },
   "outputs": [
    {
     "data": {
      "text/plain": [
       "array([[1465,    1],\n",
       "       [ 192,    0]])"
      ]
     },
     "execution_count": 102,
     "metadata": {},
     "output_type": "execute_result"
    }
   ],
   "source": [
    "confusion_matrix(df_plot['entry_flag'][10:-10].values, df_plot['predictions'][10:-10].values)"
   ]
  },
  {
   "cell_type": "markdown",
   "metadata": {
    "execution": {
     "iopub.execute_input": "2020-09-26T01:20:59.043898Z",
     "iopub.status.busy": "2020-09-26T01:20:59.043668Z",
     "iopub.status.idle": "2020-09-26T01:20:59.118926Z",
     "shell.execute_reply": "2020-09-26T01:20:59.118353Z",
     "shell.execute_reply.started": "2020-09-26T01:20:59.043870Z"
    }
   },
   "source": [
    "model.save('4hr_6period_cnn.h5')"
   ]
  },
  {
   "cell_type": "markdown",
   "metadata": {},
   "source": [
    "___"
   ]
  },
  {
   "cell_type": "code",
   "execution_count": 103,
   "metadata": {
    "execution": {
     "iopub.execute_input": "2020-09-26T02:08:14.408841Z",
     "iopub.status.busy": "2020-09-26T02:08:14.408604Z",
     "iopub.status.idle": "2020-09-26T02:08:14.461080Z",
     "shell.execute_reply": "2020-09-26T02:08:14.460411Z",
     "shell.execute_reply.started": "2020-09-26T02:08:14.408813Z"
    }
   },
   "outputs": [],
   "source": [
    "current_data = np.array(df.tail(12)[['price_close', 'price_open', 'price_high', 'price_low', 'volume_traded', 'trades_count']])"
   ]
  },
  {
   "cell_type": "code",
   "execution_count": 104,
   "metadata": {
    "execution": {
     "iopub.execute_input": "2020-09-26T02:08:14.895907Z",
     "iopub.status.busy": "2020-09-26T02:08:14.895676Z",
     "iopub.status.idle": "2020-09-26T02:08:14.975334Z",
     "shell.execute_reply": "2020-09-26T02:08:14.974742Z",
     "shell.execute_reply.started": "2020-09-26T02:08:14.895881Z"
    }
   },
   "outputs": [
    {
     "data": {
      "text/plain": [
       "0.0"
      ]
     },
     "execution_count": 104,
     "metadata": {},
     "output_type": "execute_result"
    }
   ],
   "source": [
    "round(model.predict(current_data.reshape(1,12,6))[0][0])"
   ]
  },
  {
   "cell_type": "code",
   "execution_count": null,
   "metadata": {},
   "outputs": [],
   "source": []
  },
  {
   "cell_type": "code",
   "execution_count": null,
   "metadata": {},
   "outputs": [],
   "source": []
  },
  {
   "cell_type": "code",
   "execution_count": 76,
   "metadata": {
    "execution": {
     "iopub.execute_input": "2020-09-26T13:21:56.552666Z",
     "iopub.status.busy": "2020-09-26T13:21:56.552405Z",
     "iopub.status.idle": "2020-09-26T13:21:56.602858Z",
     "shell.execute_reply": "2020-09-26T13:21:56.602182Z",
     "shell.execute_reply.started": "2020-09-26T13:21:56.552640Z"
    }
   },
   "outputs": [],
   "source": [
    "df_test = pd.DataFrame({'x':np.arange(100), 'y':np.arange(100)})"
   ]
  },
  {
   "cell_type": "code",
   "execution_count": 77,
   "metadata": {
    "execution": {
     "iopub.execute_input": "2020-09-26T13:21:58.464949Z",
     "iopub.status.busy": "2020-09-26T13:21:58.464689Z",
     "iopub.status.idle": "2020-09-26T13:21:58.518815Z",
     "shell.execute_reply": "2020-09-26T13:21:58.518247Z",
     "shell.execute_reply.started": "2020-09-26T13:21:58.464919Z"
    }
   },
   "outputs": [
    {
     "data": {
      "text/html": [
       "<div>\n",
       "<style scoped>\n",
       "    .dataframe tbody tr th:only-of-type {\n",
       "        vertical-align: middle;\n",
       "    }\n",
       "\n",
       "    .dataframe tbody tr th {\n",
       "        vertical-align: top;\n",
       "    }\n",
       "\n",
       "    .dataframe thead th {\n",
       "        text-align: right;\n",
       "    }\n",
       "</style>\n",
       "<table border=\"1\" class=\"dataframe\">\n",
       "  <thead>\n",
       "    <tr style=\"text-align: right;\">\n",
       "      <th></th>\n",
       "      <th>x</th>\n",
       "      <th>y</th>\n",
       "    </tr>\n",
       "  </thead>\n",
       "  <tbody>\n",
       "    <tr>\n",
       "      <th>0</th>\n",
       "      <td>0</td>\n",
       "      <td>0</td>\n",
       "    </tr>\n",
       "    <tr>\n",
       "      <th>1</th>\n",
       "      <td>1</td>\n",
       "      <td>1</td>\n",
       "    </tr>\n",
       "    <tr>\n",
       "      <th>2</th>\n",
       "      <td>2</td>\n",
       "      <td>2</td>\n",
       "    </tr>\n",
       "    <tr>\n",
       "      <th>3</th>\n",
       "      <td>3</td>\n",
       "      <td>3</td>\n",
       "    </tr>\n",
       "    <tr>\n",
       "      <th>4</th>\n",
       "      <td>4</td>\n",
       "      <td>4</td>\n",
       "    </tr>\n",
       "    <tr>\n",
       "      <th>...</th>\n",
       "      <td>...</td>\n",
       "      <td>...</td>\n",
       "    </tr>\n",
       "    <tr>\n",
       "      <th>95</th>\n",
       "      <td>95</td>\n",
       "      <td>95</td>\n",
       "    </tr>\n",
       "    <tr>\n",
       "      <th>96</th>\n",
       "      <td>96</td>\n",
       "      <td>96</td>\n",
       "    </tr>\n",
       "    <tr>\n",
       "      <th>97</th>\n",
       "      <td>97</td>\n",
       "      <td>97</td>\n",
       "    </tr>\n",
       "    <tr>\n",
       "      <th>98</th>\n",
       "      <td>98</td>\n",
       "      <td>98</td>\n",
       "    </tr>\n",
       "    <tr>\n",
       "      <th>99</th>\n",
       "      <td>99</td>\n",
       "      <td>99</td>\n",
       "    </tr>\n",
       "  </tbody>\n",
       "</table>\n",
       "<p>100 rows × 2 columns</p>\n",
       "</div>"
      ],
      "text/plain": [
       "     x   y\n",
       "0    0   0\n",
       "1    1   1\n",
       "2    2   2\n",
       "3    3   3\n",
       "4    4   4\n",
       "..  ..  ..\n",
       "95  95  95\n",
       "96  96  96\n",
       "97  97  97\n",
       "98  98  98\n",
       "99  99  99\n",
       "\n",
       "[100 rows x 2 columns]"
      ]
     },
     "execution_count": 77,
     "metadata": {},
     "output_type": "execute_result"
    }
   ],
   "source": [
    "df_test"
   ]
  },
  {
   "cell_type": "code",
   "execution_count": null,
   "metadata": {},
   "outputs": [],
   "source": [
    "n_input = 4\n",
    "\n",
    "X,y = list(), list()\n",
    "\n",
    "start = n_input\n",
    "for _ in range(len(df_test)):\n",
    "    # define the end of the input sequence\n",
    "    end = start + n_input\n",
    "    # ensure we have enough data for this instance \n",
    "    if end <= len(df) - n_input:\n",
    "        df_slice = df.iloc[start:end]\n",
    "        X.append(np.array(df_slice[['price_close', 'price_open', 'price_high', 'price_low', 'volume_traded', 'trades_count']]))\n",
    "        y.append(df_slice['entry_flag'].tolist()[-1])\n",
    "    # move along one time step\n",
    "    start += 1"
   ]
  }
 ],
 "metadata": {
  "kernelspec": {
   "display_name": "personal",
   "language": "python",
   "name": "personal"
  },
  "language_info": {
   "codemirror_mode": {
    "name": "ipython",
    "version": 3
   },
   "file_extension": ".py",
   "mimetype": "text/x-python",
   "name": "python",
   "nbconvert_exporter": "python",
   "pygments_lexer": "ipython3",
   "version": "3.7.7"
  }
 },
 "nbformat": 4,
 "nbformat_minor": 4
}
